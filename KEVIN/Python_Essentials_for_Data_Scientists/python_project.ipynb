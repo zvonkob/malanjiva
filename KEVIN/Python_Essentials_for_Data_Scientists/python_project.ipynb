{
 "cells": [
  {
   "cell_type": "markdown",
   "id": "9de2fbe2",
   "metadata": {},
   "source": [
    "# Project: Python Essentials for Data Scientists\n",
    "\n",
    "https://courses.dataschool.io/view/courses/python-essentials-for-data-scientists\n",
    "\n",
    "© 2023 Data School. All rights reserved."
   ]
  },
  {
   "cell_type": "markdown",
   "id": "40eaa48f",
   "metadata": {},
   "source": [
    "# Project: Part 1"
   ]
  },
  {
   "cell_type": "markdown",
   "id": "1b441167",
   "metadata": {},
   "source": [
    "## Project Overview\n",
    "\n",
    "This project is a series of 7 exercises inspired by Veritasium's excellent 22-minute video, [The Simplest Math Problem No One Can Solve](https://youtu.be/094y1Z2wpJg).\n",
    "\n",
    "If you have the time, I recommend watching the entire video right now! (Watching it now won't \"spoil\" anything about the project.)\n",
    "\n",
    "But if you don't have the time, you can simply watch the short section of video related to each exercise before working on it! (I'll link to that section in the instructions for each exercise.)"
   ]
  },
  {
   "cell_type": "markdown",
   "id": "a8665bbc",
   "metadata": {},
   "source": [
    "## While Loops"
   ]
  },
  {
   "cell_type": "code",
   "execution_count": 1,
   "id": "76fc1401",
   "metadata": {},
   "outputs": [],
   "source": [
    "x = 4"
   ]
  },
  {
   "cell_type": "code",
   "execution_count": 2,
   "id": "35bc18f5",
   "metadata": {},
   "outputs": [
    {
     "name": "stdout",
     "output_type": "stream",
     "text": [
      "positive\n"
     ]
    }
   ],
   "source": [
    "# if statement checks a condition, runs once\n",
    "if x > 0:\n",
    "    print('positive')"
   ]
  },
  {
   "cell_type": "code",
   "execution_count": 3,
   "id": "9f42df2a",
   "metadata": {},
   "outputs": [
    {
     "name": "stdout",
     "output_type": "stream",
     "text": [
      "h\n",
      "e\n",
      "l\n",
      "l\n",
      "o\n"
     ]
    }
   ],
   "source": [
    "# for loop runs one or more times\n",
    "for letter in 'hello':\n",
    "    print(letter)"
   ]
  },
  {
   "cell_type": "code",
   "execution_count": 4,
   "id": "3317cc43",
   "metadata": {},
   "outputs": [
    {
     "name": "stdout",
     "output_type": "stream",
     "text": [
      "4\n",
      "3\n",
      "2\n",
      "1\n"
     ]
    }
   ],
   "source": [
    "# while loop checks a condition, runs as long as condition is true\n",
    "# condition should eventually become false\n",
    "while x > 0:\n",
    "    print(x)\n",
    "    x = x - 1"
   ]
  },
  {
   "cell_type": "markdown",
   "id": "243dbe49",
   "metadata": {},
   "source": [
    "**Article:** [Python \"while\" Loops](https://realpython.com/python-while-loop/) (Real Python)"
   ]
  },
  {
   "cell_type": "markdown",
   "id": "76cb049c",
   "metadata": {},
   "source": [
    "## f-strings"
   ]
  },
  {
   "cell_type": "code",
   "execution_count": 5,
   "id": "5c3bfd16",
   "metadata": {},
   "outputs": [],
   "source": [
    "x = 4"
   ]
  },
  {
   "cell_type": "code",
   "execution_count": 6,
   "id": "92568a4b",
   "metadata": {},
   "outputs": [
    {
     "name": "stdout",
     "output_type": "stream",
     "text": [
      "positive\n"
     ]
    }
   ],
   "source": [
    "if x > 0:\n",
    "    print('positive')"
   ]
  },
  {
   "cell_type": "code",
   "execution_count": 7,
   "id": "89acd5ce",
   "metadata": {},
   "outputs": [
    {
     "name": "stdout",
     "output_type": "stream",
     "text": [
      "4 is positive\n"
     ]
    }
   ],
   "source": [
    "# you can pass multiple objects to the print function\n",
    "if x > 0:\n",
    "    print(x, 'is positive')"
   ]
  },
  {
   "cell_type": "code",
   "execution_count": 8,
   "id": "4b9d3628",
   "metadata": {},
   "outputs": [
    {
     "name": "stdout",
     "output_type": "stream",
     "text": [
      "4 is positive\n"
     ]
    }
   ],
   "source": [
    "# substitute an object into a string using an f-string\n",
    "if x > 0:\n",
    "    print(f'{x} is positive')"
   ]
  },
  {
   "cell_type": "code",
   "execution_count": 9,
   "id": "68af5150",
   "metadata": {},
   "outputs": [],
   "source": [
    "name = 'Kevin'"
   ]
  },
  {
   "cell_type": "code",
   "execution_count": 10,
   "id": "230be91b",
   "metadata": {},
   "outputs": [
    {
     "data": {
      "text/plain": [
       "'My name is KEVIN'"
      ]
     },
     "execution_count": 10,
     "metadata": {},
     "output_type": "execute_result"
    }
   ],
   "source": [
    "# call a method in an f-string\n",
    "f'My name is {name.upper()}'"
   ]
  },
  {
   "cell_type": "code",
   "execution_count": 11,
   "id": "908246b4",
   "metadata": {},
   "outputs": [
    {
     "data": {
      "text/plain": [
       "'My name is Kevin, which has 5 letters'"
      ]
     },
     "execution_count": 11,
     "metadata": {},
     "output_type": "execute_result"
    }
   ],
   "source": [
    "# use a function in an f-string\n",
    "f'My name is {name}, which has {len(name)} letters'"
   ]
  },
  {
   "cell_type": "code",
   "execution_count": 12,
   "id": "b0af5ab6",
   "metadata": {},
   "outputs": [
    {
     "data": {
      "text/plain": [
       "'Divide 4 by 3 to get 1.3333333333333333'"
      ]
     },
     "execution_count": 12,
     "metadata": {},
     "output_type": "execute_result"
    }
   ],
   "source": [
    "# evaluate an expression in an f-string\n",
    "f'Divide {x} by 3 to get {x / 3}'"
   ]
  },
  {
   "cell_type": "code",
   "execution_count": 13,
   "id": "b0e8d623",
   "metadata": {},
   "outputs": [
    {
     "data": {
      "text/plain": [
       "'Divide 4 by 3 to get 1.33'"
      ]
     },
     "execution_count": 13,
     "metadata": {},
     "output_type": "execute_result"
    }
   ],
   "source": [
    "# use a \"format specification\" to format a number\n",
    "f'Divide {x} by 3 to get {x / 3:.2f}'"
   ]
  },
  {
   "cell_type": "markdown",
   "id": "509755e0",
   "metadata": {},
   "source": [
    "**Article:** [Python f-string tips & cheat sheets](https://www.pythonmorsels.com/string-formatting/) (Python Morsels)"
   ]
  },
  {
   "cell_type": "markdown",
   "id": "8bba9ad4",
   "metadata": {},
   "source": [
    "## Mathematical Operators"
   ]
  },
  {
   "cell_type": "code",
   "execution_count": 14,
   "id": "95f0d74c",
   "metadata": {},
   "outputs": [
    {
     "data": {
      "text/plain": [
       "8"
      ]
     },
     "execution_count": 14,
     "metadata": {},
     "output_type": "execute_result"
    }
   ],
   "source": [
    "# addition operator\n",
    "5 + 3"
   ]
  },
  {
   "cell_type": "code",
   "execution_count": 15,
   "id": "91c2e2b9",
   "metadata": {},
   "outputs": [
    {
     "data": {
      "text/plain": [
       "2"
      ]
     },
     "execution_count": 15,
     "metadata": {},
     "output_type": "execute_result"
    }
   ],
   "source": [
    "# subtraction operator\n",
    "5 - 3"
   ]
  },
  {
   "cell_type": "code",
   "execution_count": 16,
   "id": "d6fe0cd4",
   "metadata": {},
   "outputs": [
    {
     "data": {
      "text/plain": [
       "15"
      ]
     },
     "execution_count": 16,
     "metadata": {},
     "output_type": "execute_result"
    }
   ],
   "source": [
    "# multiplication operator\n",
    "5 * 3"
   ]
  },
  {
   "cell_type": "code",
   "execution_count": 17,
   "id": "abf41ac5",
   "metadata": {},
   "outputs": [
    {
     "data": {
      "text/plain": [
       "1.6666666666666667"
      ]
     },
     "execution_count": 17,
     "metadata": {},
     "output_type": "execute_result"
    }
   ],
   "source": [
    "# division operator\n",
    "5 / 3"
   ]
  },
  {
   "cell_type": "code",
   "execution_count": 18,
   "id": "5c7947f9",
   "metadata": {},
   "outputs": [
    {
     "data": {
      "text/plain": [
       "2.0"
      ]
     },
     "execution_count": 18,
     "metadata": {},
     "output_type": "execute_result"
    }
   ],
   "source": [
    "# \"true division\" always returns a float\n",
    "6 / 3"
   ]
  },
  {
   "cell_type": "code",
   "execution_count": 19,
   "id": "430aabb0",
   "metadata": {},
   "outputs": [
    {
     "data": {
      "text/plain": [
       "1"
      ]
     },
     "execution_count": 19,
     "metadata": {},
     "output_type": "execute_result"
    }
   ],
   "source": [
    "# \"floor division\" rounds down\n",
    "5 // 3"
   ]
  },
  {
   "cell_type": "code",
   "execution_count": 20,
   "id": "29b5beba",
   "metadata": {},
   "outputs": [
    {
     "data": {
      "text/plain": [
       "2"
      ]
     },
     "execution_count": 20,
     "metadata": {},
     "output_type": "execute_result"
    }
   ],
   "source": [
    "6 // 3"
   ]
  },
  {
   "cell_type": "code",
   "execution_count": 21,
   "id": "5abfbc0b",
   "metadata": {},
   "outputs": [
    {
     "data": {
      "text/plain": [
       "1"
      ]
     },
     "execution_count": 21,
     "metadata": {},
     "output_type": "execute_result"
    }
   ],
   "source": [
    "# converting to an integer is equivalent to floor division\n",
    "int(5 / 3)"
   ]
  },
  {
   "cell_type": "code",
   "execution_count": 22,
   "id": "825df68d",
   "metadata": {},
   "outputs": [
    {
     "data": {
      "text/plain": [
       "2"
      ]
     },
     "execution_count": 22,
     "metadata": {},
     "output_type": "execute_result"
    }
   ],
   "source": [
    "int(6 / 3)"
   ]
  },
  {
   "cell_type": "code",
   "execution_count": 23,
   "id": "d95d21b5",
   "metadata": {},
   "outputs": [
    {
     "data": {
      "text/plain": [
       "2"
      ]
     },
     "execution_count": 23,
     "metadata": {},
     "output_type": "execute_result"
    }
   ],
   "source": [
    "# round function rounds to the nearest integer\n",
    "round(5 / 3)"
   ]
  },
  {
   "cell_type": "code",
   "execution_count": 24,
   "id": "feaa539d",
   "metadata": {},
   "outputs": [
    {
     "data": {
      "text/plain": [
       "1.67"
      ]
     },
     "execution_count": 24,
     "metadata": {},
     "output_type": "execute_result"
    }
   ],
   "source": [
    "# you can specify the number of decimal places\n",
    "round(5 / 3, 2)"
   ]
  },
  {
   "cell_type": "code",
   "execution_count": 25,
   "id": "d8facfcb",
   "metadata": {},
   "outputs": [
    {
     "data": {
      "text/plain": [
       "2.0"
      ]
     },
     "execution_count": 25,
     "metadata": {},
     "output_type": "execute_result"
    }
   ],
   "source": [
    "round(6 / 3, 2)"
   ]
  },
  {
   "cell_type": "code",
   "execution_count": 26,
   "id": "0bb59472",
   "metadata": {},
   "outputs": [
    {
     "data": {
      "text/plain": [
       "2"
      ]
     },
     "execution_count": 26,
     "metadata": {},
     "output_type": "execute_result"
    }
   ],
   "source": [
    "# modulo operator returns the remainder after division\n",
    "5 % 3"
   ]
  },
  {
   "cell_type": "code",
   "execution_count": 27,
   "id": "c99e0788",
   "metadata": {},
   "outputs": [
    {
     "data": {
      "text/plain": [
       "0"
      ]
     },
     "execution_count": 27,
     "metadata": {},
     "output_type": "execute_result"
    }
   ],
   "source": [
    "6 % 3"
   ]
  },
  {
   "cell_type": "code",
   "execution_count": 28,
   "id": "b7b28044",
   "metadata": {},
   "outputs": [
    {
     "data": {
      "text/plain": [
       "1"
      ]
     },
     "execution_count": 28,
     "metadata": {},
     "output_type": "execute_result"
    }
   ],
   "source": [
    "7 % 3"
   ]
  },
  {
   "cell_type": "markdown",
   "id": "303cf574",
   "metadata": {},
   "source": [
    "## Project Exercise 1\n",
    "\n",
    "This exercise relates to the following portion of the video: [0:00 to 3:31](https://youtu.be/094y1Z2wpJg?t=0).\n",
    "\n",
    "Define a function called `path()` that accepts one required argument called `start`. (We are requiring `start` to be a positive integer, but your function doesn't need to validate that it's a positive integer.)\n",
    "\n",
    "Within the function, do the following:\n",
    "\n",
    "- Create a list called `nums` in which the first element is `start`.\n",
    "- Check if `start` is odd or even:\n",
    "    - If odd, then multiply by 3 and add 1.\n",
    "    - If even, then divide by 2. (Make sure the result is an integer, not a float.)\n",
    "    - Append the resulting number to `nums`.\n",
    "- Repeat this pattern until you reach the number 1, and then stop.\n",
    "- Print out `nums`, which should start with `start` and end with 1.\n",
    "- Use the `max()` function to calculate the maximum number reached, and print that out.\n",
    "- Print out the number of steps it took to arrive at 1. (Inputting the starting number does not count as a step.)\n",
    "\n",
    "For example, if you run `path(10)`, it should print out this:\n",
    "\n",
    "```\n",
    "path: [10, 5, 16, 8, 4, 2, 1]\n",
    "max: 16\n",
    "steps: 6\n",
    "```"
   ]
  },
  {
   "cell_type": "markdown",
   "id": "31e8ce72",
   "metadata": {},
   "source": [
    "## Solution to Exercise 1"
   ]
  },
  {
   "cell_type": "code",
   "execution_count": 29,
   "id": "62f82329",
   "metadata": {},
   "outputs": [],
   "source": [
    "def path(start):\n",
    "    \n",
    "    nums = [start]  # create a list with one number\n",
    "    num = start     # we will modify num (rather than start)"
   ]
  },
  {
   "cell_type": "code",
   "execution_count": 30,
   "id": "08d2b373",
   "metadata": {},
   "outputs": [],
   "source": [
    "def path(start):\n",
    "    \n",
    "    nums = [start]\n",
    "    num = start\n",
    "\n",
    "    while num > 1:          # stop running once num is 1\n",
    "\n",
    "        if num % 2 == 0:    # check if even\n",
    "            num = num // 2  # use floor division to return an integer\n",
    "        else:\n",
    "            num = num * 3 + 1\n",
    "    \n",
    "        nums.append(num)"
   ]
  },
  {
   "cell_type": "code",
   "execution_count": 31,
   "id": "52d30d44",
   "metadata": {},
   "outputs": [],
   "source": [
    "def path(start):\n",
    "    \n",
    "    nums = [start]\n",
    "    num = start\n",
    "\n",
    "    while num > 1:\n",
    "\n",
    "        if num % 2 == 0:\n",
    "            num = num // 2\n",
    "        else:\n",
    "            num = num * 3 + 1\n",
    "    \n",
    "        nums.append(num)\n",
    "    \n",
    "    print(f'path: {nums}')\n",
    "    print(f'max: {max(nums)}')        # you can pass any iterable to max\n",
    "    print(f'steps: {len(nums) - 1}')  # starting number is not a step"
   ]
  },
  {
   "cell_type": "code",
   "execution_count": 32,
   "id": "1998f58e",
   "metadata": {},
   "outputs": [
    {
     "name": "stdout",
     "output_type": "stream",
     "text": [
      "path: [10, 5, 16, 8, 4, 2, 1]\n",
      "max: 16\n",
      "steps: 6\n"
     ]
    }
   ],
   "source": [
    "path(10)"
   ]
  },
  {
   "cell_type": "code",
   "execution_count": 33,
   "id": "896ae0a2",
   "metadata": {},
   "outputs": [
    {
     "name": "stdout",
     "output_type": "stream",
     "text": [
      "path: [10, 5, 16, 8, 4, 2, 1]\n",
      "max: 16\n",
      "steps: 6\n"
     ]
    },
    {
     "data": {
      "text/plain": [
       "True"
      ]
     },
     "execution_count": 33,
     "metadata": {},
     "output_type": "execute_result"
    }
   ],
   "source": [
    "# functions without a return statement implicitly return None\n",
    "path(10) == None"
   ]
  },
  {
   "cell_type": "code",
   "execution_count": 34,
   "id": "ffe342ef",
   "metadata": {},
   "outputs": [
    {
     "name": "stdout",
     "output_type": "stream",
     "text": [
      "path: [7, 22, 11, 34, 17, 52, 26, 13, 40, 20, 10, 5, 16, 8, 4, 2, 1]\n",
      "max: 52\n",
      "steps: 16\n"
     ]
    }
   ],
   "source": [
    "path(7)"
   ]
  },
  {
   "cell_type": "code",
   "execution_count": 35,
   "id": "a4a21cdb",
   "metadata": {},
   "outputs": [
    {
     "name": "stdout",
     "output_type": "stream",
     "text": [
      "path: [26, 13, 40, 20, 10, 5, 16, 8, 4, 2, 1]\n",
      "max: 40\n",
      "steps: 10\n"
     ]
    }
   ],
   "source": [
    "path(26)"
   ]
  },
  {
   "cell_type": "code",
   "execution_count": 36,
   "id": "d4f2dd76",
   "metadata": {},
   "outputs": [
    {
     "name": "stdout",
     "output_type": "stream",
     "text": [
      "path: [27, 82, 41, 124, 62, 31, 94, 47, 142, 71, 214, 107, 322, 161, 484, 242, 121, 364, 182, 91, 274, 137, 412, 206, 103, 310, 155, 466, 233, 700, 350, 175, 526, 263, 790, 395, 1186, 593, 1780, 890, 445, 1336, 668, 334, 167, 502, 251, 754, 377, 1132, 566, 283, 850, 425, 1276, 638, 319, 958, 479, 1438, 719, 2158, 1079, 3238, 1619, 4858, 2429, 7288, 3644, 1822, 911, 2734, 1367, 4102, 2051, 6154, 3077, 9232, 4616, 2308, 1154, 577, 1732, 866, 433, 1300, 650, 325, 976, 488, 244, 122, 61, 184, 92, 46, 23, 70, 35, 106, 53, 160, 80, 40, 20, 10, 5, 16, 8, 4, 2, 1]\n",
      "max: 9232\n",
      "steps: 111\n"
     ]
    }
   ],
   "source": [
    "path(27)"
   ]
  },
  {
   "cell_type": "markdown",
   "id": "72187441",
   "metadata": {},
   "source": [
    "# Project: Part 2"
   ]
  },
  {
   "cell_type": "markdown",
   "id": "6dabbf9d",
   "metadata": {},
   "source": [
    "## Separating Functions"
   ]
  },
  {
   "cell_type": "code",
   "execution_count": 37,
   "id": "d16c4cbe",
   "metadata": {},
   "outputs": [],
   "source": [
    "# calculates the path and prints info about the path\n",
    "def path(start):\n",
    "    \n",
    "    nums = [start]\n",
    "    num = start\n",
    "\n",
    "    while num > 1:\n",
    "\n",
    "        if num % 2 == 0:\n",
    "            num = num // 2\n",
    "        else:\n",
    "            num = num * 3 + 1\n",
    "    \n",
    "        nums.append(num)\n",
    "    \n",
    "    print(f'path: {nums}')\n",
    "    print(f'max: {max(nums)}')\n",
    "    print(f'steps: {len(nums) - 1}')"
   ]
  },
  {
   "cell_type": "code",
   "execution_count": 38,
   "id": "2560b742",
   "metadata": {},
   "outputs": [],
   "source": [
    "# calculates the path and returns it\n",
    "def get_path(start):\n",
    "    \n",
    "    nums = [start]\n",
    "    num = start\n",
    "\n",
    "    while num > 1:\n",
    "\n",
    "        if num % 2 == 0:\n",
    "            num = num // 2\n",
    "        else:\n",
    "            num = num * 3 + 1\n",
    "    \n",
    "        nums.append(num)\n",
    "    \n",
    "    return nums"
   ]
  },
  {
   "cell_type": "code",
   "execution_count": 39,
   "id": "abf2e467",
   "metadata": {},
   "outputs": [
    {
     "data": {
      "text/plain": [
       "[10, 5, 16, 8, 4, 2, 1]"
      ]
     },
     "execution_count": 39,
     "metadata": {},
     "output_type": "execute_result"
    }
   ],
   "source": [
    "get_path(10)"
   ]
  },
  {
   "cell_type": "code",
   "execution_count": 40,
   "id": "6fd6c73e",
   "metadata": {},
   "outputs": [],
   "source": [
    "# prints info about the path\n",
    "def print_path_info(start):\n",
    "    \n",
    "    nums = get_path(start)\n",
    "    print(f'path: {nums}')\n",
    "    print(f'max: {max(nums)}')\n",
    "    print(f'steps: {len(nums) - 1}')"
   ]
  },
  {
   "cell_type": "code",
   "execution_count": 41,
   "id": "766b0b93",
   "metadata": {},
   "outputs": [
    {
     "name": "stdout",
     "output_type": "stream",
     "text": [
      "path: [10, 5, 16, 8, 4, 2, 1]\n",
      "max: 16\n",
      "steps: 6\n"
     ]
    }
   ],
   "source": [
    "print_path_info(10)"
   ]
  },
  {
   "cell_type": "code",
   "execution_count": 42,
   "id": "7805c1dd",
   "metadata": {},
   "outputs": [],
   "source": [
    "# get_path and print_path_info don't need to use the same variable names\n",
    "def print_path_info(s):\n",
    "    \n",
    "    n = get_path(s)\n",
    "    print(f'path: {n}')\n",
    "    print(f'max: {max(n)}')\n",
    "    print(f'steps: {len(n) - 1}')"
   ]
  },
  {
   "cell_type": "code",
   "execution_count": 43,
   "id": "c9c36dfd",
   "metadata": {},
   "outputs": [
    {
     "name": "stdout",
     "output_type": "stream",
     "text": [
      "path: [10, 5, 16, 8, 4, 2, 1]\n",
      "max: 16\n",
      "steps: 6\n"
     ]
    }
   ],
   "source": [
    "print_path_info(10)"
   ]
  },
  {
   "cell_type": "markdown",
   "id": "e9a43ea9",
   "metadata": {},
   "source": [
    "**Video:** [Variable Scope](https://www.youtube.com/watch?v=QVdf0LgmICw) (Corey Schafer)"
   ]
  },
  {
   "cell_type": "markdown",
   "id": "10659acf",
   "metadata": {},
   "source": [
    "## Writing Docstrings"
   ]
  },
  {
   "cell_type": "code",
   "execution_count": 44,
   "id": "9cc3158a",
   "metadata": {},
   "outputs": [],
   "source": [
    "# triple-quoted string at the start of a function becomes the docstring\n",
    "def get_path(start):\n",
    "    \"\"\"Given a starting value (positive integer), return the path (list of integers).\"\"\"\n",
    "    \n",
    "    nums = [start]\n",
    "    num = start\n",
    "\n",
    "    while num > 1:\n",
    "\n",
    "        if num % 2 == 0:\n",
    "            num = num // 2\n",
    "        else:\n",
    "            num = num * 3 + 1\n",
    "    \n",
    "        nums.append(num)\n",
    "    \n",
    "    return nums"
   ]
  },
  {
   "cell_type": "code",
   "execution_count": 45,
   "id": "049a6548",
   "metadata": {},
   "outputs": [],
   "source": [
    "# multi-line docstring allows for more details\n",
    "def get_path(start):\n",
    "    \"\"\"\n",
    "    Given a starting value, return the path.\n",
    "    \n",
    "    Args:\n",
    "        start (int): Positive starting value\n",
    "    Returns:\n",
    "        List of integers representing the path\n",
    "    \"\"\"\n",
    "    \n",
    "    nums = [start]\n",
    "    num = start\n",
    "\n",
    "    while num > 1:\n",
    "\n",
    "        if num % 2 == 0:\n",
    "            num = num // 2\n",
    "        else:\n",
    "            num = num * 3 + 1\n",
    "    \n",
    "        nums.append(num)\n",
    "    \n",
    "    return nums"
   ]
  },
  {
   "cell_type": "code",
   "execution_count": 46,
   "id": "b2acf3ad",
   "metadata": {},
   "outputs": [
    {
     "name": "stdout",
     "output_type": "stream",
     "text": [
      "Help on function get_path in module __main__:\n",
      "\n",
      "get_path(start)\n",
      "    Given a starting value, return the path.\n",
      "    \n",
      "    Args:\n",
      "        start (int): Positive starting value\n",
      "    Returns:\n",
      "        List of integers representing the path\n",
      "\n"
     ]
    }
   ],
   "source": [
    "# docstring gets printed by help function\n",
    "help(get_path)"
   ]
  },
  {
   "cell_type": "code",
   "execution_count": 47,
   "id": "825f8cf6",
   "metadata": {},
   "outputs": [],
   "source": [
    "def print_path_info(start):\n",
    "    \"\"\"\n",
    "    Given a starting value, print the path information.\n",
    "    \n",
    "    Args:\n",
    "        start (int): Positive starting value\n",
    "    Returns:\n",
    "        None\n",
    "    \"\"\"\n",
    "\n",
    "    nums = get_path(start)\n",
    "    print(f'path: {nums}')\n",
    "    print(f'max: {max(nums)}')\n",
    "    print(f'steps: {len(nums) - 1}')"
   ]
  },
  {
   "cell_type": "code",
   "execution_count": 48,
   "id": "0d3bf2e7",
   "metadata": {},
   "outputs": [
    {
     "name": "stdout",
     "output_type": "stream",
     "text": [
      "Help on function print_path_info in module __main__:\n",
      "\n",
      "print_path_info(start)\n",
      "    Given a starting value, print the path information.\n",
      "    \n",
      "    Args:\n",
      "        start (int): Positive starting value\n",
      "    Returns:\n",
      "        None\n",
      "\n"
     ]
    }
   ],
   "source": [
    "help(print_path_info)"
   ]
  },
  {
   "cell_type": "markdown",
   "id": "8f5c1d54",
   "metadata": {},
   "source": [
    "**Article:** [Docstring Formats](https://realpython.com/documenting-python-code/#docstring-formats) (Real Python)"
   ]
  },
  {
   "cell_type": "markdown",
   "id": "2824bb78",
   "metadata": {},
   "source": [
    "## Project Exercise 2\n",
    "\n",
    "Exercises 2, 3, and 4 all relate to the following portion of the video: [5:10 to 6:57](https://youtu.be/094y1Z2wpJg?t=310).\n",
    "\n",
    "Define a function (with a docstring) called `get_first_digits()` that accepts one required argument called `start`, which is a positive integer.\n",
    "\n",
    "Within the function, do the following:\n",
    "\n",
    "- Calculate the path, using `start` as the starting value.\n",
    "- Return a list of integers containing the first digit of each number in that path. (You can use any method you like to extract the first digit, but I recommend using string indexing.)\n",
    "\n",
    "For example, `get_first_digits(10)` should return `[1, 5, 1, 8, 4, 2, 1]`."
   ]
  },
  {
   "cell_type": "markdown",
   "id": "23a5dd77",
   "metadata": {},
   "source": [
    "## Solution to Exercise 2"
   ]
  },
  {
   "cell_type": "code",
   "execution_count": 49,
   "id": "3740caa3",
   "metadata": {},
   "outputs": [
    {
     "data": {
      "text/plain": [
       "'234'"
      ]
     },
     "execution_count": 49,
     "metadata": {},
     "output_type": "execute_result"
    }
   ],
   "source": [
    "# convert integer to string\n",
    "str(234)"
   ]
  },
  {
   "cell_type": "code",
   "execution_count": 50,
   "id": "8af5fa1f",
   "metadata": {},
   "outputs": [
    {
     "data": {
      "text/plain": [
       "2"
      ]
     },
     "execution_count": 50,
     "metadata": {},
     "output_type": "execute_result"
    }
   ],
   "source": [
    "# extract first digit and convert back to integer\n",
    "int(str(234)[0])"
   ]
  },
  {
   "cell_type": "code",
   "execution_count": 51,
   "id": "4cc3090e",
   "metadata": {},
   "outputs": [
    {
     "data": {
      "text/plain": [
       "2"
      ]
     },
     "execution_count": 51,
     "metadata": {},
     "output_type": "execute_result"
    }
   ],
   "source": [
    "int(str(2)[0])"
   ]
  },
  {
   "cell_type": "code",
   "execution_count": 52,
   "id": "bf82bfb9",
   "metadata": {},
   "outputs": [],
   "source": [
    "def get_first_digits(start):\n",
    "    \"\"\"\n",
    "    Given a starting value, return the first digit of each number in the path.\n",
    "    \n",
    "    Args:\n",
    "        start (int): Positive starting value\n",
    "    Returns:\n",
    "        List of integers representing the first digit of each number in the path\n",
    "    \"\"\""
   ]
  },
  {
   "cell_type": "code",
   "execution_count": 53,
   "id": "01f7d4f0",
   "metadata": {},
   "outputs": [],
   "source": [
    "def get_first_digits(start):\n",
    "    \"\"\"\n",
    "    Given a starting value, return the first digit of each number in the path.\n",
    "    \n",
    "    Args:\n",
    "        start (int): Positive starting value\n",
    "    Returns:\n",
    "        List of integers representing the first digit of each number in the path\n",
    "    \"\"\"\n",
    "    \n",
    "    nums = get_path(start)\n",
    "    return [int(str(num)[0]) for num in nums]  # list comprehension"
   ]
  },
  {
   "cell_type": "code",
   "execution_count": 54,
   "id": "f4a19bb1",
   "metadata": {},
   "outputs": [
    {
     "data": {
      "text/plain": [
       "[10, 5, 16, 8, 4, 2, 1]"
      ]
     },
     "execution_count": 54,
     "metadata": {},
     "output_type": "execute_result"
    }
   ],
   "source": [
    "get_path(10)"
   ]
  },
  {
   "cell_type": "code",
   "execution_count": 55,
   "id": "0d7addfe",
   "metadata": {},
   "outputs": [
    {
     "data": {
      "text/plain": [
       "[1, 5, 1, 8, 4, 2, 1]"
      ]
     },
     "execution_count": 55,
     "metadata": {},
     "output_type": "execute_result"
    }
   ],
   "source": [
    "get_first_digits(10)"
   ]
  },
  {
   "cell_type": "code",
   "execution_count": 56,
   "id": "8a583f07",
   "metadata": {},
   "outputs": [
    {
     "data": {
      "text/plain": [
       "[26, 13, 40, 20, 10, 5, 16, 8, 4, 2, 1]"
      ]
     },
     "execution_count": 56,
     "metadata": {},
     "output_type": "execute_result"
    }
   ],
   "source": [
    "get_path(26)"
   ]
  },
  {
   "cell_type": "code",
   "execution_count": 57,
   "id": "58ba49ec",
   "metadata": {},
   "outputs": [
    {
     "data": {
      "text/plain": [
       "[2, 1, 4, 2, 1, 5, 1, 8, 4, 2, 1]"
      ]
     },
     "execution_count": 57,
     "metadata": {},
     "output_type": "execute_result"
    }
   ],
   "source": [
    "get_first_digits(26)"
   ]
  },
  {
   "cell_type": "markdown",
   "id": "27a1f92d",
   "metadata": {},
   "source": [
    "# Project: Part 3"
   ]
  },
  {
   "cell_type": "markdown",
   "id": "173740b6",
   "metadata": {},
   "source": [
    "## Classes"
   ]
  },
  {
   "cell_type": "code",
   "execution_count": 58,
   "id": "fda9f9e1",
   "metadata": {},
   "outputs": [],
   "source": [
    "# import sqrt function from the math module\n",
    "from math import sqrt"
   ]
  },
  {
   "cell_type": "code",
   "execution_count": 59,
   "id": "774c214a",
   "metadata": {},
   "outputs": [
    {
     "data": {
      "text/plain": [
       "7.0"
      ]
     },
     "execution_count": 59,
     "metadata": {},
     "output_type": "execute_result"
    }
   ],
   "source": [
    "# call sqrt function, get back a return value\n",
    "sqrt(49)"
   ]
  },
  {
   "cell_type": "code",
   "execution_count": 60,
   "id": "b1178cda",
   "metadata": {},
   "outputs": [],
   "source": [
    "# import Counter class from the collections module\n",
    "# class names usually start with capital letter\n",
    "from collections import Counter"
   ]
  },
  {
   "cell_type": "code",
   "execution_count": 61,
   "id": "2ca9c212",
   "metadata": {},
   "outputs": [
    {
     "data": {
      "text/plain": [
       "Counter({'h': 1, 'e': 1, 'l': 2, 'o': 1})"
      ]
     },
     "execution_count": 61,
     "metadata": {},
     "output_type": "execute_result"
    }
   ],
   "source": [
    "# call Counter class, get back a Counter object (an \"instance\" of Counter)\n",
    "Counter('hello')"
   ]
  },
  {
   "cell_type": "code",
   "execution_count": 62,
   "id": "a4dc26f6",
   "metadata": {},
   "outputs": [
    {
     "data": {
      "text/plain": [
       "'1011'"
      ]
     },
     "execution_count": 62,
     "metadata": {},
     "output_type": "execute_result"
    }
   ],
   "source": [
    "# call str class, get back a str object\n",
    "str(1011)"
   ]
  },
  {
   "cell_type": "code",
   "execution_count": 63,
   "id": "27a58046",
   "metadata": {},
   "outputs": [
    {
     "data": {
      "text/plain": [
       "str"
      ]
     },
     "execution_count": 63,
     "metadata": {},
     "output_type": "execute_result"
    }
   ],
   "source": [
    "s = str(1011)\n",
    "type(s)"
   ]
  },
  {
   "cell_type": "code",
   "execution_count": 64,
   "id": "22f3d6ad",
   "metadata": {},
   "outputs": [
    {
     "data": {
      "text/plain": [
       "1011"
      ]
     },
     "execution_count": 64,
     "metadata": {},
     "output_type": "execute_result"
    }
   ],
   "source": [
    "# call int class, get back an int object\n",
    "int('1011')"
   ]
  },
  {
   "cell_type": "code",
   "execution_count": 65,
   "id": "9a2dfdc5",
   "metadata": {},
   "outputs": [
    {
     "data": {
      "text/plain": [
       "['1', '0', '1', '1']"
      ]
     },
     "execution_count": 65,
     "metadata": {},
     "output_type": "execute_result"
    }
   ],
   "source": [
    "# call list class, get back a list object\n",
    "list('1011')"
   ]
  },
  {
   "cell_type": "code",
   "execution_count": 66,
   "id": "93e957cb",
   "metadata": {},
   "outputs": [
    {
     "data": {
      "text/plain": [
       "3"
      ]
     },
     "execution_count": 66,
     "metadata": {},
     "output_type": "execute_result"
    }
   ],
   "source": [
    "# count is a function defined for str class, thus strings have a count method\n",
    "s.count('1')"
   ]
  },
  {
   "cell_type": "code",
   "execution_count": 67,
   "id": "d851437a",
   "metadata": {},
   "outputs": [
    {
     "ename": "AttributeError",
     "evalue": "'str' object has no attribute 'append'",
     "output_type": "error",
     "traceback": [
      "\u001b[0;31m---------------------------------------------------------------------------\u001b[0m",
      "\u001b[0;31mAttributeError\u001b[0m                            Traceback (most recent call last)",
      "Cell \u001b[0;32mIn[67], line 2\u001b[0m\n\u001b[1;32m      1\u001b[0m \u001b[38;5;66;03m# str class doesn't contain an append function\u001b[39;00m\n\u001b[0;32m----> 2\u001b[0m \u001b[43ms\u001b[49m\u001b[38;5;241;43m.\u001b[39;49m\u001b[43mappend\u001b[49m(\u001b[38;5;124m'\u001b[39m\u001b[38;5;124m1\u001b[39m\u001b[38;5;124m'\u001b[39m)\n",
      "\u001b[0;31mAttributeError\u001b[0m: 'str' object has no attribute 'append'"
     ]
    }
   ],
   "source": [
    "# str class doesn't contain an append function\n",
    "s.append('1')"
   ]
  },
  {
   "cell_type": "markdown",
   "id": "94e5861f",
   "metadata": {},
   "source": [
    "**Article & Video:** [What is a class?](https://www.pythonmorsels.com/what-is-a-class/) (Python Morsels)"
   ]
  },
  {
   "cell_type": "markdown",
   "id": "2b16504d",
   "metadata": {},
   "source": [
    "## Counter"
   ]
  },
  {
   "cell_type": "code",
   "execution_count": 68,
   "id": "d5ea482c",
   "metadata": {},
   "outputs": [
    {
     "data": {
      "text/plain": [
       "Counter({'h': 1, 'e': 1, 'l': 2, 'o': 1})"
      ]
     },
     "execution_count": 68,
     "metadata": {},
     "output_type": "execute_result"
    }
   ],
   "source": [
    "# pass an iterable to Counter, it counts how many times each element appears\n",
    "# an iterable is anything you can loop through (string, list, dictionary, etc.)\n",
    "Counter('hello')"
   ]
  },
  {
   "cell_type": "code",
   "execution_count": 69,
   "id": "e5251b01",
   "metadata": {},
   "outputs": [
    {
     "data": {
      "text/plain": [
       "Counter({1: 2, 3: 1, 7: 4})"
      ]
     },
     "execution_count": 69,
     "metadata": {},
     "output_type": "execute_result"
    }
   ],
   "source": [
    "# count how many times each integer appears in the list\n",
    "Counter([1, 3, 7, 7, 7, 7, 1])"
   ]
  },
  {
   "cell_type": "code",
   "execution_count": 70,
   "id": "6009e8fe",
   "metadata": {},
   "outputs": [
    {
     "data": {
      "text/plain": [
       "collections.Counter"
      ]
     },
     "execution_count": 70,
     "metadata": {},
     "output_type": "execute_result"
    }
   ],
   "source": [
    "# Counter acts similar to a dictionary since it's a subclass of dict class\n",
    "c = Counter([1, 3, 7, 7, 7, 7, 1])\n",
    "type(c)"
   ]
  },
  {
   "cell_type": "code",
   "execution_count": 71,
   "id": "7454f842",
   "metadata": {},
   "outputs": [
    {
     "data": {
      "text/plain": [
       "4"
      ]
     },
     "execution_count": 71,
     "metadata": {},
     "output_type": "execute_result"
    }
   ],
   "source": [
    "# pass a key to Counter and it returns a value\n",
    "c[7]"
   ]
  },
  {
   "cell_type": "code",
   "execution_count": 72,
   "id": "eaf33a5e",
   "metadata": {},
   "outputs": [
    {
     "data": {
      "text/plain": [
       "Counter({1: 2, 3: 1, 7: 5, 6: 2})"
      ]
     },
     "execution_count": 72,
     "metadata": {},
     "output_type": "execute_result"
    }
   ],
   "source": [
    "# use update method to count more things\n",
    "c.update([6, 6, 7])\n",
    "c"
   ]
  },
  {
   "cell_type": "code",
   "execution_count": 73,
   "id": "20eb54c0",
   "metadata": {},
   "outputs": [
    {
     "data": {
      "text/plain": [
       "[(7, 5), (1, 2), (6, 2), (3, 1)]"
      ]
     },
     "execution_count": 73,
     "metadata": {},
     "output_type": "execute_result"
    }
   ],
   "source": [
    "# list elements from most common to least common\n",
    "c.most_common()"
   ]
  },
  {
   "cell_type": "code",
   "execution_count": 74,
   "id": "35209e75",
   "metadata": {},
   "outputs": [
    {
     "data": {
      "text/plain": [
       "[(1, 2), (3, 1), (6, 2), (7, 5)]"
      ]
     },
     "execution_count": 74,
     "metadata": {},
     "output_type": "execute_result"
    }
   ],
   "source": [
    "# sort it by the first element in each tuple\n",
    "sorted(c.most_common())"
   ]
  },
  {
   "cell_type": "markdown",
   "id": "60119339",
   "metadata": {},
   "source": [
    "**Python Documentation:** [Counter](https://docs.python.org/3/library/collections.html#collections.Counter)"
   ]
  },
  {
   "cell_type": "markdown",
   "id": "3099bbce",
   "metadata": {},
   "source": [
    "## Range"
   ]
  },
  {
   "cell_type": "code",
   "execution_count": 75,
   "id": "ad108c91",
   "metadata": {},
   "outputs": [
    {
     "data": {
      "text/plain": [
       "range(0, 4)"
      ]
     },
     "execution_count": 75,
     "metadata": {},
     "output_type": "execute_result"
    }
   ],
   "source": [
    "# call range class, get back a range object\n",
    "range(4)"
   ]
  },
  {
   "cell_type": "code",
   "execution_count": 76,
   "id": "029a2722",
   "metadata": {},
   "outputs": [
    {
     "data": {
      "text/plain": [
       "[0, 1, 2, 3]"
      ]
     },
     "execution_count": 76,
     "metadata": {},
     "output_type": "execute_result"
    }
   ],
   "source": [
    "# pass it an integer, get back 0 through that number (exclusive of it)\n",
    "list(range(4))"
   ]
  },
  {
   "cell_type": "code",
   "execution_count": 77,
   "id": "c1a8d1cb",
   "metadata": {},
   "outputs": [
    {
     "data": {
      "text/plain": [
       "[0, 1, 2, 3]"
      ]
     },
     "execution_count": 77,
     "metadata": {},
     "output_type": "execute_result"
    }
   ],
   "source": [
    "# first number defines the start (inclusive), second defines the end (exclusive)\n",
    "list(range(0, 4))"
   ]
  },
  {
   "cell_type": "code",
   "execution_count": 78,
   "id": "c42df932",
   "metadata": {},
   "outputs": [
    {
     "data": {
      "text/plain": [
       "[2, 3]"
      ]
     },
     "execution_count": 78,
     "metadata": {},
     "output_type": "execute_result"
    }
   ],
   "source": [
    "list(range(2, 4))"
   ]
  },
  {
   "cell_type": "code",
   "execution_count": 79,
   "id": "a3c894bd",
   "metadata": {},
   "outputs": [
    {
     "name": "stdout",
     "output_type": "stream",
     "text": [
      "0\n",
      "1\n",
      "2\n",
      "3\n"
     ]
    }
   ],
   "source": [
    "# use range to run a for loop a set number of times\n",
    "for num in range(4):\n",
    "    print(num)"
   ]
  },
  {
   "cell_type": "markdown",
   "id": "4c6a9b81",
   "metadata": {},
   "source": [
    "## Project Exercise 3\n",
    "\n",
    "Exercises 2, 3, and 4 all relate to the following portion of the video: [5:10 to 6:57](https://youtu.be/094y1Z2wpJg?t=310).\n",
    "\n",
    "Define a function (with a docstring) called `count_first_digits()` that accepts one required argument called `end`, which is a positive integer.\n",
    "\n",
    "Within the function, do the following:\n",
    "\n",
    "- For each integer 1 through `end`, calculate the first digit of every number in that path.\n",
    "- Tally up all of the first digits across all of those paths.\n",
    "- Return a sorted list of tuples, in which the first element of each tuple is the digit and the second element is how many times that digit appeared.\n",
    "\n",
    "For example, `count_first_digits(3)` should return `[(1, 5), (2, 2), (3, 1), (4, 1), (5, 1), (8, 1)]`.\n",
    "\n",
    "Hint: You can start with an empty Counter.\n",
    "\n",
    "Once your function is working, try running `count_first_digits(5000)` and see what you notice."
   ]
  },
  {
   "cell_type": "markdown",
   "id": "1e4eac67",
   "metadata": {},
   "source": [
    "## Solution to Exercise 3"
   ]
  },
  {
   "cell_type": "code",
   "execution_count": 80,
   "id": "49d270f8",
   "metadata": {},
   "outputs": [
    {
     "name": "stdout",
     "output_type": "stream",
     "text": [
      "Help on function get_first_digits in module __main__:\n",
      "\n",
      "get_first_digits(start)\n",
      "    Given a starting value, return the first digit of each number in the path.\n",
      "    \n",
      "    Args:\n",
      "        start (int): Positive starting value\n",
      "    Returns:\n",
      "        List of integers representing the first digit of each number in the path\n",
      "\n"
     ]
    }
   ],
   "source": [
    "# count_first_digits will build on top of get_first_digits\n",
    "help(get_first_digits)"
   ]
  },
  {
   "cell_type": "code",
   "execution_count": 81,
   "id": "6cdde786",
   "metadata": {},
   "outputs": [
    {
     "data": {
      "text/plain": [
       "[1]"
      ]
     },
     "execution_count": 81,
     "metadata": {},
     "output_type": "execute_result"
    }
   ],
   "source": [
    "# count_first_digits(3) should tally up the three lists below\n",
    "get_first_digits(1)"
   ]
  },
  {
   "cell_type": "code",
   "execution_count": 82,
   "id": "edbb23cc",
   "metadata": {},
   "outputs": [
    {
     "data": {
      "text/plain": [
       "[2, 1]"
      ]
     },
     "execution_count": 82,
     "metadata": {},
     "output_type": "execute_result"
    }
   ],
   "source": [
    "get_first_digits(2)"
   ]
  },
  {
   "cell_type": "code",
   "execution_count": 83,
   "id": "23c9c31a",
   "metadata": {},
   "outputs": [
    {
     "data": {
      "text/plain": [
       "[3, 1, 5, 1, 8, 4, 2, 1]"
      ]
     },
     "execution_count": 83,
     "metadata": {},
     "output_type": "execute_result"
    }
   ],
   "source": [
    "get_first_digits(3)"
   ]
  },
  {
   "cell_type": "code",
   "execution_count": 84,
   "id": "fec2ccb9",
   "metadata": {},
   "outputs": [
    {
     "data": {
      "text/plain": [
       "Counter()"
      ]
     },
     "execution_count": 84,
     "metadata": {},
     "output_type": "execute_result"
    }
   ],
   "source": [
    "# create an empty Counter\n",
    "digits = Counter()\n",
    "digits"
   ]
  },
  {
   "cell_type": "code",
   "execution_count": 85,
   "id": "847a2bd3",
   "metadata": {},
   "outputs": [
    {
     "data": {
      "text/plain": [
       "Counter({1: 1})"
      ]
     },
     "execution_count": 85,
     "metadata": {},
     "output_type": "execute_result"
    }
   ],
   "source": [
    "# use the update method to add this list to the Counter\n",
    "digits.update(get_first_digits(1))\n",
    "digits"
   ]
  },
  {
   "cell_type": "code",
   "execution_count": 86,
   "id": "003c5822",
   "metadata": {},
   "outputs": [
    {
     "data": {
      "text/plain": [
       "Counter({1: 2, 2: 1})"
      ]
     },
     "execution_count": 86,
     "metadata": {},
     "output_type": "execute_result"
    }
   ],
   "source": [
    "digits.update(get_first_digits(2))\n",
    "digits"
   ]
  },
  {
   "cell_type": "code",
   "execution_count": 87,
   "id": "392740f3",
   "metadata": {},
   "outputs": [
    {
     "data": {
      "text/plain": [
       "Counter({1: 5, 2: 2, 3: 1, 5: 1, 8: 1, 4: 1})"
      ]
     },
     "execution_count": 87,
     "metadata": {},
     "output_type": "execute_result"
    }
   ],
   "source": [
    "digits.update(get_first_digits(3))\n",
    "digits"
   ]
  },
  {
   "cell_type": "code",
   "execution_count": 88,
   "id": "66d177fc",
   "metadata": {},
   "outputs": [
    {
     "data": {
      "text/plain": [
       "[(1, 5), (2, 2), (3, 1), (4, 1), (5, 1), (8, 1)]"
      ]
     },
     "execution_count": 88,
     "metadata": {},
     "output_type": "execute_result"
    }
   ],
   "source": [
    "# convert digits Counter into a sorted list of tuples\n",
    "sorted(digits.most_common())"
   ]
  },
  {
   "cell_type": "code",
   "execution_count": 89,
   "id": "0aaa466f",
   "metadata": {},
   "outputs": [
    {
     "data": {
      "text/plain": [
       "[0, 1, 2]"
      ]
     },
     "execution_count": 89,
     "metadata": {},
     "output_type": "execute_result"
    }
   ],
   "source": [
    "# range assumes a start of 0\n",
    "list(range(3))"
   ]
  },
  {
   "cell_type": "code",
   "execution_count": 90,
   "id": "bcc20096",
   "metadata": {},
   "outputs": [
    {
     "data": {
      "text/plain": [
       "[1, 2, 3]"
      ]
     },
     "execution_count": 90,
     "metadata": {},
     "output_type": "execute_result"
    }
   ],
   "source": [
    "# count_first_digits(3) would need the values 1, 2, 3\n",
    "list(range(1, 4))"
   ]
  },
  {
   "cell_type": "code",
   "execution_count": 91,
   "id": "011e4e79",
   "metadata": {},
   "outputs": [],
   "source": [
    "def count_first_digits(end):\n",
    "    \"\"\"\n",
    "    Given an ending value, return a tally of all first digits of every number\n",
    "    across every path generated by the starting values 1 through end (inclusive).\n",
    "    \n",
    "    Args:\n",
    "        end (int): Positive ending value\n",
    "    Returns:\n",
    "        Sorted list of tuples in which the first element of each tuple is the\n",
    "        digit and the second element is how many times that digit appeared\n",
    "    \"\"\"\n",
    "\n",
    "    digits = Counter()\n",
    "\n",
    "    for num in range(1, end + 1):\n",
    "        digits.update(get_first_digits(num))\n",
    "\n",
    "    return sorted(digits.most_common())"
   ]
  },
  {
   "cell_type": "code",
   "execution_count": 92,
   "id": "b59a2402",
   "metadata": {},
   "outputs": [
    {
     "data": {
      "text/plain": [
       "[(1, 5), (2, 2), (3, 1), (4, 1), (5, 1), (8, 1)]"
      ]
     },
     "execution_count": 92,
     "metadata": {},
     "output_type": "execute_result"
    }
   ],
   "source": [
    "count_first_digits(3)"
   ]
  },
  {
   "cell_type": "code",
   "execution_count": 93,
   "id": "5c233f9b",
   "metadata": {},
   "outputs": [
    {
     "data": {
      "text/plain": [
       "[(1, 116648),\n",
       " (2, 67801),\n",
       " (3, 45331),\n",
       " (4, 48426),\n",
       " (5, 31109),\n",
       " (6, 20746),\n",
       " (7, 21962),\n",
       " (8, 21867),\n",
       " (9, 19078)]"
      ]
     },
     "execution_count": 93,
     "metadata": {},
     "output_type": "execute_result"
    }
   ],
   "source": [
    "# roughly follows Benford's Low\n",
    "count_first_digits(5000)"
   ]
  },
  {
   "cell_type": "markdown",
   "id": "d294c6a3",
   "metadata": {},
   "source": [
    "# Project: Part 4"
   ]
  },
  {
   "cell_type": "markdown",
   "id": "a47a7dcd",
   "metadata": {},
   "source": [
    "## Zip"
   ]
  },
  {
   "cell_type": "code",
   "execution_count": 94,
   "id": "7b2a2516",
   "metadata": {},
   "outputs": [
    {
     "data": {
      "text/plain": [
       "<zip at 0x7ff5f8c88c00>"
      ]
     },
     "execution_count": 94,
     "metadata": {},
     "output_type": "execute_result"
    }
   ],
   "source": [
    "# zip function loops over two or more iterables and \"zips\" them together\n",
    "# returns an iterator of tuples\n",
    "names = ['Homer', 'Marge', 'Lisa', 'Bart']\n",
    "roles = ['dad', 'mom', 'daughter', 'son']\n",
    "zip(names, roles)"
   ]
  },
  {
   "cell_type": "code",
   "execution_count": 95,
   "id": "406a234e",
   "metadata": {},
   "outputs": [
    {
     "data": {
      "text/plain": [
       "[('Homer', 'dad'), ('Marge', 'mom'), ('Lisa', 'daughter'), ('Bart', 'son')]"
      ]
     },
     "execution_count": 95,
     "metadata": {},
     "output_type": "execute_result"
    }
   ],
   "source": [
    "# convert into a list of tuples\n",
    "list(zip(names, roles))"
   ]
  },
  {
   "cell_type": "code",
   "execution_count": 96,
   "id": "4a15cb25",
   "metadata": {},
   "outputs": [
    {
     "data": {
      "text/plain": [
       "{'Homer': 'dad', 'Marge': 'mom', 'Lisa': 'daughter', 'Bart': 'son'}"
      ]
     },
     "execution_count": 96,
     "metadata": {},
     "output_type": "execute_result"
    }
   ],
   "source": [
    "# convert into a dictionary\n",
    "dict(zip(names, roles))"
   ]
  },
  {
   "cell_type": "code",
   "execution_count": 97,
   "id": "2bb859eb",
   "metadata": {},
   "outputs": [
    {
     "data": {
      "text/plain": [
       "(('Homer', 'dad'), ('Marge', 'mom'), ('Lisa', 'daughter'), ('Bart', 'son'))"
      ]
     },
     "execution_count": 97,
     "metadata": {},
     "output_type": "execute_result"
    }
   ],
   "source": [
    "# convert into a tuple of tuples\n",
    "tuple(zip(names, roles))"
   ]
  },
  {
   "cell_type": "markdown",
   "id": "13d908a0",
   "metadata": {},
   "source": [
    "## Project Exercise 4\n",
    "\n",
    "Exercises 2, 3, and 4 all relate to the following portion of the video: [5:10 to 6:57](https://youtu.be/094y1Z2wpJg?t=310).\n",
    "\n",
    "Define a function (with a docstring) called `percentage_first_digits()` that accepts one required argument called `end`, which is a positive integer.\n",
    "\n",
    "This function should convert the output of `count_first_digits()` from whole numbers into percentages of the total.\n",
    "\n",
    "For example, the output of `count_first_digits(5000)` is this:\n",
    "\n",
    "```\n",
    "[(1, 116648),\n",
    " (2, 67801),\n",
    " (3, 45331),\n",
    " (4, 48426),\n",
    " (5, 31109),\n",
    " (6, 20746),\n",
    " (7, 21962),\n",
    " (8, 21867),\n",
    " (9, 19078)]\n",
    "```\n",
    "\n",
    "`percentage_first_digits(5000)` should instead return this:\n",
    "\n",
    "```\n",
    "[(1, 0.297),\n",
    " (2, 0.173),\n",
    " (3, 0.115),\n",
    " (4, 0.123),\n",
    " (5, 0.079),\n",
    " (6, 0.053),\n",
    " (7, 0.056),\n",
    " (8, 0.056),\n",
    " (9, 0.049)]\n",
    "```\n",
    "\n",
    "Here's how I suggest writing the function:\n",
    "\n",
    "1. Save the output from `count_first_digits()`.\n",
    "2. Get all of the numbers (1 through 9) into a list.\n",
    "3. Get all of the counts into another list.\n",
    "4. Calculate the total of those counts.\n",
    "5. Calculate the percentage of that total for each count.\n",
    "6. Zip the numbers with the percentages."
   ]
  },
  {
   "cell_type": "markdown",
   "id": "d4432c2b",
   "metadata": {},
   "source": [
    "## Solution to Exercise 4"
   ]
  },
  {
   "cell_type": "code",
   "execution_count": 98,
   "id": "75a5ffd0",
   "metadata": {},
   "outputs": [
    {
     "data": {
      "text/plain": [
       "[(1, 116648),\n",
       " (2, 67801),\n",
       " (3, 45331),\n",
       " (4, 48426),\n",
       " (5, 31109),\n",
       " (6, 20746),\n",
       " (7, 21962),\n",
       " (8, 21867),\n",
       " (9, 19078)]"
      ]
     },
     "execution_count": 98,
     "metadata": {},
     "output_type": "execute_result"
    }
   ],
   "source": [
    "# list of tuples\n",
    "output = count_first_digits(5000)\n",
    "output"
   ]
  },
  {
   "cell_type": "code",
   "execution_count": 99,
   "id": "8829c5e2",
   "metadata": {},
   "outputs": [
    {
     "data": {
      "text/plain": [
       "[1, 2, 3, 4, 5, 6, 7, 8, 9]"
      ]
     },
     "execution_count": 99,
     "metadata": {},
     "output_type": "execute_result"
    }
   ],
   "source": [
    "# get the first element of each tuple\n",
    "nums = [t[0] for t in output]\n",
    "nums"
   ]
  },
  {
   "cell_type": "code",
   "execution_count": 100,
   "id": "b5c6abdd",
   "metadata": {},
   "outputs": [
    {
     "data": {
      "text/plain": [
       "[116648, 67801, 45331, 48426, 31109, 20746, 21962, 21867, 19078]"
      ]
     },
     "execution_count": 100,
     "metadata": {},
     "output_type": "execute_result"
    }
   ],
   "source": [
    "# get the second element of each tuple\n",
    "counts = [t[1] for t in output]\n",
    "counts"
   ]
  },
  {
   "cell_type": "code",
   "execution_count": 101,
   "id": "4afc4dbd",
   "metadata": {},
   "outputs": [
    {
     "data": {
      "text/plain": [
       "392968"
      ]
     },
     "execution_count": 101,
     "metadata": {},
     "output_type": "execute_result"
    }
   ],
   "source": [
    "# sum the numbers in an iterable\n",
    "total = sum(counts)\n",
    "total"
   ]
  },
  {
   "cell_type": "code",
   "execution_count": 102,
   "id": "6a30b57b",
   "metadata": {},
   "outputs": [
    {
     "data": {
      "text/plain": [
       "[0.29683841941328554,\n",
       " 0.17253567720526863,\n",
       " 0.11535544878972334,\n",
       " 0.12323140815537142,\n",
       " 0.07916420675474847,\n",
       " 0.052793102746279595,\n",
       " 0.05588750229026282,\n",
       " 0.05564575232588913,\n",
       " 0.04854848231917103]"
      ]
     },
     "execution_count": 102,
     "metadata": {},
     "output_type": "execute_result"
    }
   ],
   "source": [
    "percentages = [count / total for count in counts]\n",
    "percentages"
   ]
  },
  {
   "cell_type": "code",
   "execution_count": 103,
   "id": "92c04db0",
   "metadata": {},
   "outputs": [
    {
     "data": {
      "text/plain": [
       "[0.297, 0.173, 0.115, 0.123, 0.079, 0.053, 0.056, 0.056, 0.049]"
      ]
     },
     "execution_count": 103,
     "metadata": {},
     "output_type": "execute_result"
    }
   ],
   "source": [
    "# round the output to 3 decimal places\n",
    "percentages = [round(count / total, 3) for count in counts]\n",
    "percentages"
   ]
  },
  {
   "cell_type": "code",
   "execution_count": 104,
   "id": "07a91ffe",
   "metadata": {},
   "outputs": [
    {
     "data": {
      "text/plain": [
       "[(1, 0.297),\n",
       " (2, 0.173),\n",
       " (3, 0.115),\n",
       " (4, 0.123),\n",
       " (5, 0.079),\n",
       " (6, 0.053),\n",
       " (7, 0.056),\n",
       " (8, 0.056),\n",
       " (9, 0.049)]"
      ]
     },
     "execution_count": 104,
     "metadata": {},
     "output_type": "execute_result"
    }
   ],
   "source": [
    "list(zip(nums, percentages))"
   ]
  },
  {
   "cell_type": "code",
   "execution_count": 105,
   "id": "bd173e3d",
   "metadata": {},
   "outputs": [],
   "source": [
    "def percentage_first_digits(end):\n",
    "    \"\"\"\n",
    "    Given an ending value, return the percentage of first digits of every number\n",
    "    across every path generated by the starting values 1 through end (inclusive).\n",
    "    \n",
    "    Args:\n",
    "        end (int): Positive ending value\n",
    "    Returns:\n",
    "        Sorted list of tuples in which the first element of each tuple is the\n",
    "        digit and the second element is the percentage that digit appeared\n",
    "    \"\"\"\n",
    "    \n",
    "    output = count_first_digits(end)\n",
    "    nums = [t[0] for t in output]\n",
    "    counts = [t[1] for t in output]\n",
    "    total = sum(counts)\n",
    "    percentages = [round(count / total, 3) for count in counts]\n",
    "    return list(zip(nums, percentages))"
   ]
  },
  {
   "cell_type": "code",
   "execution_count": 106,
   "id": "11338532",
   "metadata": {},
   "outputs": [
    {
     "data": {
      "text/plain": [
       "[(1, 116648),\n",
       " (2, 67801),\n",
       " (3, 45331),\n",
       " (4, 48426),\n",
       " (5, 31109),\n",
       " (6, 20746),\n",
       " (7, 21962),\n",
       " (8, 21867),\n",
       " (9, 19078)]"
      ]
     },
     "execution_count": 106,
     "metadata": {},
     "output_type": "execute_result"
    }
   ],
   "source": [
    "count_first_digits(5000)"
   ]
  },
  {
   "cell_type": "code",
   "execution_count": 107,
   "id": "9a5151de",
   "metadata": {},
   "outputs": [
    {
     "data": {
      "text/plain": [
       "[(1, 0.297),\n",
       " (2, 0.173),\n",
       " (3, 0.115),\n",
       " (4, 0.123),\n",
       " (5, 0.079),\n",
       " (6, 0.053),\n",
       " (7, 0.056),\n",
       " (8, 0.056),\n",
       " (9, 0.049)]"
      ]
     },
     "execution_count": 107,
     "metadata": {},
     "output_type": "execute_result"
    }
   ],
   "source": [
    "percentage_first_digits(5000)"
   ]
  },
  {
   "cell_type": "code",
   "execution_count": 108,
   "id": "1d770771",
   "metadata": {},
   "outputs": [
    {
     "data": {
      "text/plain": [
       "[(1, 5), (2, 2), (3, 1), (4, 1), (5, 1), (8, 1)]"
      ]
     },
     "execution_count": 108,
     "metadata": {},
     "output_type": "execute_result"
    }
   ],
   "source": [
    "count_first_digits(3)"
   ]
  },
  {
   "cell_type": "code",
   "execution_count": 109,
   "id": "8870db8c",
   "metadata": {},
   "outputs": [
    {
     "data": {
      "text/plain": [
       "[(1, 0.455), (2, 0.182), (3, 0.091), (4, 0.091), (5, 0.091), (8, 0.091)]"
      ]
     },
     "execution_count": 109,
     "metadata": {},
     "output_type": "execute_result"
    }
   ],
   "source": [
    "# still works even though not all digits are present\n",
    "percentage_first_digits(3)"
   ]
  },
  {
   "cell_type": "markdown",
   "id": "9179356c",
   "metadata": {},
   "source": [
    "# Project: Part 5"
   ]
  },
  {
   "cell_type": "markdown",
   "id": "c1e64ac3",
   "metadata": {},
   "source": [
    "## Line Plots with Matplotlib"
   ]
  },
  {
   "cell_type": "code",
   "execution_count": 110,
   "id": "40a34cf0",
   "metadata": {},
   "outputs": [],
   "source": [
    "# Matplotlib is not part of the Python standard library\n",
    "import matplotlib.pyplot as plt"
   ]
  },
  {
   "cell_type": "code",
   "execution_count": 111,
   "id": "9f3c4879",
   "metadata": {},
   "outputs": [
    {
     "data": {
      "text/plain": [
       "[26, 13, 40, 20, 10, 5, 16, 8, 4, 2, 1]"
      ]
     },
     "execution_count": 111,
     "metadata": {},
     "output_type": "execute_result"
    }
   ],
   "source": [
    "# we want to plot this path\n",
    "get_path(26)"
   ]
  },
  {
   "cell_type": "code",
   "execution_count": 112,
   "id": "59dfc137",
   "metadata": {},
   "outputs": [
    {
     "data": {
      "text/plain": [
       "[<matplotlib.lines.Line2D at 0x7ff5ea4570d0>]"
      ]
     },
     "execution_count": 112,
     "metadata": {},
     "output_type": "execute_result"
    },
    {
     "data": {
      "image/png": "[encoded data removed]",
      "text/plain": [
       "<Figure size 640x480 with 1 Axes>"
      ]
     },
     "metadata": {},
     "output_type": "display_data"
    }
   ],
   "source": [
    "# draw a line plot: x-axis is index of each list element, y-axis is value\n",
    "plt.plot(get_path(26))"
   ]
  },
  {
   "cell_type": "code",
   "execution_count": 113,
   "id": "88dafc67",
   "metadata": {},
   "outputs": [],
   "source": [
    "# Jupyter users: run this if you aren't seeing a plot\n",
    "%matplotlib inline"
   ]
  },
  {
   "cell_type": "code",
   "execution_count": 114,
   "id": "81284645",
   "metadata": {},
   "outputs": [],
   "source": [
    "# Non-Jupyter users: run this if you aren't seeing a plot\n",
    "plt.show()"
   ]
  },
  {
   "cell_type": "code",
   "execution_count": 115,
   "id": "bb8880da",
   "metadata": {},
   "outputs": [
    {
     "name": "stdout",
     "output_type": "stream",
     "text": [
      "path: [26, 13, 40, 20, 10, 5, 16, 8, 4, 2, 1]\n",
      "max: 40\n",
      "steps: 10\n"
     ]
    }
   ],
   "source": [
    "# path info matches the plot\n",
    "print_path_info(26)"
   ]
  },
  {
   "cell_type": "code",
   "execution_count": 116,
   "id": "dae21249",
   "metadata": {},
   "outputs": [
    {
     "name": "stdout",
     "output_type": "stream",
     "text": [
      "path: [27, 82, 41, 124, 62, 31, 94, 47, 142, 71, 214, 107, 322, 161, 484, 242, 121, 364, 182, 91, 274, 137, 412, 206, 103, 310, 155, 466, 233, 700, 350, 175, 526, 263, 790, 395, 1186, 593, 1780, 890, 445, 1336, 668, 334, 167, 502, 251, 754, 377, 1132, 566, 283, 850, 425, 1276, 638, 319, 958, 479, 1438, 719, 2158, 1079, 3238, 1619, 4858, 2429, 7288, 3644, 1822, 911, 2734, 1367, 4102, 2051, 6154, 3077, 9232, 4616, 2308, 1154, 577, 1732, 866, 433, 1300, 650, 325, 976, 488, 244, 122, 61, 184, 92, 46, 23, 70, 35, 106, 53, 160, 80, 40, 20, 10, 5, 16, 8, 4, 2, 1]\n",
      "max: 9232\n",
      "steps: 111\n"
     ]
    }
   ],
   "source": [
    "print_path_info(27)"
   ]
  },
  {
   "cell_type": "code",
   "execution_count": 117,
   "id": "1269c851",
   "metadata": {},
   "outputs": [
    {
     "data": {
      "text/plain": [
       "[<matplotlib.lines.Line2D at 0x7ff5f931d5a0>]"
      ]
     },
     "execution_count": 117,
     "metadata": {},
     "output_type": "execute_result"
    },
    {
     "data": {
      "image/png": "[encoded data removed]",
      "text/plain": [
       "<Figure size 640x480 with 1 Axes>"
      ]
     },
     "metadata": {},
     "output_type": "display_data"
    }
   ],
   "source": [
    "# plot matches the path info\n",
    "plt.plot(get_path(27))"
   ]
  },
  {
   "cell_type": "markdown",
   "id": "f8ab861a",
   "metadata": {},
   "source": [
    "These are the plots we saw in the following portion of the video: [2:32 to 3:11](https://youtu.be/094y1Z2wpJg?t=152).\n",
    "\n",
    "**Matplotlib Documentation:** [Installation](https://matplotlib.org/stable/users/getting_started/)"
   ]
  },
  {
   "cell_type": "markdown",
   "id": "cf4aee00",
   "metadata": {},
   "source": [
    "## Bar Plots"
   ]
  },
  {
   "cell_type": "code",
   "execution_count": 118,
   "id": "fa613d5f",
   "metadata": {},
   "outputs": [
    {
     "data": {
      "text/plain": [
       "[(1, 0.297),\n",
       " (2, 0.173),\n",
       " (3, 0.115),\n",
       " (4, 0.123),\n",
       " (5, 0.079),\n",
       " (6, 0.053),\n",
       " (7, 0.056),\n",
       " (8, 0.056),\n",
       " (9, 0.049)]"
      ]
     },
     "execution_count": 118,
     "metadata": {},
     "output_type": "execute_result"
    }
   ],
   "source": [
    "# we want to plot this data\n",
    "percentage_first_digits(5000)"
   ]
  },
  {
   "cell_type": "code",
   "execution_count": 119,
   "id": "63a0e29c",
   "metadata": {},
   "outputs": [
    {
     "data": {
      "text/plain": [
       "[<matplotlib.lines.Line2D at 0x7ff5d8ada080>,\n",
       " <matplotlib.lines.Line2D at 0x7ff5d8ada0e0>]"
      ]
     },
     "execution_count": 119,
     "metadata": {},
     "output_type": "execute_result"
    },
    {
     "data": {
      "image/png": "[encoded data removed]",
      "text/plain": [
       "<Figure size 640x480 with 1 Axes>"
      ]
     },
     "metadata": {},
     "output_type": "display_data"
    }
   ],
   "source": [
    "# two separate line plots is not what we wanted\n",
    "plt.plot(percentage_first_digits(5000))"
   ]
  },
  {
   "cell_type": "code",
   "execution_count": 120,
   "id": "d0c4ddfc",
   "metadata": {},
   "outputs": [
    {
     "ename": "TypeError",
     "evalue": "bar() missing 2 required positional arguments: 'x' and 'height'",
     "output_type": "error",
     "traceback": [
      "\u001b[0;31m---------------------------------------------------------------------------\u001b[0m",
      "\u001b[0;31mTypeError\u001b[0m                                 Traceback (most recent call last)",
      "Cell \u001b[0;32mIn[120], line 2\u001b[0m\n\u001b[1;32m      1\u001b[0m \u001b[38;5;66;03m# we need two separate objects for the bar plot: nums and percentages\u001b[39;00m\n\u001b[0;32m----> 2\u001b[0m \u001b[43mplt\u001b[49m\u001b[38;5;241;43m.\u001b[39;49m\u001b[43mbar\u001b[49m\u001b[43m(\u001b[49m\u001b[43m)\u001b[49m\n",
      "\u001b[0;31mTypeError\u001b[0m: bar() missing 2 required positional arguments: 'x' and 'height'"
     ]
    }
   ],
   "source": [
    "# we need two separate objects for the bar plot: nums and percentages\n",
    "plt.bar()"
   ]
  },
  {
   "cell_type": "code",
   "execution_count": 121,
   "id": "fc3580bf",
   "metadata": {},
   "outputs": [
    {
     "data": {
      "text/plain": [
       "[(1, 0.297),\n",
       " (2, 0.173),\n",
       " (3, 0.115),\n",
       " (4, 0.123),\n",
       " (5, 0.079),\n",
       " (6, 0.053),\n",
       " (7, 0.056),\n",
       " (8, 0.056),\n",
       " (9, 0.049)]"
      ]
     },
     "execution_count": 121,
     "metadata": {},
     "output_type": "execute_result"
    }
   ],
   "source": [
    "# list of tuples\n",
    "output = percentage_first_digits(5000)\n",
    "output"
   ]
  },
  {
   "cell_type": "code",
   "execution_count": 122,
   "id": "7aaf8039",
   "metadata": {},
   "outputs": [
    {
     "data": {
      "text/plain": [
       "[1, 2, 3, 4, 5, 6, 7, 8, 9]"
      ]
     },
     "execution_count": 122,
     "metadata": {},
     "output_type": "execute_result"
    }
   ],
   "source": [
    "# get the first element of each tuple\n",
    "nums = [t[0] for t in output]\n",
    "nums"
   ]
  },
  {
   "cell_type": "code",
   "execution_count": 123,
   "id": "5c9250ae",
   "metadata": {},
   "outputs": [
    {
     "data": {
      "text/plain": [
       "[0.297, 0.173, 0.115, 0.123, 0.079, 0.053, 0.056, 0.056, 0.049]"
      ]
     },
     "execution_count": 123,
     "metadata": {},
     "output_type": "execute_result"
    }
   ],
   "source": [
    "# get the second element of each tuple\n",
    "percentages = [t[1] for t in output]\n",
    "percentages"
   ]
  },
  {
   "cell_type": "code",
   "execution_count": 124,
   "id": "43e21ede",
   "metadata": {},
   "outputs": [
    {
     "data": {
      "text/plain": [
       "<BarContainer object of 9 artists>"
      ]
     },
     "execution_count": 124,
     "metadata": {},
     "output_type": "execute_result"
    },
    {
     "data": {
      "image/png": "[encoded data removed]",
      "text/plain": [
       "<Figure size 640x480 with 1 Axes>"
      ]
     },
     "metadata": {},
     "output_type": "display_data"
    }
   ],
   "source": [
    "# draw a bar plot: x-axis is nums, y-axis is percentages\n",
    "plt.bar(nums, percentages)"
   ]
  },
  {
   "cell_type": "markdown",
   "id": "982f82c4",
   "metadata": {},
   "source": [
    "This is the plot we saw in the following portion of the video: [5:10 to 6:15](https://youtu.be/094y1Z2wpJg?t=310)."
   ]
  },
  {
   "cell_type": "markdown",
   "id": "dfc01914",
   "metadata": {},
   "source": [
    "## Multiple Assignment"
   ]
  },
  {
   "cell_type": "code",
   "execution_count": 125,
   "id": "be4d3e0f",
   "metadata": {},
   "outputs": [],
   "source": [
    "# point on a graph\n",
    "point = (5, -3)"
   ]
  },
  {
   "cell_type": "code",
   "execution_count": 126,
   "id": "4ae05e0b",
   "metadata": {},
   "outputs": [
    {
     "name": "stdout",
     "output_type": "stream",
     "text": [
      "5\n",
      "-3\n"
     ]
    }
   ],
   "source": [
    "# use indexing to extract x and y coordinates\n",
    "x = point[0]\n",
    "y = point[1]\n",
    "print(x)\n",
    "print(y)"
   ]
  },
  {
   "cell_type": "code",
   "execution_count": 127,
   "id": "7c3af641",
   "metadata": {},
   "outputs": [
    {
     "name": "stdout",
     "output_type": "stream",
     "text": [
      "5\n",
      "-3\n"
     ]
    }
   ],
   "source": [
    "# better way is through multiple assignment (also called tuple unpacking)\n",
    "x, y = point\n",
    "print(x)\n",
    "print(y)"
   ]
  },
  {
   "cell_type": "code",
   "execution_count": 128,
   "id": "f44448dd",
   "metadata": {},
   "outputs": [
    {
     "name": "stdout",
     "output_type": "stream",
     "text": [
      "10\n",
      "20\n"
     ]
    }
   ],
   "source": [
    "# multiple assignment works with other iterables (but is most common with tuples)\n",
    "x, y = [10, 20]\n",
    "print(x)\n",
    "print(y)"
   ]
  },
  {
   "cell_type": "code",
   "execution_count": 129,
   "id": "0fffccd0",
   "metadata": {},
   "outputs": [
    {
     "name": "stdout",
     "output_type": "stream",
     "text": [
      "10\n",
      "20\n",
      "30\n"
     ]
    }
   ],
   "source": [
    "# multiple assignment is not limited to two objects\n",
    "x, y, z = [10, 20, 30]\n",
    "print(x)\n",
    "print(y)\n",
    "print(z)"
   ]
  },
  {
   "cell_type": "code",
   "execution_count": 130,
   "id": "dad8a019",
   "metadata": {},
   "outputs": [
    {
     "ename": "ValueError",
     "evalue": "too many values to unpack (expected 2)",
     "output_type": "error",
     "traceback": [
      "\u001b[0;31m---------------------------------------------------------------------------\u001b[0m",
      "\u001b[0;31mValueError\u001b[0m                                Traceback (most recent call last)",
      "Cell \u001b[0;32mIn[130], line 2\u001b[0m\n\u001b[1;32m      1\u001b[0m \u001b[38;5;66;03m# number of elements must match the number of objects being assigned\u001b[39;00m\n\u001b[0;32m----> 2\u001b[0m x, y \u001b[38;5;241m=\u001b[39m [\u001b[38;5;241m10\u001b[39m, \u001b[38;5;241m20\u001b[39m, \u001b[38;5;241m30\u001b[39m]\n",
      "\u001b[0;31mValueError\u001b[0m: too many values to unpack (expected 2)"
     ]
    }
   ],
   "source": [
    "# number of elements must match the number of objects being assigned\n",
    "x, y = [10, 20, 30]"
   ]
  },
  {
   "cell_type": "code",
   "execution_count": 131,
   "id": "f98f398e",
   "metadata": {},
   "outputs": [],
   "source": [
    "# returns a tuple (by virtue of the comma)\n",
    "def analyze_square(side):\n",
    "    perimeter = side * 4\n",
    "    area = side ** 2\n",
    "    return perimeter, area"
   ]
  },
  {
   "cell_type": "code",
   "execution_count": 132,
   "id": "9fa013c7",
   "metadata": {},
   "outputs": [
    {
     "data": {
      "text/plain": [
       "(40, 100)"
      ]
     },
     "execution_count": 132,
     "metadata": {},
     "output_type": "execute_result"
    }
   ],
   "source": [
    "analyze_square(10)"
   ]
  },
  {
   "cell_type": "code",
   "execution_count": 133,
   "id": "bfbd21b7",
   "metadata": {},
   "outputs": [
    {
     "name": "stdout",
     "output_type": "stream",
     "text": [
      "40\n",
      "100\n"
     ]
    }
   ],
   "source": [
    "# unpack the tuple into separate objects\n",
    "p, a = analyze_square(10)\n",
    "print(p)\n",
    "print(a)"
   ]
  },
  {
   "cell_type": "code",
   "execution_count": 134,
   "id": "df0a2254",
   "metadata": {},
   "outputs": [],
   "source": [
    "shapes = {'triangle':3, 'square':4, 'pentagon':5}"
   ]
  },
  {
   "cell_type": "code",
   "execution_count": 135,
   "id": "3e11b38d",
   "metadata": {},
   "outputs": [
    {
     "name": "stdout",
     "output_type": "stream",
     "text": [
      "triangle\n",
      "square\n",
      "pentagon\n"
     ]
    }
   ],
   "source": [
    "# looping through a dictionary loops through the keys\n",
    "# during each loop, a shape name is implicitly assigned to \"name\"\n",
    "for name in shapes:\n",
    "    print(name)"
   ]
  },
  {
   "cell_type": "code",
   "execution_count": 136,
   "id": "344ee356",
   "metadata": {},
   "outputs": [
    {
     "data": {
      "text/plain": [
       "dict_items([('triangle', 3), ('square', 4), ('pentagon', 5)])"
      ]
     },
     "execution_count": 136,
     "metadata": {},
     "output_type": "execute_result"
    }
   ],
   "source": [
    "# returns a list-like object containing the keys and values\n",
    "shapes.items()"
   ]
  },
  {
   "cell_type": "code",
   "execution_count": 137,
   "id": "e3be5798",
   "metadata": {},
   "outputs": [
    {
     "name": "stdout",
     "output_type": "stream",
     "text": [
      "A triangle has 3 sides.\n",
      "A square has 4 sides.\n",
      "A pentagon has 5 sides.\n"
     ]
    }
   ],
   "source": [
    "# implicit and multiple assignment from each tuple into \"name\" and \"sides\"\n",
    "for name, sides in shapes.items():\n",
    "    print(f'A {name} has {sides} sides.')"
   ]
  },
  {
   "cell_type": "markdown",
   "id": "ece828c5",
   "metadata": {},
   "source": [
    "**Article & Video:** [Tuple unpacking](https://www.pythonmorsels.com/tuple-unpacking/) (Python Morsels)"
   ]
  },
  {
   "cell_type": "markdown",
   "id": "6998592e",
   "metadata": {},
   "source": [
    "## Unpacking into a Function Call"
   ]
  },
  {
   "cell_type": "code",
   "execution_count": 138,
   "id": "ab3e69b3",
   "metadata": {},
   "outputs": [
    {
     "data": {
      "text/plain": [
       "{'triangle': 3, 'square': 4, 'pentagon': 5}"
      ]
     },
     "execution_count": 138,
     "metadata": {},
     "output_type": "execute_result"
    }
   ],
   "source": [
    "shapes"
   ]
  },
  {
   "cell_type": "code",
   "execution_count": 139,
   "id": "0da377dd",
   "metadata": {},
   "outputs": [
    {
     "data": {
      "text/plain": [
       "dict_values([3, 4, 5])"
      ]
     },
     "execution_count": 139,
     "metadata": {},
     "output_type": "execute_result"
    }
   ],
   "source": [
    "# returns a list-like object containing the values\n",
    "shapes.values()"
   ]
  },
  {
   "cell_type": "code",
   "execution_count": 140,
   "id": "da3b42b5",
   "metadata": {},
   "outputs": [
    {
     "data": {
      "text/plain": [
       "[3, 4, 5]"
      ]
     },
     "execution_count": 140,
     "metadata": {},
     "output_type": "execute_result"
    }
   ],
   "source": [
    "# convert it into an actual list\n",
    "sides = list(shapes.values())\n",
    "sides"
   ]
  },
  {
   "cell_type": "code",
   "execution_count": 141,
   "id": "934fd586",
   "metadata": {},
   "outputs": [
    {
     "name": "stdout",
     "output_type": "stream",
     "text": [
      "3 4 5\n"
     ]
    }
   ],
   "source": [
    "# print each of the values separated by a space\n",
    "print(sides[0], sides[1], sides[2])"
   ]
  },
  {
   "cell_type": "code",
   "execution_count": 142,
   "id": "d83af880",
   "metadata": {},
   "outputs": [
    {
     "name": "stdout",
     "output_type": "stream",
     "text": [
      "3 4 5\n"
     ]
    }
   ],
   "source": [
    "# unpack the iterable into a function call using the asterisk operator\n",
    "# loop over \"sides\", get one item at a time, pass as separate arguments to print\n",
    "print(*sides)"
   ]
  },
  {
   "cell_type": "code",
   "execution_count": 143,
   "id": "b54fe011",
   "metadata": {},
   "outputs": [
    {
     "ename": "SyntaxError",
     "evalue": "can't use starred expression here (2399575914.py, line 2)",
     "output_type": "error",
     "traceback": [
      "\u001b[0;36m  Cell \u001b[0;32mIn[143], line 2\u001b[0;36m\u001b[0m\n\u001b[0;31m    *sides\u001b[0m\n\u001b[0m    ^\u001b[0m\n\u001b[0;31mSyntaxError\u001b[0m\u001b[0;31m:\u001b[0m can't use starred expression here\n"
     ]
    }
   ],
   "source": [
    "# this use of the asterisk operator only works within a function call\n",
    "*sides"
   ]
  },
  {
   "cell_type": "code",
   "execution_count": 144,
   "id": "c98a95ee",
   "metadata": {},
   "outputs": [
    {
     "data": {
      "text/plain": [
       "[('triangle', 3), ('square', 4), ('pentagon', 5)]"
      ]
     },
     "execution_count": 144,
     "metadata": {},
     "output_type": "execute_result"
    }
   ],
   "source": [
    "# list of tuples\n",
    "pairs = list(shapes.items())\n",
    "pairs"
   ]
  },
  {
   "cell_type": "code",
   "execution_count": 145,
   "id": "90f7d05f",
   "metadata": {},
   "outputs": [
    {
     "name": "stdout",
     "output_type": "stream",
     "text": [
      "('triangle', 3) ('square', 4) ('pentagon', 5)\n"
     ]
    }
   ],
   "source": [
    "# print each tuple separated by a space\n",
    "print(*pairs)"
   ]
  },
  {
   "cell_type": "code",
   "execution_count": 146,
   "id": "54bc699d",
   "metadata": {},
   "outputs": [
    {
     "data": {
      "text/plain": [
       "[('triangle', 'square', 'pentagon'), (3, 4, 5)]"
      ]
     },
     "execution_count": 146,
     "metadata": {},
     "output_type": "execute_result"
    }
   ],
   "source": [
    "# pass the three tuples to zip, get back a list of two tuples\n",
    "list(zip(*pairs))"
   ]
  },
  {
   "cell_type": "markdown",
   "id": "54f4d581",
   "metadata": {},
   "source": [
    "## Project Exercise 5\n",
    "\n",
    "In the Bar Plots lesson, we created a list of tuples called `output`:\n",
    "\n",
    "```\n",
    "output = percentage_first_digits(5000)\n",
    "output\n",
    "[(1, 0.297),\n",
    " (2, 0.173),\n",
    " (3, 0.115),\n",
    " (4, 0.123),\n",
    " (5, 0.079),\n",
    " (6, 0.053),\n",
    " (7, 0.056),\n",
    " (8, 0.056),\n",
    " (9, 0.049)]\n",
    "```\n",
    "\n",
    "Then, we used list comprehensions to create the `nums` and `percentages` objects:\n",
    "\n",
    "```\n",
    "nums = [t[0] for t in output]\n",
    "nums\n",
    "[1, 2, 3, 4, 5, 6, 7, 8, 9]\n",
    "\n",
    "percentages = [t[1] for t in output]\n",
    "percentages\n",
    "[0.297, 0.173, 0.115, 0.123, 0.079, 0.053, 0.056, 0.056, 0.049]\n",
    "```\n",
    "\n",
    "Your task is to create `nums` and `percentages` from `output` in a single line of code by using the asterisk operator and multiple assignment."
   ]
  },
  {
   "cell_type": "markdown",
   "id": "59638f0e",
   "metadata": {},
   "source": [
    "## Solution to Exercise 5"
   ]
  },
  {
   "cell_type": "code",
   "execution_count": 147,
   "id": "c34eb03e",
   "metadata": {},
   "outputs": [
    {
     "data": {
      "text/plain": [
       "[(1, 0.297),\n",
       " (2, 0.173),\n",
       " (3, 0.115),\n",
       " (4, 0.123),\n",
       " (5, 0.079),\n",
       " (6, 0.053),\n",
       " (7, 0.056),\n",
       " (8, 0.056),\n",
       " (9, 0.049)]"
      ]
     },
     "execution_count": 147,
     "metadata": {},
     "output_type": "execute_result"
    }
   ],
   "source": [
    "# goal: aggregate first elements into \"nums\" and second elements into \"percentages\"\n",
    "output = percentage_first_digits(5000)\n",
    "output"
   ]
  },
  {
   "cell_type": "code",
   "execution_count": 148,
   "id": "173fc29d",
   "metadata": {},
   "outputs": [
    {
     "data": {
      "text/plain": [
       "[(1, 2, 3, 4, 5, 6, 7, 8, 9),\n",
       " (0.297, 0.173, 0.115, 0.123, 0.079, 0.053, 0.056, 0.056, 0.049)]"
      ]
     },
     "execution_count": 148,
     "metadata": {},
     "output_type": "execute_result"
    }
   ],
   "source": [
    "# list of nine tuples has become a list of two tuples\n",
    "list(zip(*output))"
   ]
  },
  {
   "cell_type": "code",
   "execution_count": 149,
   "id": "c9eee1a5",
   "metadata": {},
   "outputs": [
    {
     "name": "stdout",
     "output_type": "stream",
     "text": [
      "(1, 2, 3, 4, 5, 6, 7, 8, 9)\n",
      "(0.297, 0.173, 0.115, 0.123, 0.079, 0.053, 0.056, 0.056, 0.049)\n"
     ]
    }
   ],
   "source": [
    "# unpack the list using multiple assignment\n",
    "nums, percentages = list(zip(*output))\n",
    "print(nums)\n",
    "print(percentages)"
   ]
  },
  {
   "cell_type": "code",
   "execution_count": 150,
   "id": "7f009b36",
   "metadata": {},
   "outputs": [
    {
     "data": {
      "text/plain": [
       "<BarContainer object of 9 artists>"
      ]
     },
     "execution_count": 150,
     "metadata": {},
     "output_type": "execute_result"
    },
    {
     "data": {
      "image/png": "[encoded data removed]",
      "text/plain": [
       "<Figure size 640x480 with 1 Axes>"
      ]
     },
     "metadata": {},
     "output_type": "display_data"
    }
   ],
   "source": [
    "# bar plot\n",
    "plt.bar(nums, percentages)"
   ]
  },
  {
   "cell_type": "markdown",
   "id": "85e0a68e",
   "metadata": {},
   "source": [
    "# Project: Part 6"
   ]
  },
  {
   "cell_type": "markdown",
   "id": "720527a6",
   "metadata": {},
   "source": [
    "## Dictionary Comprehensions"
   ]
  },
  {
   "cell_type": "code",
   "execution_count": 151,
   "id": "c7bf7a40",
   "metadata": {},
   "outputs": [],
   "source": [
    "words = ['data', 'science', 'python']"
   ]
  },
  {
   "cell_type": "code",
   "execution_count": 152,
   "id": "d83cca8b",
   "metadata": {},
   "outputs": [
    {
     "data": {
      "text/plain": [
       "[4, 7, 6]"
      ]
     },
     "execution_count": 152,
     "metadata": {},
     "output_type": "execute_result"
    }
   ],
   "source": [
    "# create a list of word lengths\n",
    "length = []\n",
    "for word in words:\n",
    "    length.append(len(word))\n",
    "length"
   ]
  },
  {
   "cell_type": "code",
   "execution_count": 153,
   "id": "7b839736",
   "metadata": {},
   "outputs": [
    {
     "data": {
      "text/plain": [
       "[4, 7, 6]"
      ]
     },
     "execution_count": 153,
     "metadata": {},
     "output_type": "execute_result"
    }
   ],
   "source": [
    "# use a list comprehension instead\n",
    "[len(word) for word in words]"
   ]
  },
  {
   "cell_type": "code",
   "execution_count": 154,
   "id": "1e0d4396",
   "metadata": {},
   "outputs": [
    {
     "data": {
      "text/plain": [
       "{'data': 4, 'science': 7, 'python': 6}"
      ]
     },
     "execution_count": 154,
     "metadata": {},
     "output_type": "execute_result"
    }
   ],
   "source": [
    "# create a dictionary of words and their lengths\n",
    "word_length = {}\n",
    "for word in words:\n",
    "    word_length[word] = len(word)\n",
    "word_length"
   ]
  },
  {
   "cell_type": "code",
   "execution_count": 155,
   "id": "a61d730b",
   "metadata": {},
   "outputs": [
    {
     "data": {
      "text/plain": [
       "{'data': 4, 'science': 7, 'python': 6}"
      ]
     },
     "execution_count": 155,
     "metadata": {},
     "output_type": "execute_result"
    }
   ],
   "source": [
    "# use a dictionary comprehension instead\n",
    "{word:len(word) for word in words}"
   ]
  },
  {
   "cell_type": "markdown",
   "id": "deb6e3bb",
   "metadata": {},
   "source": [
    "## Project Exercise 6\n",
    "\n",
    "This exercise relates to the following portion of the video: [14:00 to 14:34](https://youtu.be/094y1Z2wpJg?t=840).\n",
    "\n",
    "Define a function (with a docstring) called `get_max_nums()` that accepts one required argument called `end`, which is a positive integer.\n",
    "\n",
    "Within the function, do the following:\n",
    "\n",
    "- For each integer 1 through `end`, calculate the path that starts with that integer.\n",
    "- Return a dictionary in which each key is the starting number and each value is the maximum number reached during its path. (Use a dictionary comprehension for this.)\n",
    "\n",
    "For example `get_max_nums(5)` should return `{1: 1, 2: 2, 3: 16, 4: 4, 5: 16}`."
   ]
  },
  {
   "cell_type": "markdown",
   "id": "ab841f3c",
   "metadata": {},
   "source": [
    "## Solution to Exercise 6"
   ]
  },
  {
   "cell_type": "code",
   "execution_count": 156,
   "id": "4881d07f",
   "metadata": {},
   "outputs": [
    {
     "data": {
      "text/plain": [
       "[1, 2, 3, 4, 5]"
      ]
     },
     "execution_count": 156,
     "metadata": {},
     "output_type": "execute_result"
    }
   ],
   "source": [
    "# get_max_nums(5) would need the values 1, 2, 3, 4, 5\n",
    "end = 5\n",
    "list(range(1, end + 1))"
   ]
  },
  {
   "cell_type": "code",
   "execution_count": 157,
   "id": "11f32a73",
   "metadata": {},
   "outputs": [
    {
     "data": {
      "text/plain": [
       "[3, 10, 5, 16, 8, 4, 2, 1]"
      ]
     },
     "execution_count": 157,
     "metadata": {},
     "output_type": "execute_result"
    }
   ],
   "source": [
    "# path for starting number of 3\n",
    "get_path(3)"
   ]
  },
  {
   "cell_type": "code",
   "execution_count": 158,
   "id": "d0b020c5",
   "metadata": {},
   "outputs": [
    {
     "data": {
      "text/plain": [
       "16"
      ]
     },
     "execution_count": 158,
     "metadata": {},
     "output_type": "execute_result"
    }
   ],
   "source": [
    "# maximum number reached during the path\n",
    "max(get_path(3))"
   ]
  },
  {
   "cell_type": "code",
   "execution_count": 159,
   "id": "75974fab",
   "metadata": {},
   "outputs": [
    {
     "data": {
      "text/plain": [
       "{1: 1, 2: 2, 3: 16, 4: 4, 5: 16}"
      ]
     },
     "execution_count": 159,
     "metadata": {},
     "output_type": "execute_result"
    }
   ],
   "source": [
    "# combine into a dictionary comprehension\n",
    "# key is starting number, value is maximum number reached during the path\n",
    "{num:max(get_path(num)) for num in range(1, end + 1)}"
   ]
  },
  {
   "cell_type": "code",
   "execution_count": 160,
   "id": "642d8fca",
   "metadata": {},
   "outputs": [],
   "source": [
    "def get_max_nums(end):\n",
    "    \"\"\"\n",
    "    Given an ending value, return the maximum number reached during every path\n",
    "    generated by the starting values 1 through end (inclusive).\n",
    "    \n",
    "    Args:\n",
    "        end (int): Positive ending value\n",
    "    Returns:\n",
    "        Dictionary in which each key is the starting number and each value is the\n",
    "        maximum number reached during its path\n",
    "    \"\"\"\n",
    "    \n",
    "    return {num:max(get_path(num)) for num in range(1, end + 1)}"
   ]
  },
  {
   "cell_type": "code",
   "execution_count": 161,
   "id": "1f164f2f",
   "metadata": {},
   "outputs": [
    {
     "data": {
      "text/plain": [
       "{1: 1, 2: 2, 3: 16, 4: 4, 5: 16}"
      ]
     },
     "execution_count": 161,
     "metadata": {},
     "output_type": "execute_result"
    }
   ],
   "source": [
    "get_max_nums(5)"
   ]
  },
  {
   "cell_type": "code",
   "execution_count": 162,
   "id": "f8dab15e",
   "metadata": {},
   "outputs": [],
   "source": [
    "max_nums = get_max_nums(10000)"
   ]
  },
  {
   "cell_type": "code",
   "execution_count": 163,
   "id": "9eb4b738",
   "metadata": {},
   "outputs": [],
   "source": [
    "# underscores within numbers are ignored\n",
    "max_nums = get_max_nums(10_000)"
   ]
  },
  {
   "cell_type": "code",
   "execution_count": 164,
   "id": "62f5244b",
   "metadata": {},
   "outputs": [
    {
     "data": {
      "text/plain": [
       "<matplotlib.collections.PathCollection at 0x7ff5d8b2e320>"
      ]
     },
     "execution_count": 164,
     "metadata": {},
     "output_type": "execute_result"
    },
    {
     "data": {
      "image/png": "[encoded data removed]",
      "text/plain": [
       "<Figure size 640x480 with 1 Axes>"
      ]
     },
     "metadata": {},
     "output_type": "display_data"
    }
   ],
   "source": [
    "# scatterplot: x-axis is starting numbers, y-axis is maximum numbers reached\n",
    "plt.scatter(x=max_nums.keys(), y=max_nums.values())"
   ]
  },
  {
   "cell_type": "code",
   "execution_count": 165,
   "id": "00ba100b",
   "metadata": {},
   "outputs": [
    {
     "data": {
      "text/plain": [
       "27114424"
      ]
     },
     "execution_count": 165,
     "metadata": {},
     "output_type": "execute_result"
    }
   ],
   "source": [
    "# outlier in the upper right corner of the plot\n",
    "max(get_path(9663))"
   ]
  },
  {
   "cell_type": "code",
   "execution_count": 166,
   "id": "b5ca9a8b",
   "metadata": {},
   "outputs": [
    {
     "data": {
      "text/plain": [
       "(0.0, 100000.0)"
      ]
     },
     "execution_count": 166,
     "metadata": {},
     "output_type": "execute_result"
    },
    {
     "data": {
      "image/png": "[encoded data removed]",
      "text/plain": [
       "<Figure size 640x480 with 1 Axes>"
      ]
     },
     "metadata": {},
     "output_type": "display_data"
    }
   ],
   "source": [
    "# set the y-axis limit to 100,000\n",
    "plt.scatter(x=max_nums.keys(), y=max_nums.values())\n",
    "plt.ylim(0, 100_000)"
   ]
  },
  {
   "cell_type": "code",
   "execution_count": 167,
   "id": "ce1ca79e",
   "metadata": {},
   "outputs": [
    {
     "data": {
      "text/plain": [
       "(0.0, 100000.0)"
      ]
     },
     "execution_count": 167,
     "metadata": {},
     "output_type": "execute_result"
    },
    {
     "data": {
      "image/png": "[encoded data removed]",
      "text/plain": [
       "<Figure size 640x480 with 1 Axes>"
      ]
     },
     "metadata": {},
     "output_type": "display_data"
    }
   ],
   "source": [
    "# set \"s\" to make the points smaller, set \"alpha\" to add transparency\n",
    "plt.scatter(x=max_nums.keys(), y=max_nums.values(), s=1, alpha=0.5)\n",
    "plt.ylim(0, 100_000)"
   ]
  },
  {
   "cell_type": "markdown",
   "id": "5a6f2cdf",
   "metadata": {},
   "source": [
    "# Project: Part 7"
   ]
  },
  {
   "cell_type": "markdown",
   "id": "d68c4220",
   "metadata": {},
   "source": [
    "## Membership Operators"
   ]
  },
  {
   "cell_type": "code",
   "execution_count": 168,
   "id": "0f682569",
   "metadata": {},
   "outputs": [],
   "source": [
    "x = 2"
   ]
  },
  {
   "cell_type": "code",
   "execution_count": 169,
   "id": "0db4c657",
   "metadata": {},
   "outputs": [
    {
     "data": {
      "text/plain": [
       "True"
      ]
     },
     "execution_count": 169,
     "metadata": {},
     "output_type": "execute_result"
    }
   ],
   "source": [
    "# comparisons return either True or False\n",
    "x > 0"
   ]
  },
  {
   "cell_type": "code",
   "execution_count": 170,
   "id": "f5c73f09",
   "metadata": {},
   "outputs": [
    {
     "data": {
      "text/plain": [
       "False"
      ]
     },
     "execution_count": 170,
     "metadata": {},
     "output_type": "execute_result"
    }
   ],
   "source": [
    "x == 0"
   ]
  },
  {
   "cell_type": "code",
   "execution_count": 171,
   "id": "62db3e76",
   "metadata": {},
   "outputs": [
    {
     "data": {
      "text/plain": [
       "True"
      ]
     },
     "execution_count": 171,
     "metadata": {},
     "output_type": "execute_result"
    }
   ],
   "source": [
    "x != 0"
   ]
  },
  {
   "cell_type": "code",
   "execution_count": 172,
   "id": "e633d92e",
   "metadata": {},
   "outputs": [
    {
     "data": {
      "text/plain": [
       "False"
      ]
     },
     "execution_count": 172,
     "metadata": {},
     "output_type": "execute_result"
    }
   ],
   "source": [
    "# logical \"or\" returns True if either comparison is True\n",
    "x == 0 or x == 1"
   ]
  },
  {
   "cell_type": "code",
   "execution_count": 173,
   "id": "907153c0",
   "metadata": {},
   "outputs": [
    {
     "data": {
      "text/plain": [
       "True"
      ]
     },
     "execution_count": 173,
     "metadata": {},
     "output_type": "execute_result"
    }
   ],
   "source": [
    "x == 0 or x == 1 or x == 2"
   ]
  },
  {
   "cell_type": "code",
   "execution_count": 174,
   "id": "72c54bfb",
   "metadata": {},
   "outputs": [
    {
     "data": {
      "text/plain": [
       "False"
      ]
     },
     "execution_count": 174,
     "metadata": {},
     "output_type": "execute_result"
    }
   ],
   "source": [
    "# preferable to use the membership operator \"in\"\n",
    "# returns True if x is a member of the list\n",
    "x in [0, 1]"
   ]
  },
  {
   "cell_type": "code",
   "execution_count": 175,
   "id": "9f0fa348",
   "metadata": {},
   "outputs": [
    {
     "data": {
      "text/plain": [
       "True"
      ]
     },
     "execution_count": 175,
     "metadata": {},
     "output_type": "execute_result"
    }
   ],
   "source": [
    "x in [0, 1, 2]"
   ]
  },
  {
   "cell_type": "code",
   "execution_count": 176,
   "id": "695c2b28",
   "metadata": {},
   "outputs": [
    {
     "data": {
      "text/plain": [
       "True"
      ]
     },
     "execution_count": 176,
     "metadata": {},
     "output_type": "execute_result"
    }
   ],
   "source": [
    "# in operator works with tuples\n",
    "x in (0, 1, 2)"
   ]
  },
  {
   "cell_type": "code",
   "execution_count": 177,
   "id": "4ba30aa1",
   "metadata": {},
   "outputs": [
    {
     "data": {
      "text/plain": [
       "True"
      ]
     },
     "execution_count": 177,
     "metadata": {},
     "output_type": "execute_result"
    }
   ],
   "source": [
    "# in operator works with strings\n",
    "'science' in 'data science'"
   ]
  },
  {
   "cell_type": "code",
   "execution_count": 178,
   "id": "e1b2e15d",
   "metadata": {},
   "outputs": [
    {
     "data": {
      "text/plain": [
       "False"
      ]
     },
     "execution_count": 178,
     "metadata": {},
     "output_type": "execute_result"
    }
   ],
   "source": [
    "'I' in 'team'"
   ]
  },
  {
   "cell_type": "code",
   "execution_count": 179,
   "id": "0fbfcff6",
   "metadata": {},
   "outputs": [
    {
     "data": {
      "text/plain": [
       "{'data': 4, 'science': 7, 'python': 6}"
      ]
     },
     "execution_count": 179,
     "metadata": {},
     "output_type": "execute_result"
    }
   ],
   "source": [
    "word_length"
   ]
  },
  {
   "cell_type": "code",
   "execution_count": 180,
   "id": "3575adf1",
   "metadata": {},
   "outputs": [
    {
     "data": {
      "text/plain": [
       "True"
      ]
     },
     "execution_count": 180,
     "metadata": {},
     "output_type": "execute_result"
    }
   ],
   "source": [
    "# in operator checks dictionary keys\n",
    "'science' in word_length"
   ]
  },
  {
   "cell_type": "code",
   "execution_count": 181,
   "id": "5d5e53d2",
   "metadata": {},
   "outputs": [
    {
     "data": {
      "text/plain": [
       "False"
      ]
     },
     "execution_count": 181,
     "metadata": {},
     "output_type": "execute_result"
    }
   ],
   "source": [
    "# in operator doesn't check dictionary values\n",
    "7 in word_length"
   ]
  },
  {
   "cell_type": "code",
   "execution_count": 182,
   "id": "6839878f",
   "metadata": {},
   "outputs": [
    {
     "data": {
      "text/plain": [
       "False"
      ]
     },
     "execution_count": 182,
     "metadata": {},
     "output_type": "execute_result"
    }
   ],
   "source": [
    "# not operator does negation\n",
    "not True"
   ]
  },
  {
   "cell_type": "code",
   "execution_count": 183,
   "id": "cfe48a40",
   "metadata": {},
   "outputs": [
    {
     "data": {
      "text/plain": [
       "True"
      ]
     },
     "execution_count": 183,
     "metadata": {},
     "output_type": "execute_result"
    }
   ],
   "source": [
    "not False"
   ]
  },
  {
   "cell_type": "code",
   "execution_count": 184,
   "id": "415d82ed",
   "metadata": {},
   "outputs": [
    {
     "data": {
      "text/plain": [
       "False"
      ]
     },
     "execution_count": 184,
     "metadata": {},
     "output_type": "execute_result"
    }
   ],
   "source": [
    "# \"not in\" membership operator is the opposite of the \"in\" operator\n",
    "'science' not in word_length"
   ]
  },
  {
   "cell_type": "code",
   "execution_count": 185,
   "id": "81c18503",
   "metadata": {},
   "outputs": [
    {
     "data": {
      "text/plain": [
       "True"
      ]
     },
     "execution_count": 185,
     "metadata": {},
     "output_type": "execute_result"
    }
   ],
   "source": [
    "'math' not in word_length"
   ]
  },
  {
   "cell_type": "code",
   "execution_count": 186,
   "id": "7cfb0cf3",
   "metadata": {},
   "outputs": [],
   "source": [
    "# membership operators are useful for conditional statements and while loops\n",
    "if x in [0, 1]:\n",
    "    print('x is a binary number')"
   ]
  },
  {
   "cell_type": "code",
   "execution_count": 187,
   "id": "eaa4cd03",
   "metadata": {},
   "outputs": [
    {
     "name": "stdout",
     "output_type": "stream",
     "text": [
      "x is not a binary number\n"
     ]
    }
   ],
   "source": [
    "if x not in [0, 1]:\n",
    "    print('x is not a binary number')"
   ]
  },
  {
   "cell_type": "markdown",
   "id": "cebfa9d9",
   "metadata": {},
   "source": [
    "## Project Exercise 7\n",
    "\n",
    "This exercise relates to the following portion of the video: [14:34 to 15:09](https://youtu.be/094y1Z2wpJg?t=874).\n",
    "\n",
    "Modify the `get_path()` function (and its docstring) so that the `start` argument can be any integer.\n",
    "\n",
    "- If `start` is positive, the path should stop once it reaches 1.\n",
    "- If `start` is negative, the path should stop once it reaches -1, -5, or -17.\n",
    "- If `start` is zero, the path should only contain the integer 0.\n",
    "\n",
    "For example:\n",
    "\n",
    "`get_path(10)` should return `[10, 5, 16, 8, 4, 2, 1]`\n",
    "\n",
    "`get_path(-3)` should return `[-3, -8, -4, -2, -1]`\n",
    "\n",
    "`get_path(-9)` should return `[-9, -26, -13, -38, -19, -56, -28, -14, -7, -20, -10, -5]`\n",
    "\n",
    "`get_path(-200)` should return `[-200, -100, -50, ..., -68, -34, -17]`\n",
    "\n",
    "`get_path(0)` should return `[0]`"
   ]
  },
  {
   "cell_type": "markdown",
   "id": "83d74404",
   "metadata": {},
   "source": [
    "## Solution to Exercise 7"
   ]
  },
  {
   "cell_type": "code",
   "execution_count": 188,
   "id": "437a1eeb",
   "metadata": {},
   "outputs": [],
   "source": [
    "# start with our existing get_path function\n",
    "def get_path(start):\n",
    "    \"\"\"\n",
    "    Given a starting value, return the path.\n",
    "    \n",
    "    Args:\n",
    "        start (int): Positive starting value\n",
    "    Returns:\n",
    "        List of integers representing the path\n",
    "    \"\"\"\n",
    "    \n",
    "    nums = [start]\n",
    "    num = start\n",
    "\n",
    "    while num > 1:\n",
    "\n",
    "        if num % 2 == 0:\n",
    "            num = num // 2\n",
    "        else:\n",
    "            num = num * 3 + 1\n",
    "    \n",
    "        nums.append(num)\n",
    "    \n",
    "    return nums"
   ]
  },
  {
   "cell_type": "code",
   "execution_count": 189,
   "id": "e58f0366",
   "metadata": {},
   "outputs": [],
   "source": [
    "def get_path(start):\n",
    "    \"\"\"\n",
    "    Given a starting value, return the path.\n",
    "    \n",
    "    Args:\n",
    "        start (int): Positive or negative starting value\n",
    "    Returns:\n",
    "        List of integers representing the path\n",
    "    \"\"\"\n",
    "    \n",
    "    nums = [start]\n",
    "    num = start\n",
    "\n",
    "    while num not in [1, -1, -5, -17, 0]:  # list of stopping values\n",
    "\n",
    "        if num % 2 == 0:\n",
    "            num = num // 2\n",
    "        else:\n",
    "            num = num * 3 + 1\n",
    "    \n",
    "        nums.append(num)\n",
    "    \n",
    "    return nums"
   ]
  },
  {
   "cell_type": "code",
   "execution_count": 190,
   "id": "7d65905f",
   "metadata": {},
   "outputs": [
    {
     "data": {
      "text/plain": [
       "[10, 5, 16, 8, 4, 2, 1]"
      ]
     },
     "execution_count": 190,
     "metadata": {},
     "output_type": "execute_result"
    }
   ],
   "source": [
    "# ends in a loop of 4, 2, 1\n",
    "get_path(10)"
   ]
  },
  {
   "cell_type": "code",
   "execution_count": 191,
   "id": "3097c232",
   "metadata": {},
   "outputs": [
    {
     "data": {
      "text/plain": [
       "[-3, -8, -4, -2, -1]"
      ]
     },
     "execution_count": 191,
     "metadata": {},
     "output_type": "execute_result"
    }
   ],
   "source": [
    "# ends in a loop of -2, -1\n",
    "get_path(-3)"
   ]
  },
  {
   "cell_type": "code",
   "execution_count": 192,
   "id": "edc82d78",
   "metadata": {},
   "outputs": [
    {
     "data": {
      "text/plain": [
       "[-9, -26, -13, -38, -19, -56, -28, -14, -7, -20, -10, -5]"
      ]
     },
     "execution_count": 192,
     "metadata": {},
     "output_type": "execute_result"
    }
   ],
   "source": [
    "# ends in a loop of -14, -7, -20, -10, -5\n",
    "get_path(-9)"
   ]
  },
  {
   "cell_type": "code",
   "execution_count": 193,
   "id": "48222347",
   "metadata": {},
   "outputs": [
    {
     "data": {
      "text/plain": [
       "[-200,\n",
       " -100,\n",
       " -50,\n",
       " -25,\n",
       " -74,\n",
       " -37,\n",
       " -110,\n",
       " -55,\n",
       " -164,\n",
       " -82,\n",
       " -41,\n",
       " -122,\n",
       " -61,\n",
       " -182,\n",
       " -91,\n",
       " -272,\n",
       " -136,\n",
       " -68,\n",
       " -34,\n",
       " -17]"
      ]
     },
     "execution_count": 193,
     "metadata": {},
     "output_type": "execute_result"
    }
   ],
   "source": [
    "# ends in a loop of 18 numbers from -50 to -17\n",
    "get_path(-200)"
   ]
  },
  {
   "cell_type": "code",
   "execution_count": 194,
   "id": "521b2237",
   "metadata": {},
   "outputs": [
    {
     "data": {
      "text/plain": [
       "[0]"
      ]
     },
     "execution_count": 194,
     "metadata": {},
     "output_type": "execute_result"
    }
   ],
   "source": [
    "get_path(0)"
   ]
  }
 ],
 "metadata": {
  "kernelspec": {
   "display_name": "Python 3 (ipykernel)",
   "language": "python",
   "name": "python3"
  },
  "language_info": {
   "codemirror_mode": {
    "name": "ipython",
    "version": 3
   },
   "file_extension": ".py",
   "mimetype": "text/x-python",
   "name": "python",
   "nbconvert_exporter": "python",
   "pygments_lexer": "ipython3",
   "version": "3.11.5"
  }
 },
 "nbformat": 4,
 "nbformat_minor": 5
}
