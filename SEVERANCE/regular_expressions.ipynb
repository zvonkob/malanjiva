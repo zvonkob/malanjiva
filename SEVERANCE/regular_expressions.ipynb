{
 "cells": [
  {
   "cell_type": "code",
   "execution_count": 4,
   "id": "fc4aa909",
   "metadata": {},
   "outputs": [
    {
     "name": "stdout",
     "output_type": "stream",
     "text": [
      "From: stephen.marquard@uct.ac.za\n",
      "From: louis@media.berkeley.edu\n",
      "From: zqian@umich.edu\n",
      "From: rjlowe@iupui.edu\n",
      "From: zqian@umich.edu\n",
      "From: rjlowe@iupui.edu\n",
      "From: cwen@iupui.edu\n",
      "From: cwen@iupui.edu\n",
      "From: gsilver@umich.edu\n",
      "From: gsilver@umich.edu\n",
      "From: zqian@umich.edu\n",
      "From: gsilver@umich.edu\n",
      "From: wagnermr@iupui.edu\n",
      "From: zqian@umich.edu\n",
      "From: antranig@caret.cam.ac.uk\n",
      "From: gopal.ramasammycook@gmail.com\n",
      "From: david.horwitz@uct.ac.za\n",
      "From: david.horwitz@uct.ac.za\n",
      "From: david.horwitz@uct.ac.za\n",
      "From: david.horwitz@uct.ac.za\n",
      "From: stephen.marquard@uct.ac.za\n",
      "From: louis@media.berkeley.edu\n",
      "From: louis@media.berkeley.edu\n",
      "From: ray@media.berkeley.edu\n",
      "From: cwen@iupui.edu\n",
      "From: cwen@iupui.edu\n",
      "From: cwen@iupui.edu\n"
     ]
    }
   ],
   "source": [
    "import re\n",
    "with open('mbox-short.txt', 'r') as f:\n",
    "    for line in f:\n",
    "        line = line.rstrip()\n",
    "        if re.search('^From:', line):\n",
    "            print(line)"
   ]
  },
  {
   "cell_type": "code",
   "execution_count": null,
   "id": "cff4cc43",
   "metadata": {},
   "outputs": [],
   "source": []
  },
  {
   "cell_type": "code",
   "execution_count": 8,
   "id": "586c55ca",
   "metadata": {},
   "outputs": [
    {
     "name": "stdout",
     "output_type": "stream",
     "text": [
      "['2', '19', '42']\n"
     ]
    }
   ],
   "source": [
    "x = 'My 2 favorite numbers are 19 and 42'\n",
    "y = re.findall('[0-9]+', x)\n",
    "print(y)"
   ]
  },
  {
   "cell_type": "code",
   "execution_count": 10,
   "id": "991bb636",
   "metadata": {},
   "outputs": [
    {
     "name": "stdout",
     "output_type": "stream",
     "text": [
      "[]\n"
     ]
    }
   ],
   "source": [
    "y = re.findall('[AEIOU]+', x)\n",
    "print(y)"
   ]
  },
  {
   "cell_type": "code",
   "execution_count": 12,
   "id": "61d37992",
   "metadata": {},
   "outputs": [
    {
     "name": "stdout",
     "output_type": "stream",
     "text": [
      "From: Using the :\n"
     ]
    }
   ],
   "source": [
    "x = 'From: Using the : character'\n",
    "y = re.findall('^F.+:', x)\n",
    "print(y[0])"
   ]
  },
  {
   "cell_type": "code",
   "execution_count": 13,
   "id": "251d8874",
   "metadata": {},
   "outputs": [
    {
     "name": "stdout",
     "output_type": "stream",
     "text": [
      "From:\n"
     ]
    }
   ],
   "source": [
    "x = 'From: Using the : character'\n",
    "y = re.findall('^F.+?:', x)\n",
    "print(y[0])"
   ]
  },
  {
   "cell_type": "code",
   "execution_count": 17,
   "id": "f58dafd2",
   "metadata": {},
   "outputs": [
    {
     "name": "stdout",
     "output_type": "stream",
     "text": [
      "['stephen.marquard@uct.ac.za']\n"
     ]
    }
   ],
   "source": [
    "x = 'From stephen.marquard@uct.ac.za Sat Jan  5 09:14:16 2008'\n",
    "y = re.findall('\\S+@\\S+', x)\n",
    "print(y)"
   ]
  },
  {
   "cell_type": "code",
   "execution_count": null,
   "id": "0f121111",
   "metadata": {},
   "outputs": [],
   "source": []
  },
  {
   "cell_type": "code",
   "execution_count": 19,
   "id": "94cb9bdf",
   "metadata": {},
   "outputs": [
    {
     "name": "stdout",
     "output_type": "stream",
     "text": [
      "['stephen.marquard@uct.ac.za']\n"
     ]
    }
   ],
   "source": [
    "x = 'From stephen.marquard@uct.ac.za Sat Jan  5 09:14:16 2008'\n",
    "y = re.findall('^From (\\S+@\\S+)', x)\n",
    "print(y)"
   ]
  },
  {
   "cell_type": "code",
   "execution_count": 20,
   "id": "d95cd080",
   "metadata": {},
   "outputs": [
    {
     "name": "stdout",
     "output_type": "stream",
     "text": [
      "21\n"
     ]
    }
   ],
   "source": [
    "x = 'From stephen.marquard@uct.ac.za Sat Jan  5 09:14:16 2008'\n",
    "y = re.findall('\\S+@\\S+', x)\n",
    "print(y)"
   ]
  },
  {
   "cell_type": "code",
   "execution_count": 22,
   "id": "6ae02264",
   "metadata": {},
   "outputs": [
    {
     "name": "stdout",
     "output_type": "stream",
     "text": [
      "21\n"
     ]
    }
   ],
   "source": [
    "atpos = x.find('@')\n",
    "print(atpos)"
   ]
  },
  {
   "cell_type": "code",
   "execution_count": 24,
   "id": "672e7825",
   "metadata": {},
   "outputs": [
    {
     "name": "stdout",
     "output_type": "stream",
     "text": [
      "31\n"
     ]
    }
   ],
   "source": [
    "sppos = x.find(' ', atpos)\n",
    "print(sppos)"
   ]
  },
  {
   "cell_type": "code",
   "execution_count": 26,
   "id": "159ee9fc",
   "metadata": {},
   "outputs": [
    {
     "name": "stdout",
     "output_type": "stream",
     "text": [
      "uct.ac.za\n"
     ]
    }
   ],
   "source": [
    "host = x[atpos+1:sppos]\n",
    "print(host)"
   ]
  },
  {
   "cell_type": "code",
   "execution_count": 30,
   "id": "ee4e091c",
   "metadata": {},
   "outputs": [
    {
     "name": "stdout",
     "output_type": "stream",
     "text": [
      "uct.ac.za\n"
     ]
    }
   ],
   "source": [
    "words = x.split()\n",
    "email = words[1]\n",
    "host = email.split('@')[1]\n",
    "print(host)"
   ]
  },
  {
   "cell_type": "code",
   "execution_count": 33,
   "id": "2cec33f7",
   "metadata": {},
   "outputs": [
    {
     "data": {
      "text/plain": [
       "'uct.ac.za'"
      ]
     },
     "execution_count": 33,
     "metadata": {},
     "output_type": "execute_result"
    }
   ],
   "source": [
    "y = re.findall('@([^ ]*)', x)\n",
    "y[0]"
   ]
  },
  {
   "cell_type": "code",
   "execution_count": 35,
   "id": "f6393a9e",
   "metadata": {
    "scrolled": true
   },
   "outputs": [
    {
     "data": {
      "text/plain": [
       "'uct.ac.za'"
      ]
     },
     "execution_count": 35,
     "metadata": {},
     "output_type": "execute_result"
    }
   ],
   "source": [
    "y = re.findall('^From .*@([^ ]*)', x)\n",
    "y[0]"
   ]
  },
  {
   "cell_type": "code",
   "execution_count": 40,
   "id": "1ae124e4",
   "metadata": {
    "scrolled": true
   },
   "outputs": [
    {
     "name": "stdout",
     "output_type": "stream",
     "text": [
      "X-DSPAM-Confidence: 0.8475\n",
      "X-DSPAM-Confidence: 0.6178\n",
      "X-DSPAM-Confidence: 0.6961\n",
      "X-DSPAM-Confidence: 0.7565\n",
      "X-DSPAM-Confidence: 0.7626\n",
      "X-DSPAM-Confidence: 0.7556\n",
      "X-DSPAM-Confidence: 0.7002\n",
      "X-DSPAM-Confidence: 0.7615\n",
      "X-DSPAM-Confidence: 0.7601\n",
      "X-DSPAM-Confidence: 0.7605\n",
      "X-DSPAM-Confidence: 0.6959\n",
      "X-DSPAM-Confidence: 0.7606\n",
      "X-DSPAM-Confidence: 0.7559\n",
      "X-DSPAM-Confidence: 0.7605\n",
      "X-DSPAM-Confidence: 0.6932\n",
      "X-DSPAM-Confidence: 0.7558\n",
      "X-DSPAM-Confidence: 0.6526\n",
      "X-DSPAM-Confidence: 0.6948\n",
      "X-DSPAM-Confidence: 0.6528\n",
      "X-DSPAM-Confidence: 0.7002\n",
      "X-DSPAM-Confidence: 0.7554\n",
      "X-DSPAM-Confidence: 0.6956\n",
      "X-DSPAM-Confidence: 0.6959\n",
      "X-DSPAM-Confidence: 0.7556\n",
      "X-DSPAM-Confidence: 0.9846\n",
      "X-DSPAM-Confidence: 0.8509\n",
      "X-DSPAM-Confidence: 0.9907\n",
      "Maximum: 0.9907\n",
      "Average: 0.7507\n"
     ]
    }
   ],
   "source": [
    "import re\n",
    "with open('mbox-short.txt', 'r') as f:\n",
    "    numlist = []\n",
    "    for line in f:\n",
    "        line = line.rstrip()\n",
    "        stuff = re.findall('^X-DSPAM-Confidence: ([0-9.]+)', line)\n",
    "        if len(stuff) != 1:\n",
    "            continue\n",
    "#         print(stuff[0])\n",
    "        print(line)\n",
    "        num = float(stuff[0])\n",
    "        numlist.append(num)\n",
    "print('Maximum:', max(numlist))\n",
    "print('Average:', round(sum(numlist) / len(numlist), 4))\n",
    "        "
   ]
  },
  {
   "cell_type": "code",
   "execution_count": 41,
   "id": "f23a5dbb",
   "metadata": {},
   "outputs": [
    {
     "name": "stdout",
     "output_type": "stream",
     "text": [
      "['$10.00']\n"
     ]
    }
   ],
   "source": [
    "x = 'W just received $10.00 for cookies.'\n",
    "y = re.findall('\\$[0-9.]+', x)\n",
    "print(y)"
   ]
  },
  {
   "cell_type": "code",
   "execution_count": 48,
   "id": "59955713",
   "metadata": {},
   "outputs": [
    {
     "name": "stdout",
     "output_type": "stream",
     "text": [
      "From: stephen.marquard@uct.ac.za\n",
      "From: louis@media.berkeley.edu\n",
      "From: zqian@umich.edu\n",
      "From: rjlowe@iupui.edu\n",
      "From: zqian@umich.edu\n",
      "From: rjlowe@iupui.edu\n",
      "From: cwen@iupui.edu\n",
      "From: cwen@iupui.edu\n",
      "From: gsilver@umich.edu\n",
      "From: gsilver@umich.edu\n",
      "From: zqian@umich.edu\n",
      "From: gsilver@umich.edu\n",
      "From: wagnermr@iupui.edu\n",
      "From: zqian@umich.edu\n",
      "From: antranig@caret.cam.ac.uk\n",
      "From: gopal.ramasammycook@gmail.com\n",
      "From: david.horwitz@uct.ac.za\n",
      "From: david.horwitz@uct.ac.za\n",
      "From: david.horwitz@uct.ac.za\n",
      "From: david.horwitz@uct.ac.za\n",
      "From: stephen.marquard@uct.ac.za\n",
      "From: louis@media.berkeley.edu\n",
      "From: louis@media.berkeley.edu\n",
      "From: ray@media.berkeley.edu\n",
      "From: cwen@iupui.edu\n",
      "From: cwen@iupui.edu\n",
      "From: cwen@iupui.edu\n"
     ]
    }
   ],
   "source": [
    "import re\n",
    "with open('mbox-short.txt', 'r') as f:\n",
    "    for line in f:\n",
    "        line = line.rstrip()\n",
    "        if re.search('^F..m:', line):\n",
    "            print(line)"
   ]
  },
  {
   "cell_type": "code",
   "execution_count": 55,
   "id": "bd2d9d08",
   "metadata": {},
   "outputs": [
    {
     "name": "stdout",
     "output_type": "stream",
     "text": [
      "['stephen.marquard@uct.ac.za']\n",
      "['<postmaster@collab.sakaiproject.org>']\n",
      "['<200801051412.m05ECIaH010327@nakamura.uits.iupui.edu>']\n",
      "['<source@collab.sakaiproject.org>;']\n",
      "['<source@collab.sakaiproject.org>;']\n",
      "['<source@collab.sakaiproject.org>;']\n",
      "['apache@localhost)']\n",
      "['source@collab.sakaiproject.org;']\n",
      "['stephen.marquard@uct.ac.za']\n",
      "['source@collab.sakaiproject.org']\n",
      "['stephen.marquard@uct.ac.za']\n",
      "['stephen.marquard@uct.ac.za']\n",
      "['louis@media.berkeley.edu']\n",
      "['<postmaster@collab.sakaiproject.org>']\n",
      "['<200801042308.m04N8v6O008125@nakamura.uits.iupui.edu>']\n",
      "['<source@collab.sakaiproject.org>;']\n",
      "['<source@collab.sakaiproject.org>;']\n",
      "['<source@collab.sakaiproject.org>;']\n",
      "['apache@localhost)']\n",
      "['source@collab.sakaiproject.org;']\n",
      "['louis@media.berkeley.edu']\n",
      "['source@collab.sakaiproject.org']\n",
      "['louis@media.berkeley.edu']\n",
      "['louis@media.berkeley.edu']\n",
      "['zqian@umich.edu']\n",
      "['<postmaster@collab.sakaiproject.org>']\n",
      "['<200801042109.m04L92hb007923@nakamura.uits.iupui.edu>']\n",
      "['<source@collab.sakaiproject.org>;']\n",
      "['<source@collab.sakaiproject.org>;']\n",
      "['<source@collab.sakaiproject.org>;']\n",
      "['apache@localhost)']\n",
      "['source@collab.sakaiproject.org;']\n",
      "['zqian@umich.edu']\n",
      "['source@collab.sakaiproject.org']\n",
      "['zqian@umich.edu']\n",
      "['zqian@umich.edu']\n",
      "['rjlowe@iupui.edu']\n",
      "['<postmaster@collab.sakaiproject.org>']\n",
      "['<200801042044.m04Kiem3007881@nakamura.uits.iupui.edu>']\n",
      "['<source@collab.sakaiproject.org>;']\n",
      "['<source@collab.sakaiproject.org>;']\n",
      "['<source@collab.sakaiproject.org>;']\n",
      "['apache@localhost)']\n",
      "['source@collab.sakaiproject.org;']\n",
      "['rjlowe@iupui.edu']\n",
      "['source@collab.sakaiproject.org']\n",
      "['rjlowe@iupui.edu']\n",
      "['rjlowe@iupui.edu']\n",
      "['zqian@umich.edu']\n",
      "['<postmaster@collab.sakaiproject.org>']\n",
      "['<200801042001.m04K1cO0007738@nakamura.uits.iupui.edu>']\n",
      "['<source@collab.sakaiproject.org>;']\n",
      "['<source@collab.sakaiproject.org>;']\n",
      "['<source@collab.sakaiproject.org>;']\n",
      "['apache@localhost)']\n",
      "['source@collab.sakaiproject.org;']\n",
      "['zqian@umich.edu']\n",
      "['source@collab.sakaiproject.org']\n",
      "['zqian@umich.edu']\n",
      "['zqian@umich.edu']\n",
      "['zqian@umich.edu']\n",
      "['rjlowe@iupui.edu']\n",
      "['<postmaster@collab.sakaiproject.org>']\n",
      "['<200801041948.m04JmdwO007705@nakamura.uits.iupui.edu>']\n",
      "['<source@collab.sakaiproject.org>;']\n",
      "['<source@collab.sakaiproject.org>;']\n",
      "['<source@collab.sakaiproject.org>;']\n",
      "['apache@localhost)']\n",
      "['source@collab.sakaiproject.org;']\n",
      "['rjlowe@iupui.edu']\n",
      "['source@collab.sakaiproject.org']\n",
      "['rjlowe@iupui.edu']\n",
      "['rjlowe@iupui.edu']\n",
      "['cwen@iupui.edu']\n",
      "['<postmaster@collab.sakaiproject.org>']\n",
      "['<200801041635.m04GZQGZ007313@nakamura.uits.iupui.edu>']\n",
      "['<source@collab.sakaiproject.org>;']\n",
      "['<source@collab.sakaiproject.org>;']\n",
      "['<source@collab.sakaiproject.org>;']\n",
      "['apache@localhost)']\n",
      "['source@collab.sakaiproject.org;']\n",
      "['cwen@iupui.edu']\n",
      "['source@collab.sakaiproject.org']\n",
      "['cwen@iupui.edu']\n",
      "['cwen@iupui.edu']\n",
      "['hu2@iupui.edu']\n",
      "['cwen@iupui.edu']\n",
      "['<postmaster@collab.sakaiproject.org>']\n",
      "['<200801041633.m04GX6eG007292@nakamura.uits.iupui.edu>']\n",
      "['<source@collab.sakaiproject.org>;']\n",
      "['<source@collab.sakaiproject.org>;']\n",
      "['<source@collab.sakaiproject.org>;']\n",
      "['apache@localhost)']\n",
      "['source@collab.sakaiproject.org;']\n",
      "['cwen@iupui.edu']\n",
      "['source@collab.sakaiproject.org']\n",
      "['cwen@iupui.edu']\n",
      "['cwen@iupui.edu']\n",
      "['hu2@iupui.edu']\n",
      "['gsilver@umich.edu']\n",
      "['<postmaster@collab.sakaiproject.org>']\n",
      "['<200801041611.m04GB1Lb007221@nakamura.uits.iupui.edu>']\n",
      "['<source@collab.sakaiproject.org>;']\n",
      "['<source@collab.sakaiproject.org>;']\n",
      "['<source@collab.sakaiproject.org>;']\n",
      "['apache@localhost)']\n",
      "['source@collab.sakaiproject.org;']\n",
      "['gsilver@umich.edu']\n",
      "['source@collab.sakaiproject.org']\n",
      "['gsilver@umich.edu']\n",
      "['gsilver@umich.edu']\n",
      "['gsilver@umich.edu']\n",
      "['<postmaster@collab.sakaiproject.org>']\n",
      "['<200801041610.m04GA5KP007209@nakamura.uits.iupui.edu>']\n",
      "['<source@collab.sakaiproject.org>;']\n",
      "['<source@collab.sakaiproject.org>;']\n",
      "['<source@collab.sakaiproject.org>;']\n",
      "['apache@localhost)']\n",
      "['source@collab.sakaiproject.org;']\n",
      "['gsilver@umich.edu']\n",
      "['source@collab.sakaiproject.org']\n",
      "['gsilver@umich.edu']\n",
      "['gsilver@umich.edu']\n",
      "['zqian@umich.edu']\n",
      "['<postmaster@collab.sakaiproject.org>']\n",
      "['<200801041609.m04G9EuX007197@nakamura.uits.iupui.edu>']\n",
      "['<source@collab.sakaiproject.org>;']\n",
      "['<source@collab.sakaiproject.org>;']\n",
      "['<source@collab.sakaiproject.org>;']\n",
      "['apache@localhost)']\n",
      "['source@collab.sakaiproject.org;']\n",
      "['zqian@umich.edu']\n",
      "['source@collab.sakaiproject.org']\n",
      "['zqian@umich.edu']\n",
      "['zqian@umich.edu']\n",
      "['gsilver@umich.edu']\n",
      "['<postmaster@collab.sakaiproject.org>']\n",
      "['<200801041608.m04G8d7w007184@nakamura.uits.iupui.edu>']\n",
      "['<source@collab.sakaiproject.org>;']\n",
      "['<source@collab.sakaiproject.org>;']\n",
      "['<source@collab.sakaiproject.org>;']\n",
      "['apache@localhost)']\n",
      "['source@collab.sakaiproject.org;']\n",
      "['gsilver@umich.edu']\n",
      "['source@collab.sakaiproject.org']\n",
      "['gsilver@umich.edu']\n",
      "['gsilver@umich.edu']\n",
      "['wagnermr@iupui.edu']\n",
      "['<postmaster@collab.sakaiproject.org>']\n",
      "['<200801041537.m04Fb6Ci007092@nakamura.uits.iupui.edu>']\n",
      "['<source@collab.sakaiproject.org>;']\n",
      "['<source@collab.sakaiproject.org>;']\n",
      "['<source@collab.sakaiproject.org>;']\n",
      "['apache@localhost)']\n",
      "['source@collab.sakaiproject.org;']\n",
      "['wagnermr@iupui.edu']\n",
      "['source@collab.sakaiproject.org']\n",
      "['wagnermr@iupui.edu']\n",
      "['wagnermr@iupui.edu']\n",
      "['zqian@umich.edu']\n",
      "['<postmaster@collab.sakaiproject.org>']\n",
      "['<200801041515.m04FFv42007050@nakamura.uits.iupui.edu>']\n",
      "['<source@collab.sakaiproject.org>;']\n",
      "['<source@collab.sakaiproject.org>;']\n",
      "['<source@collab.sakaiproject.org>;']\n",
      "['apache@localhost)']\n",
      "['source@collab.sakaiproject.org;']\n",
      "['zqian@umich.edu']\n",
      "['source@collab.sakaiproject.org']\n",
      "['zqian@umich.edu']\n",
      "['zqian@umich.edu']\n",
      "['antranig@caret.cam.ac.uk']\n",
      "['<postmaster@collab.sakaiproject.org>']\n",
      "['<200801041502.m04F21Jo007031@nakamura.uits.iupui.edu>']\n",
      "['<source@collab.sakaiproject.org>;']\n",
      "['<source@collab.sakaiproject.org>;']\n",
      "['<source@collab.sakaiproject.org>;']\n",
      "['apache@localhost)']\n",
      "['source@collab.sakaiproject.org;']\n",
      "['antranig@caret.cam.ac.uk']\n",
      "['source@collab.sakaiproject.org']\n",
      "['antranig@caret.cam.ac.uk']\n",
      "['antranig@caret.cam.ac.uk']\n",
      "['gopal.ramasammycook@gmail.com']\n",
      "['<postmaster@collab.sakaiproject.org>']\n",
      "['<200801041403.m04E3psW006926@nakamura.uits.iupui.edu>']\n",
      "['<source@collab.sakaiproject.org>;']\n",
      "['<source@collab.sakaiproject.org>;']\n",
      "['<source@collab.sakaiproject.org>;']\n",
      "['apache@localhost)']\n",
      "['source@collab.sakaiproject.org;']\n",
      "['gopal.ramasammycook@gmail.com']\n",
      "['source@collab.sakaiproject.org']\n",
      "['gopal.ramasammycook@gmail.com']\n",
      "['gopal.ramasammycook@gmail.com']\n",
      "['david.horwitz@uct.ac.za']\n",
      "['<postmaster@collab.sakaiproject.org>']\n",
      "['<200801041200.m04C0gfK006793@nakamura.uits.iupui.edu>']\n",
      "['<source@collab.sakaiproject.org>;']\n",
      "['<source@collab.sakaiproject.org>;']\n",
      "['<source@collab.sakaiproject.org>;']\n",
      "['apache@localhost)']\n",
      "['source@collab.sakaiproject.org;']\n",
      "['david.horwitz@uct.ac.za']\n",
      "['source@collab.sakaiproject.org']\n",
      "['david.horwitz@uct.ac.za']\n",
      "['david.horwitz@uct.ac.za']\n",
      "['david.horwitz@uct.ac.za']\n",
      "['dhorwitz@david-horwitz-6:~/branchManagemnt/sakai_2-5-x>']\n",
      "['dhorwitz@david-horwitz-6:~/branchManagemnt/sakai_2-5-x>']\n",
      "['david.horwitz@uct.ac.za']\n",
      "['<postmaster@collab.sakaiproject.org>']\n",
      "['<200801041106.m04B6lK3006677@nakamura.uits.iupui.edu>']\n",
      "['<source@collab.sakaiproject.org>;']\n",
      "['<source@collab.sakaiproject.org>;']\n",
      "['<source@collab.sakaiproject.org>;']\n",
      "['apache@localhost)']\n",
      "['source@collab.sakaiproject.org;']\n",
      "['david.horwitz@uct.ac.za']\n",
      "['source@collab.sakaiproject.org']\n",
      "['david.horwitz@uct.ac.za']\n",
      "['david.horwitz@uct.ac.za']\n",
      "['david.horwitz@uct.ac.za']\n",
      "['<postmaster@collab.sakaiproject.org>']\n",
      "['<200801040947.m049lUxo006517@nakamura.uits.iupui.edu>']\n",
      "['<source@collab.sakaiproject.org>;']\n",
      "['<source@collab.sakaiproject.org>;']\n",
      "['<source@collab.sakaiproject.org>;']\n",
      "['apache@localhost)']\n",
      "['source@collab.sakaiproject.org;']\n",
      "['david.horwitz@uct.ac.za']\n",
      "['source@collab.sakaiproject.org']\n",
      "['david.horwitz@uct.ac.za']\n",
      "['david.horwitz@uct.ac.za']\n",
      "['josrodri@iupui.edu']\n",
      "['dhorwitz@david-horwitz-6:~/branchManagemnt/sakai_2-5-x>']\n",
      "['david.horwitz@uct.ac.za']\n",
      "['<postmaster@collab.sakaiproject.org>']\n",
      "['<200801040932.m049W2i5006493@nakamura.uits.iupui.edu>']\n",
      "['<source@collab.sakaiproject.org>;']\n",
      "['<source@collab.sakaiproject.org>;']\n",
      "['<source@collab.sakaiproject.org>;']\n",
      "['apache@localhost)']\n",
      "['source@collab.sakaiproject.org;']\n",
      "['david.horwitz@uct.ac.za']\n",
      "['source@collab.sakaiproject.org']\n",
      "['david.horwitz@uct.ac.za']\n",
      "['david.horwitz@uct.ac.za']\n",
      "['josrodri@iupui.edu']\n",
      "['dhorwitz@david-horwitz-6:~/branchManagemnt/sakai_2-5-x>']\n",
      "['stephen.marquard@uct.ac.za']\n",
      "['<postmaster@collab.sakaiproject.org>']\n",
      "['<200801040905.m0495rWB006420@nakamura.uits.iupui.edu>']\n",
      "['<source@collab.sakaiproject.org>;']\n",
      "['<source@collab.sakaiproject.org>;']\n",
      "['<source@collab.sakaiproject.org>;']\n",
      "['apache@localhost)']\n",
      "['source@collab.sakaiproject.org;']\n",
      "['stephen.marquard@uct.ac.za']\n",
      "['source@collab.sakaiproject.org']\n",
      "['stephen.marquard@uct.ac.za']\n",
      "['stephen.marquard@uct.ac.za']\n",
      "['louis@media.berkeley.edu']\n",
      "['<postmaster@collab.sakaiproject.org>']\n",
      "['<200801040023.m040NpCc005473@nakamura.uits.iupui.edu>']\n",
      "['<source@collab.sakaiproject.org>;']\n",
      "['<source@collab.sakaiproject.org>;']\n",
      "['<source@collab.sakaiproject.org>;']\n",
      "['apache@localhost)']\n",
      "['source@collab.sakaiproject.org;']\n",
      "['louis@media.berkeley.edu']\n",
      "['source@collab.sakaiproject.org']\n",
      "['louis@media.berkeley.edu']\n",
      "['louis@media.berkeley.edu']\n",
      "['louis@media.berkeley.edu']\n",
      "['<postmaster@collab.sakaiproject.org>']\n",
      "['<200801032216.m03MGhDa005292@nakamura.uits.iupui.edu>']\n",
      "['<source@collab.sakaiproject.org>;']\n",
      "['<source@collab.sakaiproject.org>;']\n",
      "['<source@collab.sakaiproject.org>;']\n",
      "['apache@localhost)']\n",
      "['source@collab.sakaiproject.org;']\n",
      "['louis@media.berkeley.edu']\n",
      "['source@collab.sakaiproject.org']\n",
      "['louis@media.berkeley.edu']\n",
      "['louis@media.berkeley.edu']\n",
      "['ray@media.berkeley.edu']\n",
      "['<postmaster@collab.sakaiproject.org>']\n",
      "['<200801032205.m03M5Ea7005273@nakamura.uits.iupui.edu>']\n",
      "['<source@collab.sakaiproject.org>;']\n",
      "['<source@collab.sakaiproject.org>;']\n",
      "['<source@collab.sakaiproject.org>;']\n",
      "['apache@localhost)']\n",
      "['source@collab.sakaiproject.org;']\n",
      "['ray@media.berkeley.edu']\n",
      "['source@collab.sakaiproject.org']\n",
      "['ray@media.berkeley.edu']\n",
      "['ray@media.berkeley.edu']\n",
      "['cwen@iupui.edu']\n",
      "['<postmaster@collab.sakaiproject.org>']\n",
      "['<200801032133.m03LX3gG005191@nakamura.uits.iupui.edu>']\n",
      "['<source@collab.sakaiproject.org>;']\n",
      "['<source@collab.sakaiproject.org>;']\n",
      "['<source@collab.sakaiproject.org>;']\n",
      "['apache@localhost)']\n",
      "['source@collab.sakaiproject.org;']\n",
      "['cwen@iupui.edu']\n",
      "['source@collab.sakaiproject.org']\n",
      "['cwen@iupui.edu']\n",
      "['cwen@iupui.edu']\n",
      "['cwen@iupui.edu']\n",
      "['<postmaster@collab.sakaiproject.org>']\n",
      "['<200801032127.m03LRUqH005177@nakamura.uits.iupui.edu>']\n",
      "['<source@collab.sakaiproject.org>;']\n",
      "['<source@collab.sakaiproject.org>;']\n",
      "['<source@collab.sakaiproject.org>;']\n",
      "['apache@localhost)']\n",
      "['source@collab.sakaiproject.org;']\n",
      "['cwen@iupui.edu']\n",
      "['source@collab.sakaiproject.org']\n",
      "['cwen@iupui.edu']\n",
      "['cwen@iupui.edu']\n",
      "['wagnermr@iupui.edu']\n",
      "['cwen@iupui.edu']\n",
      "['<postmaster@collab.sakaiproject.org>']\n",
      "['<200801032122.m03LMFo4005148@nakamura.uits.iupui.edu>']\n",
      "['<source@collab.sakaiproject.org>;']\n",
      "['<source@collab.sakaiproject.org>;']\n",
      "['<source@collab.sakaiproject.org>;']\n",
      "['apache@localhost)']\n",
      "['source@collab.sakaiproject.org;']\n",
      "['cwen@iupui.edu']\n",
      "['source@collab.sakaiproject.org']\n",
      "['cwen@iupui.edu']\n",
      "['cwen@iupui.edu']\n",
      "['wagnermr@iupui.edu']\n"
     ]
    }
   ],
   "source": [
    "\n",
    "with open('mbox-short.txt', 'r') as f:\n",
    "    for line in f:\n",
    "        line = line.rstrip()\n",
    "        x = re.findall('\\S+@\\S+', line)\n",
    "        if len(x) > 0:\n",
    "            print(x)"
   ]
  },
  {
   "cell_type": "code",
   "execution_count": 61,
   "id": "3a87c8ba",
   "metadata": {},
   "outputs": [
    {
     "name": "stdout",
     "output_type": "stream",
     "text": [
      "stephen.marquard@uct.ac.za\n",
      "postmaster@collab.sakaiproject.org\n",
      "200801051412.m05ECIaH010327@nakamura.uits.iupui.edu\n",
      "source@collab.sakaiproject.org\n",
      "apache@localhost\n",
      "louis@media.berkeley.edu\n",
      "200801042308.m04N8v6O008125@nakamura.uits.iupui.edu\n",
      "zqian@umich.edu\n",
      "200801042109.m04L92hb007923@nakamura.uits.iupui.edu\n",
      "rjlowe@iupui.edu\n",
      "200801042044.m04Kiem3007881@nakamura.uits.iupui.edu\n",
      "200801042001.m04K1cO0007738@nakamura.uits.iupui.edu\n",
      "200801041948.m04JmdwO007705@nakamura.uits.iupui.edu\n",
      "cwen@iupui.edu\n",
      "200801041635.m04GZQGZ007313@nakamura.uits.iupui.edu\n",
      "hu2@iupui.edu\n",
      "200801041633.m04GX6eG007292@nakamura.uits.iupui.edu\n",
      "gsilver@umich.edu\n",
      "200801041611.m04GB1Lb007221@nakamura.uits.iupui.edu\n",
      "200801041610.m04GA5KP007209@nakamura.uits.iupui.edu\n",
      "200801041609.m04G9EuX007197@nakamura.uits.iupui.edu\n",
      "200801041608.m04G8d7w007184@nakamura.uits.iupui.edu\n",
      "wagnermr@iupui.edu\n",
      "200801041537.m04Fb6Ci007092@nakamura.uits.iupui.edu\n",
      "200801041515.m04FFv42007050@nakamura.uits.iupui.edu\n",
      "antranig@caret.cam.ac.uk\n",
      "200801041502.m04F21Jo007031@nakamura.uits.iupui.edu\n",
      "gopal.ramasammycook@gmail.com\n",
      "200801041403.m04E3psW006926@nakamura.uits.iupui.edu\n",
      "david.horwitz@uct.ac.za\n",
      "200801041200.m04C0gfK006793@nakamura.uits.iupui.edu\n",
      "dhorwitz@david-horwitz-6:~/branchManagemnt/sakai_2-5-x\n",
      "200801041106.m04B6lK3006677@nakamura.uits.iupui.edu\n",
      "200801040947.m049lUxo006517@nakamura.uits.iupui.edu\n",
      "josrodri@iupui.edu\n",
      "200801040932.m049W2i5006493@nakamura.uits.iupui.edu\n",
      "200801040905.m0495rWB006420@nakamura.uits.iupui.edu\n",
      "200801040023.m040NpCc005473@nakamura.uits.iupui.edu\n",
      "200801032216.m03MGhDa005292@nakamura.uits.iupui.edu\n",
      "ray@media.berkeley.edu\n",
      "200801032205.m03M5Ea7005273@nakamura.uits.iupui.edu\n",
      "200801032133.m03LX3gG005191@nakamura.uits.iupui.edu\n",
      "200801032127.m03LRUqH005177@nakamura.uits.iupui.edu\n",
      "200801032122.m03LMFo4005148@nakamura.uits.iupui.edu\n"
     ]
    }
   ],
   "source": [
    "with open('mbox-short.txt', 'r') as f:\n",
    "    emails = set()\n",
    "    for line in f:\n",
    "        line = line.rstrip()\n",
    "        x = re.findall('[a-zA-Z0-9]\\S+@\\S+[a-zA-Z]+', line)\n",
    "        if len(x) > 0:\n",
    "            if x[0] not in emails:\n",
    "                print(x[0])\n",
    "                emails.add(x[0])\n",
    "            "
   ]
  }
 ],
 "metadata": {
  "kernelspec": {
   "display_name": "Python 3 (ipykernel)",
   "language": "python",
   "name": "python3"
  },
  "language_info": {
   "codemirror_mode": {
    "name": "ipython",
    "version": 3
   },
   "file_extension": ".py",
   "mimetype": "text/x-python",
   "name": "python",
   "nbconvert_exporter": "python",
   "pygments_lexer": "ipython3",
   "version": "3.8.10"
  }
 },
 "nbformat": 4,
 "nbformat_minor": 5
}
