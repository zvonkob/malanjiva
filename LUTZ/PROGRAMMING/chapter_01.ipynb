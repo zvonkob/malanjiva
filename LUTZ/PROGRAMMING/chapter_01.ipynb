{
 "cells": [
  {
   "cell_type": "markdown",
   "id": "42e41ee3-b4d7-4be2-bc28-933df4f1842c",
   "metadata": {},
   "source": [
    "# Programming Python: The Short Story\n",
    "\n",
    "This book demonstrates Python in action.\n",
    "\n",
    "The task is to construct a database.\n",
    "\n",
    "There are other things in Python not covered here."
   ]
  },
  {
   "cell_type": "markdown",
   "id": "a34cee6e-a382-41bd-a298-0faffe54544d",
   "metadata": {},
   "source": [
    "# The Task\n",
    "\n",
    "To keep a database of some people.\n",
    "\n",
    "There are programing tools for this task, but the point is that we will learn a lot by programming it ourselves."
   ]
  },
  {
   "cell_type": "markdown",
   "id": "af952c06-7aa3-48dd-995a-603d5534609a",
   "metadata": {},
   "source": [
    "# Step 1: Representing Records\n",
    "\n",
    "First we have to decide how to represent a single record."
   ]
  },
  {
   "cell_type": "markdown",
   "id": "ba45a1f5-c048-4a5c-8ff6-0d9bfef86da8",
   "metadata": {},
   "source": [
    "## Using Lists\n",
    "\n",
    "The lists can be used. "
   ]
  },
  {
   "cell_type": "code",
   "execution_count": 5,
   "id": "5ea5d688-558d-4c8f-b519-b10503e50a39",
   "metadata": {},
   "outputs": [],
   "source": [
    "bob = ['Bob Smith', 42, 30000, 'software']\n",
    "sue = ['Sue Jones', 45, 40000, 'hardware']"
   ]
  },
  {
   "cell_type": "markdown",
   "id": "114a35e6-8819-47d8-8d35-842dbcfba483",
   "metadata": {},
   "source": [
    "Each record is a list."
   ]
  },
  {
   "cell_type": "code",
   "execution_count": 7,
   "id": "7bd64898-959b-4386-ad8d-f9cbd4bcda33",
   "metadata": {},
   "outputs": [
    {
     "data": {
      "text/plain": [
       "('Bob Smith', 40000)"
      ]
     },
     "execution_count": 7,
     "metadata": {},
     "output_type": "execute_result"
    }
   ],
   "source": [
    "bob[0], sue[2]"
   ]
  },
  {
   "cell_type": "markdown",
   "id": "0a854cce-fe4c-4b0e-b7c1-81ca219d44db",
   "metadata": {},
   "source": [
    "Processing is easy:"
   ]
  },
  {
   "cell_type": "code",
   "execution_count": 9,
   "id": "9fa893af-4dca-4027-b376-1a2aeae60196",
   "metadata": {},
   "outputs": [
    {
     "data": {
      "text/plain": [
       "'Smith'"
      ]
     },
     "execution_count": 9,
     "metadata": {},
     "output_type": "execute_result"
    }
   ],
   "source": [
    "bob[0].split()[-1]"
   ]
  },
  {
   "cell_type": "code",
   "execution_count": 10,
   "id": "7a29f4f0-7175-4c6f-ad19-2cfaf7be534f",
   "metadata": {},
   "outputs": [
    {
     "data": {
      "text/plain": [
       "['Sue Jones', 45, 50000.0, 'hardware']"
      ]
     },
     "execution_count": 10,
     "metadata": {},
     "output_type": "execute_result"
    }
   ],
   "source": [
    "sue[2] *= 1.25\n",
    "sue"
   ]
  },
  {
   "cell_type": "markdown",
   "id": "39abf5e4-499c-4a43-9c0e-499a17cae4c3",
   "metadata": {},
   "source": [
    "The processing for variable bob above is from the left to the right."
   ]
  },
  {
   "cell_type": "markdown",
   "id": "1b358686-28dd-4d02-ae3e-eeecf71a9fad",
   "metadata": {},
   "source": [
    "### Start-up pointers\n",
    "\n",
    "We will work in jupyter notebook."
   ]
  },
  {
   "cell_type": "markdown",
   "id": "db17755e-f0a4-4284-b68d-098a4d24ff2d",
   "metadata": {},
   "source": [
    "### A database list\n",
    "\n",
    "First we combine variables bob and sue into a database."
   ]
  },
  {
   "cell_type": "code",
   "execution_count": 14,
   "id": "bf4e1be7-52de-4e6e-bef6-64a082132332",
   "metadata": {},
   "outputs": [
    {
     "name": "stdout",
     "output_type": "stream",
     "text": [
      "['Bob Smith', 42, 30000, 'software']\n",
      "['Sue Jones', 45, 50000.0, 'hardware']\n"
     ]
    }
   ],
   "source": [
    "people = [bob, sue]\n",
    "for person in people:\n",
    "    print(person)"
   ]
  },
  {
   "cell_type": "markdown",
   "id": "6e4707b4-790f-4612-a29b-668bf4d0f4b9",
   "metadata": {},
   "source": [
    "The variable people is a database."
   ]
  },
  {
   "cell_type": "code",
   "execution_count": 16,
   "id": "2cb588bf-fa25-4c35-8e35-7443e94bc8bb",
   "metadata": {},
   "outputs": [
    {
     "data": {
      "text/plain": [
       "'Sue Jones'"
      ]
     },
     "execution_count": 16,
     "metadata": {},
     "output_type": "execute_result"
    }
   ],
   "source": [
    "people[1][0]"
   ]
  },
  {
   "cell_type": "code",
   "execution_count": 17,
   "id": "9d28c12b-9b95-481c-9188-f85bd4f0a297",
   "metadata": {},
   "outputs": [
    {
     "name": "stdout",
     "output_type": "stream",
     "text": [
      "Smith\n",
      "Jones\n"
     ]
    }
   ],
   "source": [
    "for person in people:\n",
    "    print(person[0].split()[-1])\n",
    "    person[2] *= 1.20"
   ]
  },
  {
   "cell_type": "code",
   "execution_count": 18,
   "id": "dfafbd76-93cb-434d-b4f3-38c7965d60b3",
   "metadata": {},
   "outputs": [
    {
     "name": "stdout",
     "output_type": "stream",
     "text": [
      "36000.0\n",
      "60000.0\n"
     ]
    }
   ],
   "source": [
    "for person in people:\n",
    "    print(person[2])"
   ]
  },
  {
   "cell_type": "markdown",
   "id": "53e0247b-9aaa-4ed1-b43b-2be5f1df8aa3",
   "metadata": {},
   "source": [
    "We can do list comprehension and maps."
   ]
  },
  {
   "cell_type": "code",
   "execution_count": 20,
   "id": "50f3375c-64ea-457a-b7e7-ab64a4d23821",
   "metadata": {},
   "outputs": [
    {
     "data": {
      "text/plain": [
       "[36000.0, 60000.0]"
      ]
     },
     "execution_count": 20,
     "metadata": {},
     "output_type": "execute_result"
    }
   ],
   "source": [
    "pays = [person[2] for person in people]\n",
    "pays"
   ]
  },
  {
   "cell_type": "code",
   "execution_count": 21,
   "id": "b0d0977a-d613-4418-94d9-402e9412e666",
   "metadata": {},
   "outputs": [
    {
     "data": {
      "text/plain": [
       "[36000.0, 60000.0]"
      ]
     },
     "execution_count": 21,
     "metadata": {},
     "output_type": "execute_result"
    }
   ],
   "source": [
    "pays = map(lambda x: x[2], people)\n",
    "pays = list(pays)\n",
    "pays"
   ]
  },
  {
   "cell_type": "code",
   "execution_count": 22,
   "id": "7323c0d5-a860-40d9-ba77-e19a64066d5c",
   "metadata": {},
   "outputs": [
    {
     "data": {
      "text/plain": [
       "96000.0"
      ]
     },
     "execution_count": 22,
     "metadata": {},
     "output_type": "execute_result"
    }
   ],
   "source": [
    "sum(pays)"
   ]
  },
  {
   "cell_type": "code",
   "execution_count": 23,
   "id": "58062194-b6b6-43a1-852f-e2c08c961031",
   "metadata": {},
   "outputs": [
    {
     "data": {
      "text/plain": [
       "96000.0"
      ]
     },
     "execution_count": 23,
     "metadata": {},
     "output_type": "execute_result"
    }
   ],
   "source": [
    "sum(person[2] for person in people)"
   ]
  },
  {
   "cell_type": "markdown",
   "id": "9c024e72-c4c3-4320-9860-625ee1bb5836",
   "metadata": {},
   "source": [
    "Adding new records to the database"
   ]
  },
  {
   "cell_type": "code",
   "execution_count": 25,
   "id": "ae1ede28-7d26-4eab-9cf2-6b8992f54499",
   "metadata": {},
   "outputs": [],
   "source": [
    "people.append(['Tom', 50, 0, None])"
   ]
  },
  {
   "cell_type": "code",
   "execution_count": 26,
   "id": "28e6f8a5-a978-4ce4-986a-efe252a864fd",
   "metadata": {},
   "outputs": [
    {
     "data": {
      "text/plain": [
       "3"
      ]
     },
     "execution_count": 26,
     "metadata": {},
     "output_type": "execute_result"
    }
   ],
   "source": [
    "len(people)"
   ]
  },
  {
   "cell_type": "code",
   "execution_count": 27,
   "id": "8d224beb-5a65-4694-8eef-644afb68326d",
   "metadata": {},
   "outputs": [
    {
     "name": "stdout",
     "output_type": "stream",
     "text": [
      "['Bob Smith', 42, 36000.0, 'software']\n",
      "['Sue Jones', 45, 60000.0, 'hardware']\n",
      "['Tom', 50, 0, None]\n"
     ]
    }
   ],
   "source": [
    "for person in people:\n",
    "    print(person)"
   ]
  },
  {
   "cell_type": "code",
   "execution_count": 28,
   "id": "11b8be3f-9dcb-4356-89f8-fa6531c35323",
   "metadata": {},
   "outputs": [
    {
     "data": {
      "text/plain": [
       "'Tom'"
      ]
     },
     "execution_count": 28,
     "metadata": {},
     "output_type": "execute_result"
    }
   ],
   "source": [
    "people[-1][0]"
   ]
  },
  {
   "cell_type": "markdown",
   "id": "88ef071a-2ae7-409c-ae95-82f33d656d4a",
   "metadata": {},
   "source": [
    "Weaknes: our database is in memory only."
   ]
  },
  {
   "cell_type": "markdown",
   "id": "65fc88f5-f69b-4d8e-825d-e77ee3c9f016",
   "metadata": {},
   "source": [
    "### Field labels\n",
    "\n",
    "Another weaknes: we are accesing fields by integer positions.\n",
    "\n",
    "Let's try to use the range function:"
   ]
  },
  {
   "cell_type": "code",
   "execution_count": 31,
   "id": "3167ea65-0891-4660-8caa-633c768a9e5d",
   "metadata": {},
   "outputs": [],
   "source": [
    "NAME, AGE, PAY = range(3)\n",
    "bob = ['Bob Smith', 42, 10000]"
   ]
  },
  {
   "cell_type": "code",
   "execution_count": 32,
   "id": "035dc2f0-c7bc-402b-a7a0-c123774295ed",
   "metadata": {},
   "outputs": [
    {
     "data": {
      "text/plain": [
       "'Bob Smith'"
      ]
     },
     "execution_count": 32,
     "metadata": {},
     "output_type": "execute_result"
    }
   ],
   "source": [
    "bob[NAME]"
   ]
  },
  {
   "cell_type": "code",
   "execution_count": 33,
   "id": "8c275bc0-6d83-4aa8-aa48-086ac458e55b",
   "metadata": {},
   "outputs": [
    {
     "data": {
      "text/plain": [
       "(2, 10000)"
      ]
     },
     "execution_count": 33,
     "metadata": {},
     "output_type": "execute_result"
    }
   ],
   "source": [
    "PAY, bob[PAY]"
   ]
  },
  {
   "cell_type": "markdown",
   "id": "99b2a4ed-f734-45db-9d6c-1dde6a879ab9",
   "metadata": {},
   "source": [
    "The uppercase variables have become field names.  But we remain dependant on this numbering.\n",
    "\n",
    "Another problem: there is no mapping from the field instances names to field names.\n",
    "\n",
    "We might try the list of tuples structure:"
   ]
  },
  {
   "cell_type": "code",
   "execution_count": 35,
   "id": "4d0c429f-14ca-439e-a3e3-e8ca4524632c",
   "metadata": {},
   "outputs": [
    {
     "data": {
      "text/plain": [
       "[[['name', 'Bob Smith'], ['age', 42], ['pay', 10000]],\n",
       " [['name', 'Sue Jones'], ['age', 45], ['pay', 20000]]]"
      ]
     },
     "execution_count": 35,
     "metadata": {},
     "output_type": "execute_result"
    }
   ],
   "source": [
    "bob = [['name', 'Bob Smith'], ['age', 42], ['pay', 10000]]\n",
    "sue = [['name', 'Sue Jones'], ['age', 45], ['pay', 20000]]\n",
    "people = [bob, sue]\n",
    "people"
   ]
  },
  {
   "cell_type": "markdown",
   "id": "53ecbc4a-ea7e-44cb-b8ae-60f03825c739",
   "metadata": {},
   "source": [
    "But it stil does not solve the problem, since we still have to index by position:"
   ]
  },
  {
   "cell_type": "code",
   "execution_count": 37,
   "id": "484a1fbd-c2a9-4020-95a0-585b7d9a4a5b",
   "metadata": {},
   "outputs": [
    {
     "name": "stdout",
     "output_type": "stream",
     "text": [
      "Bob Smith 10000\n",
      "Sue Jones 20000\n"
     ]
    }
   ],
   "source": [
    "for person in people:\n",
    "    print(person[0][1], person[2][1])"
   ]
  },
  {
   "cell_type": "code",
   "execution_count": 38,
   "id": "7b28bc94-f756-4df2-bc41-61dddfc5e8f2",
   "metadata": {},
   "outputs": [
    {
     "data": {
      "text/plain": [
       "['Bob Smith', 'Sue Jones']"
      ]
     },
     "execution_count": 38,
     "metadata": {},
     "output_type": "execute_result"
    }
   ],
   "source": [
    "[person[0][1] for person in people]"
   ]
  },
  {
   "cell_type": "code",
   "execution_count": 39,
   "id": "85aad65a-3a63-4d32-bafb-22f9722aa513",
   "metadata": {},
   "outputs": [
    {
     "name": "stdout",
     "output_type": "stream",
     "text": [
      "Smith\n",
      "Jones\n"
     ]
    }
   ],
   "source": [
    "for person in people:\n",
    "    print(person[0][1].split()[-1]) # give last names\n",
    "    person[2][1] *= 1.10"
   ]
  },
  {
   "cell_type": "code",
   "execution_count": 40,
   "id": "9c52b2f6-7606-41cd-8409-61a20eb3a175",
   "metadata": {},
   "outputs": [
    {
     "name": "stdout",
     "output_type": "stream",
     "text": [
      "['pay', 11000.0]\n",
      "['pay', 22000.0]\n"
     ]
    }
   ],
   "source": [
    "for person in people:\n",
    "    print(person[2])"
   ]
  },
  {
   "cell_type": "markdown",
   "id": "6c22152a-0c24-4c08-8502-2a18eef35129",
   "metadata": {},
   "source": [
    "Let us inspect field names in loops:"
   ]
  },
  {
   "cell_type": "code",
   "execution_count": 42,
   "id": "88e9d9d5-ea0e-4ef3-adb0-3924b59b17a9",
   "metadata": {},
   "outputs": [
    {
     "name": "stdout",
     "output_type": "stream",
     "text": [
      "Bob Smith\n",
      "Sue Jones\n"
     ]
    }
   ],
   "source": [
    "for person in people:\n",
    "    for name, value in person:\n",
    "        if name == 'name':\n",
    "            print(value)"
   ]
  },
  {
   "cell_type": "markdown",
   "id": "679c3b92-5004-47a2-b134-c497906e0f9e",
   "metadata": {},
   "source": [
    "Better yet writing a *fetcher* function to do this:"
   ]
  },
  {
   "cell_type": "code",
   "execution_count": 44,
   "id": "94a55def-44af-40f0-9b0d-aae5fccce3f0",
   "metadata": {},
   "outputs": [],
   "source": [
    "def field(record, label):\n",
    "    for fname, fvalue in record:\n",
    "        if fname == label:\n",
    "            return fvalue"
   ]
  },
  {
   "cell_type": "code",
   "execution_count": 45,
   "id": "afa718d0-03dc-4853-a51b-3aff28ac8c2a",
   "metadata": {},
   "outputs": [
    {
     "data": {
      "text/plain": [
       "[['name', 'Bob Smith'], ['age', 42], ['pay', 11000.0]]"
      ]
     },
     "execution_count": 45,
     "metadata": {},
     "output_type": "execute_result"
    }
   ],
   "source": [
    "bob"
   ]
  },
  {
   "cell_type": "code",
   "execution_count": 46,
   "id": "693ba334-79c6-43dd-b5e6-834651deb46a",
   "metadata": {},
   "outputs": [
    {
     "data": {
      "text/plain": [
       "'Bob Smith'"
      ]
     },
     "execution_count": 46,
     "metadata": {},
     "output_type": "execute_result"
    }
   ],
   "source": [
    "field(bob, 'name')"
   ]
  },
  {
   "cell_type": "code",
   "execution_count": 47,
   "id": "78fdb7e0-c508-4d60-aaf3-2214bc1e495b",
   "metadata": {},
   "outputs": [
    {
     "data": {
      "text/plain": [
       "22000.0"
      ]
     },
     "execution_count": 47,
     "metadata": {},
     "output_type": "execute_result"
    }
   ],
   "source": [
    "field(sue, 'pay')"
   ]
  },
  {
   "cell_type": "code",
   "execution_count": 48,
   "id": "f504df67-0653-4fcc-a4b7-6ece39f90af3",
   "metadata": {},
   "outputs": [
    {
     "name": "stdout",
     "output_type": "stream",
     "text": [
      "Bob Smith 42\n",
      "Sue Jones 45\n"
     ]
    }
   ],
   "source": [
    "for rec in people:\n",
    "    print(field(rec, 'name'), field(rec, 'age'))"
   ]
  },
  {
   "cell_type": "markdown",
   "id": "244f8cca-5b34-48a8-86a5-41bc03f33c18",
   "metadata": {},
   "source": [
    "This leads to set of record interface functions.  In the next chapter we will find a better way."
   ]
  },
  {
   "cell_type": "markdown",
   "id": "17b39786-4720-4dc9-883a-f7ddb5104a72",
   "metadata": {},
   "source": [
    "### Using Dictionaries\n",
    "\n",
    "Python dictionaries seem to be a natural solution:"
   ]
  },
  {
   "cell_type": "code",
   "execution_count": 51,
   "id": "a97d875e-1fd5-481e-8024-7583efaed31a",
   "metadata": {},
   "outputs": [],
   "source": [
    "bob = {'name': 'Bob Smith', 'age': 42, 'pay': 30000, 'job': 'dev'}\n",
    "sue = {'name': 'Sue Jones', 'age': 45, 'pay': 40000, 'job': 'hdw'}"
   ]
  },
  {
   "cell_type": "markdown",
   "id": "96f841b1-4cde-4b36-b81b-16c66683b11c",
   "metadata": {},
   "source": [
    "Now this is meaningful and does not depend on positions."
   ]
  },
  {
   "cell_type": "code",
   "execution_count": 53,
   "id": "415a88c8-6eaf-4cf5-80fe-e572bc0276dd",
   "metadata": {},
   "outputs": [
    {
     "data": {
      "text/plain": [
       "('Bob Smith', 40000)"
      ]
     },
     "execution_count": 53,
     "metadata": {},
     "output_type": "execute_result"
    }
   ],
   "source": [
    "bob['name'], sue['pay']"
   ]
  },
  {
   "cell_type": "code",
   "execution_count": 54,
   "id": "74701ee7-8f3d-4239-8d49-69c342c2818a",
   "metadata": {},
   "outputs": [
    {
     "data": {
      "text/plain": [
       "'Smith'"
      ]
     },
     "execution_count": 54,
     "metadata": {},
     "output_type": "execute_result"
    }
   ],
   "source": [
    "bob['name'].split()[-1]"
   ]
  },
  {
   "cell_type": "code",
   "execution_count": 55,
   "id": "c7502be8-e216-4f25-92d2-960711be8aef",
   "metadata": {},
   "outputs": [
    {
     "data": {
      "text/plain": [
       "44000.0"
      ]
     },
     "execution_count": 55,
     "metadata": {},
     "output_type": "execute_result"
    }
   ],
   "source": [
    "sue['pay'] *= 1.1\n",
    "sue['pay']"
   ]
  },
  {
   "cell_type": "markdown",
   "id": "89f8eb19-6dd6-42ba-9ba4-f6bc12d91413",
   "metadata": {},
   "source": [
    "Fields are accessed mnemonically now. This is more meaningful."
   ]
  },
  {
   "cell_type": "markdown",
   "id": "f795d2f6-4cbd-47c6-832d-59517f9aeb00",
   "metadata": {},
   "source": [
    "#### Other ways to make dictionaries\n",
    "\n",
    "Namely there are several ways to do this.  Here is a function syntacs using named arguments (keyword arguments):"
   ]
  },
  {
   "cell_type": "code",
   "execution_count": 58,
   "id": "aa5dcc1c-ae10-4024-8f74-58b5420ab997",
   "metadata": {},
   "outputs": [
    {
     "data": {
      "text/plain": [
       "{'name': 'Bob Smith', 'age': 42, 'pay': 30000, 'job': 'dev'}"
      ]
     },
     "execution_count": 58,
     "metadata": {},
     "output_type": "execute_result"
    }
   ],
   "source": [
    "bob = dict(name='Bob Smith', age=42, pay=30000, job='dev')\n",
    "sue = dict(name='Sue Jones', age=45, pay=40000, job='hdw')\n",
    "bob"
   ]
  },
  {
   "cell_type": "code",
   "execution_count": 59,
   "id": "af21a3fd-9043-4eab-b6a4-79d2a01fb791",
   "metadata": {},
   "outputs": [
    {
     "data": {
      "text/plain": [
       "{'name': 'Sue Jones', 'age': 45, 'pay': 40000, 'job': 'hdw'}"
      ]
     },
     "execution_count": 59,
     "metadata": {},
     "output_type": "execute_result"
    }
   ],
   "source": [
    "sue"
   ]
  },
  {
   "cell_type": "markdown",
   "id": "aef4ac6f-f01b-4666-a9cd-cd4afb24c3a1",
   "metadata": {},
   "source": [
    "alternativly we can fill individual fields in a dictionary:"
   ]
  },
  {
   "cell_type": "code",
   "execution_count": 61,
   "id": "f486c436-de54-46bd-833c-4956149adbe6",
   "metadata": {},
   "outputs": [
    {
     "data": {
      "text/plain": [
       "{'name': 'Sue Jones', 'age': 45, 'pay': 40000, 'job': 'htw'}"
      ]
     },
     "execution_count": 61,
     "metadata": {},
     "output_type": "execute_result"
    }
   ],
   "source": [
    "sue = {}\n",
    "sue['name'] = 'Sue Jones'\n",
    "sue['age'] = 45\n",
    "sue['pay'] = 40000\n",
    "sue['job'] = 'htw'\n",
    "sue"
   ]
  },
  {
   "cell_type": "markdown",
   "id": "62c6cf18-666b-4422-a3e7-c1c158fa58df",
   "metadata": {},
   "source": [
    "or by the usage of the zip function:"
   ]
  },
  {
   "cell_type": "code",
   "execution_count": 63,
   "id": "5bc23645-5ef1-49f4-be5c-34501ce434b5",
   "metadata": {},
   "outputs": [
    {
     "data": {
      "text/plain": [
       "[('name', 'Bob Smith'), ('age', 42), ('pay', 30000), ('job', 'dev')]"
      ]
     },
     "execution_count": 63,
     "metadata": {},
     "output_type": "execute_result"
    }
   ],
   "source": [
    "names = ['name', 'age', 'pay', 'job']\n",
    "values = ['Bob Smith', 42, 30000, 'dev']\n",
    "list(zip(names, values))"
   ]
  },
  {
   "cell_type": "code",
   "execution_count": 64,
   "id": "5f66396f-c37f-4caf-b79a-b510b4c095c3",
   "metadata": {},
   "outputs": [
    {
     "data": {
      "text/plain": [
       "{'name': 'Bob Smith', 'age': 42, 'pay': 30000, 'job': 'dev'}"
      ]
     },
     "execution_count": 64,
     "metadata": {},
     "output_type": "execute_result"
    }
   ],
   "source": [
    "bob = dict(zip(names, values))\n",
    "bob"
   ]
  },
  {
   "cell_type": "markdown",
   "id": "c2dc279e-355a-4b57-bacc-c1f64625386a",
   "metadata": {},
   "source": [
    "Finaly, we can initialize a dictionary like this:"
   ]
  },
  {
   "cell_type": "code",
   "execution_count": 66,
   "id": "1139db85-cf67-4f4b-8657-c9243a55258b",
   "metadata": {},
   "outputs": [
    {
     "data": {
      "text/plain": [
       "{'name': '?', 'age': '?', 'pay': '?', 'job': '?'}"
      ]
     },
     "execution_count": 66,
     "metadata": {},
     "output_type": "execute_result"
    }
   ],
   "source": [
    "fields = ('name', 'age', 'pay', 'job')\n",
    "\n",
    "record = dict.fromkeys(fields, '?')\n",
    "\n",
    "record"
   ]
  },
  {
   "cell_type": "markdown",
   "id": "09b9046a-faec-465b-b135-7d5480d18754",
   "metadata": {},
   "source": [
    "#### Lists of dictionaries\n",
    "\n",
    "We still need to colect records into a database:"
   ]
  },
  {
   "cell_type": "code",
   "execution_count": 68,
   "id": "07979b69-58a5-4420-a432-9a61618296c6",
   "metadata": {},
   "outputs": [
    {
     "data": {
      "text/plain": [
       "{'name': 'Bob Smith', 'age': 42, 'pay': 30000, 'job': 'dev'}"
      ]
     },
     "execution_count": 68,
     "metadata": {},
     "output_type": "execute_result"
    }
   ],
   "source": [
    "bob"
   ]
  },
  {
   "cell_type": "code",
   "execution_count": 69,
   "id": "ffe2b853-3cbb-425b-8645-ac5eeea22105",
   "metadata": {},
   "outputs": [
    {
     "data": {
      "text/plain": [
       "{'name': 'Sue Jones', 'age': 45, 'pay': 40000, 'job': 'htw'}"
      ]
     },
     "execution_count": 69,
     "metadata": {},
     "output_type": "execute_result"
    }
   ],
   "source": [
    "sue"
   ]
  },
  {
   "cell_type": "code",
   "execution_count": 142,
   "id": "29b524cf-89c4-4b86-814e-bbe284b1ceae",
   "metadata": {},
   "outputs": [
    {
     "data": {
      "text/plain": [
       "[{'name': 'Bob Smith', 'age': 42, 'pay': 30000, 'job': 'dev'},\n",
       " {'name': 'Sue Jones', 'age': 45, 'pay': 40000, 'job': 'hdw'}]"
      ]
     },
     "execution_count": 142,
     "metadata": {},
     "output_type": "execute_result"
    }
   ],
   "source": [
    "people = [bob, sue]\n",
    "people"
   ]
  },
  {
   "cell_type": "code",
   "execution_count": 144,
   "id": "12c1c120-0232-4bc7-801f-b822fbc64ab5",
   "metadata": {},
   "outputs": [
    {
     "name": "stdout",
     "output_type": "stream",
     "text": [
      "Bob Smith, 30000\n",
      "Sue Jones, 40000\n"
     ]
    }
   ],
   "source": [
    "for person in people:\n",
    "    print(person['name'], person['pay'], sep=', ')"
   ]
  },
  {
   "cell_type": "code",
   "execution_count": 146,
   "id": "d6cf467f-e268-47ad-9fc2-eb89914e3bda",
   "metadata": {},
   "outputs": [
    {
     "name": "stdout",
     "output_type": "stream",
     "text": [
      "40000\n"
     ]
    }
   ],
   "source": [
    "for person in people:\n",
    "    if person['name'] == 'Sue Jones':\n",
    "        print(person['pay'])"
   ]
  },
  {
   "cell_type": "markdown",
   "id": "533bdac8-9698-443c-8f3f-ca963cb9fd78",
   "metadata": {},
   "source": [
    "We use keys here:"
   ]
  },
  {
   "cell_type": "code",
   "execution_count": 151,
   "id": "42ebdd42-6f3c-4f80-9067-a9e446f368cc",
   "metadata": {},
   "outputs": [
    {
     "data": {
      "text/plain": [
       "['Bob Smith', 'Sue Jones']"
      ]
     },
     "execution_count": 151,
     "metadata": {},
     "output_type": "execute_result"
    }
   ],
   "source": [
    "names = [person['name'] for person in people]\n",
    "names"
   ]
  },
  {
   "cell_type": "code",
   "execution_count": 153,
   "id": "5675d738-add2-49be-8ba8-ce674a2ae07f",
   "metadata": {},
   "outputs": [
    {
     "data": {
      "text/plain": [
       "['Bob Smith', 'Sue Jones']"
      ]
     },
     "execution_count": 153,
     "metadata": {},
     "output_type": "execute_result"
    }
   ],
   "source": [
    "list(map(lambda x: x['name'], people))"
   ]
  },
  {
   "cell_type": "code",
   "execution_count": 155,
   "id": "07b87569-6084-4888-984d-5b5bfdee87d7",
   "metadata": {},
   "outputs": [
    {
     "data": {
      "text/plain": [
       "70000"
      ]
     },
     "execution_count": 155,
     "metadata": {},
     "output_type": "execute_result"
    }
   ],
   "source": [
    "sum(person['pay'] for person in people)"
   ]
  },
  {
   "cell_type": "markdown",
   "id": "3a243e2e-87a8-4326-b43c-115692e01600",
   "metadata": {},
   "source": [
    "Interestingly, the list comprehensions and the generator expressions can approach SQL queries:"
   ]
  },
  {
   "cell_type": "code",
   "execution_count": 158,
   "id": "53afcddc-7205-456c-b36f-b6f12caba2b8",
   "metadata": {},
   "outputs": [
    {
     "data": {
      "text/plain": [
       "['Sue Jones']"
      ]
     },
     "execution_count": 158,
     "metadata": {},
     "output_type": "execute_result"
    }
   ],
   "source": [
    "[rec['name'] for rec in people if rec['age'] >= 45]"
   ]
  },
  {
   "cell_type": "code",
   "execution_count": null,
   "id": "3bf3aac5-692e-468c-9726-8ab5827bcb80",
   "metadata": {},
   "outputs": [],
   "source": [
    "[rec['age'] ** 2 if rec['age'] >= 45 else rec['age']for rec in people if rec['age'] >= 45]"
   ]
  },
  {
   "cell_type": "code",
   "execution_count": null,
   "id": "e0ba5d81-fdd9-4c8d-90aa-de455b3b4bde",
   "metadata": {},
   "outputs": [],
   "source": []
  },
  {
   "cell_type": "code",
   "execution_count": null,
   "id": "8d5f600d-724a-415c-8b8c-1c89abcd5aec",
   "metadata": {},
   "outputs": [],
   "source": []
  },
  {
   "cell_type": "code",
   "execution_count": null,
   "id": "20182c67-dc91-468e-9b00-8e26fcc0e323",
   "metadata": {},
   "outputs": [],
   "source": []
  },
  {
   "cell_type": "code",
   "execution_count": null,
   "id": "8d063f4e-20aa-420c-9867-c286d3065038",
   "metadata": {},
   "outputs": [],
   "source": []
  },
  {
   "cell_type": "code",
   "execution_count": null,
   "id": "bee1cb16-8a3d-4c96-ae19-c0befd6d329c",
   "metadata": {},
   "outputs": [],
   "source": []
  },
  {
   "cell_type": "code",
   "execution_count": null,
   "id": "d793c905-2c44-4eb5-88f9-a86db2cf3447",
   "metadata": {},
   "outputs": [],
   "source": []
  },
  {
   "cell_type": "code",
   "execution_count": null,
   "id": "d940e026-7eb1-4864-8745-ef8e1cc60df8",
   "metadata": {},
   "outputs": [],
   "source": []
  },
  {
   "cell_type": "code",
   "execution_count": null,
   "id": "aaadac66-2ae0-4555-899c-5a4e30ad9501",
   "metadata": {},
   "outputs": [],
   "source": []
  },
  {
   "cell_type": "code",
   "execution_count": null,
   "id": "e39fea14-96c9-4bd8-9586-cf600387ffe2",
   "metadata": {},
   "outputs": [],
   "source": []
  },
  {
   "cell_type": "code",
   "execution_count": null,
   "id": "601a6489-c697-4d89-8461-a073caddaeab",
   "metadata": {},
   "outputs": [],
   "source": []
  },
  {
   "cell_type": "code",
   "execution_count": null,
   "id": "34c4c8a0-f4eb-4c71-9184-13fc76ce0c0f",
   "metadata": {},
   "outputs": [],
   "source": []
  },
  {
   "cell_type": "code",
   "execution_count": null,
   "id": "7854b00d-95e3-47a6-a6ab-19a1db075ea5",
   "metadata": {},
   "outputs": [],
   "source": []
  },
  {
   "cell_type": "code",
   "execution_count": 70,
   "id": "d3f9576b-4474-402a-9f77-934f94f0f036",
   "metadata": {},
   "outputs": [
    {
     "name": "stdout",
     "output_type": "stream",
     "text": [
      "bob =>\n",
      "   {'name': 'Bob Smith', 'age': 42, 'pay': 30000, 'job': 'dev'}\n",
      "sue =>\n",
      "   {'name': 'Sue Jones', 'age': 45, 'pay': 40000, 'job': 'hdw'}\n",
      "tom =>\n",
      "   {'name': 'Tom', 'age': 50, 'pay': 0, 'job': None}\n"
     ]
    }
   ],
   "source": [
    "# initalize data to be stored in files, pickles, shelves\n",
    "\n",
    "# records\n",
    "bob = {'name': 'Bob Smith', 'age': 42, 'pay': 30000, 'job': 'dev'}\n",
    "sue = {'name': 'Sue Jones', 'age': 45, 'pay': 40000, 'job': 'hdw'}\n",
    "tom = {'name': 'Tom', 'age': 50, 'pay': 0, 'job': None}\n",
    "\n",
    "# database\n",
    "db = {}\n",
    "db['bob'] = bob\n",
    "db['sue'] = sue\n",
    "db['tom'] = tom\n",
    "\n",
    "if __name__ == '__main__':\n",
    "    for key in db:\n",
    "        print(key, '=>\\n  ', db[key])\n"
   ]
  },
  {
   "cell_type": "markdown",
   "id": "7d84e004-adb9-4da7-a65e-86ce17d280e3",
   "metadata": {},
   "source": [
    "# Shelves"
   ]
  },
  {
   "cell_type": "code",
   "execution_count": 72,
   "id": "45883be0-c312-4c9a-bd19-26e03a921cb1",
   "metadata": {},
   "outputs": [],
   "source": [
    "from initdata import bob, sue\n"
   ]
  },
  {
   "cell_type": "code",
   "execution_count": null,
   "id": "e39ab22d-883c-4516-9845-50b4b56e464e",
   "metadata": {},
   "outputs": [],
   "source": []
  }
 ],
 "metadata": {
  "kernelspec": {
   "display_name": "Python 3 (ipykernel)",
   "language": "python",
   "name": "python3"
  },
  "language_info": {
   "codemirror_mode": {
    "name": "ipython",
    "version": 3
   },
   "file_extension": ".py",
   "mimetype": "text/x-python",
   "name": "python",
   "nbconvert_exporter": "python",
   "pygments_lexer": "ipython3",
   "version": "3.12.4"
  }
 },
 "nbformat": 4,
 "nbformat_minor": 5
}
