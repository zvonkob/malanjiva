{
 "cells": [
  {
   "cell_type": "markdown",
   "id": "d4fc390f-5389-4ba7-9655-90de328ad0d8",
   "metadata": {},
   "source": [
    "# Lists"
   ]
  },
  {
   "cell_type": "code",
   "execution_count": 1,
   "id": "5ea5d688-558d-4c8f-b519-b10503e50a39",
   "metadata": {},
   "outputs": [],
   "source": [
    "bob = ['Bob Smith', 42, 30000, 'software']\n",
    "sue = ['Sue Jones', 45, 40000, 'hardware']"
   ]
  },
  {
   "cell_type": "code",
   "execution_count": 3,
   "id": "7bd64898-959b-4386-ad8d-f9cbd4bcda33",
   "metadata": {},
   "outputs": [
    {
     "data": {
      "text/plain": [
       "('Bob Smith', 40000)"
      ]
     },
     "execution_count": 3,
     "metadata": {},
     "output_type": "execute_result"
    }
   ],
   "source": [
    "bob[0], sue[2]"
   ]
  },
  {
   "cell_type": "code",
   "execution_count": 5,
   "id": "9fa893af-4dca-4027-b376-1a2aeae60196",
   "metadata": {},
   "outputs": [
    {
     "data": {
      "text/plain": [
       "'Smith'"
      ]
     },
     "execution_count": 5,
     "metadata": {},
     "output_type": "execute_result"
    }
   ],
   "source": [
    "bob[0].split()[-1]"
   ]
  },
  {
   "cell_type": "code",
   "execution_count": 7,
   "id": "7a29f4f0-7175-4c6f-ad19-2cfaf7be534f",
   "metadata": {},
   "outputs": [
    {
     "data": {
      "text/plain": [
       "['Sue Jones', 45, 50000.0, 'hardware']"
      ]
     },
     "execution_count": 7,
     "metadata": {},
     "output_type": "execute_result"
    }
   ],
   "source": [
    "sue[2] *= 1.25\n",
    "sue"
   ]
  },
  {
   "cell_type": "markdown",
   "id": "db17755e-f0a4-4284-b68d-098a4d24ff2d",
   "metadata": {},
   "source": [
    "# A database list"
   ]
  },
  {
   "cell_type": "code",
   "execution_count": 9,
   "id": "bf4e1be7-52de-4e6e-bef6-64a082132332",
   "metadata": {},
   "outputs": [
    {
     "name": "stdout",
     "output_type": "stream",
     "text": [
      "['Bob Smith', 42, 30000, 'software']\n",
      "['Sue Jones', 45, 50000.0, 'hardware']\n"
     ]
    }
   ],
   "source": [
    "people = [bob, sue]\n",
    "for person in people:\n",
    "    print(person)"
   ]
  },
  {
   "cell_type": "code",
   "execution_count": 11,
   "id": "2cb588bf-fa25-4c35-8e35-7443e94bc8bb",
   "metadata": {},
   "outputs": [
    {
     "data": {
      "text/plain": [
       "'Sue Jones'"
      ]
     },
     "execution_count": 11,
     "metadata": {},
     "output_type": "execute_result"
    }
   ],
   "source": [
    "people[1][0]"
   ]
  },
  {
   "cell_type": "code",
   "execution_count": 13,
   "id": "9d28c12b-9b95-481c-9188-f85bd4f0a297",
   "metadata": {},
   "outputs": [
    {
     "name": "stdout",
     "output_type": "stream",
     "text": [
      "Smith\n",
      "Jones\n"
     ]
    }
   ],
   "source": [
    "for person in people:\n",
    "    print(person[0].split()[-1])\n",
    "    person[2] *= 1.20"
   ]
  },
  {
   "cell_type": "code",
   "execution_count": 15,
   "id": "dfafbd76-93cb-434d-b4f3-38c7965d60b3",
   "metadata": {},
   "outputs": [
    {
     "name": "stdout",
     "output_type": "stream",
     "text": [
      "36000.0\n",
      "60000.0\n"
     ]
    }
   ],
   "source": [
    "for person in people:\n",
    "    print(person[2])"
   ]
  },
  {
   "cell_type": "code",
   "execution_count": 17,
   "id": "50f3375c-64ea-457a-b7e7-ab64a4d23821",
   "metadata": {},
   "outputs": [
    {
     "data": {
      "text/plain": [
       "[36000.0, 60000.0]"
      ]
     },
     "execution_count": 17,
     "metadata": {},
     "output_type": "execute_result"
    }
   ],
   "source": [
    "pays = [person[2] for person in people]\n",
    "pays"
   ]
  },
  {
   "cell_type": "code",
   "execution_count": 33,
   "id": "b0d0977a-d613-4418-94d9-402e9412e666",
   "metadata": {},
   "outputs": [
    {
     "data": {
      "text/plain": [
       "[36000.0, 60000.0]"
      ]
     },
     "execution_count": 33,
     "metadata": {},
     "output_type": "execute_result"
    }
   ],
   "source": [
    "pays = map(lambda x: x[2], people)\n",
    "pays = list(pays)\n",
    "pays"
   ]
  },
  {
   "cell_type": "code",
   "execution_count": 35,
   "id": "7323c0d5-a860-40d9-ba77-e19a64066d5c",
   "metadata": {},
   "outputs": [
    {
     "data": {
      "text/plain": [
       "96000.0"
      ]
     },
     "execution_count": 35,
     "metadata": {},
     "output_type": "execute_result"
    }
   ],
   "source": [
    "sum(pays)"
   ]
  },
  {
   "cell_type": "code",
   "execution_count": 37,
   "id": "58062194-b6b6-43a1-852f-e2c08c961031",
   "metadata": {},
   "outputs": [
    {
     "data": {
      "text/plain": [
       "96000.0"
      ]
     },
     "execution_count": 37,
     "metadata": {},
     "output_type": "execute_result"
    }
   ],
   "source": [
    "sum(person[2] for person in people)"
   ]
  },
  {
   "cell_type": "code",
   "execution_count": 39,
   "id": "ae1ede28-7d26-4eab-9cf2-6b8992f54499",
   "metadata": {},
   "outputs": [],
   "source": [
    "people.append(['Tom', 50, 0, None])"
   ]
  },
  {
   "cell_type": "code",
   "execution_count": 41,
   "id": "28e6f8a5-a978-4ce4-986a-efe252a864fd",
   "metadata": {},
   "outputs": [
    {
     "data": {
      "text/plain": [
       "3"
      ]
     },
     "execution_count": 41,
     "metadata": {},
     "output_type": "execute_result"
    }
   ],
   "source": [
    "len(people)"
   ]
  },
  {
   "cell_type": "code",
   "execution_count": 43,
   "id": "8d224beb-5a65-4694-8eef-644afb68326d",
   "metadata": {},
   "outputs": [
    {
     "name": "stdout",
     "output_type": "stream",
     "text": [
      "['Bob Smith', 42, 36000.0, 'software']\n",
      "['Sue Jones', 45, 60000.0, 'hardware']\n",
      "['Tom', 50, 0, None]\n"
     ]
    }
   ],
   "source": [
    "for person in people:\n",
    "    print(person)"
   ]
  },
  {
   "cell_type": "markdown",
   "id": "65fc88f5-f69b-4d8e-825d-e77ee3c9f016",
   "metadata": {},
   "source": [
    "# Field labels"
   ]
  },
  {
   "cell_type": "code",
   "execution_count": 48,
   "id": "3167ea65-0891-4660-8caa-633c768a9e5d",
   "metadata": {},
   "outputs": [],
   "source": [
    "NAME, AGE, PAY = range(3)\n",
    "bob = ['Bob Smith', 42, 10000]"
   ]
  },
  {
   "cell_type": "code",
   "execution_count": 50,
   "id": "035dc2f0-c7bc-402b-a7a0-c123774295ed",
   "metadata": {},
   "outputs": [
    {
     "data": {
      "text/plain": [
       "'Bob Smith'"
      ]
     },
     "execution_count": 50,
     "metadata": {},
     "output_type": "execute_result"
    }
   ],
   "source": [
    "bob[NAME]"
   ]
  },
  {
   "cell_type": "code",
   "execution_count": 52,
   "id": "8c275bc0-6d83-4aa8-aa48-086ac458e55b",
   "metadata": {},
   "outputs": [
    {
     "data": {
      "text/plain": [
       "(2, 10000)"
      ]
     },
     "execution_count": 52,
     "metadata": {},
     "output_type": "execute_result"
    }
   ],
   "source": [
    "PAY, bob[PAY]"
   ]
  },
  {
   "cell_type": "code",
   "execution_count": null,
   "id": "ab9e5c1e-3e3a-4ef7-973c-bf08cb053611",
   "metadata": {},
   "outputs": [],
   "source": []
  }
 ],
 "metadata": {
  "kernelspec": {
   "display_name": "Python 3 (ipykernel)",
   "language": "python",
   "name": "python3"
  },
  "language_info": {
   "codemirror_mode": {
    "name": "ipython",
    "version": 3
   },
   "file_extension": ".py",
   "mimetype": "text/x-python",
   "name": "python",
   "nbconvert_exporter": "python",
   "pygments_lexer": "ipython3",
   "version": "3.12.4"
  }
 },
 "nbformat": 4,
 "nbformat_minor": 5
}
