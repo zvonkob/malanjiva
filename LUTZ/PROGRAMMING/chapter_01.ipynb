{
 "cells": [
  {
   "cell_type": "markdown",
   "id": "42e41ee3-b4d7-4be2-bc28-933df4f1842c",
   "metadata": {},
   "source": [
    "# Programming Python: The Short Story\n",
    "\n",
    "This book demonstrates Python in action.\n",
    "\n",
    "The task is to construct a database.\n",
    "\n",
    "There are other things in Python not covered here."
   ]
  },
  {
   "cell_type": "markdown",
   "id": "a34cee6e-a382-41bd-a298-0faffe54544d",
   "metadata": {},
   "source": [
    "# The Task\n",
    "\n",
    "To keep a database of some people.\n",
    "\n",
    "There are programing tools for this task, but the point is that we will learn a lot by programming it ourselves."
   ]
  },
  {
   "cell_type": "markdown",
   "id": "af952c06-7aa3-48dd-995a-603d5534609a",
   "metadata": {},
   "source": [
    "# Step 1: Representing Records\n",
    "\n",
    "First we have to decide how to represent a single record."
   ]
  },
  {
   "cell_type": "markdown",
   "id": "ba45a1f5-c048-4a5c-8ff6-0d9bfef86da8",
   "metadata": {},
   "source": [
    "## Using Lists\n",
    "\n",
    "The lists can be used. "
   ]
  },
  {
   "cell_type": "code",
   "execution_count": 5,
   "id": "5ea5d688-558d-4c8f-b519-b10503e50a39",
   "metadata": {},
   "outputs": [],
   "source": [
    "bob = ['Bob Smith', 42, 30000, 'software']\n",
    "sue = ['Sue Jones', 45, 40000, 'hardware']"
   ]
  },
  {
   "cell_type": "markdown",
   "id": "114a35e6-8819-47d8-8d35-842dbcfba483",
   "metadata": {},
   "source": [
    "Each record is a list."
   ]
  },
  {
   "cell_type": "code",
   "execution_count": 7,
   "id": "7bd64898-959b-4386-ad8d-f9cbd4bcda33",
   "metadata": {},
   "outputs": [
    {
     "data": {
      "text/plain": [
       "('Bob Smith', 40000)"
      ]
     },
     "execution_count": 7,
     "metadata": {},
     "output_type": "execute_result"
    }
   ],
   "source": [
    "bob[0], sue[2]"
   ]
  },
  {
   "cell_type": "markdown",
   "id": "0a854cce-fe4c-4b0e-b7c1-81ca219d44db",
   "metadata": {},
   "source": [
    "Processing is easy:"
   ]
  },
  {
   "cell_type": "code",
   "execution_count": 9,
   "id": "9fa893af-4dca-4027-b376-1a2aeae60196",
   "metadata": {},
   "outputs": [
    {
     "data": {
      "text/plain": [
       "'Smith'"
      ]
     },
     "execution_count": 9,
     "metadata": {},
     "output_type": "execute_result"
    }
   ],
   "source": [
    "bob[0].split()[-1]"
   ]
  },
  {
   "cell_type": "code",
   "execution_count": 10,
   "id": "7a29f4f0-7175-4c6f-ad19-2cfaf7be534f",
   "metadata": {},
   "outputs": [
    {
     "data": {
      "text/plain": [
       "['Sue Jones', 45, 50000.0, 'hardware']"
      ]
     },
     "execution_count": 10,
     "metadata": {},
     "output_type": "execute_result"
    }
   ],
   "source": [
    "sue[2] *= 1.25\n",
    "sue"
   ]
  },
  {
   "cell_type": "markdown",
   "id": "39abf5e4-499c-4a43-9c0e-499a17cae4c3",
   "metadata": {},
   "source": [
    "The processing for variable bob above is from the left to the right."
   ]
  },
  {
   "cell_type": "markdown",
   "id": "1b358686-28dd-4d02-ae3e-eeecf71a9fad",
   "metadata": {},
   "source": [
    "### Start-up pointers\n",
    "\n",
    "We will work in jupyter notebook."
   ]
  },
  {
   "cell_type": "markdown",
   "id": "db17755e-f0a4-4284-b68d-098a4d24ff2d",
   "metadata": {},
   "source": [
    "### A database list\n",
    "\n",
    "First we combine variables bob and sue into a database."
   ]
  },
  {
   "cell_type": "code",
   "execution_count": 14,
   "id": "bf4e1be7-52de-4e6e-bef6-64a082132332",
   "metadata": {},
   "outputs": [
    {
     "name": "stdout",
     "output_type": "stream",
     "text": [
      "['Bob Smith', 42, 30000, 'software']\n",
      "['Sue Jones', 45, 50000.0, 'hardware']\n"
     ]
    }
   ],
   "source": [
    "people = [bob, sue]\n",
    "for person in people:\n",
    "    print(person)"
   ]
  },
  {
   "cell_type": "markdown",
   "id": "6e4707b4-790f-4612-a29b-668bf4d0f4b9",
   "metadata": {},
   "source": [
    "The variable people is a database."
   ]
  },
  {
   "cell_type": "code",
   "execution_count": 16,
   "id": "2cb588bf-fa25-4c35-8e35-7443e94bc8bb",
   "metadata": {},
   "outputs": [
    {
     "data": {
      "text/plain": [
       "'Sue Jones'"
      ]
     },
     "execution_count": 16,
     "metadata": {},
     "output_type": "execute_result"
    }
   ],
   "source": [
    "people[1][0]"
   ]
  },
  {
   "cell_type": "code",
   "execution_count": 17,
   "id": "9d28c12b-9b95-481c-9188-f85bd4f0a297",
   "metadata": {},
   "outputs": [
    {
     "name": "stdout",
     "output_type": "stream",
     "text": [
      "Smith\n",
      "Jones\n"
     ]
    }
   ],
   "source": [
    "for person in people:\n",
    "    print(person[0].split()[-1])\n",
    "    person[2] *= 1.20"
   ]
  },
  {
   "cell_type": "code",
   "execution_count": 18,
   "id": "dfafbd76-93cb-434d-b4f3-38c7965d60b3",
   "metadata": {},
   "outputs": [
    {
     "name": "stdout",
     "output_type": "stream",
     "text": [
      "36000.0\n",
      "60000.0\n"
     ]
    }
   ],
   "source": [
    "for person in people:\n",
    "    print(person[2])"
   ]
  },
  {
   "cell_type": "markdown",
   "id": "53e0247b-9aaa-4ed1-b43b-2be5f1df8aa3",
   "metadata": {},
   "source": [
    "We can do list comprehension and maps."
   ]
  },
  {
   "cell_type": "code",
   "execution_count": 20,
   "id": "50f3375c-64ea-457a-b7e7-ab64a4d23821",
   "metadata": {},
   "outputs": [
    {
     "data": {
      "text/plain": [
       "[36000.0, 60000.0]"
      ]
     },
     "execution_count": 20,
     "metadata": {},
     "output_type": "execute_result"
    }
   ],
   "source": [
    "pays = [person[2] for person in people]\n",
    "pays"
   ]
  },
  {
   "cell_type": "code",
   "execution_count": 21,
   "id": "b0d0977a-d613-4418-94d9-402e9412e666",
   "metadata": {},
   "outputs": [
    {
     "data": {
      "text/plain": [
       "[36000.0, 60000.0]"
      ]
     },
     "execution_count": 21,
     "metadata": {},
     "output_type": "execute_result"
    }
   ],
   "source": [
    "pays = map(lambda x: x[2], people)\n",
    "pays = list(pays)\n",
    "pays"
   ]
  },
  {
   "cell_type": "code",
   "execution_count": 22,
   "id": "7323c0d5-a860-40d9-ba77-e19a64066d5c",
   "metadata": {},
   "outputs": [
    {
     "data": {
      "text/plain": [
       "96000.0"
      ]
     },
     "execution_count": 22,
     "metadata": {},
     "output_type": "execute_result"
    }
   ],
   "source": [
    "sum(pays)"
   ]
  },
  {
   "cell_type": "code",
   "execution_count": 23,
   "id": "58062194-b6b6-43a1-852f-e2c08c961031",
   "metadata": {},
   "outputs": [
    {
     "data": {
      "text/plain": [
       "96000.0"
      ]
     },
     "execution_count": 23,
     "metadata": {},
     "output_type": "execute_result"
    }
   ],
   "source": [
    "sum(person[2] for person in people)"
   ]
  },
  {
   "cell_type": "markdown",
   "id": "9c024e72-c4c3-4320-9860-625ee1bb5836",
   "metadata": {},
   "source": [
    "Adding new records to the database"
   ]
  },
  {
   "cell_type": "code",
   "execution_count": 25,
   "id": "ae1ede28-7d26-4eab-9cf2-6b8992f54499",
   "metadata": {},
   "outputs": [],
   "source": [
    "people.append(['Tom', 50, 0, None])"
   ]
  },
  {
   "cell_type": "code",
   "execution_count": 26,
   "id": "28e6f8a5-a978-4ce4-986a-efe252a864fd",
   "metadata": {},
   "outputs": [
    {
     "data": {
      "text/plain": [
       "3"
      ]
     },
     "execution_count": 26,
     "metadata": {},
     "output_type": "execute_result"
    }
   ],
   "source": [
    "len(people)"
   ]
  },
  {
   "cell_type": "code",
   "execution_count": 27,
   "id": "8d224beb-5a65-4694-8eef-644afb68326d",
   "metadata": {},
   "outputs": [
    {
     "name": "stdout",
     "output_type": "stream",
     "text": [
      "['Bob Smith', 42, 36000.0, 'software']\n",
      "['Sue Jones', 45, 60000.0, 'hardware']\n",
      "['Tom', 50, 0, None]\n"
     ]
    }
   ],
   "source": [
    "for person in people:\n",
    "    print(person)"
   ]
  },
  {
   "cell_type": "code",
   "execution_count": 28,
   "id": "11b8be3f-9dcb-4356-89f8-fa6531c35323",
   "metadata": {},
   "outputs": [
    {
     "data": {
      "text/plain": [
       "'Tom'"
      ]
     },
     "execution_count": 28,
     "metadata": {},
     "output_type": "execute_result"
    }
   ],
   "source": [
    "people[-1][0]"
   ]
  },
  {
   "cell_type": "markdown",
   "id": "88ef071a-2ae7-409c-ae95-82f33d656d4a",
   "metadata": {},
   "source": [
    "Weaknes: our database is in memory only."
   ]
  },
  {
   "cell_type": "markdown",
   "id": "65fc88f5-f69b-4d8e-825d-e77ee3c9f016",
   "metadata": {},
   "source": [
    "### Field labels\n",
    "\n",
    "Another weaknes: we are accesing fields by integer positions.\n",
    "\n",
    "Let's try to use the range function:"
   ]
  },
  {
   "cell_type": "code",
   "execution_count": 31,
   "id": "3167ea65-0891-4660-8caa-633c768a9e5d",
   "metadata": {},
   "outputs": [],
   "source": [
    "NAME, AGE, PAY = range(3)\n",
    "bob = ['Bob Smith', 42, 10000]"
   ]
  },
  {
   "cell_type": "code",
   "execution_count": 32,
   "id": "035dc2f0-c7bc-402b-a7a0-c123774295ed",
   "metadata": {},
   "outputs": [
    {
     "data": {
      "text/plain": [
       "'Bob Smith'"
      ]
     },
     "execution_count": 32,
     "metadata": {},
     "output_type": "execute_result"
    }
   ],
   "source": [
    "bob[NAME]"
   ]
  },
  {
   "cell_type": "code",
   "execution_count": 33,
   "id": "8c275bc0-6d83-4aa8-aa48-086ac458e55b",
   "metadata": {},
   "outputs": [
    {
     "data": {
      "text/plain": [
       "(2, 10000)"
      ]
     },
     "execution_count": 33,
     "metadata": {},
     "output_type": "execute_result"
    }
   ],
   "source": [
    "PAY, bob[PAY]"
   ]
  },
  {
   "cell_type": "markdown",
   "id": "99b2a4ed-f734-45db-9d6c-1dde6a879ab9",
   "metadata": {},
   "source": [
    "The uppercase variables have become field names.  But we remain dependant on this numbering.\n",
    "\n",
    "Another problem: there is no mapping from the field instances names to field names.\n",
    "\n",
    "We might try the list of tuples structure:"
   ]
  },
  {
   "cell_type": "code",
   "execution_count": 35,
   "id": "4d0c429f-14ca-439e-a3e3-e8ca4524632c",
   "metadata": {},
   "outputs": [
    {
     "data": {
      "text/plain": [
       "[[['name', 'Bob Smith'], ['age', 42], ['pay', 10000]],\n",
       " [['name', 'Sue Jones'], ['age', 45], ['pay', 20000]]]"
      ]
     },
     "execution_count": 35,
     "metadata": {},
     "output_type": "execute_result"
    }
   ],
   "source": [
    "bob = [['name', 'Bob Smith'], ['age', 42], ['pay', 10000]]\n",
    "sue = [['name', 'Sue Jones'], ['age', 45], ['pay', 20000]]\n",
    "people = [bob, sue]\n",
    "people"
   ]
  },
  {
   "cell_type": "markdown",
   "id": "53ecbc4a-ea7e-44cb-b8ae-60f03825c739",
   "metadata": {},
   "source": [
    "But it stil does not solve the problem, since we still have to index by position:"
   ]
  },
  {
   "cell_type": "code",
   "execution_count": 37,
   "id": "484a1fbd-c2a9-4020-95a0-585b7d9a4a5b",
   "metadata": {},
   "outputs": [
    {
     "name": "stdout",
     "output_type": "stream",
     "text": [
      "Bob Smith 10000\n",
      "Sue Jones 20000\n"
     ]
    }
   ],
   "source": [
    "for person in people:\n",
    "    print(person[0][1], person[2][1])"
   ]
  },
  {
   "cell_type": "code",
   "execution_count": 38,
   "id": "7b28bc94-f756-4df2-bc41-61dddfc5e8f2",
   "metadata": {},
   "outputs": [
    {
     "data": {
      "text/plain": [
       "['Bob Smith', 'Sue Jones']"
      ]
     },
     "execution_count": 38,
     "metadata": {},
     "output_type": "execute_result"
    }
   ],
   "source": [
    "[person[0][1] for person in people]"
   ]
  },
  {
   "cell_type": "code",
   "execution_count": 39,
   "id": "85aad65a-3a63-4d32-bafb-22f9722aa513",
   "metadata": {},
   "outputs": [
    {
     "name": "stdout",
     "output_type": "stream",
     "text": [
      "Smith\n",
      "Jones\n"
     ]
    }
   ],
   "source": [
    "for person in people:\n",
    "    print(person[0][1].split()[-1]) # give last names\n",
    "    person[2][1] *= 1.10"
   ]
  },
  {
   "cell_type": "code",
   "execution_count": 40,
   "id": "9c52b2f6-7606-41cd-8409-61a20eb3a175",
   "metadata": {},
   "outputs": [
    {
     "name": "stdout",
     "output_type": "stream",
     "text": [
      "['pay', 11000.0]\n",
      "['pay', 22000.0]\n"
     ]
    }
   ],
   "source": [
    "for person in people:\n",
    "    print(person[2])"
   ]
  },
  {
   "cell_type": "markdown",
   "id": "6c22152a-0c24-4c08-8502-2a18eef35129",
   "metadata": {},
   "source": [
    "Let us inspect field names in loops:"
   ]
  },
  {
   "cell_type": "code",
   "execution_count": 42,
   "id": "88e9d9d5-ea0e-4ef3-adb0-3924b59b17a9",
   "metadata": {},
   "outputs": [
    {
     "name": "stdout",
     "output_type": "stream",
     "text": [
      "Bob Smith\n",
      "Sue Jones\n"
     ]
    }
   ],
   "source": [
    "for person in people:\n",
    "    for name, value in person:\n",
    "        if name == 'name':\n",
    "            print(value)"
   ]
  },
  {
   "cell_type": "markdown",
   "id": "679c3b92-5004-47a2-b134-c497906e0f9e",
   "metadata": {},
   "source": [
    "Better yet writing a *fetcher* function to do this:"
   ]
  },
  {
   "cell_type": "code",
   "execution_count": 44,
   "id": "94a55def-44af-40f0-9b0d-aae5fccce3f0",
   "metadata": {},
   "outputs": [],
   "source": [
    "def field(record, label):\n",
    "    for fname, fvalue in record:\n",
    "        if fname == label:\n",
    "            return fvalue"
   ]
  },
  {
   "cell_type": "code",
   "execution_count": 45,
   "id": "afa718d0-03dc-4853-a51b-3aff28ac8c2a",
   "metadata": {},
   "outputs": [
    {
     "data": {
      "text/plain": [
       "[['name', 'Bob Smith'], ['age', 42], ['pay', 11000.0]]"
      ]
     },
     "execution_count": 45,
     "metadata": {},
     "output_type": "execute_result"
    }
   ],
   "source": [
    "bob"
   ]
  },
  {
   "cell_type": "code",
   "execution_count": 46,
   "id": "693ba334-79c6-43dd-b5e6-834651deb46a",
   "metadata": {},
   "outputs": [
    {
     "data": {
      "text/plain": [
       "'Bob Smith'"
      ]
     },
     "execution_count": 46,
     "metadata": {},
     "output_type": "execute_result"
    }
   ],
   "source": [
    "field(bob, 'name')"
   ]
  },
  {
   "cell_type": "code",
   "execution_count": 47,
   "id": "78fdb7e0-c508-4d60-aaf3-2214bc1e495b",
   "metadata": {},
   "outputs": [
    {
     "data": {
      "text/plain": [
       "22000.0"
      ]
     },
     "execution_count": 47,
     "metadata": {},
     "output_type": "execute_result"
    }
   ],
   "source": [
    "field(sue, 'pay')"
   ]
  },
  {
   "cell_type": "code",
   "execution_count": 48,
   "id": "f504df67-0653-4fcc-a4b7-6ece39f90af3",
   "metadata": {},
   "outputs": [
    {
     "name": "stdout",
     "output_type": "stream",
     "text": [
      "Bob Smith 42\n",
      "Sue Jones 45\n"
     ]
    }
   ],
   "source": [
    "for rec in people:\n",
    "    print(field(rec, 'name'), field(rec, 'age'))"
   ]
  },
  {
   "cell_type": "markdown",
   "id": "244f8cca-5b34-48a8-86a5-41bc03f33c18",
   "metadata": {},
   "source": [
    "This leads to set of record interface functions.  In the next chapter we will find a better way."
   ]
  },
  {
   "cell_type": "markdown",
   "id": "17b39786-4720-4dc9-883a-f7ddb5104a72",
   "metadata": {},
   "source": [
    "### Using Dictionaries\n",
    "\n",
    "Python dictionaries seem to be a natural solution:"
   ]
  },
  {
   "cell_type": "code",
   "execution_count": 51,
   "id": "a97d875e-1fd5-481e-8024-7583efaed31a",
   "metadata": {},
   "outputs": [],
   "source": [
    "bob = {'name': 'Bob Smith', 'age': 42, 'pay': 30000, 'job': 'dev'}\n",
    "sue = {'name': 'Sue Jones', 'age': 45, 'pay': 40000, 'job': 'hdw'}"
   ]
  },
  {
   "cell_type": "markdown",
   "id": "96f841b1-4cde-4b36-b81b-16c66683b11c",
   "metadata": {},
   "source": [
    "Now this is meaningful and does not depend on positions."
   ]
  },
  {
   "cell_type": "code",
   "execution_count": 53,
   "id": "415a88c8-6eaf-4cf5-80fe-e572bc0276dd",
   "metadata": {},
   "outputs": [
    {
     "data": {
      "text/plain": [
       "('Bob Smith', 40000)"
      ]
     },
     "execution_count": 53,
     "metadata": {},
     "output_type": "execute_result"
    }
   ],
   "source": [
    "bob['name'], sue['pay']"
   ]
  },
  {
   "cell_type": "code",
   "execution_count": 54,
   "id": "74701ee7-8f3d-4239-8d49-69c342c2818a",
   "metadata": {},
   "outputs": [
    {
     "data": {
      "text/plain": [
       "'Smith'"
      ]
     },
     "execution_count": 54,
     "metadata": {},
     "output_type": "execute_result"
    }
   ],
   "source": [
    "bob['name'].split()[-1]"
   ]
  },
  {
   "cell_type": "code",
   "execution_count": 55,
   "id": "c7502be8-e216-4f25-92d2-960711be8aef",
   "metadata": {},
   "outputs": [
    {
     "data": {
      "text/plain": [
       "44000.0"
      ]
     },
     "execution_count": 55,
     "metadata": {},
     "output_type": "execute_result"
    }
   ],
   "source": [
    "sue['pay'] *= 1.1\n",
    "sue['pay']"
   ]
  },
  {
   "cell_type": "markdown",
   "id": "89f8eb19-6dd6-42ba-9ba4-f6bc12d91413",
   "metadata": {},
   "source": [
    "Fields are accessed mnemonically now. This is more meaningful."
   ]
  },
  {
   "cell_type": "markdown",
   "id": "f795d2f6-4cbd-47c6-832d-59517f9aeb00",
   "metadata": {},
   "source": [
    "#### Other ways to make dictionaries\n",
    "\n",
    "Namely there are several ways to do this.  Here is a function syntacs using named arguments (keyword arguments):"
   ]
  },
  {
   "cell_type": "code",
   "execution_count": 58,
   "id": "aa5dcc1c-ae10-4024-8f74-58b5420ab997",
   "metadata": {},
   "outputs": [
    {
     "data": {
      "text/plain": [
       "{'name': 'Bob Smith', 'age': 42, 'pay': 30000, 'job': 'dev'}"
      ]
     },
     "execution_count": 58,
     "metadata": {},
     "output_type": "execute_result"
    }
   ],
   "source": [
    "bob = dict(name='Bob Smith', age=42, pay=30000, job='dev')\n",
    "sue = dict(name='Sue Jones', age=45, pay=40000, job='hdw')\n",
    "bob"
   ]
  },
  {
   "cell_type": "code",
   "execution_count": 59,
   "id": "af21a3fd-9043-4eab-b6a4-79d2a01fb791",
   "metadata": {},
   "outputs": [
    {
     "data": {
      "text/plain": [
       "{'name': 'Sue Jones', 'age': 45, 'pay': 40000, 'job': 'hdw'}"
      ]
     },
     "execution_count": 59,
     "metadata": {},
     "output_type": "execute_result"
    }
   ],
   "source": [
    "sue"
   ]
  },
  {
   "cell_type": "markdown",
   "id": "aef4ac6f-f01b-4666-a9cd-cd4afb24c3a1",
   "metadata": {},
   "source": [
    "alternativly we can fill individual fields in a dictionary:"
   ]
  },
  {
   "cell_type": "code",
   "execution_count": 61,
   "id": "f486c436-de54-46bd-833c-4956149adbe6",
   "metadata": {},
   "outputs": [
    {
     "data": {
      "text/plain": [
       "{'name': 'Sue Jones', 'age': 45, 'pay': 40000, 'job': 'htw'}"
      ]
     },
     "execution_count": 61,
     "metadata": {},
     "output_type": "execute_result"
    }
   ],
   "source": [
    "sue = {}\n",
    "sue['name'] = 'Sue Jones'\n",
    "sue['age'] = 45\n",
    "sue['pay'] = 40000\n",
    "sue['job'] = 'htw'\n",
    "sue"
   ]
  },
  {
   "cell_type": "markdown",
   "id": "62c6cf18-666b-4422-a3e7-c1c158fa58df",
   "metadata": {},
   "source": [
    "or by the usage of the zip function:"
   ]
  },
  {
   "cell_type": "code",
   "execution_count": 63,
   "id": "5bc23645-5ef1-49f4-be5c-34501ce434b5",
   "metadata": {},
   "outputs": [
    {
     "data": {
      "text/plain": [
       "[('name', 'Bob Smith'), ('age', 42), ('pay', 30000), ('job', 'dev')]"
      ]
     },
     "execution_count": 63,
     "metadata": {},
     "output_type": "execute_result"
    }
   ],
   "source": [
    "names = ['name', 'age', 'pay', 'job']\n",
    "values = ['Bob Smith', 42, 30000, 'dev']\n",
    "list(zip(names, values))"
   ]
  },
  {
   "cell_type": "code",
   "execution_count": 64,
   "id": "5f66396f-c37f-4caf-b79a-b510b4c095c3",
   "metadata": {},
   "outputs": [
    {
     "data": {
      "text/plain": [
       "{'name': 'Bob Smith', 'age': 42, 'pay': 30000, 'job': 'dev'}"
      ]
     },
     "execution_count": 64,
     "metadata": {},
     "output_type": "execute_result"
    }
   ],
   "source": [
    "bob = dict(zip(names, values))\n",
    "bob"
   ]
  },
  {
   "cell_type": "markdown",
   "id": "c2dc279e-355a-4b57-bacc-c1f64625386a",
   "metadata": {},
   "source": [
    "Finaly, we can initialize a dictionary like this:"
   ]
  },
  {
   "cell_type": "code",
   "execution_count": 66,
   "id": "1139db85-cf67-4f4b-8657-c9243a55258b",
   "metadata": {},
   "outputs": [
    {
     "data": {
      "text/plain": [
       "{'name': '?', 'age': '?', 'pay': '?', 'job': '?'}"
      ]
     },
     "execution_count": 66,
     "metadata": {},
     "output_type": "execute_result"
    }
   ],
   "source": [
    "fields = ('name', 'age', 'pay', 'job')\n",
    "\n",
    "record = dict.fromkeys(fields, '?')\n",
    "\n",
    "record"
   ]
  },
  {
   "cell_type": "markdown",
   "id": "09b9046a-faec-465b-b135-7d5480d18754",
   "metadata": {},
   "source": [
    "#### Lists of dictionaries\n",
    "\n",
    "We still need to colect records into a database:"
   ]
  },
  {
   "cell_type": "code",
   "execution_count": 68,
   "id": "07979b69-58a5-4420-a432-9a61618296c6",
   "metadata": {},
   "outputs": [
    {
     "data": {
      "text/plain": [
       "{'name': 'Bob Smith', 'age': 42, 'pay': 30000, 'job': 'dev'}"
      ]
     },
     "execution_count": 68,
     "metadata": {},
     "output_type": "execute_result"
    }
   ],
   "source": [
    "bob"
   ]
  },
  {
   "cell_type": "code",
   "execution_count": 69,
   "id": "ffe2b853-3cbb-425b-8645-ac5eeea22105",
   "metadata": {},
   "outputs": [
    {
     "data": {
      "text/plain": [
       "{'name': 'Sue Jones', 'age': 45, 'pay': 40000, 'job': 'htw'}"
      ]
     },
     "execution_count": 69,
     "metadata": {},
     "output_type": "execute_result"
    }
   ],
   "source": [
    "sue"
   ]
  },
  {
   "cell_type": "code",
   "execution_count": 70,
   "id": "29b524cf-89c4-4b86-814e-bbe284b1ceae",
   "metadata": {},
   "outputs": [
    {
     "data": {
      "text/plain": [
       "[{'name': 'Bob Smith', 'age': 42, 'pay': 30000, 'job': 'dev'},\n",
       " {'name': 'Sue Jones', 'age': 45, 'pay': 40000, 'job': 'htw'}]"
      ]
     },
     "execution_count": 70,
     "metadata": {},
     "output_type": "execute_result"
    }
   ],
   "source": [
    "people = [bob, sue]\n",
    "people"
   ]
  },
  {
   "cell_type": "code",
   "execution_count": 71,
   "id": "12c1c120-0232-4bc7-801f-b822fbc64ab5",
   "metadata": {},
   "outputs": [
    {
     "name": "stdout",
     "output_type": "stream",
     "text": [
      "Bob Smith, 30000\n",
      "Sue Jones, 40000\n"
     ]
    }
   ],
   "source": [
    "for person in people:\n",
    "    print(person['name'], person['pay'], sep=', ')"
   ]
  },
  {
   "cell_type": "code",
   "execution_count": 72,
   "id": "d6cf467f-e268-47ad-9fc2-eb89914e3bda",
   "metadata": {},
   "outputs": [
    {
     "name": "stdout",
     "output_type": "stream",
     "text": [
      "40000\n"
     ]
    }
   ],
   "source": [
    "for person in people:\n",
    "    if person['name'] == 'Sue Jones':\n",
    "        print(person['pay'])"
   ]
  },
  {
   "cell_type": "markdown",
   "id": "533bdac8-9698-443c-8f3f-ca963cb9fd78",
   "metadata": {},
   "source": [
    "We use keys here:"
   ]
  },
  {
   "cell_type": "code",
   "execution_count": 74,
   "id": "42ebdd42-6f3c-4f80-9067-a9e446f368cc",
   "metadata": {},
   "outputs": [
    {
     "data": {
      "text/plain": [
       "['Bob Smith', 'Sue Jones']"
      ]
     },
     "execution_count": 74,
     "metadata": {},
     "output_type": "execute_result"
    }
   ],
   "source": [
    "names = [person['name'] for person in people]\n",
    "names"
   ]
  },
  {
   "cell_type": "code",
   "execution_count": 75,
   "id": "5675d738-add2-49be-8ba8-ce674a2ae07f",
   "metadata": {},
   "outputs": [
    {
     "data": {
      "text/plain": [
       "['Bob Smith', 'Sue Jones']"
      ]
     },
     "execution_count": 75,
     "metadata": {},
     "output_type": "execute_result"
    }
   ],
   "source": [
    "list(map(lambda x: x['name'], people))"
   ]
  },
  {
   "cell_type": "code",
   "execution_count": 76,
   "id": "07b87569-6084-4888-984d-5b5bfdee87d7",
   "metadata": {},
   "outputs": [
    {
     "data": {
      "text/plain": [
       "70000"
      ]
     },
     "execution_count": 76,
     "metadata": {},
     "output_type": "execute_result"
    }
   ],
   "source": [
    "sum(person['pay'] for person in people)"
   ]
  },
  {
   "cell_type": "markdown",
   "id": "3a243e2e-87a8-4326-b43c-115692e01600",
   "metadata": {},
   "source": [
    "Interestingly, the list comprehensions and the generator expressions can approach SQL queries:"
   ]
  },
  {
   "cell_type": "code",
   "execution_count": 78,
   "id": "53afcddc-7205-456c-b36f-b6f12caba2b8",
   "metadata": {},
   "outputs": [
    {
     "data": {
      "text/plain": [
       "['Sue Jones']"
      ]
     },
     "execution_count": 78,
     "metadata": {},
     "output_type": "execute_result"
    }
   ],
   "source": [
    "[rec['name'] for rec in people if rec['age'] >= 45]"
   ]
  },
  {
   "cell_type": "code",
   "execution_count": 79,
   "id": "3bf3aac5-692e-468c-9726-8ab5827bcb80",
   "metadata": {},
   "outputs": [
    {
     "data": {
      "text/plain": [
       "[42, 2025]"
      ]
     },
     "execution_count": 79,
     "metadata": {},
     "output_type": "execute_result"
    }
   ],
   "source": [
    "[(rec['age'] ** 2 if rec['age'] >= 45 else rec['age']) for rec in people]"
   ]
  },
  {
   "cell_type": "code",
   "execution_count": 80,
   "id": "e0ba5d81-fdd9-4c8d-90aa-de455b3b4bde",
   "metadata": {},
   "outputs": [
    {
     "data": {
      "text/plain": [
       "<generator object <genexpr> at 0x000001AF86320110>"
      ]
     },
     "execution_count": 80,
     "metadata": {},
     "output_type": "execute_result"
    }
   ],
   "source": [
    "G = (rec['name'] for rec in people if rec['age'] >= 45)\n",
    "G"
   ]
  },
  {
   "cell_type": "code",
   "execution_count": 81,
   "id": "8d5f600d-724a-415c-8b8c-1c89abcd5aec",
   "metadata": {},
   "outputs": [
    {
     "data": {
      "text/plain": [
       "'Sue Jones'"
      ]
     },
     "execution_count": 81,
     "metadata": {},
     "output_type": "execute_result"
    }
   ],
   "source": [
    "next(G)"
   ]
  },
  {
   "cell_type": "code",
   "execution_count": 82,
   "id": "20182c67-dc91-468e-9b00-8e26fcc0e323",
   "metadata": {},
   "outputs": [
    {
     "data": {
      "text/plain": [
       "<generator object <genexpr> at 0x000001AF86320860>"
      ]
     },
     "execution_count": 82,
     "metadata": {},
     "output_type": "execute_result"
    }
   ],
   "source": [
    "G = ((rec['age'] ** 2 if rec['age'] >= 45 else rec['age']) for rec in people)\n",
    "G"
   ]
  },
  {
   "cell_type": "code",
   "execution_count": 83,
   "id": "8d063f4e-20aa-420c-9867-c286d3065038",
   "metadata": {},
   "outputs": [
    {
     "data": {
      "text/plain": [
       "42"
      ]
     },
     "execution_count": 83,
     "metadata": {},
     "output_type": "execute_result"
    }
   ],
   "source": [
    "G.__next__()"
   ]
  },
  {
   "cell_type": "markdown",
   "id": "f667e468-52fa-4a78-bed7-0eb355e399af",
   "metadata": {},
   "source": [
    "Easy access via Python dictionares:"
   ]
  },
  {
   "cell_type": "code",
   "execution_count": 85,
   "id": "bee1cb16-8a3d-4c96-ae19-c0befd6d329c",
   "metadata": {},
   "outputs": [
    {
     "name": "stdout",
     "output_type": "stream",
     "text": [
      "Smith\n",
      "Jones\n"
     ]
    }
   ],
   "source": [
    "for person in people:\n",
    "    print(person['name'].split()[-1])\n",
    "    person['pay'] *= 1.10"
   ]
  },
  {
   "cell_type": "code",
   "execution_count": 86,
   "id": "d793c905-2c44-4eb5-88f9-a86db2cf3447",
   "metadata": {},
   "outputs": [
    {
     "name": "stdout",
     "output_type": "stream",
     "text": [
      "{'name': 'Bob Smith', 'age': 42, 'pay': 33000.0, 'job': 'dev'}\n",
      "{'name': 'Sue Jones', 'age': 45, 'pay': 44000.0, 'job': 'htw'}\n"
     ]
    }
   ],
   "source": [
    "for person in people:\n",
    "    print(person)"
   ]
  },
  {
   "cell_type": "code",
   "execution_count": 87,
   "id": "33bcff0f-5740-4976-8fa4-77365744cabe",
   "metadata": {},
   "outputs": [
    {
     "name": "stdout",
     "output_type": "stream",
     "text": [
      "33000.0\n",
      "44000.0\n"
     ]
    }
   ],
   "source": [
    "for person in people:\n",
    "    print(person['pay'])"
   ]
  },
  {
   "cell_type": "markdown",
   "id": "ce5cf07c-6f32-4faf-9e4a-3a16346072a6",
   "metadata": {},
   "source": [
    "#### Nested structures\n",
    "\n",
    "Nesting dictionaries even deeper, dictionaries within dictionaries:"
   ]
  },
  {
   "cell_type": "code",
   "execution_count": 89,
   "id": "aaadac66-2ae0-4555-899c-5a4e30ad9501",
   "metadata": {},
   "outputs": [],
   "source": [
    "bob2 = {'name': {'first': 'Bob', 'last': 'Smith'},\n",
    "        'age': 42,\n",
    "        'job': ['software', 'writing'],\n",
    "        'pay': (40_000, 50_000)}"
   ]
  },
  {
   "cell_type": "code",
   "execution_count": 90,
   "id": "e39fea14-96c9-4bd8-9586-cf600387ffe2",
   "metadata": {},
   "outputs": [
    {
     "data": {
      "text/plain": [
       "{'name': {'first': 'Bob', 'last': 'Smith'},\n",
       " 'age': 42,\n",
       " 'job': ['software', 'writing'],\n",
       " 'pay': (40000, 50000)}"
      ]
     },
     "execution_count": 90,
     "metadata": {},
     "output_type": "execute_result"
    }
   ],
   "source": [
    "bob2"
   ]
  },
  {
   "cell_type": "code",
   "execution_count": 91,
   "id": "601a6489-c697-4d89-8461-a073caddaeab",
   "metadata": {},
   "outputs": [
    {
     "data": {
      "text/plain": [
       "{'first': 'Bob', 'last': 'Smith'}"
      ]
     },
     "execution_count": 91,
     "metadata": {},
     "output_type": "execute_result"
    }
   ],
   "source": [
    "bob2['name']"
   ]
  },
  {
   "cell_type": "code",
   "execution_count": 92,
   "id": "553cb70d-4c2f-4a61-95c5-c975f0cf2d7f",
   "metadata": {},
   "outputs": [
    {
     "data": {
      "text/plain": [
       "'Smith'"
      ]
     },
     "execution_count": 92,
     "metadata": {},
     "output_type": "execute_result"
    }
   ],
   "source": [
    "bob2['name']['last']"
   ]
  },
  {
   "cell_type": "code",
   "execution_count": 93,
   "id": "44f5582d-8285-416f-9499-c75dc6dbb114",
   "metadata": {},
   "outputs": [
    {
     "data": {
      "text/plain": [
       "50000"
      ]
     },
     "execution_count": 93,
     "metadata": {},
     "output_type": "execute_result"
    }
   ],
   "source": [
    "bob2['pay'][1]"
   ]
  },
  {
   "cell_type": "markdown",
   "id": "c5f2c2df-dfa1-41e7-ab18-701b93f792dd",
   "metadata": {},
   "source": [
    "Working with lists:"
   ]
  },
  {
   "cell_type": "code",
   "execution_count": 95,
   "id": "6018d5bf-03cb-4740-a014-a65e5ad0f0f6",
   "metadata": {},
   "outputs": [
    {
     "name": "stdout",
     "output_type": "stream",
     "text": [
      "software\n",
      "writing\n"
     ]
    }
   ],
   "source": [
    "for job in bob2['job']:\n",
    "    print(job)"
   ]
  },
  {
   "cell_type": "code",
   "execution_count": 96,
   "id": "80b73a98-ca00-4aeb-b116-33c092ec0675",
   "metadata": {},
   "outputs": [
    {
     "name": "stdout",
     "output_type": "stream",
     "text": [
      "['software', 'writing', 'janitor']\n"
     ]
    }
   ],
   "source": [
    "bob2['job'].append('janitor')\n",
    "print(bob2['job'])"
   ]
  },
  {
   "cell_type": "code",
   "execution_count": 97,
   "id": "5b679992-919c-477e-b780-e4108933a028",
   "metadata": {},
   "outputs": [
    {
     "data": {
      "text/plain": [
       "{'name': {'first': 'Bob', 'last': 'Smith'},\n",
       " 'age': 42,\n",
       " 'job': ['software', 'writing', 'janitor'],\n",
       " 'pay': (40000, 50000)}"
      ]
     },
     "execution_count": 97,
     "metadata": {},
     "output_type": "execute_result"
    }
   ],
   "source": [
    "bob2"
   ]
  },
  {
   "cell_type": "markdown",
   "id": "4d62816a-ea30-4598-b7ff-30473052a87c",
   "metadata": {},
   "source": [
    "#### Dictionaries of dictionaries\n",
    "\n",
    "The whole database is expressed as a dictionary.  We are retrieving record by **symbolic key**:"
   ]
  },
  {
   "cell_type": "code",
   "execution_count": 99,
   "id": "cdade39b-3d43-4e56-a6e6-137724464f2f",
   "metadata": {},
   "outputs": [
    {
     "data": {
      "text/plain": [
       "{'name': 'Bob Smith', 'age': 42, 'pay': 30000, 'job': 'dev'}"
      ]
     },
     "execution_count": 99,
     "metadata": {},
     "output_type": "execute_result"
    }
   ],
   "source": [
    "bob = dict(name='Bob Smith', age=42, pay=30000, job='dev')\n",
    "sue = dict(name='Sue Jones', age=45, pay=40000, job='hdw')\n",
    "bob"
   ]
  },
  {
   "cell_type": "code",
   "execution_count": 100,
   "id": "f2859004-33ed-460c-a4f0-b69a675f2aac",
   "metadata": {},
   "outputs": [
    {
     "data": {
      "text/plain": [
       "{'bob': {'name': 'Bob Smith', 'age': 42, 'pay': 30000, 'job': 'dev'},\n",
       " 'sue': {'name': 'Sue Jones', 'age': 45, 'pay': 40000, 'job': 'hdw'}}"
      ]
     },
     "execution_count": 100,
     "metadata": {},
     "output_type": "execute_result"
    }
   ],
   "source": [
    "db = {}\n",
    "db['bob'] = bob\n",
    "db['sue'] = sue\n",
    "db"
   ]
  },
  {
   "cell_type": "code",
   "execution_count": 101,
   "id": "59c53158-0c6e-4ef1-b03f-525db95ab512",
   "metadata": {},
   "outputs": [
    {
     "data": {
      "text/plain": [
       "'Bob Smith'"
      ]
     },
     "execution_count": 101,
     "metadata": {},
     "output_type": "execute_result"
    }
   ],
   "source": [
    "db['bob']['name']"
   ]
  },
  {
   "cell_type": "code",
   "execution_count": 102,
   "id": "26f1e705-a639-4297-a61b-c75f43e7a410",
   "metadata": {},
   "outputs": [],
   "source": [
    "db['sue']['pay'] = 50_000"
   ]
  },
  {
   "cell_type": "code",
   "execution_count": 103,
   "id": "cc1e7b78-6a9f-4155-9150-f4e00927bbdb",
   "metadata": {},
   "outputs": [
    {
     "data": {
      "text/plain": [
       "{'name': 'Sue Jones', 'age': 45, 'pay': 50000, 'job': 'hdw'}"
      ]
     },
     "execution_count": 103,
     "metadata": {},
     "output_type": "execute_result"
    }
   ],
   "source": [
    "db['sue']"
   ]
  },
  {
   "cell_type": "markdown",
   "id": "94f93eaa-80a6-46e8-85ea-5dee7d7bc23a",
   "metadata": {},
   "source": [
    "Notice how we access the data **directly**, instead of searching the data in a loop.\n",
    "\n",
    "For nice output we use the **pprint** function."
   ]
  },
  {
   "cell_type": "code",
   "execution_count": 105,
   "id": "763e2785-af52-4690-9839-65e4c8f54865",
   "metadata": {},
   "outputs": [
    {
     "data": {
      "text/plain": [
       "{'bob': {'name': 'Bob Smith', 'age': 42, 'pay': 30000, 'job': 'dev'},\n",
       " 'sue': {'name': 'Sue Jones', 'age': 45, 'pay': 50000, 'job': 'hdw'}}"
      ]
     },
     "execution_count": 105,
     "metadata": {},
     "output_type": "execute_result"
    }
   ],
   "source": [
    "db"
   ]
  },
  {
   "cell_type": "code",
   "execution_count": 106,
   "id": "682a7da1-c6b8-4bc4-9dbf-5890f0967541",
   "metadata": {},
   "outputs": [
    {
     "name": "stdout",
     "output_type": "stream",
     "text": [
      "{'bob': {'age': 42, 'job': 'dev', 'name': 'Bob Smith', 'pay': 30000},\n",
      " 'sue': {'age': 45, 'job': 'hdw', 'name': 'Sue Jones', 'pay': 50000}}\n"
     ]
    }
   ],
   "source": [
    "import pprint\n",
    "pprint.pprint(db)"
   ]
  },
  {
   "cell_type": "markdown",
   "id": "11ae1dae-54ee-4b56-930c-ec16ee2a3665",
   "metadata": {},
   "source": [
    "For iterating over the db we use dictionary iterators (keys of a dictionary):"
   ]
  },
  {
   "cell_type": "code",
   "execution_count": 108,
   "id": "96a819c9-6a37-4a87-a534-32cc200422f6",
   "metadata": {},
   "outputs": [
    {
     "name": "stdout",
     "output_type": "stream",
     "text": [
      "bob => {'name': 'Bob Smith', 'age': 42, 'pay': 30000, 'job': 'dev'}\n",
      "sue => {'name': 'Sue Jones', 'age': 45, 'pay': 50000, 'job': 'hdw'}\n"
     ]
    }
   ],
   "source": [
    "for key in db:\n",
    "    print(key, '=>', db[key])"
   ]
  },
  {
   "cell_type": "code",
   "execution_count": 109,
   "id": "f7cb76aa-87bd-4657-9ef1-407ecceb98fb",
   "metadata": {},
   "outputs": [
    {
     "name": "stdout",
     "output_type": "stream",
     "text": [
      "bob => Bob Smith\n",
      "sue => Sue Jones\n"
     ]
    }
   ],
   "source": [
    "for key in db:\n",
    "    print(key, '=>', db[key]['name'])"
   ]
  },
  {
   "cell_type": "code",
   "execution_count": 110,
   "id": "e0098044-bb31-4ce7-aaf7-67658d4e8be6",
   "metadata": {},
   "outputs": [
    {
     "name": "stdout",
     "output_type": "stream",
     "text": [
      "bob => 30000\n",
      "sue => 50000\n"
     ]
    }
   ],
   "source": [
    "for key in db:\n",
    "    print(key, '=>', db[key]['pay'])"
   ]
  },
  {
   "cell_type": "code",
   "execution_count": 111,
   "id": "1e38ebbc-0ec1-4b29-af95-cc3ce719df88",
   "metadata": {},
   "outputs": [
    {
     "name": "stdout",
     "output_type": "stream",
     "text": [
      "Smith\n",
      "Jones\n"
     ]
    }
   ],
   "source": [
    "for key in db:\n",
    "    print(db[key]['name'].split()[-1])\n",
    "    db[key]['pay'] *= 1.10"
   ]
  },
  {
   "cell_type": "code",
   "execution_count": 112,
   "id": "ca4419fa-3b11-4078-8148-235dd5efe394",
   "metadata": {},
   "outputs": [
    {
     "name": "stdout",
     "output_type": "stream",
     "text": [
      "33000.0\n",
      "55000.00000000001\n"
     ]
    }
   ],
   "source": [
    "for rec in db.values():\n",
    "    print(rec['pay'])"
   ]
  },
  {
   "cell_type": "code",
   "execution_count": 113,
   "id": "9b6fe55d-0423-4180-9eff-c75a52d471fc",
   "metadata": {},
   "outputs": [
    {
     "data": {
      "text/plain": [
       "['Bob Smith', 'Sue Jones']"
      ]
     },
     "execution_count": 113,
     "metadata": {},
     "output_type": "execute_result"
    }
   ],
   "source": [
    "x = [db[key]['name'] for key in db]\n",
    "x"
   ]
  },
  {
   "cell_type": "code",
   "execution_count": 114,
   "id": "e15797dd-b52b-488f-b2b9-039c0d4172a1",
   "metadata": {},
   "outputs": [
    {
     "data": {
      "text/plain": [
       "['Bob Smith', 'Sue Jones']"
      ]
     },
     "execution_count": 114,
     "metadata": {},
     "output_type": "execute_result"
    }
   ],
   "source": [
    "x = [rec['name'] for rec in db.values()]\n",
    "x"
   ]
  },
  {
   "cell_type": "markdown",
   "id": "487ac947-6e1a-4f37-906f-af1e45250bc5",
   "metadata": {},
   "source": [
    "Adding a new record by simple dictionary-assignment:"
   ]
  },
  {
   "cell_type": "code",
   "execution_count": 116,
   "id": "2c8be6cf-b937-452e-85e6-181e7ac9b56f",
   "metadata": {},
   "outputs": [
    {
     "data": {
      "text/plain": [
       "{'bob': {'name': 'Bob Smith', 'age': 42, 'pay': 33000.0, 'job': 'dev'},\n",
       " 'sue': {'name': 'Sue Jones',\n",
       "  'age': 45,\n",
       "  'pay': 55000.00000000001,\n",
       "  'job': 'hdw'},\n",
       " 'tom': {'name': 'Tom', 'age': 50, 'job': None, 'pay': 0}}"
      ]
     },
     "execution_count": 116,
     "metadata": {},
     "output_type": "execute_result"
    }
   ],
   "source": [
    "db['tom'] = dict(name='Tom', age=50, job=None, pay=0)\n",
    "db"
   ]
  },
  {
   "cell_type": "code",
   "execution_count": 117,
   "id": "3fd94575-3f8a-4ce1-a77b-89aa7cf06e6c",
   "metadata": {},
   "outputs": [
    {
     "name": "stdout",
     "output_type": "stream",
     "text": [
      "{'bob': {'age': 42, 'job': 'dev', 'name': 'Bob Smith', 'pay': 33000.0},\n",
      " 'sue': {'age': 45,\n",
      "         'job': 'hdw',\n",
      "         'name': 'Sue Jones',\n",
      "         'pay': 55000.00000000001},\n",
      " 'tom': {'age': 50, 'job': None, 'name': 'Tom', 'pay': 0}}\n"
     ]
    }
   ],
   "source": [
    "pprint.pprint(db)"
   ]
  },
  {
   "cell_type": "code",
   "execution_count": 118,
   "id": "b73135a0-cd0c-44dc-bf04-a04c1a66529f",
   "metadata": {},
   "outputs": [
    {
     "data": {
      "text/plain": [
       "'Tom'"
      ]
     },
     "execution_count": 118,
     "metadata": {},
     "output_type": "execute_result"
    }
   ],
   "source": [
    "db['tom']['name']"
   ]
  },
  {
   "cell_type": "code",
   "execution_count": 119,
   "id": "e813e54f-1be5-4ce8-8322-67e0877362e0",
   "metadata": {},
   "outputs": [
    {
     "data": {
      "text/plain": [
       "['bob', 'sue', 'tom']"
      ]
     },
     "execution_count": 119,
     "metadata": {},
     "output_type": "execute_result"
    }
   ],
   "source": [
    "list(db.keys())"
   ]
  },
  {
   "cell_type": "code",
   "execution_count": 120,
   "id": "f549cf6d-8b48-48df-ba29-b08f006577d3",
   "metadata": {},
   "outputs": [
    {
     "data": {
      "text/plain": [
       "3"
      ]
     },
     "execution_count": 120,
     "metadata": {},
     "output_type": "execute_result"
    }
   ],
   "source": [
    "len(db)"
   ]
  },
  {
   "cell_type": "code",
   "execution_count": 121,
   "id": "f168eb87-b62e-4da2-8875-6b4a791fd91e",
   "metadata": {},
   "outputs": [
    {
     "data": {
      "text/plain": [
       "[42, 45, 50]"
      ]
     },
     "execution_count": 121,
     "metadata": {},
     "output_type": "execute_result"
    }
   ],
   "source": [
    "[rec['age'] for rec in db.values()]    "
   ]
  },
  {
   "cell_type": "code",
   "execution_count": 122,
   "id": "1b8b0a5e-f7ca-4bb2-a189-88204c2fd297",
   "metadata": {},
   "outputs": [
    {
     "data": {
      "text/plain": [
       "['Sue Jones', 'Tom']"
      ]
     },
     "execution_count": 122,
     "metadata": {},
     "output_type": "execute_result"
    }
   ],
   "source": [
    "[rec['name'] for rec in db.values() if rec['age'] >= 45]  "
   ]
  },
  {
   "cell_type": "markdown",
   "id": "393101df-94ab-4cc2-a2ba-298f05a2cfb7",
   "metadata": {},
   "source": [
    "This dictionary of dictionaries is still transient in memory, but it corresponds totally to the system **shelve** for permanent storage."
   ]
  },
  {
   "cell_type": "markdown",
   "id": "632c0248-caa3-4780-ba83-0c16d8aebd77",
   "metadata": {},
   "source": [
    "# Step 2: Storing Records Persistently\n",
    "\n",
    "The objects so far live only in memory.  We need to save them to the disk.\n",
    "\n",
    "## Using Formated Files\n",
    "\n",
    "This is the most primitive way to do it.  We use simple text files.\n",
    "\n",
    "### Test data script\n",
    "\n",
    "We will first create our database.  So that we will not need to type interactively, we shall do it in a file:"
   ]
  },
  {
   "cell_type": "code",
   "execution_count": 125,
   "id": "d3f9576b-4474-402a-9f77-934f94f0f036",
   "metadata": {},
   "outputs": [
    {
     "name": "stdout",
     "output_type": "stream",
     "text": [
      "Overwriting initdata.py\n"
     ]
    }
   ],
   "source": [
    "%%writefile initdata.py\n",
    "\n",
    "# initalize data to be stored in files, pickles, shelves\n",
    "\n",
    "# records\n",
    "bob = {'name': 'Bob Smith', 'age': 42, 'pay': 30000, 'job': 'dev'}\n",
    "sue = {'name': 'Sue Jones', 'age': 45, 'pay': 40000, 'job': 'hdw'}\n",
    "tom = {'name': 'Tom', 'age': 50, 'pay': 0, 'job': None}\n",
    "\n",
    "# database\n",
    "db = {}\n",
    "db['bob'] = bob\n",
    "db['sue'] = sue\n",
    "db['tom'] = tom\n",
    "\n",
    "print(__name__)\n",
    "\n",
    "if __name__ == '__main__':\n",
    "    for key in db:\n",
    "        print(key, '=>\\n  ', db[key])"
   ]
  },
  {
   "cell_type": "markdown",
   "id": "c51fc0e6-068d-4868-ad28-c3c136b2e625",
   "metadata": {},
   "source": [
    "Note how we used the magic command **writefile**.\n",
    "\n",
    "By exporting this cell to the file **initdata.py** we will be later able to **import** it into our code as a module."
   ]
  },
  {
   "cell_type": "code",
   "execution_count": 127,
   "id": "49785e93-d534-4a5e-9142-75688e47f509",
   "metadata": {},
   "outputs": [
    {
     "name": "stdout",
     "output_type": "stream",
     "text": [
      "initdata\n"
     ]
    }
   ],
   "source": [
    "import initdata"
   ]
  },
  {
   "cell_type": "code",
   "execution_count": 128,
   "id": "882a9c07-4a02-475e-990a-c356aabd3f4d",
   "metadata": {},
   "outputs": [
    {
     "name": "stdout",
     "output_type": "stream",
     "text": [
      "bob =>\n",
      "   {'name': 'Bob Smith', 'age': 42, 'pay': 33000.0, 'job': 'dev'}\n",
      "sue =>\n",
      "   {'name': 'Sue Jones', 'age': 45, 'pay': 55000.00000000001, 'job': 'hdw'}\n",
      "tom =>\n",
      "   {'name': 'Tom', 'age': 50, 'job': None, 'pay': 0}\n"
     ]
    }
   ],
   "source": [
    "for key in db:\n",
    "    print(key, '=>\\n  ', db[key])"
   ]
  },
  {
   "cell_type": "markdown",
   "id": "c1535ef4-58af-40c2-b08c-3378652cdece",
   "metadata": {},
   "source": [
    "### File name conventions\n",
    "\n",
    "The data is located in the **PP4E** directory.\n",
    "\n",
    "### Script start-up pointers\n",
    "\n",
    "Sometimes you need to include the **input()** function to force the cmd window not to desapear too quickly.\n",
    "\n",
    "### Data format script\n",
    "\n",
    "Now all that we need is a way to store the database.  This is our first try:"
   ]
  },
  {
   "cell_type": "code",
   "execution_count": 130,
   "id": "5a38924d-c78a-4546-b6c2-ab9477670d54",
   "metadata": {},
   "outputs": [
    {
     "name": "stdout",
     "output_type": "stream",
     "text": [
      "Overwriting make_db_file.py\n"
     ]
    }
   ],
   "source": [
    "# %%writefile make_db_file.py\n",
    "\n",
    "import sys\n",
    "\n",
    "dbfilename = 'people-file'\n",
    "ENDDB = 'enddb.'\n",
    "ENDREC = 'endrec.'\n",
    "RECSEP = '=>'\n",
    "\n",
    "def storeDbase(db, dbfilename=dbfilename):\n",
    "    \"formated dump of database to flat file\"\n",
    "    if dbfilename == None:\n",
    "        dbfile = sys.stdout\n",
    "    else:\n",
    "        dbfile = open(dbfilename, 'w')\n",
    "    for key, rec in db.items():\n",
    "        print(key, file=dbfile)\n",
    "        for name, value in rec.items():\n",
    "            print(name + RECSEP + repr(value), file=dbfile)\n",
    "        print(ENDREC, file=dbfile)\n",
    "    print(ENDDB, file=dbfile)\n",
    "    dbfile.close()\n",
    "\n",
    "def loadDbase(dbfilename=dbfilename):\n",
    "    \"parse data to reconstruct database\"\n",
    "    dbfile = open(dbfilename, 'r')\n",
    "    sys.stdin = dbfile\n",
    "    db = {}\n",
    "    key = input()\n",
    "    while key != ENDDB:\n",
    "        rec = {}\n",
    "        field = input()\n",
    "        while field != ENDREC:\n",
    "            name, value = field.split(RECSEP)\n",
    "            rec[name] = eval(value)\n",
    "            field = input()\n",
    "        db[key] = rec\n",
    "        key = input()\n",
    "    return db\n",
    "    \n",
    "# if __name__ == '__main__':\n",
    "    # from initdata import db\n",
    "    # storeDbase(db, 'file01.txt')\n",
    "    #\n",
    "    # db = loadDbase('file01.txt')\n",
    "    # storeDbase(db, 'file02.txt')\n",
    "    #\n",
    "    # db = loadDbase('file02.txt')\n",
    "    # storeDbase(db, dbfilename=None)"
   ]
  },
  {
   "cell_type": "code",
   "execution_count": null,
   "id": "58c0dcd9-ce9a-4b9c-99db-7ade61b57d90",
   "metadata": {},
   "outputs": [],
   "source": []
  },
  {
   "cell_type": "markdown",
   "id": "90b4fb81-e760-42a6-af60-524ca26deb32",
   "metadata": {},
   "source": [
    "This was our first rather lengthy try.  \n",
    "\n",
    "Note the **repr** function to get more raw output when storing to disk and note the **eval** function when accessing the data from the disk.  \n",
    "\n",
    "Now let see how **initdata** defines the database **db**:"
   ]
  },
  {
   "cell_type": "code",
   "execution_count": 132,
   "id": "ba76d809-9947-40fd-8bfa-1e906c95fc54",
   "metadata": {},
   "outputs": [
    {
     "name": "stdout",
     "output_type": "stream",
     "text": [
      "{'bob': {'age': 42, 'job': 'dev', 'name': 'Bob Smith', 'pay': 30000},\n",
      " 'sue': {'age': 45, 'job': 'hdw', 'name': 'Sue Jones', 'pay': 40000},\n",
      " 'tom': {'age': 50, 'job': None, 'name': 'Tom', 'pay': 0}}\n"
     ]
    }
   ],
   "source": [
    "from initdata import *\n",
    "from pprint import pprint\n",
    "\n",
    "pprint(db)"
   ]
  },
  {
   "cell_type": "markdown",
   "id": "b3d76b33-cd97-4704-ab35-c88a64540d56",
   "metadata": {},
   "source": [
    "Here we store the database using **storeDbase**:"
   ]
  },
  {
   "cell_type": "code",
   "execution_count": 134,
   "id": "5d3b4a3a-65b1-4a1b-a5cf-b31ad8a59942",
   "metadata": {},
   "outputs": [
    {
     "name": "stdout",
     "output_type": "stream",
     "text": [
      "bob\n",
      "name=>'Bob Smith'\n",
      "age=>42\n",
      "pay=>30000\n",
      "job=>'dev'\n",
      "endrec.\n",
      "sue\n",
      "name=>'Sue Jones'\n",
      "age=>45\n",
      "pay=>40000\n",
      "job=>'hdw'\n",
      "endrec.\n",
      "tom\n",
      "name=>'Tom'\n",
      "age=>50\n",
      "pay=>0\n",
      "job=>None\n",
      "endrec.\n",
      "enddb.\n"
     ]
    }
   ],
   "source": [
    "from initdata import *\n",
    "from make_db_file import *\n",
    "\n",
    "storeDbase(db)\n",
    "\n",
    "for line in open('people-file'):\n",
    "    print(line, end='')"
   ]
  },
  {
   "cell_type": "markdown",
   "id": "73cfb830-f155-4576-bbeb-726ce446ec80",
   "metadata": {},
   "source": [
    "### Utility scripts\n",
    "\n",
    "This program reloads the database:"
   ]
  },
  {
   "cell_type": "code",
   "execution_count": null,
   "id": "e289f93d-936e-4e63-b62c-c1192c274186",
   "metadata": {},
   "outputs": [],
   "source": [
    "# %%writefile dump_db_file\n",
    "\n",
    "# from make_db_file import loadDbase\n",
    "\n",
    "db = loadDbase()\n",
    "\n",
    "# for key in db:\n",
    "#     print(key, '=>\\n', db[key])\n",
    "\n",
    "# print(db['sue']['name'])"
   ]
  },
  {
   "cell_type": "code",
   "execution_count": null,
   "id": "494297e5-ebc4-4ac3-9b2c-9c0b3334b7f5",
   "metadata": {},
   "outputs": [],
   "source": []
  },
  {
   "cell_type": "code",
   "execution_count": null,
   "id": "088f212e-fa55-4ff7-b438-bc3501ef2f45",
   "metadata": {},
   "outputs": [],
   "source": []
  },
  {
   "cell_type": "code",
   "execution_count": null,
   "id": "6021721e-221e-40c9-a5ea-8d19065bbea0",
   "metadata": {},
   "outputs": [],
   "source": []
  },
  {
   "cell_type": "code",
   "execution_count": null,
   "id": "bbda86f6-3232-428a-a3fc-6ef4a7ffbc33",
   "metadata": {},
   "outputs": [],
   "source": []
  },
  {
   "cell_type": "code",
   "execution_count": null,
   "id": "c953c0c0-2487-4e1e-8ee2-3b862bb7e39b",
   "metadata": {},
   "outputs": [],
   "source": []
  },
  {
   "cell_type": "code",
   "execution_count": null,
   "id": "72ecc86a-65a5-45db-b312-1688f5a7af13",
   "metadata": {},
   "outputs": [],
   "source": []
  },
  {
   "cell_type": "markdown",
   "id": "7d84e004-adb9-4da7-a65e-86ce17d280e3",
   "metadata": {},
   "source": [
    "# Shelves"
   ]
  },
  {
   "cell_type": "code",
   "execution_count": null,
   "id": "aee73b45-a923-4ac7-9c69-6b9ac44e5bb2",
   "metadata": {},
   "outputs": [],
   "source": []
  },
  {
   "cell_type": "code",
   "execution_count": null,
   "id": "500a5c26-99f2-4cea-a9d9-d698acef4b4e",
   "metadata": {},
   "outputs": [],
   "source": []
  },
  {
   "cell_type": "code",
   "execution_count": 136,
   "id": "45883be0-c312-4c9a-bd19-26e03a921cb1",
   "metadata": {},
   "outputs": [],
   "source": [
    "from initdata import bob, sue\n"
   ]
  },
  {
   "cell_type": "code",
   "execution_count": 137,
   "id": "e39ab22d-883c-4516-9845-50b4b56e464e",
   "metadata": {},
   "outputs": [
    {
     "name": "stdout",
     "output_type": "stream",
     "text": [
      "__main__\n"
     ]
    }
   ],
   "source": [
    "print(__name__)"
   ]
  }
 ],
 "metadata": {
  "kernelspec": {
   "display_name": "Python 3 (ipykernel)",
   "language": "python",
   "name": "python3"
  },
  "language_info": {
   "codemirror_mode": {
    "name": "ipython",
    "version": 3
   },
   "file_extension": ".py",
   "mimetype": "text/x-python",
   "name": "python",
   "nbconvert_exporter": "python",
   "pygments_lexer": "ipython3",
   "version": "3.12.4"
  }
 },
 "nbformat": 4,
 "nbformat_minor": 5
}
