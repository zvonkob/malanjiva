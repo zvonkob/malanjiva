{
 "cells": [
  {
   "cell_type": "code",
   "execution_count": 1,
   "id": "d0f312bf-5d31-480b-92c2-8353b302e45b",
   "metadata": {},
   "outputs": [
    {
     "data": {
      "text/plain": [
       "'win32'"
      ]
     },
     "execution_count": 1,
     "metadata": {},
     "output_type": "execute_result"
    }
   ],
   "source": [
    "import sys\n",
    "sys.platform"
   ]
  },
  {
   "cell_type": "code",
   "execution_count": 3,
   "id": "f8ddb7ab-5287-4379-9da3-66a68ac0c6b7",
   "metadata": {},
   "outputs": [
    {
     "data": {
      "text/plain": [
       "1267650600228229401496703205376"
      ]
     },
     "execution_count": 3,
     "metadata": {},
     "output_type": "execute_result"
    }
   ],
   "source": [
    "2 ** 100"
   ]
  },
  {
   "cell_type": "code",
   "execution_count": 5,
   "id": "d8b86bf4-26f6-4dcb-8f70-b54b0dcc07a6",
   "metadata": {},
   "outputs": [
    {
     "data": {
      "text/plain": [
       "'E:\\\\GIT\\\\MALANJIVA\\\\LUTZ\\\\MYCODE'"
      ]
     },
     "execution_count": 5,
     "metadata": {},
     "output_type": "execute_result"
    }
   ],
   "source": [
    "import os\n",
    "os.getcwd()"
   ]
  },
  {
   "cell_type": "code",
   "execution_count": 7,
   "id": "749dd89d-d442-4553-8037-2b4549ce638c",
   "metadata": {},
   "outputs": [
    {
     "name": "stdout",
     "output_type": "stream",
     "text": [
      "dead parrot sketch\n"
     ]
    }
   ],
   "source": [
    "import threenames"
   ]
  },
  {
   "cell_type": "code",
   "execution_count": 9,
   "id": "c90e65c3-12e5-4ea5-86ad-d0bd2247651c",
   "metadata": {},
   "outputs": [
    {
     "data": {
      "text/plain": [
       "('parrot', 'sketch')"
      ]
     },
     "execution_count": 9,
     "metadata": {},
     "output_type": "execute_result"
    }
   ],
   "source": [
    "threenames.b, threenames.c"
   ]
  },
  {
   "cell_type": "code",
   "execution_count": 11,
   "id": "c792a26d-71fd-4214-b1be-779b07ce2b86",
   "metadata": {},
   "outputs": [
    {
     "data": {
      "text/plain": [
       "['__builtins__',\n",
       " '__cached__',\n",
       " '__doc__',\n",
       " '__file__',\n",
       " '__loader__',\n",
       " '__name__',\n",
       " '__package__',\n",
       " '__spec__',\n",
       " 'a',\n",
       " 'b',\n",
       " 'c']"
      ]
     },
     "execution_count": 11,
     "metadata": {},
     "output_type": "execute_result"
    }
   ],
   "source": [
    "dir(threenames)"
   ]
  },
  {
   "cell_type": "code",
   "execution_count": null,
   "id": "dec4ee68-55fd-465b-8886-5985daec097c",
   "metadata": {},
   "outputs": [],
   "source": []
  }
 ],
 "metadata": {
  "kernelspec": {
   "display_name": "Python 3 (ipykernel)",
   "language": "python",
   "name": "python3"
  },
  "language_info": {
   "codemirror_mode": {
    "name": "ipython",
    "version": 3
   },
   "file_extension": ".py",
   "mimetype": "text/x-python",
   "name": "python",
   "nbconvert_exporter": "python",
   "pygments_lexer": "ipython3",
   "version": "3.12.4"
  }
 },
 "nbformat": 4,
 "nbformat_minor": 5
}
