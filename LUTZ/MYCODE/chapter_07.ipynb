{
 "cells": [
  {
   "cell_type": "code",
   "execution_count": 1,
   "id": "d1dfbdb6-5f40-443e-9e8b-12b4d66c561d",
   "metadata": {},
   "outputs": [
    {
     "data": {
      "text/plain": [
       "'Moja mala nema mane.'"
      ]
     },
     "execution_count": 1,
     "metadata": {},
     "output_type": "execute_result"
    }
   ],
   "source": [
    "s = ('Moja' \n",
    "     ' mala'\n",
    "     ' nema mane.')\n",
    "s"
   ]
  },
  {
   "cell_type": "code",
   "execution_count": 3,
   "id": "9fb0bfdb-3279-4972-8979-d071a3bf4e07",
   "metadata": {},
   "outputs": [
    {
     "data": {
      "text/plain": [
       "'s\\x00b\\x00c'"
      ]
     },
     "execution_count": 3,
     "metadata": {},
     "output_type": "execute_result"
    }
   ],
   "source": [
    "s = 's\\0b\\0c'\n",
    "s"
   ]
  },
  {
   "cell_type": "code",
   "execution_count": 7,
   "id": "ad9ef5cb-e9c3-4617-96e9-38e849ba3e1f",
   "metadata": {},
   "outputs": [
    {
     "data": {
      "text/plain": [
       "'\\x00'"
      ]
     },
     "execution_count": 7,
     "metadata": {},
     "output_type": "execute_result"
    }
   ],
   "source": [
    "ss = '\\0'\n",
    "ss"
   ]
  },
  {
   "cell_type": "code",
   "execution_count": 13,
   "id": "0efb3c5b-e19b-4e04-9ecd-ce94bbc6b7d3",
   "metadata": {},
   "outputs": [
    {
     "data": {
      "text/plain": [
       "'\\x01\\x02\\x03'"
      ]
     },
     "execution_count": 13,
     "metadata": {},
     "output_type": "execute_result"
    }
   ],
   "source": [
    "s = '\\001\\002\\x03'\n",
    "s"
   ]
  },
  {
   "cell_type": "code",
   "execution_count": 15,
   "id": "9151f58c-35a2-46e7-abba-54b60c794a6a",
   "metadata": {},
   "outputs": [
    {
     "data": {
      "text/plain": [
       "'s\\tp\\na\\x00m'"
      ]
     },
     "execution_count": 15,
     "metadata": {},
     "output_type": "execute_result"
    }
   ],
   "source": [
    "S = 's\\tp\\na\\x00m'\n",
    "S"
   ]
  },
  {
   "cell_type": "code",
   "execution_count": 19,
   "id": "722a60aa-9822-4240-bb0b-5db224792bbc",
   "metadata": {},
   "outputs": [
    {
     "name": "stdout",
     "output_type": "stream",
     "text": [
      "s\tp\n",
      "a\u0000m\n"
     ]
    }
   ],
   "source": [
    "print(S)"
   ]
  },
  {
   "cell_type": "code",
   "execution_count": 21,
   "id": "6bc1f6d4-7703-4787-ab88-27cedad61cb5",
   "metadata": {},
   "outputs": [
    {
     "data": {
      "text/plain": [
       "7"
      ]
     },
     "execution_count": 21,
     "metadata": {},
     "output_type": "execute_result"
    }
   ],
   "source": [
    "len(S)"
   ]
  },
  {
   "cell_type": "code",
   "execution_count": 23,
   "id": "dd3dffa6-f202-4570-8a89-34da02d05ada",
   "metadata": {},
   "outputs": [
    {
     "name": "stderr",
     "output_type": "stream",
     "text": [
      "<>:1: SyntaxWarning: invalid escape sequence '\\p'\n",
      "<>:1: SyntaxWarning: invalid escape sequence '\\p'\n",
      "C:\\Users\\zvonkob\\AppData\\Local\\Temp\\ipykernel_2316\\2042131384.py:1: SyntaxWarning: invalid escape sequence '\\p'\n",
      "  x = 'C:\\py\\code'\n"
     ]
    },
    {
     "data": {
      "text/plain": [
       "'C:\\\\py\\\\code'"
      ]
     },
     "execution_count": 23,
     "metadata": {},
     "output_type": "execute_result"
    }
   ],
   "source": [
    "x = 'C:\\py\\code'\n",
    "x"
   ]
  },
  {
   "cell_type": "code",
   "execution_count": 25,
   "id": "c99c9f0f-de3d-4c24-a634-e3aaccd224a6",
   "metadata": {},
   "outputs": [
    {
     "data": {
      "text/plain": [
       "'C:\\\\py\\\\code'"
      ]
     },
     "execution_count": 25,
     "metadata": {},
     "output_type": "execute_result"
    }
   ],
   "source": [
    "x"
   ]
  },
  {
   "cell_type": "code",
   "execution_count": 43,
   "id": "b0fe9330-8d17-4aea-a852-04753b7be69e",
   "metadata": {},
   "outputs": [
    {
     "data": {
      "text/plain": [
       "'Petar\\n    Petrović'"
      ]
     },
     "execution_count": 43,
     "metadata": {},
     "output_type": "execute_result"
    }
   ],
   "source": [
    "x = '''Petar\n",
    "    Petrović'''\n",
    "x"
   ]
  },
  {
   "cell_type": "code",
   "execution_count": 45,
   "id": "c63d4964-7b95-4f11-ae7b-ff0fa08d7936",
   "metadata": {},
   "outputs": [
    {
     "name": "stdout",
     "output_type": "stream",
     "text": [
      "Petar\n",
      "    Petrović\n"
     ]
    }
   ],
   "source": [
    "print(x)"
   ]
  },
  {
   "cell_type": "code",
   "execution_count": 31,
   "id": "aebe45e6-22d3-4874-9f76-4bb21ed7339d",
   "metadata": {},
   "outputs": [],
   "source": [
    "i = ord('ć')"
   ]
  },
  {
   "cell_type": "code",
   "execution_count": 33,
   "id": "b44d6cb8-faac-4f81-a4f1-6a17e05cc52c",
   "metadata": {},
   "outputs": [
    {
     "data": {
      "text/plain": [
       "'0x107'"
      ]
     },
     "execution_count": 33,
     "metadata": {},
     "output_type": "execute_result"
    }
   ],
   "source": [
    "hex(i)"
   ]
  },
  {
   "cell_type": "code",
   "execution_count": 49,
   "id": "0be11514-6233-4050-bbe5-ced4ab3f2d20",
   "metadata": {},
   "outputs": [
    {
     "name": "stdout",
     "output_type": "stream",
     "text": [
      "Petar\n",
      "    Petrov7 \n"
     ]
    }
   ],
   "source": [
    "x = '''Petar\n",
    "    Petrovi\\0107 '''\n",
    "print(x)"
   ]
  },
  {
   "cell_type": "code",
   "execution_count": null,
   "id": "fb0e941c-0668-44bf-aa8b-799e7b132a69",
   "metadata": {},
   "outputs": [],
   "source": []
  },
  {
   "cell_type": "code",
   "execution_count": 52,
   "id": "224dacb8-f688-4798-a2b0-5071a4ee7a0a",
   "metadata": {},
   "outputs": [
    {
     "name": "stdout",
     "output_type": "stream",
     "text": [
      "h a c k e r "
     ]
    }
   ],
   "source": [
    "myjob = 'hacker'\n",
    "for c in myjob: print(c, end=' ')"
   ]
  },
  {
   "cell_type": "code",
   "execution_count": 54,
   "id": "a628399b-9f4f-4593-85d7-55775d013bfc",
   "metadata": {},
   "outputs": [
    {
     "data": {
      "text/plain": [
       "True"
      ]
     },
     "execution_count": 54,
     "metadata": {},
     "output_type": "execute_result"
    }
   ],
   "source": [
    "'k' in myjob"
   ]
  },
  {
   "cell_type": "code",
   "execution_count": 56,
   "id": "bc929e43-f017-4bbd-93e2-14bdcbef200e",
   "metadata": {},
   "outputs": [
    {
     "data": {
      "text/plain": [
       "False"
      ]
     },
     "execution_count": 56,
     "metadata": {},
     "output_type": "execute_result"
    }
   ],
   "source": [
    "'z' in myjob"
   ]
  },
  {
   "cell_type": "code",
   "execution_count": 58,
   "id": "d10cc9a6-9148-4c5a-8400-495c2f2cc8d1",
   "metadata": {},
   "outputs": [
    {
     "data": {
      "text/plain": [
       "True"
      ]
     },
     "execution_count": 58,
     "metadata": {},
     "output_type": "execute_result"
    }
   ],
   "source": [
    "'spam' in 'abcspamdef'"
   ]
  },
  {
   "cell_type": "code",
   "execution_count": 60,
   "id": "e50b86a2-2a90-4f77-967f-7e3d6581bf8f",
   "metadata": {},
   "outputs": [
    {
     "data": {
      "text/plain": [
       "'ć'"
      ]
     },
     "execution_count": 60,
     "metadata": {},
     "output_type": "execute_result"
    }
   ],
   "source": [
    "s = 'ć'\n",
    "s"
   ]
  },
  {
   "cell_type": "code",
   "execution_count": 62,
   "id": "755f00b2-fba2-4726-bb92-f2fdef87bc40",
   "metadata": {},
   "outputs": [
    {
     "data": {
      "text/plain": [
       "263"
      ]
     },
     "execution_count": 62,
     "metadata": {},
     "output_type": "execute_result"
    }
   ],
   "source": [
    "ord(s)"
   ]
  },
  {
   "cell_type": "code",
   "execution_count": 64,
   "id": "3c3ecdce-3a87-4867-bbee-79fa7b4d4993",
   "metadata": {},
   "outputs": [
    {
     "data": {
      "text/plain": [
       "'ć'"
      ]
     },
     "execution_count": 64,
     "metadata": {},
     "output_type": "execute_result"
    }
   ],
   "source": [
    "chr(263)"
   ]
  },
  {
   "cell_type": "code",
   "execution_count": 66,
   "id": "a788d2f0-a8b1-4424-96b8-f41b7ba1501b",
   "metadata": {},
   "outputs": [
    {
     "data": {
      "text/plain": [
       "'0x107'"
      ]
     },
     "execution_count": 66,
     "metadata": {},
     "output_type": "execute_result"
    }
   ],
   "source": [
    "hex(263)"
   ]
  },
  {
   "cell_type": "code",
   "execution_count": 68,
   "id": "45dab073-9e50-4ecd-9623-2f33cfce877e",
   "metadata": {},
   "outputs": [
    {
     "data": {
      "text/plain": [
       "'ć'"
      ]
     },
     "execution_count": 68,
     "metadata": {},
     "output_type": "execute_result"
    }
   ],
   "source": [
    "chr(0x107)"
   ]
  },
  {
   "cell_type": "code",
   "execution_count": 94,
   "id": "a82af33a-0ead-4c11-b170-6e86fd00d73b",
   "metadata": {},
   "outputs": [
    {
     "name": "stdout",
     "output_type": "stream",
     "text": [
      "__name__ = __main__\n",
      "__doc__ = Automatically created module for IPython interactive environment\n",
      "__package__ = None\n",
      "__loader__ = None\n",
      "__spec__ = None\n",
      "__builtin__ = <module 'builtins' (built-in)>\n",
      "__builtins__ = <module 'builtins' (built-in)>\n",
      "get_ipython = <bound method InteractiveShell.get_ipython of <ipykernel.zmqshell.ZMQInteractiveShell object at 0x0000022770E821E0>>\n",
      "exit = <IPython.core.autocall.ZMQExitAutocall object at 0x0000022770EC61E0>\n",
      "quit = <IPython.core.autocall.ZMQExitAutocall object at 0x0000022770EC61E0>\n"
     ]
    },
    {
     "ename": "IndexError",
     "evalue": "string index out of range",
     "output_type": "error",
     "traceback": [
      "\u001b[1;31m---------------------------------------------------------------------------\u001b[0m",
      "\u001b[1;31mIndexError\u001b[0m                                Traceback (most recent call last)",
      "Cell \u001b[1;32mIn[94], line 11\u001b[0m\n\u001b[0;32m      9\u001b[0m \u001b[38;5;28;01mif\u001b[39;00m k \u001b[38;5;241m==\u001b[39m \u001b[38;5;124m'\u001b[39m\u001b[38;5;124mopen\u001b[39m\u001b[38;5;124m'\u001b[39m:\n\u001b[0;32m     10\u001b[0m     \u001b[38;5;28;01mcontinue\u001b[39;00m\n\u001b[1;32m---> 11\u001b[0m \u001b[38;5;28;01mif\u001b[39;00m k\u001b[38;5;241m.\u001b[39mstartswith(\u001b[38;5;124m'\u001b[39m\u001b[38;5;124m_\u001b[39m\u001b[38;5;124m'\u001b[39m) \u001b[38;5;129;01mand\u001b[39;00m k[\u001b[38;5;241m2\u001b[39m] \u001b[38;5;241m==\u001b[39m \u001b[38;5;124m'\u001b[39m\u001b[38;5;124mh\u001b[39m\u001b[38;5;124m'\u001b[39m:\n\u001b[0;32m     12\u001b[0m     \u001b[38;5;28;01mcontinue\u001b[39;00m\n\u001b[0;32m     13\u001b[0m \u001b[38;5;28mprint\u001b[39m(k, \u001b[38;5;124m'\u001b[39m\u001b[38;5;124m=\u001b[39m\u001b[38;5;124m'\u001b[39m, v)\n",
      "\u001b[1;31mIndexError\u001b[0m: string index out of range"
     ]
    }
   ],
   "source": [
    "from copy import copy\n",
    "\n",
    "vvars = copy(vars)\n",
    "for k, v in vvars().items():\n",
    "    if k == 'In':\n",
    "        continue\n",
    "    if k == 'Out':\n",
    "        continue\n",
    "    if k == 'open':\n",
    "        continue\n",
    "    if k.startswith('_') and k[2] == 'h':\n",
    "        continue\n",
    "    print(k, '=', v)"
   ]
  },
  {
   "cell_type": "code",
   "execution_count": 98,
   "id": "7c6d2e6a-eaff-456d-9c40-3eb2da7ddddd",
   "metadata": {},
   "outputs": [
    {
     "data": {
      "text/plain": [
       "'My laptop runs win32.'"
      ]
     },
     "execution_count": 98,
     "metadata": {},
     "output_type": "execute_result"
    }
   ],
   "source": [
    "import sys\n",
    "\n",
    "xx = {'kind': 'laptop'}\n",
    "\n",
    "f'My {xx['kind']} runs {sys.platform}.'"
   ]
  },
  {
   "cell_type": "code",
   "execution_count": 106,
   "id": "ea6436fa-4138-4e7b-ad98-5468f4d5c7c6",
   "metadata": {},
   "outputs": [
    {
     "ename": "SyntaxError",
     "evalue": "invalid syntax (3736361274.py, line 1)",
     "output_type": "error",
     "traceback": [
      "\u001b[1;36m  Cell \u001b[1;32mIn[106], line 1\u001b[1;36m\u001b[0m\n\u001b[1;33m    'My {0['kind']} runs {1.platform}.'.format(xx, sys)\u001b[0m\n\u001b[1;37m            ^\u001b[0m\n\u001b[1;31mSyntaxError\u001b[0m\u001b[1;31m:\u001b[0m invalid syntax\n"
     ]
    }
   ],
   "source": [
    "'My {0['kind']} runs {1.platform}.'.format(xx, sys)"
   ]
  },
  {
   "cell_type": "code",
   "execution_count": 108,
   "id": "0457f7d2-8534-4cf0-818e-4d72f8b30f37",
   "metadata": {},
   "outputs": [
    {
     "data": {
      "text/plain": [
       "'My laptop   runs    win32'"
      ]
     },
     "execution_count": 108,
     "metadata": {},
     "output_type": "execute_result"
    }
   ],
   "source": [
    "data = dict(platform=sys.platform, kind='laptop')\n",
    "\n",
    "f'My {data['kind']:<8} runs {data['platform']:>8}' "
   ]
  },
  {
   "cell_type": "code",
   "execution_count": 114,
   "id": "2c2edece-2f6d-4022-a189-574711656671",
   "metadata": {},
   "outputs": [
    {
     "data": {
      "text/plain": [
       "'My laptop   runs    win32'"
      ]
     },
     "execution_count": 114,
     "metadata": {},
     "output_type": "execute_result"
    }
   ],
   "source": [
    "'My {kind:<8} runs {platform:>8}'.format(**data) "
   ]
  },
  {
   "cell_type": "code",
   "execution_count": 112,
   "id": "551439a4-08cc-4a15-bb1f-72a3802588c3",
   "metadata": {},
   "outputs": [
    {
     "data": {
      "text/plain": [
       "{'platform': 'win32', 'kind': 'laptop'}"
      ]
     },
     "execution_count": 112,
     "metadata": {},
     "output_type": "execute_result"
    }
   ],
   "source": [
    "data"
   ]
  },
  {
   "cell_type": "code",
   "execution_count": 118,
   "id": "9a372aa7-a4a9-4947-ad7b-3cef656ff962",
   "metadata": {},
   "outputs": [
    {
     "ename": "SyntaxError",
     "evalue": "can't use starred expression here (3408623361.py, line 1)",
     "output_type": "error",
     "traceback": [
      "\u001b[1;36m  Cell \u001b[1;32mIn[118], line 1\u001b[1;36m\u001b[0m\n\u001b[1;33m    *data\u001b[0m\n\u001b[1;37m    ^\u001b[0m\n\u001b[1;31mSyntaxError\u001b[0m\u001b[1;31m:\u001b[0m can't use starred expression here\n"
     ]
    }
   ],
   "source": [
    "*data"
   ]
  },
  {
   "cell_type": "code",
   "execution_count": 120,
   "id": "84f7926a-ebba-483b-9493-cf55f143b5b5",
   "metadata": {},
   "outputs": [
    {
     "data": {
      "text/plain": [
       "[0, 1, 2, 3, 4]"
      ]
     },
     "execution_count": 120,
     "metadata": {},
     "output_type": "execute_result"
    }
   ],
   "source": [
    "x = list(range(5))\n",
    "x"
   ]
  },
  {
   "cell_type": "code",
   "execution_count": 122,
   "id": "1dff5520-43f9-4c71-a7d4-0d7bb13f5c75",
   "metadata": {},
   "outputs": [
    {
     "ename": "AttributeError",
     "evalue": "'list' object has no attribute 'find'",
     "output_type": "error",
     "traceback": [
      "\u001b[1;31m---------------------------------------------------------------------------\u001b[0m",
      "\u001b[1;31mAttributeError\u001b[0m                            Traceback (most recent call last)",
      "Cell \u001b[1;32mIn[122], line 1\u001b[0m\n\u001b[1;32m----> 1\u001b[0m x\u001b[38;5;241m.\u001b[39mfind(\u001b[38;5;241m2\u001b[39m)\n",
      "\u001b[1;31mAttributeError\u001b[0m: 'list' object has no attribute 'find'"
     ]
    }
   ],
   "source": [
    "x.find(2)"
   ]
  },
  {
   "cell_type": "code",
   "execution_count": null,
   "id": "f5347154-0f9e-4a90-b26a-425dda103869",
   "metadata": {},
   "outputs": [],
   "source": []
  }
 ],
 "metadata": {
  "kernelspec": {
   "display_name": "Python 3 (ipykernel)",
   "language": "python",
   "name": "python3"
  },
  "language_info": {
   "codemirror_mode": {
    "name": "ipython",
    "version": 3
   },
   "file_extension": ".py",
   "mimetype": "text/x-python",
   "name": "python",
   "nbconvert_exporter": "python",
   "pygments_lexer": "ipython3",
   "version": "3.12.4"
  }
 },
 "nbformat": 4,
 "nbformat_minor": 5
}
