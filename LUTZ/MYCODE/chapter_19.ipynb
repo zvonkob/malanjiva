{
 "cells": [
  {
   "cell_type": "code",
   "execution_count": null,
   "id": "0100fb1a-2d74-4cf5-839d-be435eb0d022",
   "metadata": {},
   "outputs": [],
   "source": [
    "def mysum(L):\n",
    "    if not L:\n",
    "        return 0\n",
    "    else:\n",
    "        return L[0] + mysum(L[1:])\n",
    "\n",
    "mysum(range(5))"
   ]
  },
  {
   "cell_type": "code",
   "execution_count": null,
   "id": "1f236570-eb92-4fd4-844b-836407ffdae4",
   "metadata": {},
   "outputs": [],
   "source": [
    "list(range(1, 6))"
   ]
  },
  {
   "cell_type": "code",
   "execution_count": null,
   "id": "c9335d6f-2490-4fb0-8e83-3802e9ecf905",
   "metadata": {},
   "outputs": [],
   "source": [
    "mysum(range(1, 6))"
   ]
  },
  {
   "cell_type": "code",
   "execution_count": null,
   "id": "3b3d2c20-74c8-4eb6-a762-2ccbe1786fcf",
   "metadata": {},
   "outputs": [],
   "source": [
    "def mysum(L):\n",
    "    print('L =', L)\n",
    "    if not L:\n",
    "        return 0\n",
    "    else:\n",
    "        return L[0] + mysum(L[1:])\n",
    "\n",
    "L = list(range(5))\n",
    "print('L zunaj =', L, '\\n')\n",
    "mysum(L)"
   ]
  },
  {
   "cell_type": "code",
   "execution_count": null,
   "id": "5174c3a3-ec67-4a83-a88e-40ed649728ab",
   "metadata": {},
   "outputs": [],
   "source": [
    "def mysum(L):\n",
    "    return 0 if not L else L[0] + mysum(L[1:])\n",
    "\n",
    "L = range(6)\n",
    "mysum(L)"
   ]
  },
  {
   "cell_type": "code",
   "execution_count": null,
   "id": "f3a8fa07-c493-4b92-b44c-594497f196b4",
   "metadata": {},
   "outputs": [],
   "source": [
    "def mysum(L):\n",
    "    return L[0] if len(L) == 1 else L[0] + mysum(L[1:])\n",
    "\n",
    "L = range(6)\n",
    "mysum(L)"
   ]
  },
  {
   "cell_type": "code",
   "execution_count": null,
   "id": "3783dcc3-b49c-4c46-8f89-cb185e198aa9",
   "metadata": {},
   "outputs": [],
   "source": [
    "def mysum(L):\n",
    "    first, *rest = L\n",
    "    return first if len(L) == 1 else first + mysum(rest)\n",
    "\n",
    "L = range(6)\n",
    "mysum(L)"
   ]
  },
  {
   "cell_type": "code",
   "execution_count": null,
   "id": "954aeb9b-cb71-4a84-a809-6cbda1febb53",
   "metadata": {},
   "outputs": [],
   "source": [
    "L = list(range(1, 6))\n",
    "L"
   ]
  },
  {
   "cell_type": "code",
   "execution_count": null,
   "id": "72df01d7-85eb-49bc-8d34-c0146a91739d",
   "metadata": {},
   "outputs": [],
   "source": [
    "L = list(range(1, 6))\n",
    "sum = 0\n",
    "while L:\n",
    "    sum += L[0]\n",
    "    L = L[1:]\n",
    "sum"
   ]
  },
  {
   "cell_type": "code",
   "execution_count": null,
   "id": "18eda87f-ff37-415d-aa9d-1bd6ea8a71a1",
   "metadata": {},
   "outputs": [],
   "source": [
    "L = list(range(1, 6))\n",
    "sum = 0\n",
    "for x in L:\n",
    "    sum += x\n",
    "sum"
   ]
  },
  {
   "cell_type": "code",
   "execution_count": null,
   "id": "d1d8ef3c-efae-47d2-a4f2-0f6d944da254",
   "metadata": {},
   "outputs": [],
   "source": [
    "L"
   ]
  },
  {
   "cell_type": "code",
   "execution_count": null,
   "id": "1af3fbf7-6e5f-46f8-8b7f-9e3edee4a8b0",
   "metadata": {},
   "outputs": [],
   "source": [
    "L = [1, [2, [3, 4], 5], 6, [7, 8]]"
   ]
  },
  {
   "cell_type": "code",
   "execution_count": null,
   "id": "e0fcad4b-2a32-40e3-adc4-f086f91916fa",
   "metadata": {},
   "outputs": [],
   "source": [
    "def sumtree(L):\n",
    "    tot = 0\n",
    "    for x in L:\n",
    "        if isinstance(x, list):\n",
    "            tot += sumtree(x)\n",
    "        else:\n",
    "            tot += x\n",
    "    return tot\n",
    "\n",
    "sumtree(L)"
   ]
  },
  {
   "cell_type": "code",
   "execution_count": null,
   "id": "b0aab650-8c7c-4737-bd3b-a77aded79319",
   "metadata": {},
   "outputs": [],
   "source": [
    "L"
   ]
  },
  {
   "cell_type": "code",
   "execution_count": null,
   "id": "365db4e5-691e-4a24-a205-4f3366cacfc9",
   "metadata": {},
   "outputs": [],
   "source": [
    "L = [1, [2, [3, 4], 5], 6, [7, 8]]\n",
    "\n",
    "def sumtree2(L):\n",
    "    tot = 0\n",
    "    items = list(L)\n",
    "    while items:\n",
    "        # print()\n",
    "        # print('tot =', tot)\n",
    "        # print('items =', items)\n",
    "        front = items.pop(0)\n",
    "        print('front =', front)\n",
    "        if isinstance(front, list):\n",
    "            items.extend(front)\n",
    "        else:\n",
    "            tot += front\n",
    "        # print('items =', items)\n",
    "    return tot\n",
    "\n",
    "sumtree2(L)"
   ]
  },
  {
   "cell_type": "code",
   "execution_count": null,
   "id": "35d6fa0e-00ef-4f0e-a17e-401aea53397c",
   "metadata": {},
   "outputs": [],
   "source": [
    "L = [1, [2, [3, 4], 5], 6, [7, 8]]\n",
    "\n",
    "def sumtree3(L):\n",
    "    tot = 0\n",
    "    items = list(L)\n",
    "    while items:\n",
    "        # print()\n",
    "        # print('tot =', tot)\n",
    "        # print('items =', items)\n",
    "        front = items.pop(0)\n",
    "        # print('front =', front)\n",
    "        if isinstance(front, list):\n",
    "            items[:0] = front\n",
    "        else:\n",
    "            tot += front\n",
    "        # print('items =', items)\n",
    "    return tot\n",
    "\n",
    "sumtree3(L)"
   ]
  },
  {
   "cell_type": "code",
   "execution_count": null,
   "id": "e9e4ae81-bc03-40ff-bee6-6ec7af4d51e3",
   "metadata": {},
   "outputs": [],
   "source": [
    "def echo(message):\n",
    "    print(message)"
   ]
  },
  {
   "cell_type": "code",
   "execution_count": null,
   "id": "b1d1be02-592f-4524-97cb-e695dcb956c2",
   "metadata": {},
   "outputs": [],
   "source": [
    "echo('Direct call')"
   ]
  },
  {
   "cell_type": "code",
   "execution_count": null,
   "id": "5240ba37-4809-4db7-b642-47956614b9b4",
   "metadata": {},
   "outputs": [],
   "source": [
    "x = echo\n",
    "x('Indirect call')"
   ]
  },
  {
   "cell_type": "code",
   "execution_count": null,
   "id": "b5add4e7-258f-474e-b545-3c52fa225472",
   "metadata": {},
   "outputs": [],
   "source": [
    "def indirect(func, arg):\n",
    "    func(arg)"
   ]
  },
  {
   "cell_type": "code",
   "execution_count": null,
   "id": "42a2d389-9cef-4552-be9b-f830103a3841",
   "metadata": {},
   "outputs": [],
   "source": [
    "indirect(echo, 'Moja mala nema mane')"
   ]
  },
  {
   "cell_type": "code",
   "execution_count": null,
   "id": "1aa1134a-3328-4f9e-aaf2-78cbb9aa35ba",
   "metadata": {},
   "outputs": [],
   "source": [
    "schedule = [(echo, 'spam'), (echo, 'ham')]\n",
    "for func, s in schedule:\n",
    "    func(s)"
   ]
  },
  {
   "cell_type": "code",
   "execution_count": null,
   "id": "154ddd2e-9b63-4f3e-8184-92d3353ceba2",
   "metadata": {},
   "outputs": [],
   "source": [
    "def make(label):\n",
    "    def echo(message):\n",
    "        print(label + ' :: ' + message)\n",
    "    return echo"
   ]
  },
  {
   "cell_type": "code",
   "execution_count": null,
   "id": "b3676753-94db-4e05-a6c1-1048622d229c",
   "metadata": {},
   "outputs": [],
   "source": [
    "c = make('dragi moji')\n",
    "d = make('spoštovani')\n",
    "\n",
    "c('bubnjarčani')\n",
    "d('bubnjarčani')"
   ]
  },
  {
   "cell_type": "code",
   "execution_count": null,
   "id": "fdfb0bbd-4aae-483b-88c7-8b073da2cc10",
   "metadata": {},
   "outputs": [],
   "source": [
    "def func(a):\n",
    "    b = 'spam'\n",
    "    return b * a\n",
    "\n",
    "func(8)"
   ]
  },
  {
   "cell_type": "code",
   "execution_count": null,
   "id": "fe0eddf3-6aea-45a6-b9ee-8d1aca2f2592",
   "metadata": {},
   "outputs": [],
   "source": [
    "func.__name__"
   ]
  },
  {
   "cell_type": "code",
   "execution_count": null,
   "id": "7b849135-17ce-479e-bf9d-d716086e8044",
   "metadata": {},
   "outputs": [],
   "source": [
    "', '.join(dir(func))"
   ]
  },
  {
   "cell_type": "code",
   "execution_count": null,
   "id": "7f51e21c-5c80-433b-a2d8-28dd75405890",
   "metadata": {},
   "outputs": [],
   "source": [
    "func.__code__"
   ]
  },
  {
   "cell_type": "code",
   "execution_count": null,
   "id": "0ee46210-752e-4772-9003-b6623bbdfd0a",
   "metadata": {},
   "outputs": [],
   "source": [
    "func.__code__.co_varnames"
   ]
  },
  {
   "cell_type": "code",
   "execution_count": null,
   "id": "1f6dcdaa-2d5b-483b-b58f-433560249480",
   "metadata": {},
   "outputs": [],
   "source": [
    "', '.join(dir(func.__code__))"
   ]
  },
  {
   "cell_type": "code",
   "execution_count": null,
   "id": "cb35e1b5-2384-4583-aaf7-016daf729e3e",
   "metadata": {},
   "outputs": [],
   "source": [
    "dir(func.__code__.co_linetable)"
   ]
  },
  {
   "cell_type": "code",
   "execution_count": null,
   "id": "39c199e7-e197-4a22-8fb6-956e1edb4d69",
   "metadata": {},
   "outputs": [],
   "source": [
    "func"
   ]
  },
  {
   "cell_type": "code",
   "execution_count": null,
   "id": "aee2fd02-c2a2-4a0e-8262-e3d953f49b30",
   "metadata": {},
   "outputs": [],
   "source": [
    "func.count = 15\n",
    "func.count"
   ]
  },
  {
   "cell_type": "code",
   "execution_count": null,
   "id": "3da5c230-ec91-41da-a0c2-918043b228dd",
   "metadata": {},
   "outputs": [],
   "source": [
    "func.handles = 'Button press'"
   ]
  },
  {
   "cell_type": "code",
   "execution_count": null,
   "id": "c5d8a373-fcf1-4e4c-b850-75cc371200b6",
   "metadata": {},
   "outputs": [],
   "source": [
    "func.handles"
   ]
  },
  {
   "cell_type": "code",
   "execution_count": null,
   "id": "db037bdc-b1bb-47dc-8370-0b9d575f0246",
   "metadata": {},
   "outputs": [],
   "source": [
    "dir(func)"
   ]
  },
  {
   "cell_type": "code",
   "execution_count": null,
   "id": "bcc66f17-c140-49bf-b0a8-bf44c37a05bd",
   "metadata": {},
   "outputs": [],
   "source": [
    "def func(a, b, c):\n",
    "    return a + b + c\n",
    "\n",
    "def func2(a: int, b: float, c: list) -> list:\n",
    "    return a + b + c\n",
    "\n",
    "func2.__annotations__"
   ]
  },
  {
   "cell_type": "code",
   "execution_count": null,
   "id": "f57a96fc-46fd-4fee-adb5-a5ffc4cfa2f5",
   "metadata": {},
   "outputs": [],
   "source": [
    "import sys\n",
    "showall = lambda x: list(map(print, x))\n",
    "\n",
    "L = ['moja mala nema mane', 'moja draga marijana']\n",
    "t = showall(L)"
   ]
  },
  {
   "cell_type": "code",
   "execution_count": null,
   "id": "d326f901-6945-4c9e-a1fa-f50a5d0066e9",
   "metadata": {},
   "outputs": [],
   "source": [
    "def action(x):\n",
    "    return lambda y: x + y\n",
    "act = action(99)\n",
    "act(2)"
   ]
  },
  {
   "cell_type": "code",
   "execution_count": null,
   "id": "5e2306b9-c589-444b-9621-8a0a9198c74b",
   "metadata": {},
   "outputs": [],
   "source": [
    "action2 = (lambda x: (lambda y: x + y))\n",
    "act2 = action2(99)\n",
    "act2(5)"
   ]
  },
  {
   "cell_type": "code",
   "execution_count": null,
   "id": "aa8a98cc-12b5-4521-8d80-9e8e53c47989",
   "metadata": {},
   "outputs": [],
   "source": [
    "import sys\n",
    "from tkinter import Button, mainloop\n",
    "x = Button(\n",
    "        text='Press me',\n",
    "        command=lambda: print('Spam'))\n",
    "x.pack()\n",
    "mainloop()\n",
    "    "
   ]
  },
  {
   "cell_type": "code",
   "execution_count": null,
   "id": "f1d9a7f9-76aa-4eac-8d86-afa7e0de499c",
   "metadata": {},
   "outputs": [],
   "source": []
  },
  {
   "cell_type": "code",
   "execution_count": null,
   "id": "45837f35-3da3-42b1-a842-3b304db4f070",
   "metadata": {},
   "outputs": [],
   "source": []
  },
  {
   "cell_type": "code",
   "execution_count": null,
   "id": "907ab7e7-e48d-4f62-a813-5bd548ec8e38",
   "metadata": {},
   "outputs": [],
   "source": []
  },
  {
   "cell_type": "code",
   "execution_count": null,
   "id": "a6753447-d147-4d29-99cd-387a4496736b",
   "metadata": {},
   "outputs": [],
   "source": []
  },
  {
   "cell_type": "code",
   "execution_count": null,
   "id": "e15ad89c-fc2c-4b9f-bdf0-afa32d5dc4ca",
   "metadata": {},
   "outputs": [],
   "source": []
  },
  {
   "cell_type": "code",
   "execution_count": null,
   "id": "1c05ec27-7771-4e0a-bbfa-b1fa7b684d6b",
   "metadata": {},
   "outputs": [],
   "source": [
    "list(range(-5, 5))"
   ]
  },
  {
   "cell_type": "code",
   "execution_count": null,
   "id": "826180ba-6378-4a89-82c3-8a5f5a97e516",
   "metadata": {},
   "outputs": [],
   "source": [
    "list(filter((lambda x: x>0), range(-5, 5)))"
   ]
  },
  {
   "cell_type": "code",
   "execution_count": null,
   "id": "5dbae30d-2068-4937-b24c-fd7f33149016",
   "metadata": {},
   "outputs": [],
   "source": [
    "list(filter(lambda x: x>0, range(-5, 5)))"
   ]
  },
  {
   "cell_type": "code",
   "execution_count": null,
   "id": "d71508a8-0a55-4029-8958-ee555becc902",
   "metadata": {},
   "outputs": [],
   "source": [
    "res = []\n",
    "for x in range(-5, 5):\n",
    "    if x > 0:\n",
    "        res.append(x)\n",
    "res"
   ]
  },
  {
   "cell_type": "code",
   "execution_count": null,
   "id": "13b2f38d-7739-439b-90f6-3ab522756054",
   "metadata": {},
   "outputs": [],
   "source": [
    "[x for x in range(-5, 5) if x > 0]"
   ]
  },
  {
   "cell_type": "code",
   "execution_count": null,
   "id": "b760b883-e52b-4095-9d32-e09e37c0f9ae",
   "metadata": {},
   "outputs": [],
   "source": [
    "from functools import reduce\n",
    "reduce((lambda x, y: x + y), [1, 2, 3, 4])"
   ]
  },
  {
   "cell_type": "code",
   "execution_count": null,
   "id": "54bc77f8-be3b-46d8-98d1-f6e8fd0e2305",
   "metadata": {},
   "outputs": [],
   "source": [
    "reduce((lambda x, y: x * y), [1, 2, 3, 4])"
   ]
  },
  {
   "cell_type": "code",
   "execution_count": null,
   "id": "794d41cb-dd40-4972-aa5b-1047ab09fabe",
   "metadata": {},
   "outputs": [],
   "source": [
    "L = [1, 2, 3, 4]\n",
    "temp = L[0]\n",
    "for x in L[1:]:\n",
    "    temp += x\n",
    "temp"
   ]
  },
  {
   "cell_type": "code",
   "execution_count": null,
   "id": "635b6c67-a06a-4ea9-a9fb-93454abaf8be",
   "metadata": {},
   "outputs": [],
   "source": [
    "def myreduce(func, seq):\n",
    "    tally = seq[0]\n",
    "    for next in seq[1:]:\n",
    "        tally = func(tally, next)\n",
    "    return tally"
   ]
  },
  {
   "cell_type": "code",
   "execution_count": null,
   "id": "9b1c8609-5336-4956-8738-a3492654bbc0",
   "metadata": {},
   "outputs": [],
   "source": [
    "myreduce((lambda x, y: x + y), [1, 2, 3, 4])"
   ]
  },
  {
   "cell_type": "code",
   "execution_count": null,
   "id": "76ccafa2-5c19-41ad-827d-cbd869f43afa",
   "metadata": {},
   "outputs": [],
   "source": [
    "import operator, functools\n",
    "\n",
    "functools.reduce(operator.add, [2, 4, 6])"
   ]
  },
  {
   "cell_type": "code",
   "execution_count": null,
   "id": "5b8d5dce-2727-40db-8fbb-16f86abc1b22",
   "metadata": {},
   "outputs": [],
   "source": []
  }
 ],
 "metadata": {
  "kernelspec": {
   "display_name": "Python 3 (ipykernel)",
   "language": "python",
   "name": "python3"
  },
  "language_info": {
   "codemirror_mode": {
    "name": "ipython",
    "version": 3
   },
   "file_extension": ".py",
   "mimetype": "text/x-python",
   "name": "python",
   "nbconvert_exporter": "python",
   "pygments_lexer": "ipython3",
   "version": "3.12.4"
  }
 },
 "nbformat": 4,
 "nbformat_minor": 5
}
