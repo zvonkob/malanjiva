{
 "cells": [
  {
   "cell_type": "code",
   "execution_count": 1,
   "id": "691c0739-e6ea-4833-a4f0-67e7c233f04d",
   "metadata": {},
   "outputs": [
    {
     "data": {
      "text/plain": [
       "115"
      ]
     },
     "execution_count": 1,
     "metadata": {},
     "output_type": "execute_result"
    }
   ],
   "source": [
    "ord('s')"
   ]
  },
  {
   "cell_type": "code",
   "execution_count": 2,
   "id": "76cfcb50-8f29-4289-9ff2-f89252351ddf",
   "metadata": {},
   "outputs": [
    {
     "data": {
      "text/plain": [
       "[115, 112, 97, 109]"
      ]
     },
     "execution_count": 2,
     "metadata": {},
     "output_type": "execute_result"
    }
   ],
   "source": [
    "res = []\n",
    "for x in 'spam':\n",
    "    res.append(ord(x))\n",
    "res"
   ]
  },
  {
   "cell_type": "code",
   "execution_count": 3,
   "id": "cf9f3524-82ab-4689-8ccc-05eecfbc204b",
   "metadata": {},
   "outputs": [
    {
     "data": {
      "text/plain": [
       "[115, 112, 97, 109]"
      ]
     },
     "execution_count": 3,
     "metadata": {},
     "output_type": "execute_result"
    }
   ],
   "source": [
    "res = list(map(ord, 'spam'))\n",
    "res"
   ]
  },
  {
   "cell_type": "code",
   "execution_count": 4,
   "id": "5e9903d8-5b7a-47eb-a625-20b5254c1383",
   "metadata": {},
   "outputs": [
    {
     "data": {
      "text/plain": [
       "[115, 112, 97, 109]"
      ]
     },
     "execution_count": 4,
     "metadata": {},
     "output_type": "execute_result"
    }
   ],
   "source": [
    "res = [ord(x) for x in 'spam']\n",
    "res"
   ]
  },
  {
   "cell_type": "code",
   "execution_count": 10,
   "id": "9261abdc-556b-4d9b-894c-8131dceb1178",
   "metadata": {},
   "outputs": [
    {
     "data": {
      "text/plain": [
       "[0, 1, 4, 9, 16, 25, 36, 49, 64, 81]"
      ]
     },
     "execution_count": 10,
     "metadata": {},
     "output_type": "execute_result"
    }
   ],
   "source": [
    "[x ** 2 for x in range(10)]"
   ]
  },
  {
   "cell_type": "code",
   "execution_count": 12,
   "id": "cd0366ab-6ae2-41a3-a70a-6188c6071f5c",
   "metadata": {},
   "outputs": [
    {
     "data": {
      "text/plain": [
       "[0, 1, 4, 9, 16, 25, 36, 49, 64, 81]"
      ]
     },
     "execution_count": 12,
     "metadata": {},
     "output_type": "execute_result"
    }
   ],
   "source": [
    "list(map(lambda x: x ** 2, range(10)))"
   ]
  },
  {
   "cell_type": "code",
   "execution_count": 14,
   "id": "31ac4d58-5456-450f-afc6-c097a45ea952",
   "metadata": {},
   "outputs": [
    {
     "data": {
      "text/plain": [
       "[0, 2, 4]"
      ]
     },
     "execution_count": 14,
     "metadata": {},
     "output_type": "execute_result"
    }
   ],
   "source": [
    "[x for x in range(5) if x % 2 == 0]"
   ]
  },
  {
   "cell_type": "code",
   "execution_count": 18,
   "id": "c79991f0-7fee-4620-9ee6-451931514543",
   "metadata": {},
   "outputs": [
    {
     "data": {
      "text/plain": [
       "[0, 2, 4]"
      ]
     },
     "execution_count": 18,
     "metadata": {},
     "output_type": "execute_result"
    }
   ],
   "source": [
    "list(filter(lambda x: x % 2 == 0, range(5)))"
   ]
  },
  {
   "cell_type": "code",
   "execution_count": 20,
   "id": "a5c177da-646d-4063-9ed5-fb2613313c3d",
   "metadata": {},
   "outputs": [
    {
     "data": {
      "text/plain": [
       "[0, 2, 4]"
      ]
     },
     "execution_count": 20,
     "metadata": {},
     "output_type": "execute_result"
    }
   ],
   "source": [
    "res = []\n",
    "for x in range(5):\n",
    "    if x % 2 == 0:\n",
    "        res.append(x)\n",
    "res"
   ]
  },
  {
   "cell_type": "code",
   "execution_count": 22,
   "id": "1da7a68c-ec46-4114-8550-0397b3089c7c",
   "metadata": {},
   "outputs": [
    {
     "data": {
      "text/plain": [
       "[0, 4, 16, 36, 64]"
      ]
     },
     "execution_count": 22,
     "metadata": {},
     "output_type": "execute_result"
    }
   ],
   "source": [
    "[x ** 2 for x in range(10) if x % 2 == 0]"
   ]
  },
  {
   "cell_type": "code",
   "execution_count": 26,
   "id": "2fd4f103-cbd5-43b7-a70c-1173b2754362",
   "metadata": {},
   "outputs": [
    {
     "data": {
      "text/plain": [
       "[0, 4, 16, 36, 64]"
      ]
     },
     "execution_count": 26,
     "metadata": {},
     "output_type": "execute_result"
    }
   ],
   "source": [
    "list(\n",
    "    map(\n",
    "        lambda x: x ** 2, \n",
    "        filter(\n",
    "            lambda x: x % 2 == 0, \n",
    "            range(10)\n",
    "        )\n",
    "    )\n",
    ")"
   ]
  },
  {
   "cell_type": "code",
   "execution_count": 28,
   "id": "2ce5f8f6-649d-4514-a58c-ff62664e84a6",
   "metadata": {},
   "outputs": [
    {
     "data": {
      "text/plain": [
       "[0, 1, 4, 9, 16]"
      ]
     },
     "execution_count": 28,
     "metadata": {},
     "output_type": "execute_result"
    }
   ],
   "source": [
    "def funcsquares(N):\n",
    "    res = []\n",
    "    for i in range(N):\n",
    "        res.append(i ** 2)\n",
    "    return res\n",
    "\n",
    "def gensquares(N):\n",
    "    for i in range(N):\n",
    "        yield i ** 2\n",
    "\n",
    "funcsquares(5)"
   ]
  },
  {
   "cell_type": "code",
   "execution_count": 54,
   "id": "ac024355-f9bb-4012-9eb4-a07cdbcc36b7",
   "metadata": {},
   "outputs": [
    {
     "name": "stdout",
     "output_type": "stream",
     "text": [
      "0\n",
      "1\n",
      "4\n",
      "9\n",
      "16\n"
     ]
    }
   ],
   "source": [
    "x = gensquares(5)\n",
    "print(next(x))\n",
    "print(next(x))\n",
    "print(next(x))\n",
    "print(next(x))\n",
    "print(next(x))"
   ]
  },
  {
   "cell_type": "code",
   "execution_count": 44,
   "id": "8a2fb497-2bbe-4cbf-882b-10ffff4f691a",
   "metadata": {},
   "outputs": [
    {
     "data": {
      "text/plain": [
       "generator"
      ]
     },
     "execution_count": 44,
     "metadata": {},
     "output_type": "execute_result"
    }
   ],
   "source": [
    "x = gensquares(5)\n",
    "type(x)"
   ]
  },
  {
   "cell_type": "code",
   "execution_count": 46,
   "id": "bd84ddd6-6894-472c-8477-5292145619d2",
   "metadata": {},
   "outputs": [
    {
     "data": {
      "text/plain": [
       "0"
      ]
     },
     "execution_count": 46,
     "metadata": {},
     "output_type": "execute_result"
    }
   ],
   "source": [
    "ix = iter(x)\n",
    "next(ix)"
   ]
  },
  {
   "cell_type": "code",
   "execution_count": 48,
   "id": "ecb5ab7e-3433-4427-aa4e-9657632dde43",
   "metadata": {},
   "outputs": [
    {
     "data": {
      "text/plain": [
       "1"
      ]
     },
     "execution_count": 48,
     "metadata": {},
     "output_type": "execute_result"
    }
   ],
   "source": [
    "next(ix)"
   ]
  },
  {
   "cell_type": "code",
   "execution_count": 50,
   "id": "93b9be42-50af-4a69-8ff6-ddae9066450c",
   "metadata": {},
   "outputs": [
    {
     "name": "stdout",
     "output_type": "stream",
     "text": [
      "0 : 1 : 4 : 9 : 16 : "
     ]
    }
   ],
   "source": [
    "for i in gensquares(5):\n",
    "    print(i, end=' : ')"
   ]
  },
  {
   "cell_type": "code",
   "execution_count": 56,
   "id": "6676067f-f908-45a8-9f5d-66e1b940e9e0",
   "metadata": {},
   "outputs": [
    {
     "data": {
      "text/plain": [
       "<generator object gensquares at 0x000002160D38A8E0>"
      ]
     },
     "execution_count": 56,
     "metadata": {},
     "output_type": "execute_result"
    }
   ],
   "source": [
    "x = gensquares(4)\n",
    "x"
   ]
  },
  {
   "cell_type": "code",
   "execution_count": 78,
   "id": "c73eb60a-e61d-4893-bf90-ef40e47290d7",
   "metadata": {},
   "outputs": [
    {
     "data": {
      "text/plain": [
       "<generator object <genexpr> at 0x000002160EC269B0>"
      ]
     },
     "execution_count": 78,
     "metadata": {},
     "output_type": "execute_result"
    }
   ],
   "source": [
    "G = (c * 4 for c in 'SPAM')\n",
    "G"
   ]
  },
  {
   "cell_type": "code",
   "execution_count": 80,
   "id": "2fd79d44-a86f-4b94-8b19-27ae4f7dc427",
   "metadata": {},
   "outputs": [],
   "source": [
    "I = iter(G)"
   ]
  },
  {
   "cell_type": "code",
   "execution_count": 84,
   "id": "c424f63b-ebe0-46b9-90f0-875a66ddfb07",
   "metadata": {},
   "outputs": [
    {
     "data": {
      "text/plain": [
       "True"
      ]
     },
     "execution_count": 84,
     "metadata": {},
     "output_type": "execute_result"
    }
   ],
   "source": [
    "I is G"
   ]
  },
  {
   "cell_type": "code",
   "execution_count": 88,
   "id": "13b9e573-c3c9-4e7a-b80b-cf3564371074",
   "metadata": {},
   "outputs": [
    {
     "data": {
      "text/plain": [
       "<generator object <genexpr> at 0x000002160F458580>"
      ]
     },
     "execution_count": 88,
     "metadata": {},
     "output_type": "execute_result"
    }
   ],
   "source": [
    "S = 'spam'\n",
    "G = (S[i:] + S[:i] for i in range(len(S)))\n",
    "G"
   ]
  },
  {
   "cell_type": "code",
   "execution_count": 90,
   "id": "553cd6ab-7f1a-4d3e-9b12-fa2c4553d7b9",
   "metadata": {},
   "outputs": [
    {
     "data": {
      "text/plain": [
       "['spam', 'pams', 'amsp', 'mspa']"
      ]
     },
     "execution_count": 90,
     "metadata": {},
     "output_type": "execute_result"
    }
   ],
   "source": [
    "list(G)"
   ]
  },
  {
   "cell_type": "code",
   "execution_count": 102,
   "id": "89064947-e1d3-4231-8fb7-827dd3d087ac",
   "metadata": {},
   "outputs": [
    {
     "data": {
      "text/plain": [
       "'spam'"
      ]
     },
     "execution_count": 102,
     "metadata": {},
     "output_type": "execute_result"
    }
   ],
   "source": [
    "S = 'spam'\n",
    "G = (S[i:] + S[:i] for i in range(len(S)))\n",
    "next(G)"
   ]
  },
  {
   "cell_type": "code",
   "execution_count": 104,
   "id": "a705b0b7-39fa-40b5-b4ad-5a33022f15b5",
   "metadata": {},
   "outputs": [
    {
     "data": {
      "text/plain": [
       "'pams'"
      ]
     },
     "execution_count": 104,
     "metadata": {},
     "output_type": "execute_result"
    }
   ],
   "source": [
    "next(G)"
   ]
  },
  {
   "cell_type": "code",
   "execution_count": 106,
   "id": "b7e7fba7-0605-43d2-ab1b-2cab3bc071ff",
   "metadata": {},
   "outputs": [
    {
     "data": {
      "text/plain": [
       "'amsp'"
      ]
     },
     "execution_count": 106,
     "metadata": {},
     "output_type": "execute_result"
    }
   ],
   "source": [
    "next(G)"
   ]
  },
  {
   "cell_type": "code",
   "execution_count": 108,
   "id": "f675a5cb-991c-4864-a097-6dc03c7bd8f9",
   "metadata": {},
   "outputs": [
    {
     "data": {
      "text/plain": [
       "'mspa'"
      ]
     },
     "execution_count": 108,
     "metadata": {},
     "output_type": "execute_result"
    }
   ],
   "source": [
    "next(G)"
   ]
  },
  {
   "cell_type": "code",
   "execution_count": 110,
   "id": "80507137-cef6-488c-ade2-83d72975147f",
   "metadata": {},
   "outputs": [
    {
     "name": "stdout",
     "output_type": "stream",
     "text": [
      "This was StopIteration, pal!\n"
     ]
    }
   ],
   "source": [
    "try:\n",
    "    next(G)\n",
    "except StopIteration:\n",
    "    print('This was StopIteration, pal!')"
   ]
  },
  {
   "cell_type": "code",
   "execution_count": 118,
   "id": "65e23ce4-22ea-45b6-9fce-6df9f9cdb9b1",
   "metadata": {},
   "outputs": [
    {
     "data": {
      "text/plain": [
       "['spam', 'pams', 'amsp', 'mspa']"
      ]
     },
     "execution_count": 118,
     "metadata": {},
     "output_type": "execute_result"
    }
   ],
   "source": [
    "S = 'spam'\n",
    "F = lambda seq: (seq[i:] + seq[:i] for i in range(len(seq)))\n",
    "list(F(S))"
   ]
  },
  {
   "cell_type": "code",
   "execution_count": 120,
   "id": "94b7256b-854d-4797-8c44-b718887bd4e2",
   "metadata": {},
   "outputs": [
    {
     "data": {
      "text/plain": [
       "[[1, 2, 3], [2, 3, 1], [3, 1, 2]]"
      ]
     },
     "execution_count": 120,
     "metadata": {},
     "output_type": "execute_result"
    }
   ],
   "source": [
    "list(F([1, 2, 3]))"
   ]
  },
  {
   "cell_type": "code",
   "execution_count": 124,
   "id": "a604db64-aee8-427b-a80a-e938b4355eee",
   "metadata": {},
   "outputs": [
    {
     "name": "stdout",
     "output_type": "stream",
     "text": [
      "(1, 2, 3) (2, 3, 1) (3, 1, 2) "
     ]
    }
   ],
   "source": [
    "for x in F((1, 2, 3)):\n",
    "    print(x, end=' ')"
   ]
  },
  {
   "cell_type": "code",
   "execution_count": 126,
   "id": "a56cdafa-a209-4a8e-a4e3-52988bcfccd6",
   "metadata": {},
   "outputs": [
    {
     "data": {
      "text/plain": [
       "'E:\\\\GIT\\\\MALANJIVA\\\\LUTZ\\\\MYCODE'"
      ]
     },
     "execution_count": 126,
     "metadata": {},
     "output_type": "execute_result"
    }
   ],
   "source": [
    "import os\n",
    "os.getcwd()"
   ]
  },
  {
   "cell_type": "code",
   "execution_count": 128,
   "id": "b6da636d-214b-4610-8766-6dcb920924d5",
   "metadata": {},
   "outputs": [],
   "source": [
    "from scramble import scramble\n",
    "from inter2 import intersect, union\n",
    "\n",
    "def tester(func, items, trace=True):\n",
    "    for args in scramble(items):\n",
    "        if trace:\n",
    "            print(args)\n",
    "        print(sorted(func(*args)))"
   ]
  },
  {
   "cell_type": "code",
   "execution_count": 130,
   "id": "26625628-b29b-4631-88c2-ba2f705a69df",
   "metadata": {},
   "outputs": [
    {
     "name": "stdout",
     "output_type": "stream",
     "text": [
      "('aab', 'abcde', 'ababab')\n",
      "['a', 'b']\n",
      "('abcde', 'ababab', 'aab')\n",
      "['a', 'b']\n",
      "('ababab', 'aab', 'abcde')\n",
      "['a', 'b']\n"
     ]
    }
   ],
   "source": [
    "tester(intersect, ('aab', 'abcde', 'ababab'))"
   ]
  },
  {
   "cell_type": "code",
   "execution_count": null,
   "id": "32e1a1ed-80e8-45bb-9326-c0d6d05a0205",
   "metadata": {},
   "outputs": [],
   "source": []
  }
 ],
 "metadata": {
  "kernelspec": {
   "display_name": "Python 3 (ipykernel)",
   "language": "python",
   "name": "python3"
  },
  "language_info": {
   "codemirror_mode": {
    "name": "ipython",
    "version": 3
   },
   "file_extension": ".py",
   "mimetype": "text/x-python",
   "name": "python",
   "nbconvert_exporter": "python",
   "pygments_lexer": "ipython3",
   "version": "3.12.4"
  }
 },
 "nbformat": 4,
 "nbformat_minor": 5
}
