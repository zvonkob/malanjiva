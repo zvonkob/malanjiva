{
 "cells": [
  {
   "cell_type": "code",
   "execution_count": 5,
   "id": "b9dfb215-d151-4ccc-a74c-a3999f711730",
   "metadata": {},
   "outputs": [
    {
     "name": "stdout",
     "output_type": "stream",
     "text": [
      "M 77\n",
      "o 111\n",
      "j 106\n",
      "a 97\n",
      "  32\n",
      "m 109\n",
      "a 97\n",
      "l 108\n",
      "a 97\n",
      "  32\n",
      "M 77\n",
      "a 97\n",
      "r 114\n",
      "i 105\n",
      "j 106\n",
      "a 97\n",
      "n 110\n",
      "a 97\n",
      ", 44\n",
      "  32\n",
      "č 269\n",
      "e 101\n",
      "k 107\n",
      "a 97\n",
      "j 106\n",
      "  32\n",
      "m 109\n",
      "e 101\n",
      "  32\n",
      "d 100\n",
      "r 114\n",
      "a 97\n",
      "g 103\n",
      "a 97\n",
      "3210\n"
     ]
    }
   ],
   "source": [
    "S = 'Moja mala Marijana, čekaj me draga'\n",
    "S_sum = 0\n",
    "for s in S:\n",
    "    print(s, ord(s))\n",
    "    S_sum += ord(s)\n",
    "print(S_sum)"
   ]
  },
  {
   "cell_type": "code",
   "execution_count": 7,
   "id": "ccefc53f-c1c1-4e3e-8d02-d54c5a35e7b8",
   "metadata": {},
   "outputs": [
    {
     "data": {
      "text/plain": [
       "[77,\n",
       " 111,\n",
       " 106,\n",
       " 97,\n",
       " 32,\n",
       " 109,\n",
       " 97,\n",
       " 108,\n",
       " 97,\n",
       " 32,\n",
       " 77,\n",
       " 97,\n",
       " 114,\n",
       " 105,\n",
       " 106,\n",
       " 97,\n",
       " 110,\n",
       " 97,\n",
       " 44,\n",
       " 32,\n",
       " 269,\n",
       " 101,\n",
       " 107,\n",
       " 97,\n",
       " 106,\n",
       " 32,\n",
       " 109,\n",
       " 101,\n",
       " 32,\n",
       " 100,\n",
       " 114,\n",
       " 97,\n",
       " 103,\n",
       " 97]"
      ]
     },
     "execution_count": 7,
     "metadata": {},
     "output_type": "execute_result"
    }
   ],
   "source": [
    "[ord(s) for s in S]"
   ]
  },
  {
   "cell_type": "code",
   "execution_count": 11,
   "id": "6cc49a7b-a4a5-46ac-8b25-d9c212676dad",
   "metadata": {},
   "outputs": [
    {
     "data": {
      "text/plain": [
       "[77,\n",
       " 111,\n",
       " 106,\n",
       " 97,\n",
       " 32,\n",
       " 109,\n",
       " 97,\n",
       " 108,\n",
       " 97,\n",
       " 32,\n",
       " 77,\n",
       " 97,\n",
       " 114,\n",
       " 105,\n",
       " 106,\n",
       " 97,\n",
       " 110,\n",
       " 97,\n",
       " 44,\n",
       " 32,\n",
       " 269,\n",
       " 101,\n",
       " 107,\n",
       " 97,\n",
       " 106,\n",
       " 32,\n",
       " 109,\n",
       " 101,\n",
       " 32,\n",
       " 100,\n",
       " 114,\n",
       " 97,\n",
       " 103,\n",
       " 97]"
      ]
     },
     "execution_count": 11,
     "metadata": {},
     "output_type": "execute_result"
    }
   ],
   "source": [
    "list(map(ord, S))"
   ]
  },
  {
   "cell_type": "code",
   "execution_count": 15,
   "id": "622197bf-b539-431d-beb1-fb8590c44e2f",
   "metadata": {},
   "outputs": [
    {
     "name": "stdout",
     "output_type": "stream",
     "text": [
      "hello 0\n",
      "\u0007\n",
      "hello 1\n",
      "\u0007\n",
      "hello 2\n",
      "\u0007\n",
      "hello 3\n",
      "\u0007\n",
      "hello 4\n",
      "\u0007\n",
      "hello 5\n",
      "\u0007\n",
      "hello 6\n",
      "\u0007\n",
      "hello 7\n",
      "\u0007\n",
      "hello 8\n",
      "\u0007\n",
      "hello 9\n",
      "\u0007\n",
      "hello 10\n",
      "\u0007\n",
      "hello 11\n",
      "\u0007\n",
      "hello 12\n",
      "\u0007\n",
      "hello 13\n",
      "\u0007\n",
      "hello 14\n",
      "\u0007\n",
      "hello 15\n",
      "\u0007\n",
      "hello 16\n",
      "\u0007\n",
      "hello 17\n",
      "\u0007\n",
      "hello 18\n",
      "\u0007\n",
      "hello 19\n",
      "\u0007\n",
      "hello 20\n",
      "\u0007\n",
      "hello 21\n",
      "\u0007\n",
      "hello 22\n",
      "\u0007\n",
      "hello 23\n",
      "\u0007\n",
      "hello 24\n",
      "\u0007\n",
      "hello 25\n",
      "\u0007\n",
      "hello 26\n",
      "\u0007\n",
      "hello 27\n",
      "\u0007\n",
      "hello 28\n",
      "\u0007\n",
      "hello 29\n",
      "\u0007\n",
      "hello 30\n",
      "\u0007\n",
      "hello 31\n",
      "\u0007\n",
      "hello 32\n",
      "\u0007\n",
      "hello 33\n",
      "\u0007\n",
      "hello 34\n",
      "\u0007\n",
      "hello 35\n",
      "\u0007\n",
      "hello 36\n",
      "\u0007\n",
      "hello 37\n",
      "\u0007\n",
      "hello 38\n",
      "\u0007\n",
      "hello 39\n",
      "\u0007\n",
      "hello 40\n",
      "\u0007\n",
      "hello 41\n",
      "\u0007\n",
      "hello 42\n",
      "\u0007\n",
      "hello 43\n",
      "\u0007\n",
      "hello 44\n",
      "\u0007\n",
      "hello 45\n",
      "\u0007\n",
      "hello 46\n",
      "\u0007\n",
      "hello 47\n",
      "\u0007\n",
      "hello 48\n",
      "\u0007\n",
      "hello 49\n",
      "\u0007\n"
     ]
    }
   ],
   "source": [
    "for i in range(50):\n",
    "    print('hello %d\\n\\a' % i)"
   ]
  },
  {
   "cell_type": "code",
   "execution_count": 36,
   "id": "ddcece66-3c04-40d6-b00c-25d1703cfa32",
   "metadata": {},
   "outputs": [
    {
     "data": {
      "text/plain": [
       "{'r': 0, 'a': 1, 'm': 2, 'b': 3, 'o': 4}"
      ]
     },
     "execution_count": 36,
     "metadata": {},
     "output_type": "execute_result"
    }
   ],
   "source": [
    "E = dict(zip('rambo', range(5)))\n",
    "E"
   ]
  },
  {
   "cell_type": "code",
   "execution_count": 38,
   "id": "4dfb6e6e-d1a8-48c0-895d-f1ceca007db3",
   "metadata": {},
   "outputs": [
    {
     "data": {
      "text/plain": [
       "{'r': 0, 'a': 1, 'm': 2, 'b': 3, 'o': 4}"
      ]
     },
     "execution_count": 38,
     "metadata": {},
     "output_type": "execute_result"
    }
   ],
   "source": [
    "E"
   ]
  },
  {
   "cell_type": "code",
   "execution_count": 44,
   "id": "afa8f980-d339-4af0-8a9d-67714bc6a1e3",
   "metadata": {},
   "outputs": [
    {
     "name": "stdout",
     "output_type": "stream",
     "text": [
      "a 1\n",
      "b 3\n",
      "m 2\n",
      "o 4\n",
      "r 0\n"
     ]
    }
   ],
   "source": [
    "for k in sorted(E):\n",
    "    print(k, E[k])"
   ]
  },
  {
   "cell_type": "code",
   "execution_count": 46,
   "id": "1fd2b3ae-8526-4de8-8800-20f9c04769f9",
   "metadata": {},
   "outputs": [
    {
     "name": "stdout",
     "output_type": "stream",
     "text": [
      "r 0\n",
      "a 1\n",
      "m 2\n",
      "b 3\n",
      "o 4\n"
     ]
    }
   ],
   "source": [
    "for k in E:\n",
    "    print(k, E[k])"
   ]
  },
  {
   "cell_type": "code",
   "execution_count": 52,
   "id": "fa2c358b-8583-42bd-b217-8824603f04c9",
   "metadata": {},
   "outputs": [
    {
     "name": "stdout",
     "output_type": "stream",
     "text": [
      "at index 5\n"
     ]
    }
   ],
   "source": [
    "L = [2 ** i for i in range(7)]\n",
    "\n",
    "X = 5\n",
    "found = False\n",
    "i = 0\n",
    "while not found and i < len(L):\n",
    "    if 2 ** X == L[i]:\n",
    "        found = True\n",
    "    else:\n",
    "        i += 1\n",
    "\n",
    "if found:\n",
    "    print('at index', i)\n",
    "else:\n",
    "    print(X, 'not found')"
   ]
  },
  {
   "cell_type": "code",
   "execution_count": 56,
   "id": "5944fcac-0bac-4c67-b323-2513b95f1e28",
   "metadata": {},
   "outputs": [
    {
     "name": "stdout",
     "output_type": "stream",
     "text": [
      "5 not found\n",
      "at index 7\n"
     ]
    }
   ],
   "source": [
    "L = [2 ** i for i in range(7)]\n",
    "\n",
    "X = 5\n",
    "i = 0\n",
    "while i < len(L):\n",
    "    if 3 ** X == L[i]:\n",
    "        break\n",
    "    else:\n",
    "        i += 1\n",
    "else:\n",
    "    print(X, 'not found')\n",
    "    \n",
    "print('at index', i)\n",
    "\n"
   ]
  },
  {
   "cell_type": "code",
   "execution_count": 58,
   "id": "8f09eeaa-3ff0-4f9f-8a14-c37bd5bf7841",
   "metadata": {},
   "outputs": [
    {
     "name": "stdout",
     "output_type": "stream",
     "text": [
      "at index 5\n"
     ]
    }
   ],
   "source": [
    "L = [2 ** i for i in range(7)]\n",
    "\n",
    "X = 5\n",
    "i = 0\n",
    "for i in range(len(L)):\n",
    "    if 2 ** X == L[i]:\n",
    "        break\n",
    "    else:\n",
    "        i += 1\n",
    "else:\n",
    "    print(X, 'not found')\n",
    "    \n",
    "print('at index', i)"
   ]
  },
  {
   "cell_type": "code",
   "execution_count": 62,
   "id": "243fc9b5-9fad-429f-ab5a-9f4ccafc7ba4",
   "metadata": {},
   "outputs": [
    {
     "name": "stdout",
     "output_type": "stream",
     "text": [
      "5\n"
     ]
    }
   ],
   "source": [
    "print(L.index(2 ** 5))"
   ]
  },
  {
   "cell_type": "code",
   "execution_count": 66,
   "id": "977f5736-0cf4-453f-9547-269f6db83cf8",
   "metadata": {},
   "outputs": [
    {
     "data": {
      "text/plain": [
       "<map at 0x22f33baf280>"
      ]
     },
     "execution_count": 66,
     "metadata": {},
     "output_type": "execute_result"
    }
   ],
   "source": [
    "map(lambda x: 2 ** x, L)"
   ]
  },
  {
   "cell_type": "code",
   "execution_count": 76,
   "id": "e2cf8e55-6c17-4faa-aba8-9356de33165c",
   "metadata": {},
   "outputs": [
    {
     "data": {
      "text/plain": [
       "[1, 2, 4, 8, 16, 32, 64]"
      ]
     },
     "execution_count": 76,
     "metadata": {},
     "output_type": "execute_result"
    }
   ],
   "source": [
    "list(map(lambda i: 2 ** i, range(7)))"
   ]
  },
  {
   "cell_type": "code",
   "execution_count": 70,
   "id": "f15b199b-6b63-4441-b964-f3e2fa2e1221",
   "metadata": {},
   "outputs": [
    {
     "data": {
      "text/plain": [
       "[1, 2, 4, 8, 16, 32, 64]"
      ]
     },
     "execution_count": 70,
     "metadata": {},
     "output_type": "execute_result"
    }
   ],
   "source": [
    "L"
   ]
  },
  {
   "cell_type": "code",
   "execution_count": null,
   "id": "fe620184-f2e1-48f0-ba56-f7acafd159e4",
   "metadata": {},
   "outputs": [],
   "source": []
  }
 ],
 "metadata": {
  "kernelspec": {
   "display_name": "Python 3 (ipykernel)",
   "language": "python",
   "name": "python3"
  },
  "language_info": {
   "codemirror_mode": {
    "name": "ipython",
    "version": 3
   },
   "file_extension": ".py",
   "mimetype": "text/x-python",
   "name": "python",
   "nbconvert_exporter": "python",
   "pygments_lexer": "ipython3",
   "version": "3.12.4"
  }
 },
 "nbformat": 4,
 "nbformat_minor": 5
}
