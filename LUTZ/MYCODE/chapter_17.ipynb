{
 "cells": [
  {
   "cell_type": "code",
   "execution_count": null,
   "id": "f6f083e4-21a0-4b47-901c-61f6ccef156c",
   "metadata": {},
   "outputs": [],
   "source": [
    "import builtins\n",
    "', '.join(dir(builtins))"
   ]
  },
  {
   "cell_type": "code",
   "execution_count": null,
   "id": "2001b3a1-6e62-42a3-a73b-1fc608cebaae",
   "metadata": {},
   "outputs": [],
   "source": [
    "list(zip([1, 2], [3, 4]))"
   ]
  },
  {
   "cell_type": "code",
   "execution_count": null,
   "id": "aba7a262-8dff-402f-8984-1610b392a0aa",
   "metadata": {},
   "outputs": [],
   "source": [
    "zip"
   ]
  },
  {
   "cell_type": "code",
   "execution_count": null,
   "id": "9f8e719f-107a-46a0-8452-fc67ac6a3d5e",
   "metadata": {},
   "outputs": [],
   "source": [
    "import builtins\n",
    "builtins.zip"
   ]
  },
  {
   "cell_type": "code",
   "execution_count": null,
   "id": "7daa0876-3ea4-476d-8ce2-e51cac6755ef",
   "metadata": {},
   "outputs": [],
   "source": [
    "zip is builtins.zip"
   ]
  },
  {
   "cell_type": "code",
   "execution_count": null,
   "id": "d25591f1-b8e8-408f-b950-6a8108a72a07",
   "metadata": {},
   "outputs": [],
   "source": [
    "len(dir(builtins)), len([x for x in dir(builtins) if not x.startswith('__')])"
   ]
  },
  {
   "cell_type": "code",
   "execution_count": null,
   "id": "649c8d81-2856-4a74-a35b-c6dc415fa2b7",
   "metadata": {},
   "outputs": [],
   "source": [
    "len(dir(builtins)), len(list(filter(lambda x: not x.startswith('__'), dir(builtins))))"
   ]
  },
  {
   "cell_type": "code",
   "execution_count": 1,
   "id": "540bb286-49c9-4eb1-980f-d3308bb1da8e",
   "metadata": {},
   "outputs": [
    {
     "name": "stdout",
     "output_type": "stream",
     "text": [
      "88\n"
     ]
    }
   ],
   "source": [
    "x = 99\n",
    "\n",
    "def f1():\n",
    "    x = 88\n",
    "    def f2():\n",
    "        print(x)\n",
    "    f2()\n",
    "\n",
    "f1()"
   ]
  },
  {
   "cell_type": "code",
   "execution_count": 3,
   "id": "e80265e7-aedd-4506-8686-5c004ba27bd2",
   "metadata": {},
   "outputs": [
    {
     "name": "stdout",
     "output_type": "stream",
     "text": [
      "88\n"
     ]
    }
   ],
   "source": [
    "def f1():\n",
    "    x = 88\n",
    "    def f2():\n",
    "        print(x)\n",
    "    return f2\n",
    "\n",
    "action = f1()\n",
    "action()"
   ]
  },
  {
   "cell_type": "code",
   "execution_count": 5,
   "id": "de23e76e-a5a1-4db8-9688-e861a53b4602",
   "metadata": {},
   "outputs": [],
   "source": [
    "def maker(N):\n",
    "    def action(X):\n",
    "        return X ** N\n",
    "    return action"
   ]
  },
  {
   "cell_type": "code",
   "execution_count": 7,
   "id": "88d2402b-b126-4070-be46-eb2e53dcfb71",
   "metadata": {},
   "outputs": [
    {
     "data": {
      "text/plain": [
       "<function __main__.maker.<locals>.action(X)>"
      ]
     },
     "execution_count": 7,
     "metadata": {},
     "output_type": "execute_result"
    }
   ],
   "source": [
    "f = maker(2)\n",
    "f"
   ]
  },
  {
   "cell_type": "code",
   "execution_count": 9,
   "id": "b6108bbd-cb8b-43a0-a84b-dca15ff41139",
   "metadata": {},
   "outputs": [
    {
     "data": {
      "text/plain": [
       "9"
      ]
     },
     "execution_count": 9,
     "metadata": {},
     "output_type": "execute_result"
    }
   ],
   "source": [
    "f(3)"
   ]
  },
  {
   "cell_type": "code",
   "execution_count": 11,
   "id": "7bbbfe38-df49-4f0b-bef2-1e15ece37e50",
   "metadata": {},
   "outputs": [
    {
     "data": {
      "text/plain": [
       "16"
      ]
     },
     "execution_count": 11,
     "metadata": {},
     "output_type": "execute_result"
    }
   ],
   "source": [
    "f(4)"
   ]
  },
  {
   "cell_type": "code",
   "execution_count": 13,
   "id": "352af17d-eca9-4c51-b540-1e2733e7d944",
   "metadata": {},
   "outputs": [],
   "source": [
    "g = maker(3)"
   ]
  },
  {
   "cell_type": "code",
   "execution_count": 15,
   "id": "e7289d80-ea7e-4c70-952f-6e776c6798f3",
   "metadata": {},
   "outputs": [
    {
     "data": {
      "text/plain": [
       "27"
      ]
     },
     "execution_count": 15,
     "metadata": {},
     "output_type": "execute_result"
    }
   ],
   "source": [
    "g(3)"
   ]
  },
  {
   "cell_type": "code",
   "execution_count": 17,
   "id": "41a27fbd-4dd3-41e8-b1bd-3c9b386e47fc",
   "metadata": {},
   "outputs": [
    {
     "data": {
      "text/plain": [
       "64"
      ]
     },
     "execution_count": 17,
     "metadata": {},
     "output_type": "execute_result"
    }
   ],
   "source": [
    "g(4)"
   ]
  },
  {
   "cell_type": "code",
   "execution_count": null,
   "id": "146df908-0b1f-4ca2-a61b-8b4d61e204f1",
   "metadata": {},
   "outputs": [],
   "source": [
    "def maker(N):\n",
    "    return lambda X: X ** N\n",
    "\n",
    "h = maker(4)\n",
    "\n",
    "h(4)"
   ]
  },
  {
   "cell_type": "code",
   "execution_count": 19,
   "id": "cbfbb4b5-f904-4728-8ba0-7c992ac27621",
   "metadata": {},
   "outputs": [
    {
     "name": "stdout",
     "output_type": "stream",
     "text": [
      "88\n"
     ]
    }
   ],
   "source": [
    "def f1():\n",
    "    x = 88\n",
    "    def f2(x=x):\n",
    "        print(x)\n",
    "    f2()\n",
    "\n",
    "f1()"
   ]
  },
  {
   "cell_type": "code",
   "execution_count": 21,
   "id": "1cd31fc1-c777-4618-8edb-7e5a1452ac9e",
   "metadata": {},
   "outputs": [
    {
     "name": "stdout",
     "output_type": "stream",
     "text": [
      "88\n"
     ]
    }
   ],
   "source": [
    "def f1():\n",
    "    x = 88\n",
    "    def f2(x=x):\n",
    "        print(x)\n",
    "    f2()\n",
    "\n",
    "f1()"
   ]
  },
  {
   "cell_type": "code",
   "execution_count": 23,
   "id": "1fa950be-fddf-4113-84d4-367d62b93eff",
   "metadata": {},
   "outputs": [
    {
     "name": "stdout",
     "output_type": "stream",
     "text": [
      "88\n"
     ]
    }
   ],
   "source": [
    "def f1():\n",
    "    x = 88\n",
    "    f2(x)\n",
    "\n",
    "def f2(x):\n",
    "    print(x)\n",
    "\n",
    "f1()"
   ]
  },
  {
   "cell_type": "code",
   "execution_count": 25,
   "id": "dd3a6f87-09e0-4bb7-928b-fd1721b42ee2",
   "metadata": {},
   "outputs": [
    {
     "data": {
      "text/plain": [
       "16"
      ]
     },
     "execution_count": 25,
     "metadata": {},
     "output_type": "execute_result"
    }
   ],
   "source": [
    "def func():\n",
    "    x = 4\n",
    "    action = lambda n: x ** n\n",
    "    return action\n",
    "\n",
    "actionf = func()\n",
    "actionf(2)"
   ]
  },
  {
   "cell_type": "code",
   "execution_count": 27,
   "id": "ce9181e8-1680-4538-b82e-9594d12c1dcd",
   "metadata": {},
   "outputs": [
    {
     "data": {
      "text/plain": [
       "16"
      ]
     },
     "execution_count": 27,
     "metadata": {},
     "output_type": "execute_result"
    }
   ],
   "source": [
    "def func():\n",
    "    x = 4\n",
    "    action = lambda n, x=x: x ** n\n",
    "    return action\n",
    "\n",
    "actionf = func()\n",
    "actionf(2)"
   ]
  },
  {
   "cell_type": "code",
   "execution_count": 29,
   "id": "56b999ff-8f04-4257-ab0f-d6aee009b685",
   "metadata": {},
   "outputs": [],
   "source": [
    "def makeActions():\n",
    "    acts = []\n",
    "    for i in range(5):\n",
    "        acts.append(lambda x: i ** x)\n",
    "    return acts\n",
    "\n",
    "acts = makeActions()"
   ]
  },
  {
   "cell_type": "code",
   "execution_count": 31,
   "id": "f0fc1683-6b68-4862-b2b8-4db4945173ca",
   "metadata": {},
   "outputs": [
    {
     "data": {
      "text/plain": [
       "16"
      ]
     },
     "execution_count": 31,
     "metadata": {},
     "output_type": "execute_result"
    }
   ],
   "source": [
    "acts[0](2)"
   ]
  },
  {
   "cell_type": "code",
   "execution_count": 33,
   "id": "906309ae-f190-42ce-adfb-d13be8953771",
   "metadata": {},
   "outputs": [
    {
     "data": {
      "text/plain": [
       "16"
      ]
     },
     "execution_count": 33,
     "metadata": {},
     "output_type": "execute_result"
    }
   ],
   "source": [
    "acts[1](2)"
   ]
  },
  {
   "cell_type": "code",
   "execution_count": 35,
   "id": "7295401c-56fb-401d-bb9b-67edb5c1e75c",
   "metadata": {},
   "outputs": [],
   "source": [
    "def makeActions():\n",
    "    acts = []\n",
    "    for i in range(5):\n",
    "        acts.append(lambda x, i=i: i ** x)\n",
    "    return acts\n",
    "\n",
    "acts = makeActions()"
   ]
  },
  {
   "cell_type": "code",
   "execution_count": 37,
   "id": "c115ae3b-5211-472a-837e-b61dbe70585d",
   "metadata": {},
   "outputs": [
    {
     "data": {
      "text/plain": [
       "0"
      ]
     },
     "execution_count": 37,
     "metadata": {},
     "output_type": "execute_result"
    }
   ],
   "source": [
    "acts[0](2)"
   ]
  },
  {
   "cell_type": "code",
   "execution_count": 39,
   "id": "62d8fa48-e10b-4476-a7bb-53c290f4ad5e",
   "metadata": {},
   "outputs": [
    {
     "data": {
      "text/plain": [
       "1"
      ]
     },
     "execution_count": 39,
     "metadata": {},
     "output_type": "execute_result"
    }
   ],
   "source": [
    "acts[1](2)"
   ]
  },
  {
   "cell_type": "code",
   "execution_count": 41,
   "id": "5683df21-3149-4396-9e95-6c8919ef2188",
   "metadata": {},
   "outputs": [
    {
     "data": {
      "text/plain": [
       "4"
      ]
     },
     "execution_count": 41,
     "metadata": {},
     "output_type": "execute_result"
    }
   ],
   "source": [
    "acts[2](2)"
   ]
  },
  {
   "cell_type": "code",
   "execution_count": 43,
   "id": "0f2bb556-3719-473d-b5d4-0e91fcf1cdad",
   "metadata": {},
   "outputs": [
    {
     "data": {
      "text/plain": [
       "9"
      ]
     },
     "execution_count": 43,
     "metadata": {},
     "output_type": "execute_result"
    }
   ],
   "source": [
    "acts[3](2)"
   ]
  },
  {
   "cell_type": "code",
   "execution_count": 45,
   "id": "d4907d87-68f6-4113-9b42-60b22ac44f13",
   "metadata": {},
   "outputs": [
    {
     "data": {
      "text/plain": [
       "16"
      ]
     },
     "execution_count": 45,
     "metadata": {},
     "output_type": "execute_result"
    }
   ],
   "source": [
    "acts[4](2)"
   ]
  },
  {
   "cell_type": "code",
   "execution_count": null,
   "id": "7f39554c-e006-4d64-adec-348eaa376a40",
   "metadata": {},
   "outputs": [],
   "source": [
    "def f1():\n",
    "    x = 99\n",
    "    def f2():\n",
    "        def f3():\n",
    "            print(x)\n",
    "        f3()\n",
    "    f2()\n",
    "\n",
    "f1()"
   ]
  },
  {
   "cell_type": "code",
   "execution_count": 47,
   "id": "71599498-5100-49d4-845c-1df9c751e055",
   "metadata": {},
   "outputs": [],
   "source": [
    "def tester(start):\n",
    "    state = start\n",
    "    def nested(label):\n",
    "        print(label, state)\n",
    "    return nested"
   ]
  },
  {
   "cell_type": "code",
   "execution_count": 49,
   "id": "f502ac49-258d-49d3-a48b-ebcd542dc19d",
   "metadata": {},
   "outputs": [],
   "source": [
    "F = tester(0)"
   ]
  },
  {
   "cell_type": "code",
   "execution_count": 51,
   "id": "b25f6530-c244-4322-8a59-fea342421ddb",
   "metadata": {},
   "outputs": [
    {
     "name": "stdout",
     "output_type": "stream",
     "text": [
      "spam 0\n"
     ]
    }
   ],
   "source": [
    "F('spam')"
   ]
  },
  {
   "cell_type": "code",
   "execution_count": 53,
   "id": "261b24fc-b4e1-412a-a528-9991066754a1",
   "metadata": {},
   "outputs": [
    {
     "name": "stdout",
     "output_type": "stream",
     "text": [
      "ham 0\n"
     ]
    }
   ],
   "source": [
    "F('ham')"
   ]
  },
  {
   "cell_type": "code",
   "execution_count": 55,
   "id": "3d1079e0-5791-47d9-8e4e-fd20e0a1b25c",
   "metadata": {},
   "outputs": [],
   "source": [
    "def tester(start):\n",
    "    state = start\n",
    "    def nested(label):\n",
    "        nonlocal state\n",
    "        print(label, state)\n",
    "        state += 1\n",
    "    return nested"
   ]
  },
  {
   "cell_type": "code",
   "execution_count": 57,
   "id": "34f70987-181f-43d8-b64d-8e79414bb451",
   "metadata": {},
   "outputs": [],
   "source": [
    "F = tester(0)"
   ]
  },
  {
   "cell_type": "code",
   "execution_count": 59,
   "id": "a5c0c9b3-4898-4842-adcc-c1e77f376b7b",
   "metadata": {},
   "outputs": [
    {
     "name": "stdout",
     "output_type": "stream",
     "text": [
      "spam 0\n"
     ]
    }
   ],
   "source": [
    "F('spam')"
   ]
  },
  {
   "cell_type": "code",
   "execution_count": 61,
   "id": "5a202aac-581e-438f-a5a1-6ba71a4d9383",
   "metadata": {},
   "outputs": [
    {
     "name": "stdout",
     "output_type": "stream",
     "text": [
      "ham 1\n"
     ]
    }
   ],
   "source": [
    "F('ham')"
   ]
  },
  {
   "cell_type": "code",
   "execution_count": 63,
   "id": "7b6889b5-dda4-4535-822c-4ffee696c8cc",
   "metadata": {},
   "outputs": [
    {
     "name": "stdout",
     "output_type": "stream",
     "text": [
      "eggs 2\n"
     ]
    }
   ],
   "source": [
    "F('eggs')"
   ]
  },
  {
   "cell_type": "code",
   "execution_count": 65,
   "id": "56aa228d-55f0-46da-94c1-96350912e9f7",
   "metadata": {},
   "outputs": [],
   "source": [
    "G = tester(42)"
   ]
  },
  {
   "cell_type": "code",
   "execution_count": 67,
   "id": "99b02b31-8f2e-45b5-8a9d-2c48ed1aa27e",
   "metadata": {},
   "outputs": [
    {
     "name": "stdout",
     "output_type": "stream",
     "text": [
      "spam 42\n"
     ]
    }
   ],
   "source": [
    "G('spam')"
   ]
  },
  {
   "cell_type": "code",
   "execution_count": 69,
   "id": "a8fde92c-20f6-439e-a955-c99b80c4655f",
   "metadata": {},
   "outputs": [
    {
     "name": "stdout",
     "output_type": "stream",
     "text": [
      "eggs 43\n"
     ]
    }
   ],
   "source": [
    "G('eggs')"
   ]
  },
  {
   "cell_type": "code",
   "execution_count": 71,
   "id": "1ced0a56-f02f-4f5a-8b8a-f701c6db00af",
   "metadata": {},
   "outputs": [
    {
     "name": "stdout",
     "output_type": "stream",
     "text": [
      "bacon 3\n"
     ]
    }
   ],
   "source": [
    "F('bacon')"
   ]
  },
  {
   "cell_type": "code",
   "execution_count": 73,
   "id": "fdcf30a6-5baa-49e5-bd21-4f8a06bcd6a4",
   "metadata": {},
   "outputs": [
    {
     "ename": "SyntaxError",
     "evalue": "no binding for nonlocal 'state' found (3331983304.py, line 3)",
     "output_type": "error",
     "traceback": [
      "\u001b[1;36m  Cell \u001b[1;32mIn[73], line 3\u001b[1;36m\u001b[0m\n\u001b[1;33m    nonlocal state\u001b[0m\n\u001b[1;37m    ^\u001b[0m\n\u001b[1;31mSyntaxError\u001b[0m\u001b[1;31m:\u001b[0m no binding for nonlocal 'state' found\n"
     ]
    }
   ],
   "source": [
    "def tester(start):\n",
    "    def nested(label):\n",
    "        nonlocal state\n",
    "        state = 0\n",
    "        print(label, state)\n",
    "    return nested"
   ]
  },
  {
   "cell_type": "code",
   "execution_count": 75,
   "id": "4f82fb77-acaf-4f0e-9ab0-97b01d2859e8",
   "metadata": {},
   "outputs": [],
   "source": [
    "def tester(start):\n",
    "    def nested(label):\n",
    "        global state\n",
    "        state = 0\n",
    "        print(label, state)\n",
    "    return nested"
   ]
  },
  {
   "cell_type": "code",
   "execution_count": 79,
   "id": "f60444c6-227a-4c76-9991-20834e08b152",
   "metadata": {},
   "outputs": [],
   "source": [
    "F = tester(0)"
   ]
  },
  {
   "cell_type": "code",
   "execution_count": 81,
   "id": "0ec5d390-97e4-41ed-bc62-5d47a993a368",
   "metadata": {},
   "outputs": [
    {
     "name": "stdout",
     "output_type": "stream",
     "text": [
      "abc 0\n"
     ]
    }
   ],
   "source": [
    "F('abc')"
   ]
  },
  {
   "cell_type": "code",
   "execution_count": 83,
   "id": "c213f9c1-0351-4f56-b04f-fd3552f35d3a",
   "metadata": {},
   "outputs": [
    {
     "name": "stdout",
     "output_type": "stream",
     "text": [
      "malinada 0\n"
     ]
    }
   ],
   "source": [
    "F('malinada')"
   ]
  },
  {
   "cell_type": "code",
   "execution_count": 85,
   "id": "0bf5661f-bb89-4c02-be47-7e6d69184069",
   "metadata": {},
   "outputs": [
    {
     "data": {
      "text/plain": [
       "0"
      ]
     },
     "execution_count": 85,
     "metadata": {},
     "output_type": "execute_result"
    }
   ],
   "source": [
    "state"
   ]
  },
  {
   "cell_type": "code",
   "execution_count": 109,
   "id": "9672fb64-6686-4ffb-9c28-fa4b1d69612b",
   "metadata": {},
   "outputs": [],
   "source": [
    "def tester(start):\n",
    "    global state\n",
    "    state = start\n",
    "    def nested(label):\n",
    "        global state\n",
    "        print(label, state)\n",
    "        state += 1\n",
    "    return nested"
   ]
  },
  {
   "cell_type": "code",
   "execution_count": 111,
   "id": "b34cd778-8bb7-4b4e-ad60-cf94093c766b",
   "metadata": {},
   "outputs": [],
   "source": [
    "F = tester(0)"
   ]
  },
  {
   "cell_type": "code",
   "execution_count": 113,
   "id": "23ec4bf5-5611-49de-8006-d0a59e14254d",
   "metadata": {},
   "outputs": [
    {
     "name": "stdout",
     "output_type": "stream",
     "text": [
      "spam 0\n"
     ]
    }
   ],
   "source": [
    "F('spam')"
   ]
  },
  {
   "cell_type": "code",
   "execution_count": 115,
   "id": "89e8dc7d-fa5a-4747-a8be-96a51c09975f",
   "metadata": {},
   "outputs": [
    {
     "name": "stdout",
     "output_type": "stream",
     "text": [
      "eggs 1\n"
     ]
    }
   ],
   "source": [
    "F('eggs')"
   ]
  },
  {
   "cell_type": "code",
   "execution_count": 117,
   "id": "3d5b7531-4ed8-4ea6-88b5-2b74ae6e3221",
   "metadata": {},
   "outputs": [],
   "source": [
    "G = tester(42)"
   ]
  },
  {
   "cell_type": "code",
   "execution_count": 119,
   "id": "b59671f1-f149-4374-b35c-f621aeca936a",
   "metadata": {},
   "outputs": [
    {
     "name": "stdout",
     "output_type": "stream",
     "text": [
      "toast 42\n"
     ]
    }
   ],
   "source": [
    "G('toast')"
   ]
  },
  {
   "cell_type": "code",
   "execution_count": 121,
   "id": "c1c04e54-233b-4552-a3b1-46b912e09597",
   "metadata": {},
   "outputs": [
    {
     "name": "stdout",
     "output_type": "stream",
     "text": [
      "bacon 43\n"
     ]
    }
   ],
   "source": [
    "G('bacon')"
   ]
  },
  {
   "cell_type": "code",
   "execution_count": 123,
   "id": "76f03d3d-cfad-456c-b8fe-a022b8a475f9",
   "metadata": {},
   "outputs": [
    {
     "name": "stdout",
     "output_type": "stream",
     "text": [
      "ham 44\n"
     ]
    }
   ],
   "source": [
    "F('ham')"
   ]
  },
  {
   "cell_type": "code",
   "execution_count": null,
   "id": "336be5c6-8a92-4925-9ac6-8cb4db7a0265",
   "metadata": {},
   "outputs": [],
   "source": [
    "def tester(start):\n",
    "    state = start\n",
    "    def nested(label):\n",
    "        nonlocal state\n",
    "        print(label, state)\n",
    "        state += 1\n",
    "    return nested"
   ]
  },
  {
   "cell_type": "code",
   "execution_count": 125,
   "id": "4d5caf38-7550-48a2-84a7-1a6c723b7f85",
   "metadata": {},
   "outputs": [],
   "source": [
    "class tester:\n",
    "    def __init__(self, start):\n",
    "        self.state = start\n",
    "    def nested(self, label):\n",
    "        print(label, self.state)\n",
    "        self.state += 1"
   ]
  },
  {
   "cell_type": "code",
   "execution_count": 127,
   "id": "7184a64c-912d-47d0-956b-e74ea70bed80",
   "metadata": {},
   "outputs": [],
   "source": [
    "F = tester(0)"
   ]
  },
  {
   "cell_type": "code",
   "execution_count": 133,
   "id": "bad73ce4-a3cf-4759-b275-e311784c0828",
   "metadata": {},
   "outputs": [
    {
     "name": "stdout",
     "output_type": "stream",
     "text": [
      "spam 0\n"
     ]
    }
   ],
   "source": [
    "F.nested('spam')"
   ]
  },
  {
   "cell_type": "code",
   "execution_count": 135,
   "id": "6e7bd6ad-821e-412c-8aee-92f46ea9a638",
   "metadata": {},
   "outputs": [
    {
     "name": "stdout",
     "output_type": "stream",
     "text": [
      "ham 1\n"
     ]
    }
   ],
   "source": [
    "F.nested('ham')"
   ]
  },
  {
   "cell_type": "code",
   "execution_count": 137,
   "id": "6a59e0f4-1aa6-4d7d-a66d-011a181eaab3",
   "metadata": {},
   "outputs": [
    {
     "name": "stdout",
     "output_type": "stream",
     "text": [
      "eggs 2\n"
     ]
    }
   ],
   "source": [
    "F.nested('eggs')"
   ]
  },
  {
   "cell_type": "code",
   "execution_count": 139,
   "id": "8588a369-9155-4291-814f-8f76904cf664",
   "metadata": {},
   "outputs": [],
   "source": [
    "G= tester(42)"
   ]
  },
  {
   "cell_type": "code",
   "execution_count": 141,
   "id": "f7f3eaa9-66ca-46a8-8f3f-fd0852d7e46e",
   "metadata": {},
   "outputs": [
    {
     "name": "stdout",
     "output_type": "stream",
     "text": [
      "spam 42\n"
     ]
    }
   ],
   "source": [
    "G.nested('spam')"
   ]
  },
  {
   "cell_type": "code",
   "execution_count": 143,
   "id": "2fd71c62-009b-44ad-a46f-641aebadc7c1",
   "metadata": {},
   "outputs": [
    {
     "name": "stdout",
     "output_type": "stream",
     "text": [
      "eggs 43\n"
     ]
    }
   ],
   "source": [
    "G.nested('eggs')"
   ]
  },
  {
   "cell_type": "code",
   "execution_count": 145,
   "id": "b4f120af-d9b6-4bbf-ad55-cdf4862e4d6d",
   "metadata": {},
   "outputs": [
    {
     "name": "stdout",
     "output_type": "stream",
     "text": [
      "bacon 3\n"
     ]
    }
   ],
   "source": [
    "F.nested('bacon')"
   ]
  },
  {
   "cell_type": "code",
   "execution_count": null,
   "id": "245b1b64-c41b-4b92-a5c4-3de87cde75b7",
   "metadata": {},
   "outputs": [],
   "source": []
  },
  {
   "cell_type": "code",
   "execution_count": 147,
   "id": "f790c0b0-0591-4133-812c-2577bad1c051",
   "metadata": {},
   "outputs": [],
   "source": [
    "class tester:\n",
    "    def __init__(self, start):\n",
    "        self.state = start\n",
    "    def __call__(self, label):\n",
    "        print(label, self.state)\n",
    "        self.state += 1"
   ]
  },
  {
   "cell_type": "code",
   "execution_count": 149,
   "id": "e3173c88-d84a-4ca3-9f2c-fc7f6b1429a8",
   "metadata": {},
   "outputs": [],
   "source": [
    "H = tester(99)"
   ]
  },
  {
   "cell_type": "code",
   "execution_count": 151,
   "id": "5cd8cea6-a7ad-4253-bd6a-20b9c906f229",
   "metadata": {},
   "outputs": [
    {
     "name": "stdout",
     "output_type": "stream",
     "text": [
      "juice 99\n"
     ]
    }
   ],
   "source": [
    "H('juice')"
   ]
  },
  {
   "cell_type": "code",
   "execution_count": null,
   "id": "a3310073-02e9-4c9a-ad3e-fd97a641a293",
   "metadata": {},
   "outputs": [],
   "source": [
    "def tester(start):\n",
    "    state = start\n",
    "    def nested(label):\n",
    "        nonlocal state\n",
    "        print(label, state)\n",
    "        state += 1\n",
    "    return nested"
   ]
  },
  {
   "cell_type": "code",
   "execution_count": 153,
   "id": "e982a5a2-dd0b-483a-b60b-b26a9ecbd753",
   "metadata": {},
   "outputs": [],
   "source": [
    "def tester(start):\n",
    "    def nested(label):\n",
    "        print(label, nested.state)\n",
    "        nested.state += 1\n",
    "    nested.state = start\n",
    "    return nested"
   ]
  },
  {
   "cell_type": "code",
   "execution_count": 155,
   "id": "2852e065-e524-4f9c-8adf-6fee73201f8d",
   "metadata": {},
   "outputs": [],
   "source": [
    "F = tester(0)"
   ]
  },
  {
   "cell_type": "code",
   "execution_count": 157,
   "id": "cd9e9206-8d60-4497-9d6d-c3620ef4ae89",
   "metadata": {},
   "outputs": [
    {
     "name": "stdout",
     "output_type": "stream",
     "text": [
      "spam 0\n"
     ]
    }
   ],
   "source": [
    "F('spam')"
   ]
  },
  {
   "cell_type": "code",
   "execution_count": 159,
   "id": "5c2f8422-e4ca-4e7c-8bed-c2aed77f2ce5",
   "metadata": {},
   "outputs": [
    {
     "name": "stdout",
     "output_type": "stream",
     "text": [
      "eggs 1\n"
     ]
    }
   ],
   "source": [
    "F('eggs')"
   ]
  },
  {
   "cell_type": "code",
   "execution_count": 161,
   "id": "d12c77cf-6a18-4439-b985-59454c61b16a",
   "metadata": {},
   "outputs": [],
   "source": [
    "G = tester(42)"
   ]
  },
  {
   "cell_type": "code",
   "execution_count": 163,
   "id": "2b16655f-573b-44a6-82b3-deb73509206a",
   "metadata": {},
   "outputs": [
    {
     "name": "stdout",
     "output_type": "stream",
     "text": [
      "bananas 42\n"
     ]
    }
   ],
   "source": [
    "G('bananas')"
   ]
  },
  {
   "cell_type": "code",
   "execution_count": 165,
   "id": "9f425daf-925c-4448-9a73-b44c6fd44206",
   "metadata": {},
   "outputs": [
    {
     "name": "stdout",
     "output_type": "stream",
     "text": [
      "eggplant 43\n"
     ]
    }
   ],
   "source": [
    "G('eggplant')"
   ]
  },
  {
   "cell_type": "code",
   "execution_count": 167,
   "id": "b92ae14f-f09a-4b9c-b730-ce6531ce71dd",
   "metadata": {},
   "outputs": [
    {
     "data": {
      "text/plain": [
       "2"
      ]
     },
     "execution_count": 167,
     "metadata": {},
     "output_type": "execute_result"
    }
   ],
   "source": [
    "F.state"
   ]
  },
  {
   "cell_type": "code",
   "execution_count": 169,
   "id": "7ce4a339-066d-455c-91b2-e3e9380abb4b",
   "metadata": {},
   "outputs": [
    {
     "data": {
      "text/plain": [
       "44"
      ]
     },
     "execution_count": 169,
     "metadata": {},
     "output_type": "execute_result"
    }
   ],
   "source": [
    "G.state"
   ]
  },
  {
   "cell_type": "code",
   "execution_count": 171,
   "id": "27706ef1-b833-4d83-b1b2-e61a2e51afe2",
   "metadata": {},
   "outputs": [
    {
     "data": {
      "text/plain": [
       "False"
      ]
     },
     "execution_count": 171,
     "metadata": {},
     "output_type": "execute_result"
    }
   ],
   "source": [
    "F is G"
   ]
  },
  {
   "cell_type": "code",
   "execution_count": 189,
   "id": "960135e0-d9f1-425c-94f6-4c5fc2315f78",
   "metadata": {},
   "outputs": [
    {
     "name": "stdout",
     "output_type": "stream",
     "text": [
      "Spam\n"
     ]
    }
   ],
   "source": [
    "# Quiz 1\n",
    "\n",
    "X = 'Spam'\n",
    "def func():\n",
    "    print(X)  # X global\n",
    "\n",
    "func()"
   ]
  },
  {
   "cell_type": "code",
   "execution_count": 191,
   "id": "0dc29a40-bb99-4e7e-8861-d092ce1207d9",
   "metadata": {},
   "outputs": [
    {
     "name": "stdout",
     "output_type": "stream",
     "text": [
      "Spam\n"
     ]
    }
   ],
   "source": [
    "# Quiz 2\n",
    "\n",
    "X = 'Spam'\n",
    "def func():\n",
    "    X = 'NI!'  # X local\n",
    "\n",
    "func()\n",
    "print(X)"
   ]
  },
  {
   "cell_type": "code",
   "execution_count": 193,
   "id": "4c3443a0-0668-4bf3-8237-acf7dee4cd33",
   "metadata": {},
   "outputs": [
    {
     "name": "stdout",
     "output_type": "stream",
     "text": [
      "NI!\n",
      "Spam\n"
     ]
    }
   ],
   "source": [
    "# Quiz 3\n",
    "\n",
    "X = 'Spam'\n",
    "def func():\n",
    "    X = 'NI!'  # X local\n",
    "    print(X)\n",
    "\n",
    "func()\n",
    "print(X)"
   ]
  },
  {
   "cell_type": "code",
   "execution_count": 195,
   "id": "e0b3745d-e203-470c-b88e-002507046bbe",
   "metadata": {},
   "outputs": [
    {
     "name": "stdout",
     "output_type": "stream",
     "text": [
      "NI!\n"
     ]
    }
   ],
   "source": [
    "# Quiz 4\n",
    "\n",
    "X = 'Spam'\n",
    "def func():\n",
    "    global X\n",
    "    X = 'NI!'\n",
    "\n",
    "func()\n",
    "print(X)"
   ]
  },
  {
   "cell_type": "code",
   "execution_count": 197,
   "id": "007af889-3f46-4dd1-8615-ae52ba92d8ca",
   "metadata": {},
   "outputs": [
    {
     "name": "stdout",
     "output_type": "stream",
     "text": [
      "NI!\n"
     ]
    },
    {
     "data": {
      "text/plain": [
       "'Spam'"
      ]
     },
     "execution_count": 197,
     "metadata": {},
     "output_type": "execute_result"
    }
   ],
   "source": [
    "# Quiz 5\n",
    "\n",
    "X = 'Spam'\n",
    "def func():\n",
    "    X = 'NI!'\n",
    "    def nested():\n",
    "        print(X)\n",
    "    nested()\n",
    "\n",
    "\n",
    "func()\n",
    "X"
   ]
  },
  {
   "cell_type": "code",
   "execution_count": 199,
   "id": "9bda1d4e-31bd-4f5c-9672-3296a225de7e",
   "metadata": {},
   "outputs": [
    {
     "name": "stdout",
     "output_type": "stream",
     "text": [
      "Spam\n"
     ]
    }
   ],
   "source": [
    "# Quiz 6\n",
    "\n",
    "def func():\n",
    "    X = 'NI'\n",
    "    def nested():\n",
    "        nonlocal X\n",
    "        X = 'Spam'\n",
    "    nested()\n",
    "    print(X)\n",
    "\n",
    "func()"
   ]
  },
  {
   "cell_type": "code",
   "execution_count": null,
   "id": "d06d5e55-07f1-4467-aafb-bb4fc7c0a1f0",
   "metadata": {},
   "outputs": [],
   "source": []
  }
 ],
 "metadata": {
  "kernelspec": {
   "display_name": "Python 3 (ipykernel)",
   "language": "python",
   "name": "python3"
  },
  "language_info": {
   "codemirror_mode": {
    "name": "ipython",
    "version": 3
   },
   "file_extension": ".py",
   "mimetype": "text/x-python",
   "name": "python",
   "nbconvert_exporter": "python",
   "pygments_lexer": "ipython3",
   "version": "3.12.4"
  }
 },
 "nbformat": 4,
 "nbformat_minor": 5
}
