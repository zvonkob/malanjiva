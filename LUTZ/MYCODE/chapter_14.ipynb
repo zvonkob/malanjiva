{
 "cells": [
  {
   "cell_type": "code",
   "execution_count": 1,
   "id": "cd86aca1-69a3-4c56-b2bd-4a2cb3dcf818",
   "metadata": {},
   "outputs": [
    {
     "data": {
      "text/plain": [
       "'import sys\\nprint(sys.path)\\nx = 2\\nprint(x ** 32)'"
      ]
     },
     "execution_count": 1,
     "metadata": {},
     "output_type": "execute_result"
    }
   ],
   "source": [
    "open('script2.py').read()"
   ]
  },
  {
   "cell_type": "code",
   "execution_count": 3,
   "id": "6aa403ac-1485-40ee-9140-130da8bbbb40",
   "metadata": {},
   "outputs": [
    {
     "name": "stdout",
     "output_type": "stream",
     "text": [
      "import sys\n",
      "print(sys.path)\n",
      "x = 2\n",
      "print(x ** 32)\n"
     ]
    }
   ],
   "source": [
    "print(open('script2.py').read())"
   ]
  },
  {
   "cell_type": "code",
   "execution_count": 5,
   "id": "417adb4d-48c5-4665-b794-b340c53ce216",
   "metadata": {},
   "outputs": [],
   "source": [
    "f = open('script2.py')"
   ]
  },
  {
   "cell_type": "code",
   "execution_count": 7,
   "id": "377a7f83-f34b-4cb0-adaa-6198f4fd7515",
   "metadata": {},
   "outputs": [
    {
     "data": {
      "text/plain": [
       "'import sys\\n'"
      ]
     },
     "execution_count": 7,
     "metadata": {},
     "output_type": "execute_result"
    }
   ],
   "source": [
    "f.readline()"
   ]
  },
  {
   "cell_type": "code",
   "execution_count": 9,
   "id": "a523e8fa-552c-478f-b780-f1a8aeb8bbed",
   "metadata": {},
   "outputs": [
    {
     "data": {
      "text/plain": [
       "'print(sys.path)\\n'"
      ]
     },
     "execution_count": 9,
     "metadata": {},
     "output_type": "execute_result"
    }
   ],
   "source": [
    "f.readline()"
   ]
  },
  {
   "cell_type": "code",
   "execution_count": 11,
   "id": "d514c431-e288-40ed-b318-db53e657ec05",
   "metadata": {},
   "outputs": [
    {
     "data": {
      "text/plain": [
       "'x = 2\\n'"
      ]
     },
     "execution_count": 11,
     "metadata": {},
     "output_type": "execute_result"
    }
   ],
   "source": [
    "f.readline()"
   ]
  },
  {
   "cell_type": "code",
   "execution_count": 13,
   "id": "b86a761c-6d41-4fe8-afd0-c0c51cb1abc5",
   "metadata": {},
   "outputs": [
    {
     "data": {
      "text/plain": [
       "'print(x ** 32)'"
      ]
     },
     "execution_count": 13,
     "metadata": {},
     "output_type": "execute_result"
    }
   ],
   "source": [
    "f.readline()"
   ]
  },
  {
   "cell_type": "code",
   "execution_count": 15,
   "id": "3aac7fae-648f-4734-9e40-714f49568bc8",
   "metadata": {},
   "outputs": [
    {
     "data": {
      "text/plain": [
       "''"
      ]
     },
     "execution_count": 15,
     "metadata": {},
     "output_type": "execute_result"
    }
   ],
   "source": [
    "f.readline()"
   ]
  },
  {
   "cell_type": "code",
   "execution_count": 17,
   "id": "b0bda54d-02b5-4a3d-81fa-5cf16c22080d",
   "metadata": {},
   "outputs": [],
   "source": [
    "f = open('script2.py')"
   ]
  },
  {
   "cell_type": "code",
   "execution_count": 19,
   "id": "34b1a5d4-e26e-4c26-869a-0f6e15a10983",
   "metadata": {},
   "outputs": [
    {
     "data": {
      "text/plain": [
       "'import sys\\n'"
      ]
     },
     "execution_count": 19,
     "metadata": {},
     "output_type": "execute_result"
    }
   ],
   "source": [
    "f.__next__()"
   ]
  },
  {
   "cell_type": "code",
   "execution_count": 21,
   "id": "9bb3f74b-2553-4c1f-88e3-f7e4b3ea9321",
   "metadata": {},
   "outputs": [
    {
     "data": {
      "text/plain": [
       "'print(sys.path)\\n'"
      ]
     },
     "execution_count": 21,
     "metadata": {},
     "output_type": "execute_result"
    }
   ],
   "source": [
    "f.__next__()"
   ]
  },
  {
   "cell_type": "code",
   "execution_count": 23,
   "id": "111a0ee0-a7dd-4e95-a95a-380703bb606a",
   "metadata": {},
   "outputs": [
    {
     "data": {
      "text/plain": [
       "'x = 2\\n'"
      ]
     },
     "execution_count": 23,
     "metadata": {},
     "output_type": "execute_result"
    }
   ],
   "source": [
    "f.__next__()"
   ]
  },
  {
   "cell_type": "code",
   "execution_count": 25,
   "id": "79fd1b62-0de9-4c3f-9549-5b410991e452",
   "metadata": {},
   "outputs": [
    {
     "data": {
      "text/plain": [
       "'print(x ** 32)'"
      ]
     },
     "execution_count": 25,
     "metadata": {},
     "output_type": "execute_result"
    }
   ],
   "source": [
    "f.__next__()"
   ]
  },
  {
   "cell_type": "code",
   "execution_count": 27,
   "id": "b147696f-60e9-4444-93b5-b5eeb8b5be00",
   "metadata": {},
   "outputs": [
    {
     "ename": "StopIteration",
     "evalue": "",
     "output_type": "error",
     "traceback": [
      "\u001b[1;31m---------------------------------------------------------------------------\u001b[0m",
      "\u001b[1;31mStopIteration\u001b[0m                             Traceback (most recent call last)",
      "Cell \u001b[1;32mIn[27], line 1\u001b[0m\n\u001b[1;32m----> 1\u001b[0m f\u001b[38;5;241m.\u001b[39m\u001b[38;5;21m__next__\u001b[39m()\n",
      "\u001b[1;31mStopIteration\u001b[0m: "
     ]
    }
   ],
   "source": [
    "f.__next__()"
   ]
  },
  {
   "cell_type": "code",
   "execution_count": 31,
   "id": "c3d40769-36e4-442c-aeeb-2b665e43e5f3",
   "metadata": {},
   "outputs": [
    {
     "name": "stdout",
     "output_type": "stream",
     "text": [
      "IMPORT SYS\n",
      "PRINT(SYS.PATH)\n",
      "X = 2\n",
      "PRINT(X ** 32)\n"
     ]
    }
   ],
   "source": [
    "for line in open('script2.py'):\n",
    "    print(line.upper().rstrip())"
   ]
  },
  {
   "cell_type": "code",
   "execution_count": 33,
   "id": "5cef2e45-9be8-4632-9b24-9a634967007a",
   "metadata": {},
   "outputs": [
    {
     "name": "stdout",
     "output_type": "stream",
     "text": [
      "IMPORT SYS\n",
      "PRINT(SYS.PATH)\n",
      "X = 2\n",
      "PRINT(X ** 32)"
     ]
    }
   ],
   "source": [
    "for line in open('script2.py'):\n",
    "    print(line.upper(), end='')"
   ]
  },
  {
   "cell_type": "code",
   "execution_count": 35,
   "id": "727c0b47-254c-4723-9248-84e6a0ff9980",
   "metadata": {},
   "outputs": [
    {
     "name": "stdout",
     "output_type": "stream",
     "text": [
      "IMPORT SYS\n",
      "PRINT(SYS.PATH)\n",
      "X = 2\n",
      "PRINT(X ** 32)"
     ]
    }
   ],
   "source": [
    "for line in open('script2.py').readlines():\n",
    "    print(line.upper(), end='')"
   ]
  },
  {
   "cell_type": "code",
   "execution_count": 37,
   "id": "77df7b14-489f-445e-9f03-00eab5368d7d",
   "metadata": {},
   "outputs": [],
   "source": [
    "for line in open('script2.py').readlines():\n",
    "    line.upper()"
   ]
  },
  {
   "cell_type": "code",
   "execution_count": 39,
   "id": "528562b8-ced8-4250-b275-8d92d3a62dce",
   "metadata": {},
   "outputs": [
    {
     "data": {
      "text/plain": [
       "['import sys\\n', 'print(sys.path)\\n', 'x = 2\\n', 'print(x ** 32)']"
      ]
     },
     "execution_count": 39,
     "metadata": {},
     "output_type": "execute_result"
    }
   ],
   "source": [
    "lines = open('script2.py').readlines()\n",
    "lines"
   ]
  },
  {
   "cell_type": "code",
   "execution_count": 41,
   "id": "a5bea818-eed7-43be-937f-b61afa7ca3d3",
   "metadata": {},
   "outputs": [
    {
     "data": {
      "text/plain": [
       "'import sys\\nprint(sys.path)\\nx = 2\\nprint(x ** 32)'"
      ]
     },
     "execution_count": 41,
     "metadata": {},
     "output_type": "execute_result"
    }
   ],
   "source": [
    "open('script2.py').read()"
   ]
  },
  {
   "cell_type": "code",
   "execution_count": 45,
   "id": "436bf59d-10b4-4b34-bd82-27c2c54cfc2b",
   "metadata": {},
   "outputs": [
    {
     "name": "stdout",
     "output_type": "stream",
     "text": [
      "IMPORT SYS\n",
      "PRINT(SYS.PATH)\n",
      "X = 2\n",
      "PRINT(X ** 32)"
     ]
    }
   ],
   "source": [
    "f = open('script2.py')\n",
    "while True:\n",
    "    line = f.readline()\n",
    "    if not line:\n",
    "        break\n",
    "    print(line.upper(), end='')\n",
    "else:\n",
    "    print('Moja mala Marijana')\n",
    "f.close()"
   ]
  },
  {
   "cell_type": "code",
   "execution_count": 47,
   "id": "ef81d139-0100-4b08-965e-6d97f6eb76c5",
   "metadata": {},
   "outputs": [
    {
     "data": {
      "text/plain": [
       "'import sys\\n'"
      ]
     },
     "execution_count": 47,
     "metadata": {},
     "output_type": "execute_result"
    }
   ],
   "source": [
    "f = open('script2.py')\n",
    "next(f)"
   ]
  },
  {
   "cell_type": "code",
   "execution_count": 49,
   "id": "bb0ed44a-f7f0-4053-aebb-218cad23b99a",
   "metadata": {},
   "outputs": [
    {
     "data": {
      "text/plain": [
       "'print(sys.path)\\n'"
      ]
     },
     "execution_count": 49,
     "metadata": {},
     "output_type": "execute_result"
    }
   ],
   "source": [
    "next(f)"
   ]
  },
  {
   "cell_type": "code",
   "execution_count": 51,
   "id": "d99fc436-3ee8-48e5-a2ea-9c72144603fd",
   "metadata": {},
   "outputs": [
    {
     "data": {
      "text/plain": [
       "'x = 2\\n'"
      ]
     },
     "execution_count": 51,
     "metadata": {},
     "output_type": "execute_result"
    }
   ],
   "source": [
    "next(f)"
   ]
  },
  {
   "cell_type": "code",
   "execution_count": 53,
   "id": "7317be92-e94b-4944-b679-fad2aa56bcb5",
   "metadata": {},
   "outputs": [
    {
     "data": {
      "text/plain": [
       "'print(x ** 32)'"
      ]
     },
     "execution_count": 53,
     "metadata": {},
     "output_type": "execute_result"
    }
   ],
   "source": [
    "next(f)"
   ]
  },
  {
   "cell_type": "code",
   "execution_count": 55,
   "id": "05903e47-e675-4460-a756-943a0c589dbb",
   "metadata": {},
   "outputs": [],
   "source": [
    "L = [1, 2, 3]"
   ]
  },
  {
   "cell_type": "code",
   "execution_count": 57,
   "id": "63c33a15-e38f-4972-b301-66c6c367b20e",
   "metadata": {},
   "outputs": [
    {
     "data": {
      "text/plain": [
       "[1, 2, 3]"
      ]
     },
     "execution_count": 57,
     "metadata": {},
     "output_type": "execute_result"
    }
   ],
   "source": [
    "L"
   ]
  },
  {
   "cell_type": "code",
   "execution_count": 59,
   "id": "4b27368a-9b3a-46cf-9d93-4a0869bf0d88",
   "metadata": {},
   "outputs": [],
   "source": [
    "I = iter(L)"
   ]
  },
  {
   "cell_type": "code",
   "execution_count": 61,
   "id": "bcaa5ad7-28b3-44ab-8c39-b22fad4a9943",
   "metadata": {},
   "outputs": [
    {
     "data": {
      "text/plain": [
       "<list_iterator at 0x29d2562f460>"
      ]
     },
     "execution_count": 61,
     "metadata": {},
     "output_type": "execute_result"
    }
   ],
   "source": [
    "I"
   ]
  },
  {
   "cell_type": "code",
   "execution_count": 63,
   "id": "e80b770f-b4ed-42f4-ab1f-a7bceb218e47",
   "metadata": {},
   "outputs": [
    {
     "data": {
      "text/plain": [
       "list_iterator"
      ]
     },
     "execution_count": 63,
     "metadata": {},
     "output_type": "execute_result"
    }
   ],
   "source": [
    "type(I)"
   ]
  },
  {
   "cell_type": "code",
   "execution_count": 65,
   "id": "c4b1d561-d819-476c-8f0a-68675bd5eec2",
   "metadata": {},
   "outputs": [
    {
     "data": {
      "text/plain": [
       "1"
      ]
     },
     "execution_count": 65,
     "metadata": {},
     "output_type": "execute_result"
    }
   ],
   "source": [
    "next(I)"
   ]
  },
  {
   "cell_type": "code",
   "execution_count": 67,
   "id": "aa39a934-b5c8-459a-acb0-cdbed9f3a6dd",
   "metadata": {},
   "outputs": [
    {
     "data": {
      "text/plain": [
       "2"
      ]
     },
     "execution_count": 67,
     "metadata": {},
     "output_type": "execute_result"
    }
   ],
   "source": [
    "next(I)"
   ]
  },
  {
   "cell_type": "code",
   "execution_count": 69,
   "id": "13dab121-646b-490a-8875-c7a45dca975f",
   "metadata": {},
   "outputs": [
    {
     "data": {
      "text/plain": [
       "3"
      ]
     },
     "execution_count": 69,
     "metadata": {},
     "output_type": "execute_result"
    }
   ],
   "source": [
    "next(I)"
   ]
  },
  {
   "cell_type": "code",
   "execution_count": 71,
   "id": "07219b4d-4afe-47a4-9872-23751789f08c",
   "metadata": {},
   "outputs": [
    {
     "ename": "StopIteration",
     "evalue": "",
     "output_type": "error",
     "traceback": [
      "\u001b[1;31m---------------------------------------------------------------------------\u001b[0m",
      "\u001b[1;31mStopIteration\u001b[0m                             Traceback (most recent call last)",
      "Cell \u001b[1;32mIn[71], line 1\u001b[0m\n\u001b[1;32m----> 1\u001b[0m \u001b[38;5;28mnext\u001b[39m(I)\n",
      "\u001b[1;31mStopIteration\u001b[0m: "
     ]
    }
   ],
   "source": [
    "next(I)"
   ]
  },
  {
   "cell_type": "code",
   "execution_count": 73,
   "id": "4819a5bc-5d9e-4092-a2cf-6c7c77c7a1c5",
   "metadata": {},
   "outputs": [],
   "source": [
    "L = [1, 2, 3]\n",
    "I = iter(L)"
   ]
  },
  {
   "cell_type": "code",
   "execution_count": 75,
   "id": "155b9527-a9d2-4429-8341-6277221d82d2",
   "metadata": {},
   "outputs": [
    {
     "data": {
      "text/plain": [
       "<list_iterator at 0x29d23464ac0>"
      ]
     },
     "execution_count": 75,
     "metadata": {},
     "output_type": "execute_result"
    }
   ],
   "source": [
    "iter(I)"
   ]
  },
  {
   "cell_type": "code",
   "execution_count": 77,
   "id": "21551586-e683-4614-a988-cc11e1250bb2",
   "metadata": {},
   "outputs": [
    {
     "data": {
      "text/plain": [
       "<list_iterator at 0x29d23464ac0>"
      ]
     },
     "execution_count": 77,
     "metadata": {},
     "output_type": "execute_result"
    }
   ],
   "source": [
    "I"
   ]
  },
  {
   "cell_type": "code",
   "execution_count": 79,
   "id": "9791af49-aa5d-4456-b4f0-ec3023e3250d",
   "metadata": {},
   "outputs": [
    {
     "data": {
      "text/plain": [
       "[1, 2, 3]"
      ]
     },
     "execution_count": 79,
     "metadata": {},
     "output_type": "execute_result"
    }
   ],
   "source": [
    "L"
   ]
  },
  {
   "cell_type": "code",
   "execution_count": 81,
   "id": "dbe62b45-d2fa-4de9-a828-0e7a49a260af",
   "metadata": {},
   "outputs": [
    {
     "data": {
      "text/plain": [
       "list"
      ]
     },
     "execution_count": 81,
     "metadata": {},
     "output_type": "execute_result"
    }
   ],
   "source": [
    "type(L)"
   ]
  },
  {
   "cell_type": "code",
   "execution_count": 83,
   "id": "ac6e9e4c-36e4-4698-9c8d-26e2512635b7",
   "metadata": {},
   "outputs": [],
   "source": [
    "I = iter(L)"
   ]
  },
  {
   "cell_type": "code",
   "execution_count": 85,
   "id": "551309ab-6c7f-406b-a0f9-0517f675e35c",
   "metadata": {},
   "outputs": [
    {
     "data": {
      "text/plain": [
       "list_iterator"
      ]
     },
     "execution_count": 85,
     "metadata": {},
     "output_type": "execute_result"
    }
   ],
   "source": [
    "type(I)"
   ]
  },
  {
   "cell_type": "code",
   "execution_count": 87,
   "id": "ef768554-b092-4439-86c3-c3f1a416b372",
   "metadata": {},
   "outputs": [],
   "source": [
    " L = [1, 2, 3]"
   ]
  },
  {
   "cell_type": "code",
   "execution_count": 89,
   "id": "e9afcc1e-5d09-4676-848e-9dc8f4afad03",
   "metadata": {},
   "outputs": [
    {
     "data": {
      "text/plain": [
       "[1, 2, 3]"
      ]
     },
     "execution_count": 89,
     "metadata": {},
     "output_type": "execute_result"
    }
   ],
   "source": [
    "L"
   ]
  },
  {
   "cell_type": "code",
   "execution_count": 91,
   "id": "bdfb35c7-cfce-40f4-8249-6d4d06d8c2e6",
   "metadata": {},
   "outputs": [
    {
     "data": {
      "text/plain": [
       "list"
      ]
     },
     "execution_count": 91,
     "metadata": {},
     "output_type": "execute_result"
    }
   ],
   "source": [
    "type(L)"
   ]
  },
  {
   "cell_type": "code",
   "execution_count": 93,
   "id": "193ff3a8-0a0f-4ed9-a444-5041a8c1b6f5",
   "metadata": {},
   "outputs": [
    {
     "ename": "TypeError",
     "evalue": "'list' object is not an iterator",
     "output_type": "error",
     "traceback": [
      "\u001b[1;31m---------------------------------------------------------------------------\u001b[0m",
      "\u001b[1;31mTypeError\u001b[0m                                 Traceback (most recent call last)",
      "Cell \u001b[1;32mIn[93], line 1\u001b[0m\n\u001b[1;32m----> 1\u001b[0m \u001b[38;5;28mnext\u001b[39m(L)\n",
      "\u001b[1;31mTypeError\u001b[0m: 'list' object is not an iterator"
     ]
    }
   ],
   "source": [
    "next(L)"
   ]
  },
  {
   "cell_type": "code",
   "execution_count": 95,
   "id": "fc4e27f7-d944-4440-9be1-e64441902079",
   "metadata": {},
   "outputs": [],
   "source": [
    "I = iter(L)"
   ]
  },
  {
   "cell_type": "code",
   "execution_count": 97,
   "id": "7850e08b-c5b8-4f41-990f-eb8b8e3385fd",
   "metadata": {},
   "outputs": [
    {
     "data": {
      "text/plain": [
       "list_iterator"
      ]
     },
     "execution_count": 97,
     "metadata": {},
     "output_type": "execute_result"
    }
   ],
   "source": [
    "type(I)"
   ]
  },
  {
   "cell_type": "code",
   "execution_count": 99,
   "id": "7010b659-2743-49e4-9290-a1398b86d6e8",
   "metadata": {},
   "outputs": [
    {
     "data": {
      "text/plain": [
       "1"
      ]
     },
     "execution_count": 99,
     "metadata": {},
     "output_type": "execute_result"
    }
   ],
   "source": [
    "next(I)"
   ]
  },
  {
   "cell_type": "code",
   "execution_count": 101,
   "id": "1308e98d-bdaa-4250-9ca6-922c73273e02",
   "metadata": {},
   "outputs": [
    {
     "data": {
      "text/plain": [
       "<list_iterator at 0x29d22f63e20>"
      ]
     },
     "execution_count": 101,
     "metadata": {},
     "output_type": "execute_result"
    }
   ],
   "source": [
    "iter(I)"
   ]
  },
  {
   "cell_type": "code",
   "execution_count": 103,
   "id": "a3dc4640-f3ed-4bd7-bd07-62addb14593f",
   "metadata": {},
   "outputs": [
    {
     "data": {
      "text/plain": [
       "_io.TextIOWrapper"
      ]
     },
     "execution_count": 103,
     "metadata": {},
     "output_type": "execute_result"
    }
   ],
   "source": [
    "f = open('script2.py')\n",
    "type(f)"
   ]
  },
  {
   "cell_type": "code",
   "execution_count": 105,
   "id": "db8700ff-8310-4a80-a04b-fbfaa3f012a9",
   "metadata": {},
   "outputs": [
    {
     "data": {
      "text/plain": [
       "True"
      ]
     },
     "execution_count": 105,
     "metadata": {},
     "output_type": "execute_result"
    }
   ],
   "source": [
    "iter(f) is f"
   ]
  },
  {
   "cell_type": "code",
   "execution_count": 107,
   "id": "671a442f-42ab-4db1-9705-4e6f046d7fef",
   "metadata": {},
   "outputs": [
    {
     "data": {
      "text/plain": [
       "'import sys\\n'"
      ]
     },
     "execution_count": 107,
     "metadata": {},
     "output_type": "execute_result"
    }
   ],
   "source": [
    "next(f)"
   ]
  },
  {
   "cell_type": "code",
   "execution_count": 109,
   "id": "6f743074-3b76-4945-86f7-863761a4db7d",
   "metadata": {},
   "outputs": [],
   "source": [
    " L = [1, 2, 3]"
   ]
  },
  {
   "cell_type": "code",
   "execution_count": 111,
   "id": "ec53eea4-8d5a-41c9-bb72-1486b0af1dab",
   "metadata": {},
   "outputs": [
    {
     "data": {
      "text/plain": [
       "False"
      ]
     },
     "execution_count": 111,
     "metadata": {},
     "output_type": "execute_result"
    }
   ],
   "source": [
    "iter(L) is L"
   ]
  },
  {
   "cell_type": "code",
   "execution_count": 113,
   "id": "aa932958-fc94-482b-8eeb-b02368ae786d",
   "metadata": {},
   "outputs": [
    {
     "ename": "TypeError",
     "evalue": "'list' object is not an iterator",
     "output_type": "error",
     "traceback": [
      "\u001b[1;31m---------------------------------------------------------------------------\u001b[0m",
      "\u001b[1;31mTypeError\u001b[0m                                 Traceback (most recent call last)",
      "Cell \u001b[1;32mIn[113], line 1\u001b[0m\n\u001b[1;32m----> 1\u001b[0m \u001b[38;5;28mnext\u001b[39m(L)\n",
      "\u001b[1;31mTypeError\u001b[0m: 'list' object is not an iterator"
     ]
    }
   ],
   "source": [
    "next(L)"
   ]
  },
  {
   "cell_type": "code",
   "execution_count": 115,
   "id": "d60a127a-ffd2-4956-a1e5-2c078f5f1cff",
   "metadata": {},
   "outputs": [
    {
     "ename": "AttributeError",
     "evalue": "'list' object has no attribute '__next__'",
     "output_type": "error",
     "traceback": [
      "\u001b[1;31m---------------------------------------------------------------------------\u001b[0m",
      "\u001b[1;31mAttributeError\u001b[0m                            Traceback (most recent call last)",
      "Cell \u001b[1;32mIn[115], line 1\u001b[0m\n\u001b[1;32m----> 1\u001b[0m L\u001b[38;5;241m.\u001b[39m\u001b[38;5;21m__next__\u001b[39m()\n",
      "\u001b[1;31mAttributeError\u001b[0m: 'list' object has no attribute '__next__'"
     ]
    }
   ],
   "source": [
    "L.__next__()"
   ]
  },
  {
   "cell_type": "code",
   "execution_count": 119,
   "id": "556d88a8-1d40-469b-9e6e-56ccbcb92bf9",
   "metadata": {},
   "outputs": [
    {
     "name": "stdout",
     "output_type": "stream",
     "text": [
      "1 4 9 "
     ]
    }
   ],
   "source": [
    "L = [1, 2, 3]\n",
    "for x in L:\n",
    "    print(x ** 2, end=' ')"
   ]
  },
  {
   "cell_type": "code",
   "execution_count": 125,
   "id": "1dcb67a3-6eb5-4c34-8db3-71f28f7bf84b",
   "metadata": {},
   "outputs": [
    {
     "name": "stdout",
     "output_type": "stream",
     "text": [
      "1 4 9 "
     ]
    }
   ],
   "source": [
    "L = [1, 2, 3]\n",
    "I = iter(L)\n",
    "while True:\n",
    "    try:\n",
    "        x = next(I)\n",
    "    except StopIteration:\n",
    "        break\n",
    "    print(x ** 2, end=' ')"
   ]
  },
  {
   "cell_type": "code",
   "execution_count": 127,
   "id": "a231ca51-1556-4d1f-8a0d-eca58195db10",
   "metadata": {},
   "outputs": [
    {
     "name": "stdout",
     "output_type": "stream",
     "text": [
      "a 1\n",
      "b 2\n",
      "c 3\n"
     ]
    }
   ],
   "source": [
    "D = {'a': 1, 'b': 2, 'c': 3}\n",
    "for k in D.keys():\n",
    "    print(k, D[k])"
   ]
  },
  {
   "cell_type": "code",
   "execution_count": 129,
   "id": "648365db-c200-4ae4-b02e-ef5bc2bdcedb",
   "metadata": {},
   "outputs": [
    {
     "data": {
      "text/plain": [
       "{'a': 1, 'b': 2, 'c': 3}"
      ]
     },
     "execution_count": 129,
     "metadata": {},
     "output_type": "execute_result"
    }
   ],
   "source": [
    "D"
   ]
  },
  {
   "cell_type": "code",
   "execution_count": 131,
   "id": "9ec5a88a-476d-4186-ada6-b2f9820077d3",
   "metadata": {},
   "outputs": [],
   "source": [
    "I = iter(D)"
   ]
  },
  {
   "cell_type": "code",
   "execution_count": 133,
   "id": "011c53c9-06cc-4382-a4c1-6a76c874f5df",
   "metadata": {},
   "outputs": [],
   "source": [
    "k = next(I)"
   ]
  },
  {
   "cell_type": "code",
   "execution_count": 135,
   "id": "101f445c-5c72-4a41-98bc-bd6aca198cd2",
   "metadata": {},
   "outputs": [
    {
     "data": {
      "text/plain": [
       "'a'"
      ]
     },
     "execution_count": 135,
     "metadata": {},
     "output_type": "execute_result"
    }
   ],
   "source": [
    "k"
   ]
  },
  {
   "cell_type": "code",
   "execution_count": 137,
   "id": "2191cd12-1920-42de-bb74-8c1f2adb10ca",
   "metadata": {},
   "outputs": [
    {
     "name": "stdout",
     "output_type": "stream",
     "text": [
      "b\n"
     ]
    }
   ],
   "source": [
    "print(next(I))"
   ]
  },
  {
   "cell_type": "code",
   "execution_count": 139,
   "id": "66308a87-2fc0-4a87-b8a4-8327371dd60a",
   "metadata": {},
   "outputs": [
    {
     "name": "stdout",
     "output_type": "stream",
     "text": [
      "c\n"
     ]
    }
   ],
   "source": [
    "print(next(I))"
   ]
  },
  {
   "cell_type": "code",
   "execution_count": 141,
   "id": "f1206567-49d4-4beb-a747-f7454e4124e9",
   "metadata": {},
   "outputs": [
    {
     "ename": "StopIteration",
     "evalue": "",
     "output_type": "error",
     "traceback": [
      "\u001b[1;31m---------------------------------------------------------------------------\u001b[0m",
      "\u001b[1;31mStopIteration\u001b[0m                             Traceback (most recent call last)",
      "Cell \u001b[1;32mIn[141], line 1\u001b[0m\n\u001b[1;32m----> 1\u001b[0m \u001b[38;5;28mprint\u001b[39m(\u001b[38;5;28mnext\u001b[39m(I))\n",
      "\u001b[1;31mStopIteration\u001b[0m: "
     ]
    }
   ],
   "source": [
    "print(next(I))"
   ]
  },
  {
   "cell_type": "code",
   "execution_count": 143,
   "id": "3ecfdf2b-fa79-4a03-878a-22724bce4b6a",
   "metadata": {},
   "outputs": [
    {
     "name": "stdout",
     "output_type": "stream",
     "text": [
      "a 1\n",
      "b 2\n",
      "c 3\n"
     ]
    }
   ],
   "source": [
    "for k in D:\n",
    "    print(k, D[k])"
   ]
  },
  {
   "cell_type": "code",
   "execution_count": 145,
   "id": "a09e162c-350e-401a-acdd-cf0adf76bf6c",
   "metadata": {},
   "outputs": [],
   "source": [
    "import os\n",
    "p = os.popen('dir')"
   ]
  },
  {
   "cell_type": "code",
   "execution_count": 147,
   "id": "7749984b-de9d-41e3-aca2-f348684c36bf",
   "metadata": {},
   "outputs": [
    {
     "ename": "TypeError",
     "evalue": "'_wrap_close' object is not an iterator",
     "output_type": "error",
     "traceback": [
      "\u001b[1;31m---------------------------------------------------------------------------\u001b[0m",
      "\u001b[1;31mTypeError\u001b[0m                                 Traceback (most recent call last)",
      "Cell \u001b[1;32mIn[147], line 1\u001b[0m\n\u001b[1;32m----> 1\u001b[0m \u001b[38;5;28mnext\u001b[39m(p)\n",
      "\u001b[1;31mTypeError\u001b[0m: '_wrap_close' object is not an iterator"
     ]
    }
   ],
   "source": [
    "next(p)"
   ]
  },
  {
   "cell_type": "code",
   "execution_count": 149,
   "id": "f4458c88-e90e-4ce1-8d9f-9b3f826266a9",
   "metadata": {},
   "outputs": [
    {
     "data": {
      "text/plain": [
       "' Volume in drive E is Nov nosilec\\n'"
      ]
     },
     "execution_count": 149,
     "metadata": {},
     "output_type": "execute_result"
    }
   ],
   "source": [
    "p.__next__()"
   ]
  },
  {
   "cell_type": "code",
   "execution_count": 151,
   "id": "bb52e473-b00f-4833-8df1-acdad7e808fb",
   "metadata": {},
   "outputs": [
    {
     "data": {
      "text/plain": [
       "' Volume Serial Number is D43E-257A\\n'"
      ]
     },
     "execution_count": 151,
     "metadata": {},
     "output_type": "execute_result"
    }
   ],
   "source": [
    "p.__next__()"
   ]
  },
  {
   "cell_type": "code",
   "execution_count": 153,
   "id": "54e35ebf-7f6f-431b-a0ac-0ddac7b44581",
   "metadata": {},
   "outputs": [
    {
     "data": {
      "text/plain": [
       "'\\n'"
      ]
     },
     "execution_count": 153,
     "metadata": {},
     "output_type": "execute_result"
    }
   ],
   "source": [
    "p.__next__()"
   ]
  },
  {
   "cell_type": "code",
   "execution_count": 155,
   "id": "c07944fc-0ee3-4e2b-91a8-d66888732b57",
   "metadata": {},
   "outputs": [],
   "source": [
    "j = iter(p)"
   ]
  },
  {
   "cell_type": "code",
   "execution_count": 157,
   "id": "f879908f-5c32-411b-b764-f928dc268253",
   "metadata": {},
   "outputs": [
    {
     "data": {
      "text/plain": [
       "' Directory of E:\\\\GIT\\\\MALANJIVA\\\\LUTZ\\\\MYCODE\\n'"
      ]
     },
     "execution_count": 157,
     "metadata": {},
     "output_type": "execute_result"
    }
   ],
   "source": [
    "next(j)"
   ]
  },
  {
   "cell_type": "code",
   "execution_count": 159,
   "id": "ce7719bc-1872-4575-95f5-dc6df4c8ffb4",
   "metadata": {},
   "outputs": [
    {
     "data": {
      "text/plain": [
       "'\\n'"
      ]
     },
     "execution_count": 159,
     "metadata": {},
     "output_type": "execute_result"
    }
   ],
   "source": [
    "next(j)"
   ]
  },
  {
   "cell_type": "code",
   "execution_count": 161,
   "id": "6a86b767-5eed-4e1d-a064-699842831467",
   "metadata": {},
   "outputs": [
    {
     "data": {
      "text/plain": [
       "'27. 09. 2024  07:47    <DIR>          .\\n'"
      ]
     },
     "execution_count": 161,
     "metadata": {},
     "output_type": "execute_result"
    }
   ],
   "source": [
    "next(j)"
   ]
  },
  {
   "cell_type": "code",
   "execution_count": 163,
   "id": "4a852d50-cf2f-4397-8034-899e40f36dcb",
   "metadata": {},
   "outputs": [
    {
     "data": {
      "text/plain": [
       "_io.TextIOWrapper"
      ]
     },
     "execution_count": 163,
     "metadata": {},
     "output_type": "execute_result"
    }
   ],
   "source": [
    "type(j)"
   ]
  },
  {
   "cell_type": "code",
   "execution_count": 165,
   "id": "a13705f7-5450-4e4c-88c5-b6a81554f01f",
   "metadata": {},
   "outputs": [
    {
     "data": {
      "text/plain": [
       "range(0, 5)"
      ]
     },
     "execution_count": 165,
     "metadata": {},
     "output_type": "execute_result"
    }
   ],
   "source": [
    "R = range(5)\n",
    "R"
   ]
  },
  {
   "cell_type": "code",
   "execution_count": 167,
   "id": "f794f2f7-17ff-4c2e-b97b-a7964ad0c223",
   "metadata": {},
   "outputs": [
    {
     "data": {
      "text/plain": [
       "range"
      ]
     },
     "execution_count": 167,
     "metadata": {},
     "output_type": "execute_result"
    }
   ],
   "source": [
    "type(R)"
   ]
  },
  {
   "cell_type": "code",
   "execution_count": 169,
   "id": "efb4afc9-58f7-44ce-b4c1-40bc6c984b13",
   "metadata": {},
   "outputs": [],
   "source": [
    "I = iter(R)"
   ]
  },
  {
   "cell_type": "code",
   "execution_count": 171,
   "id": "439b14b5-b3c0-487c-a2f9-d1e9f5b5bc4d",
   "metadata": {},
   "outputs": [
    {
     "data": {
      "text/plain": [
       "range_iterator"
      ]
     },
     "execution_count": 171,
     "metadata": {},
     "output_type": "execute_result"
    }
   ],
   "source": [
    "type(I)"
   ]
  },
  {
   "cell_type": "code",
   "execution_count": 173,
   "id": "5d51f559-0735-4e63-9951-50ae066edac2",
   "metadata": {},
   "outputs": [
    {
     "data": {
      "text/plain": [
       "0"
      ]
     },
     "execution_count": 173,
     "metadata": {},
     "output_type": "execute_result"
    }
   ],
   "source": [
    "next(I)"
   ]
  },
  {
   "cell_type": "code",
   "execution_count": 175,
   "id": "0607b7d2-7beb-48ed-a2f1-132274b8df63",
   "metadata": {},
   "outputs": [
    {
     "data": {
      "text/plain": [
       "1"
      ]
     },
     "execution_count": 175,
     "metadata": {},
     "output_type": "execute_result"
    }
   ],
   "source": [
    "next(I)"
   ]
  },
  {
   "cell_type": "code",
   "execution_count": 177,
   "id": "09db54e5-0ee2-4525-925f-6c0aef48e2db",
   "metadata": {},
   "outputs": [
    {
     "data": {
      "text/plain": [
       "[0, 1, 2, 3, 4]"
      ]
     },
     "execution_count": 177,
     "metadata": {},
     "output_type": "execute_result"
    }
   ],
   "source": [
    "list(range(5))"
   ]
  },
  {
   "cell_type": "code",
   "execution_count": 179,
   "id": "4611a87d-2363-4344-b096-1b2da14348f1",
   "metadata": {},
   "outputs": [],
   "source": [
    "E = enumerate('spam')"
   ]
  },
  {
   "cell_type": "code",
   "execution_count": 181,
   "id": "045582c2-4901-4023-ad1a-8af7e89e27d9",
   "metadata": {},
   "outputs": [
    {
     "data": {
      "text/plain": [
       "<enumerate at 0x29d22f86750>"
      ]
     },
     "execution_count": 181,
     "metadata": {},
     "output_type": "execute_result"
    }
   ],
   "source": [
    "E"
   ]
  },
  {
   "cell_type": "code",
   "execution_count": 183,
   "id": "89ef1641-c422-415b-beaf-faee20688e02",
   "metadata": {},
   "outputs": [
    {
     "data": {
      "text/plain": [
       "enumerate"
      ]
     },
     "execution_count": 183,
     "metadata": {},
     "output_type": "execute_result"
    }
   ],
   "source": [
    "type(E)"
   ]
  },
  {
   "cell_type": "code",
   "execution_count": 185,
   "id": "8e8054ee-7648-4aa7-ac09-38909cbc0852",
   "metadata": {},
   "outputs": [],
   "source": [
    "I = iter(E)"
   ]
  },
  {
   "cell_type": "code",
   "execution_count": 187,
   "id": "6bef0dfb-9858-49c3-99f1-a9f764d918e4",
   "metadata": {},
   "outputs": [
    {
     "data": {
      "text/plain": [
       "enumerate"
      ]
     },
     "execution_count": 187,
     "metadata": {},
     "output_type": "execute_result"
    }
   ],
   "source": [
    "type(I)"
   ]
  },
  {
   "cell_type": "code",
   "execution_count": 189,
   "id": "a85b4c5b-13ac-4c56-b215-8a236ae25d51",
   "metadata": {},
   "outputs": [
    {
     "data": {
      "text/plain": [
       "(0, 's')"
      ]
     },
     "execution_count": 189,
     "metadata": {},
     "output_type": "execute_result"
    }
   ],
   "source": [
    "next(E)"
   ]
  },
  {
   "cell_type": "code",
   "execution_count": 191,
   "id": "5bf1b6ad-950f-43f8-aedc-8b691e956e7b",
   "metadata": {},
   "outputs": [
    {
     "data": {
      "text/plain": [
       "(1, 'p')"
      ]
     },
     "execution_count": 191,
     "metadata": {},
     "output_type": "execute_result"
    }
   ],
   "source": [
    "next(I)"
   ]
  },
  {
   "cell_type": "code",
   "execution_count": 193,
   "id": "a814c9ee-2cdc-4b26-84f8-ac5752247cd4",
   "metadata": {},
   "outputs": [
    {
     "data": {
      "text/plain": [
       "[(2, 'a'), (3, 'm')]"
      ]
     },
     "execution_count": 193,
     "metadata": {},
     "output_type": "execute_result"
    }
   ],
   "source": [
    "list(E)"
   ]
  },
  {
   "cell_type": "code",
   "execution_count": 195,
   "id": "2884cd59-07e6-4609-b319-7ba6c9577d41",
   "metadata": {},
   "outputs": [],
   "source": [
    "E = enumerate('spam')"
   ]
  },
  {
   "cell_type": "code",
   "execution_count": 197,
   "id": "ce5c5072-da3c-4540-984a-e8836774cf79",
   "metadata": {},
   "outputs": [
    {
     "data": {
      "text/plain": [
       "[(0, 's'), (1, 'p'), (2, 'a'), (3, 'm')]"
      ]
     },
     "execution_count": 197,
     "metadata": {},
     "output_type": "execute_result"
    }
   ],
   "source": [
    "list(E)"
   ]
  },
  {
   "cell_type": "code",
   "execution_count": 199,
   "id": "4c6ebb74-0866-4d44-b582-cd2750eabd5f",
   "metadata": {},
   "outputs": [
    {
     "data": {
      "text/plain": [
       "<enumerate at 0x29d2644bf10>"
      ]
     },
     "execution_count": 199,
     "metadata": {},
     "output_type": "execute_result"
    }
   ],
   "source": [
    "E"
   ]
  },
  {
   "cell_type": "code",
   "execution_count": 201,
   "id": "85975bd2-efa3-49c8-8455-af4994753213",
   "metadata": {},
   "outputs": [
    {
     "ename": "StopIteration",
     "evalue": "",
     "output_type": "error",
     "traceback": [
      "\u001b[1;31m---------------------------------------------------------------------------\u001b[0m",
      "\u001b[1;31mStopIteration\u001b[0m                             Traceback (most recent call last)",
      "Cell \u001b[1;32mIn[201], line 1\u001b[0m\n\u001b[1;32m----> 1\u001b[0m \u001b[38;5;28mnext\u001b[39m(E)\n",
      "\u001b[1;31mStopIteration\u001b[0m: "
     ]
    }
   ],
   "source": [
    "next(E)"
   ]
  },
  {
   "cell_type": "code",
   "execution_count": 203,
   "id": "813527d7-e957-4edf-8873-079335ae5cd8",
   "metadata": {},
   "outputs": [
    {
     "data": {
      "text/plain": [
       "(0, 's')"
      ]
     },
     "execution_count": 203,
     "metadata": {},
     "output_type": "execute_result"
    }
   ],
   "source": [
    "E = enumerate('spam')\n",
    "next(E)"
   ]
  },
  {
   "cell_type": "code",
   "execution_count": 205,
   "id": "903a983a-43a6-4078-97bd-9b1d2edbc204",
   "metadata": {},
   "outputs": [
    {
     "data": {
      "text/plain": [
       "(1, 'p')"
      ]
     },
     "execution_count": 205,
     "metadata": {},
     "output_type": "execute_result"
    }
   ],
   "source": [
    "next(E)"
   ]
  },
  {
   "cell_type": "code",
   "execution_count": null,
   "id": "ebc6267b-c341-4cd0-a05a-56369e7cc618",
   "metadata": {},
   "outputs": [],
   "source": []
  }
 ],
 "metadata": {
  "kernelspec": {
   "display_name": "Python 3 (ipykernel)",
   "language": "python",
   "name": "python3"
  },
  "language_info": {
   "codemirror_mode": {
    "name": "ipython",
    "version": 3
   },
   "file_extension": ".py",
   "mimetype": "text/x-python",
   "name": "python",
   "nbconvert_exporter": "python",
   "pygments_lexer": "ipython3",
   "version": "3.12.4"
  }
 },
 "nbformat": 4,
 "nbformat_minor": 5
}
