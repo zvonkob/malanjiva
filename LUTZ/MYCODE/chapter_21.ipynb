{
 "cells": [
  {
   "cell_type": "code",
   "execution_count": 19,
   "id": "a1e18063-0ec9-4924-9c86-595d3dbb380e",
   "metadata": {},
   "outputs": [],
   "source": [
    "# File timer0.py\n",
    "import time\n",
    "def timer(func, *args):                 # Simplistic timing function\n",
    "    start = time.time()                         \n",
    "    for i in range(1000000):\n",
    "        func(*args)\n",
    "    return time.time() - start         # Total Elapsed time in seconds\n"
   ]
  },
  {
   "cell_type": "code",
   "execution_count": 21,
   "id": "934b6871-ed1b-42a2-b43c-37e3530f91c0",
   "metadata": {},
   "outputs": [
    {
     "data": {
      "text/plain": [
       "1.0488128662109375"
      ]
     },
     "execution_count": 21,
     "metadata": {},
     "output_type": "execute_result"
    }
   ],
   "source": [
    "timer(pow, 2, 1000)"
   ]
  },
  {
   "cell_type": "code",
   "execution_count": 23,
   "id": "4686aca6-cc5e-4bb3-af09-26bc8b222668",
   "metadata": {},
   "outputs": [
    {
     "data": {
      "text/plain": [
       "0.07507967948913574"
      ]
     },
     "execution_count": 23,
     "metadata": {},
     "output_type": "execute_result"
    }
   ],
   "source": [
    "timer(str.upper, 'spam')"
   ]
  },
  {
   "cell_type": "code",
   "execution_count": null,
   "id": "6a95e71a-924c-4e9b-855c-c3eed3fc4b2e",
   "metadata": {},
   "outputs": [],
   "source": [
    "def copyDict(d):\n",
    "    res = {}\n",
    "    for k, v in d.items():\n",
    "        res[k] = v\n",
    "    return res"
   ]
  }
 ],
 "metadata": {
  "kernelspec": {
   "display_name": "Python 3 (ipykernel)",
   "language": "python",
   "name": "python3"
  },
  "language_info": {
   "codemirror_mode": {
    "name": "ipython",
    "version": 3
   },
   "file_extension": ".py",
   "mimetype": "text/x-python",
   "name": "python",
   "nbconvert_exporter": "python",
   "pygments_lexer": "ipython3",
   "version": "3.12.4"
  }
 },
 "nbformat": 4,
 "nbformat_minor": 5
}
