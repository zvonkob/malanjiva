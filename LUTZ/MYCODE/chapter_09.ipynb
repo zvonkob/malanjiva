{
 "cells": [
  {
   "cell_type": "code",
   "execution_count": 1,
   "id": "186e578a-f5b3-4a38-bb38-936ac5cbf8fa",
   "metadata": {},
   "outputs": [
    {
     "data": {
      "text/plain": [
       "16"
      ]
     },
     "execution_count": 1,
     "metadata": {},
     "output_type": "execute_result"
    }
   ],
   "source": [
    "myfile = open('myfile.txt', 'w')\n",
    "myfile.write('hello text file\\n')"
   ]
  },
  {
   "cell_type": "code",
   "execution_count": 3,
   "id": "11d16674-509a-4ce7-8afd-39722cf0fdd8",
   "metadata": {},
   "outputs": [
    {
     "data": {
      "text/plain": [
       "18"
      ]
     },
     "execution_count": 3,
     "metadata": {},
     "output_type": "execute_result"
    }
   ],
   "source": [
    "myfile.write('goodbye text file\\n')"
   ]
  },
  {
   "cell_type": "code",
   "execution_count": 5,
   "id": "ed9cb41c-60dd-40ef-9735-fc5f53cea667",
   "metadata": {},
   "outputs": [],
   "source": [
    "myfile.close()"
   ]
  },
  {
   "cell_type": "code",
   "execution_count": 9,
   "id": "643c024b-025b-4d29-8b9b-f839d734f6fd",
   "metadata": {},
   "outputs": [
    {
     "data": {
      "text/plain": [
       "'hello text file\\n'"
      ]
     },
     "execution_count": 9,
     "metadata": {},
     "output_type": "execute_result"
    }
   ],
   "source": [
    "f = open('myfile.txt')\n",
    "f.readline()"
   ]
  },
  {
   "cell_type": "code",
   "execution_count": 11,
   "id": "f596e372-581f-492d-8550-2f427999a1bb",
   "metadata": {},
   "outputs": [
    {
     "data": {
      "text/plain": [
       "'goodbye text file\\n'"
      ]
     },
     "execution_count": 11,
     "metadata": {},
     "output_type": "execute_result"
    }
   ],
   "source": [
    "f.readline()"
   ]
  },
  {
   "cell_type": "code",
   "execution_count": 13,
   "id": "e9f84d62-60c1-4a4b-8a62-483afb428b94",
   "metadata": {},
   "outputs": [
    {
     "data": {
      "text/plain": [
       "''"
      ]
     },
     "execution_count": 13,
     "metadata": {},
     "output_type": "execute_result"
    }
   ],
   "source": [
    "f.readline()"
   ]
  },
  {
   "cell_type": "code",
   "execution_count": 15,
   "id": "b75a3cc6-5b59-4e73-bbec-6e3a9ba3727a",
   "metadata": {},
   "outputs": [
    {
     "data": {
      "text/plain": [
       "''"
      ]
     },
     "execution_count": 15,
     "metadata": {},
     "output_type": "execute_result"
    }
   ],
   "source": [
    "f.readline()"
   ]
  },
  {
   "cell_type": "code",
   "execution_count": 17,
   "id": "1222a90a-7590-4e03-ab56-a4c68ecbd450",
   "metadata": {},
   "outputs": [
    {
     "data": {
      "text/plain": [
       "'hello text file\\ngoodbye text file\\n'"
      ]
     },
     "execution_count": 17,
     "metadata": {},
     "output_type": "execute_result"
    }
   ],
   "source": [
    "open('myfile.txt', 'r').read()"
   ]
  },
  {
   "cell_type": "code",
   "execution_count": 19,
   "id": "8718e8c0-7146-44d5-b3d7-afe3c76c2b9e",
   "metadata": {},
   "outputs": [
    {
     "name": "stdout",
     "output_type": "stream",
     "text": [
      "hello text file\n",
      "goodbye text file\n",
      "\n"
     ]
    }
   ],
   "source": [
    "print(open('myfile.txt', 'r').read())"
   ]
  },
  {
   "cell_type": "code",
   "execution_count": 23,
   "id": "ccd10da3-f1f4-41b3-a568-7604001b440f",
   "metadata": {},
   "outputs": [
    {
     "name": "stdout",
     "output_type": "stream",
     "text": [
      "hello text file\n",
      "goodbye text file\n"
     ]
    }
   ],
   "source": [
    "for line in open('myfile.txt'):\n",
    "    print(line, end='')"
   ]
  },
  {
   "cell_type": "code",
   "execution_count": 25,
   "id": "308e2b14-4a2a-4293-82c6-5f04cb4ed003",
   "metadata": {},
   "outputs": [
    {
     "name": "stdout",
     "output_type": "stream",
     "text": [
      "hello text file\n",
      "goodbye text file\n"
     ]
    }
   ],
   "source": [
    "for line in open(r'myfile.txt'):\n",
    "    print(line, end='')"
   ]
  },
  {
   "cell_type": "code",
   "execution_count": 27,
   "id": "14d434db-abc9-4bfe-8340-7f42c33d3989",
   "metadata": {},
   "outputs": [],
   "source": [
    "D = {'a': 1, 'b': 2}\n",
    "F = open('datafile.pkl', 'wb')\n",
    "import pickle\n",
    "pickle.dump(D, F)\n",
    "F.close()"
   ]
  },
  {
   "cell_type": "code",
   "execution_count": 39,
   "id": "fdc8801c-fd5b-4217-bb8d-9821b7c9736e",
   "metadata": {},
   "outputs": [
    {
     "data": {
      "text/plain": [
       "{'a': 1, 'b': 2}"
      ]
     },
     "execution_count": 39,
     "metadata": {},
     "output_type": "execute_result"
    }
   ],
   "source": [
    "F = open('datafile.pkl', 'rb')\n",
    "mmm = pickle.load(F)\n",
    "F.close()\n",
    "mmm"
   ]
  },
  {
   "cell_type": "code",
   "execution_count": 41,
   "id": "df61e8bb-b5d3-480c-9851-04996f3e42b7",
   "metadata": {},
   "outputs": [
    {
     "data": {
      "text/plain": [
       "dict"
      ]
     },
     "execution_count": 41,
     "metadata": {},
     "output_type": "execute_result"
    }
   ],
   "source": [
    "type(mmm)"
   ]
  },
  {
   "cell_type": "code",
   "execution_count": 47,
   "id": "2e436e39-1d84-4a44-8242-256eb3ab42a3",
   "metadata": {},
   "outputs": [
    {
     "name": "stdout",
     "output_type": "stream",
     "text": [
      "(4, 5, 6)\n",
      "(1, 5, 6)\n"
     ]
    }
   ],
   "source": [
    "a = 4, 5, 6\n",
    "print(a)\n",
    "\n",
    "a = list(a)\n",
    "a[0] = 1\n",
    "a = tuple(a)\n",
    "print(a)"
   ]
  },
  {
   "cell_type": "code",
   "execution_count": 49,
   "id": "fbadd112-1a23-479c-a51f-3f8249fd2448",
   "metadata": {},
   "outputs": [
    {
     "name": "stdout",
     "output_type": "stream",
     "text": [
      "(4, 5, 6)\n",
      "(1, 5, 6)\n"
     ]
    }
   ],
   "source": [
    "a = 4, 5, 6\n",
    "print(a)\n",
    "\n",
    "a = (1,) + a[1:]\n",
    "print(a)"
   ]
  },
  {
   "cell_type": "code",
   "execution_count": 53,
   "id": "ccfbda39-6e5a-438f-b762-4f3e12ebf51f",
   "metadata": {},
   "outputs": [
    {
     "data": {
      "text/plain": [
       "\"import sys\\n\\n\\nprint(sys.platform)\\n\\nprint(2 ** 100)\\n\\nx = 'Spam!'\\n\\nprint(x * 8)\""
      ]
     },
     "execution_count": 53,
     "metadata": {},
     "output_type": "execute_result"
    }
   ],
   "source": [
    "f = open('page0055.py')\n",
    "f.read()"
   ]
  },
  {
   "cell_type": "code",
   "execution_count": 59,
   "id": "f5c135d1-35b3-4e0d-9978-91dae1f25c3d",
   "metadata": {},
   "outputs": [
    {
     "name": "stdout",
     "output_type": "stream",
     "text": [
      "import sys\n",
      "\n",
      "\n",
      "print(sys.platform)\n",
      "\n",
      "print(2 ** 100)\n",
      "\n",
      "x = 'Spam!'\n",
      "\n",
      "print(x * 8)\n"
     ]
    }
   ],
   "source": [
    "f = open('page0055.py')\n",
    "print(f.read())\n",
    "f.close()"
   ]
  },
  {
   "cell_type": "code",
   "execution_count": 57,
   "id": "b02e77d2-279a-4ac5-ae97-e2b8d5cdf382",
   "metadata": {},
   "outputs": [
    {
     "data": {
      "text/plain": [
       "_io.TextIOWrapper"
      ]
     },
     "execution_count": 57,
     "metadata": {},
     "output_type": "execute_result"
    }
   ],
   "source": [
    "type(f)"
   ]
  },
  {
   "cell_type": "code",
   "execution_count": 83,
   "id": "d95f446b-aad6-43c8-949a-aeb18f268c81",
   "metadata": {},
   "outputs": [],
   "source": [
    "x = [[1, 2, 3], [4, 5, 6], [7, 8, [9, {'a': 10, 'b':11}]]]"
   ]
  },
  {
   "cell_type": "code",
   "execution_count": 85,
   "id": "2543b445-eca6-4b12-b5e3-c71765285e50",
   "metadata": {},
   "outputs": [
    {
     "data": {
      "text/plain": [
       "[[1, 2, 3], [4, 5, 6], [7, 8, [9, {'a': 10, 'b': 11}]]]"
      ]
     },
     "execution_count": 85,
     "metadata": {},
     "output_type": "execute_result"
    }
   ],
   "source": [
    "x"
   ]
  },
  {
   "cell_type": "code",
   "execution_count": 87,
   "id": "566c70ab-7a9d-4ac5-bd21-404a84fc5ca3",
   "metadata": {},
   "outputs": [],
   "source": [
    "import copy"
   ]
  },
  {
   "cell_type": "code",
   "execution_count": 89,
   "id": "28c5a66f-9964-41a9-95e9-9faf58c526d4",
   "metadata": {},
   "outputs": [],
   "source": [
    "y = x"
   ]
  },
  {
   "cell_type": "code",
   "execution_count": 91,
   "id": "9baecfa8-36c1-47e2-9e7e-42a8dc79bc87",
   "metadata": {},
   "outputs": [
    {
     "data": {
      "text/plain": [
       "[[1, 2, 3], [4, 5, 6], [7, 8, [9, {'a': 10, 'b': 11}]]]"
      ]
     },
     "execution_count": 91,
     "metadata": {},
     "output_type": "execute_result"
    }
   ],
   "source": [
    "y"
   ]
  },
  {
   "cell_type": "code",
   "execution_count": 93,
   "id": "01ca50c0-cb62-4814-905a-86417232002f",
   "metadata": {},
   "outputs": [],
   "source": [
    "x[2][2] = 11"
   ]
  },
  {
   "cell_type": "code",
   "execution_count": 95,
   "id": "9e1ad9d0-ab59-4669-b14a-0e4d9b4cfe96",
   "metadata": {},
   "outputs": [
    {
     "data": {
      "text/plain": [
       "[[1, 2, 3], [4, 5, 6], [7, 8, 11]]"
      ]
     },
     "execution_count": 95,
     "metadata": {},
     "output_type": "execute_result"
    }
   ],
   "source": [
    "x"
   ]
  },
  {
   "cell_type": "code",
   "execution_count": 97,
   "id": "faf2c4a7-be57-4c73-8fd1-f77974b68545",
   "metadata": {},
   "outputs": [
    {
     "data": {
      "text/plain": [
       "[[1, 2, 3], [4, 5, 6], [7, 8, 11]]"
      ]
     },
     "execution_count": 97,
     "metadata": {},
     "output_type": "execute_result"
    }
   ],
   "source": [
    "y"
   ]
  },
  {
   "cell_type": "code",
   "execution_count": 99,
   "id": "47406342-064f-4efb-a7cd-8b716afa5d7a",
   "metadata": {},
   "outputs": [
    {
     "data": {
      "text/plain": [
       "65536"
      ]
     },
     "execution_count": 99,
     "metadata": {},
     "output_type": "execute_result"
    }
   ],
   "source": [
    "2 ** 16"
   ]
  },
  {
   "cell_type": "code",
   "execution_count": 101,
   "id": "57611b47-3bb5-4729-9ced-a34abfa8aefa",
   "metadata": {},
   "outputs": [
    {
     "data": {
      "text/plain": [
       "0.4"
      ]
     },
     "execution_count": 101,
     "metadata": {},
     "output_type": "execute_result"
    }
   ],
   "source": [
    "2 / 5"
   ]
  },
  {
   "cell_type": "code",
   "execution_count": 103,
   "id": "4544bfcd-0fa4-4e3f-9171-edae2988b5d3",
   "metadata": {},
   "outputs": [
    {
     "data": {
      "text/plain": [
       "0.4"
      ]
     },
     "execution_count": 103,
     "metadata": {},
     "output_type": "execute_result"
    }
   ],
   "source": [
    "2 / 5.0"
   ]
  },
  {
   "cell_type": "code",
   "execution_count": 105,
   "id": "24020c51-6767-4374-b4c6-a1f784a70c6f",
   "metadata": {},
   "outputs": [
    {
     "data": {
      "text/plain": [
       "'spameggs'"
      ]
     },
     "execution_count": 105,
     "metadata": {},
     "output_type": "execute_result"
    }
   ],
   "source": [
    "\"spam\" + \"eggs\""
   ]
  },
  {
   "cell_type": "code",
   "execution_count": 107,
   "id": "0276b810-7837-4e1f-8e5b-d6412c731532",
   "metadata": {},
   "outputs": [],
   "source": [
    "S = \"ham\""
   ]
  },
  {
   "cell_type": "code",
   "execution_count": 109,
   "id": "a8e520cf-c296-4df2-8a4b-5a8b27d7ffd7",
   "metadata": {},
   "outputs": [
    {
     "data": {
      "text/plain": [
       "'eggsham'"
      ]
     },
     "execution_count": 109,
     "metadata": {},
     "output_type": "execute_result"
    }
   ],
   "source": [
    "\"eggs\" + S"
   ]
  },
  {
   "cell_type": "code",
   "execution_count": 111,
   "id": "129c084c-5eb7-4e1a-bf35-da66fc5abf8c",
   "metadata": {},
   "outputs": [
    {
     "data": {
      "text/plain": [
       "'hamhamhamhamham'"
      ]
     },
     "execution_count": 111,
     "metadata": {},
     "output_type": "execute_result"
    }
   ],
   "source": [
    "S * 5"
   ]
  },
  {
   "cell_type": "code",
   "execution_count": 113,
   "id": "007835ac-7fa4-4d9f-be5b-0e99e4d2dcc4",
   "metadata": {},
   "outputs": [
    {
     "data": {
      "text/plain": [
       "''"
      ]
     },
     "execution_count": 113,
     "metadata": {},
     "output_type": "execute_result"
    }
   ],
   "source": [
    "S[:0]"
   ]
  },
  {
   "cell_type": "code",
   "execution_count": 115,
   "id": "474e319e-d053-4905-ac33-fccac8ff1cef",
   "metadata": {},
   "outputs": [
    {
     "data": {
      "text/plain": [
       "'green eggs and ham'"
      ]
     },
     "execution_count": 115,
     "metadata": {},
     "output_type": "execute_result"
    }
   ],
   "source": [
    "\"green %s and %s\" % (\"eggs\", S)"
   ]
  },
  {
   "cell_type": "code",
   "execution_count": 117,
   "id": "8f41a09c-ad50-4ab0-8587-4ce620c335f1",
   "metadata": {},
   "outputs": [
    {
     "data": {
      "text/plain": [
       "'green eggs and ham'"
      ]
     },
     "execution_count": 117,
     "metadata": {},
     "output_type": "execute_result"
    }
   ],
   "source": [
    "'green {0} and {1}'.format('eggs', S)"
   ]
  },
  {
   "cell_type": "code",
   "execution_count": 119,
   "id": "dcb34ebf-07fb-4ee9-88fe-cf5b300ef065",
   "metadata": {},
   "outputs": [
    {
     "data": {
      "text/plain": [
       "'x'"
      ]
     },
     "execution_count": 119,
     "metadata": {},
     "output_type": "execute_result"
    }
   ],
   "source": [
    "('x')[0]"
   ]
  },
  {
   "cell_type": "code",
   "execution_count": 121,
   "id": "7b39533a-a965-4726-8539-75d7f8347074",
   "metadata": {},
   "outputs": [
    {
     "data": {
      "text/plain": [
       "'x'"
      ]
     },
     "execution_count": 121,
     "metadata": {},
     "output_type": "execute_result"
    }
   ],
   "source": [
    "'x'[0]"
   ]
  },
  {
   "cell_type": "code",
   "execution_count": 123,
   "id": "7b01c208-9599-40c9-96ad-e9ff266fa10c",
   "metadata": {},
   "outputs": [
    {
     "data": {
      "text/plain": [
       "'y'"
      ]
     },
     "execution_count": 123,
     "metadata": {},
     "output_type": "execute_result"
    }
   ],
   "source": [
    "('x', 'y')[1]"
   ]
  },
  {
   "cell_type": "code",
   "execution_count": 125,
   "id": "cbe84863-578c-4c47-88d9-2dc884542f52",
   "metadata": {},
   "outputs": [
    {
     "data": {
      "text/plain": [
       "([1, 2, 3, 4, 5, 6], [1, 2, 3, 4, 5, 6], [], 5, [5, 6])"
      ]
     },
     "execution_count": 125,
     "metadata": {},
     "output_type": "execute_result"
    }
   ],
   "source": [
    "L = [1, 2, 3] + [4, 5, 6]\n",
    "L, L[:], L[:0], L[-2], L[-2:]"
   ]
  },
  {
   "cell_type": "code",
   "execution_count": 127,
   "id": "4ec66258-25ba-4b92-b881-472030fd99e7",
   "metadata": {},
   "outputs": [
    {
     "data": {
      "text/plain": [
       "[3, 4]"
      ]
     },
     "execution_count": 127,
     "metadata": {},
     "output_type": "execute_result"
    }
   ],
   "source": [
    "([1, 2, 3] + [4, 5, 6])[2:4]"
   ]
  },
  {
   "cell_type": "code",
   "execution_count": 129,
   "id": "d42f1942-eb5b-49f6-b42a-e05a7828e9d3",
   "metadata": {},
   "outputs": [
    {
     "data": {
      "text/plain": [
       "[1, 2, 3, 4, 5, 6]"
      ]
     },
     "execution_count": 129,
     "metadata": {},
     "output_type": "execute_result"
    }
   ],
   "source": [
    "L"
   ]
  },
  {
   "cell_type": "code",
   "execution_count": 131,
   "id": "9056f61f-ca08-4d39-a764-9c0b0932d0f0",
   "metadata": {},
   "outputs": [
    {
     "data": {
      "text/plain": [
       "[3, 4]"
      ]
     },
     "execution_count": 131,
     "metadata": {},
     "output_type": "execute_result"
    }
   ],
   "source": [
    "[L[2], L[3]]"
   ]
  },
  {
   "cell_type": "code",
   "execution_count": 133,
   "id": "aaffe596-3513-46dd-82fe-1ac72db97edf",
   "metadata": {},
   "outputs": [
    {
     "data": {
      "text/plain": [
       "[6, 5, 4, 3, 2, 1]"
      ]
     },
     "execution_count": 133,
     "metadata": {},
     "output_type": "execute_result"
    }
   ],
   "source": [
    "L.reverse(); L"
   ]
  },
  {
   "cell_type": "code",
   "execution_count": 135,
   "id": "3622ed20-69e3-4042-bd1d-91892f295a86",
   "metadata": {},
   "outputs": [
    {
     "data": {
      "text/plain": [
       "[6, 5, 4, 3, 2, 1]"
      ]
     },
     "execution_count": 135,
     "metadata": {},
     "output_type": "execute_result"
    }
   ],
   "source": [
    "L"
   ]
  },
  {
   "cell_type": "code",
   "execution_count": 137,
   "id": "6def1951-97d2-4cf0-b2f8-0e5c9ddd2f6a",
   "metadata": {},
   "outputs": [
    {
     "data": {
      "text/plain": [
       "[1, 2, 3, 4, 5, 6]"
      ]
     },
     "execution_count": 137,
     "metadata": {},
     "output_type": "execute_result"
    }
   ],
   "source": [
    "L.sort(); L"
   ]
  },
  {
   "cell_type": "code",
   "execution_count": 139,
   "id": "775f4da6-4603-45bb-a8f6-91963edbda2f",
   "metadata": {},
   "outputs": [
    {
     "data": {
      "text/plain": [
       "3"
      ]
     },
     "execution_count": 139,
     "metadata": {},
     "output_type": "execute_result"
    }
   ],
   "source": [
    "L.index(4)"
   ]
  },
  {
   "cell_type": "code",
   "execution_count": 141,
   "id": "e6392f0c-0537-4803-9266-39778123759c",
   "metadata": {},
   "outputs": [
    {
     "data": {
      "text/plain": [
       "2"
      ]
     },
     "execution_count": 141,
     "metadata": {},
     "output_type": "execute_result"
    }
   ],
   "source": [
    "{'a': 1, 'b': 2}['b']"
   ]
  },
  {
   "cell_type": "code",
   "execution_count": 143,
   "id": "9931b22e-ece7-4616-91c7-ac4d751d063a",
   "metadata": {},
   "outputs": [],
   "source": [
    "D = {'x': 1, 'y': 2, 'z': 3}"
   ]
  },
  {
   "cell_type": "code",
   "execution_count": 147,
   "id": "845b7cdd-b157-4059-a328-3602d3c34bfa",
   "metadata": {},
   "outputs": [
    {
     "data": {
      "text/plain": [
       "{'x': 1, 'y': 2, 'z': 3, 'w': 0}"
      ]
     },
     "execution_count": 147,
     "metadata": {},
     "output_type": "execute_result"
    }
   ],
   "source": [
    "D['w'] = 0\n",
    "D"
   ]
  },
  {
   "cell_type": "code",
   "execution_count": 149,
   "id": "83e9c5e0-0d59-4d4c-a68b-52eb7dd3597d",
   "metadata": {},
   "outputs": [
    {
     "data": {
      "text/plain": [
       "1"
      ]
     },
     "execution_count": 149,
     "metadata": {},
     "output_type": "execute_result"
    }
   ],
   "source": [
    "D['x'] + D['w']"
   ]
  },
  {
   "cell_type": "code",
   "execution_count": 151,
   "id": "19db95ee-0835-4898-88d8-1f9a0ab166a2",
   "metadata": {},
   "outputs": [
    {
     "data": {
      "text/plain": [
       "{'x': 1, 'y': 2, 'z': 3, 'w': 0, (1, 2, 3): 4}"
      ]
     },
     "execution_count": 151,
     "metadata": {},
     "output_type": "execute_result"
    }
   ],
   "source": [
    "D[(1, 2, 3)] = 4\n",
    "D"
   ]
  },
  {
   "cell_type": "code",
   "execution_count": 153,
   "id": "b68415fb-4164-4fb6-938b-2c2c7b53f667",
   "metadata": {},
   "outputs": [
    {
     "data": {
      "text/plain": [
       "(['x', 'y', 'z', 'w', (1, 2, 3)], [1, 2, 3, 0, 4], True)"
      ]
     },
     "execution_count": 153,
     "metadata": {},
     "output_type": "execute_result"
    }
   ],
   "source": [
    "list(D.keys()), list(D.values()), (1, 2, 3) in D"
   ]
  },
  {
   "cell_type": "code",
   "execution_count": 157,
   "id": "95a9f70a-6289-4326-94b1-db00b60e8f43",
   "metadata": {},
   "outputs": [
    {
     "data": {
      "text/plain": [
       "([[]], ['', [], (), {}, None])"
      ]
     },
     "execution_count": 157,
     "metadata": {},
     "output_type": "execute_result"
    }
   ],
   "source": [
    "u = [[]], [\"\", [], (), {}, None]\n",
    "u"
   ]
  },
  {
   "cell_type": "code",
   "execution_count": 159,
   "id": "fe08b760-5ed8-47d0-a25f-20cd864111a0",
   "metadata": {},
   "outputs": [],
   "source": [
    "L = [10, 11, 12, 13]"
   ]
  },
  {
   "cell_type": "code",
   "execution_count": 161,
   "id": "3caf535d-5cc5-4c96-8d9a-7db9d81bd2ff",
   "metadata": {},
   "outputs": [
    {
     "ename": "IndexError",
     "evalue": "list index out of range",
     "output_type": "error",
     "traceback": [
      "\u001b[1;31m---------------------------------------------------------------------------\u001b[0m",
      "\u001b[1;31mIndexError\u001b[0m                                Traceback (most recent call last)",
      "Cell \u001b[1;32mIn[161], line 1\u001b[0m\n\u001b[1;32m----> 1\u001b[0m L[\u001b[38;5;241m4\u001b[39m]\n",
      "\u001b[1;31mIndexError\u001b[0m: list index out of range"
     ]
    }
   ],
   "source": [
    "L[4]"
   ]
  },
  {
   "cell_type": "code",
   "execution_count": 165,
   "id": "a69e2611-d663-4b9a-be0f-4f62b279c296",
   "metadata": {},
   "outputs": [
    {
     "data": {
      "text/plain": [
       "[10, 11, 12, 13]"
      ]
     },
     "execution_count": 165,
     "metadata": {},
     "output_type": "execute_result"
    }
   ],
   "source": [
    "L[-1000:100]"
   ]
  },
  {
   "cell_type": "code",
   "execution_count": 167,
   "id": "38f26a29-5491-4a81-b3db-0ed09691b057",
   "metadata": {},
   "outputs": [
    {
     "data": {
      "text/plain": [
       "[]"
      ]
     },
     "execution_count": 167,
     "metadata": {},
     "output_type": "execute_result"
    }
   ],
   "source": [
    "L[1000:1100]"
   ]
  },
  {
   "cell_type": "code",
   "execution_count": 169,
   "id": "e91d20d4-f19d-4fb4-afc0-d73aeba238a2",
   "metadata": {},
   "outputs": [
    {
     "data": {
      "text/plain": [
       "[]"
      ]
     },
     "execution_count": 169,
     "metadata": {},
     "output_type": "execute_result"
    }
   ],
   "source": [
    "L[3:1]"
   ]
  },
  {
   "cell_type": "code",
   "execution_count": 171,
   "id": "2f3aab67-0e44-47ca-acf6-cf5e34927a71",
   "metadata": {},
   "outputs": [
    {
     "data": {
      "text/plain": [
       "[10, 11, 12, 13]"
      ]
     },
     "execution_count": 171,
     "metadata": {},
     "output_type": "execute_result"
    }
   ],
   "source": [
    "L"
   ]
  },
  {
   "cell_type": "code",
   "execution_count": 173,
   "id": "9f4da5de-ed5b-4771-9ba4-91866f4a289c",
   "metadata": {},
   "outputs": [
    {
     "data": {
      "text/plain": [
       "[10, 11, 12, '?', 13]"
      ]
     },
     "execution_count": 173,
     "metadata": {},
     "output_type": "execute_result"
    }
   ],
   "source": [
    "L[3:1] = '?'\n",
    "L"
   ]
  },
  {
   "cell_type": "code",
   "execution_count": 175,
   "id": "d728aaf5-1af0-4058-befa-b1fdfe11ee62",
   "metadata": {},
   "outputs": [
    {
     "data": {
      "text/plain": [
       "[10, 11, 12, '?', 13]"
      ]
     },
     "execution_count": 175,
     "metadata": {},
     "output_type": "execute_result"
    }
   ],
   "source": [
    "L"
   ]
  },
  {
   "cell_type": "code",
   "execution_count": 177,
   "id": "af029d8c-009f-4b49-b9af-3ffe554ecd54",
   "metadata": {},
   "outputs": [],
   "source": [
    "del L[3]"
   ]
  },
  {
   "cell_type": "code",
   "execution_count": 179,
   "id": "3314fc8d-211c-4b0c-a4fc-6c9a7768fef6",
   "metadata": {},
   "outputs": [
    {
     "data": {
      "text/plain": [
       "[10, 11, 12, 13]"
      ]
     },
     "execution_count": 179,
     "metadata": {},
     "output_type": "execute_result"
    }
   ],
   "source": [
    "L"
   ]
  },
  {
   "cell_type": "code",
   "execution_count": 181,
   "id": "aaca86d9-a4ba-4e3a-97b7-1d6915f7dbba",
   "metadata": {},
   "outputs": [
    {
     "data": {
      "text/plain": [
       "[10, 11, [], 13]"
      ]
     },
     "execution_count": 181,
     "metadata": {},
     "output_type": "execute_result"
    }
   ],
   "source": [
    "L[2] = []\n",
    "L"
   ]
  },
  {
   "cell_type": "code",
   "execution_count": 183,
   "id": "e7d8fd16-5f91-4679-ae99-751e6e4a21b4",
   "metadata": {},
   "outputs": [
    {
     "data": {
      "text/plain": [
       "[10, 11, 13]"
      ]
     },
     "execution_count": 183,
     "metadata": {},
     "output_type": "execute_result"
    }
   ],
   "source": [
    "L[2:3] = []\n",
    "L"
   ]
  },
  {
   "cell_type": "code",
   "execution_count": 185,
   "id": "bb12bfce-8ed6-4f55-b37e-182243338dd3",
   "metadata": {},
   "outputs": [],
   "source": [
    "del L[0]"
   ]
  },
  {
   "cell_type": "code",
   "execution_count": 187,
   "id": "67a48a37-5baa-4ee4-b792-4246660d65e3",
   "metadata": {},
   "outputs": [
    {
     "data": {
      "text/plain": [
       "[11, 13]"
      ]
     },
     "execution_count": 187,
     "metadata": {},
     "output_type": "execute_result"
    }
   ],
   "source": [
    "L"
   ]
  },
  {
   "cell_type": "code",
   "execution_count": 189,
   "id": "ffeaf6c0-b403-4902-a591-e756c984f925",
   "metadata": {},
   "outputs": [
    {
     "data": {
      "text/plain": [
       "[11]"
      ]
     },
     "execution_count": 189,
     "metadata": {},
     "output_type": "execute_result"
    }
   ],
   "source": [
    "del L[1:]\n",
    "L"
   ]
  },
  {
   "cell_type": "code",
   "execution_count": 197,
   "id": "8c5fb327-29a9-46cb-aba0-b0bd6e74edf6",
   "metadata": {},
   "outputs": [
    {
     "data": {
      "text/plain": [
       "[10, 1, 12, 13]"
      ]
     },
     "execution_count": 197,
     "metadata": {},
     "output_type": "execute_result"
    }
   ],
   "source": [
    "L = [10, 11, 12, 13]\n",
    "L[1:2] = [1]\n",
    "L"
   ]
  },
  {
   "cell_type": "code",
   "execution_count": 199,
   "id": "3d113479-155e-4a5e-ac4b-91da5d6b08a6",
   "metadata": {},
   "outputs": [
    {
     "data": {
      "text/plain": [
       "('eggs', 'spam')"
      ]
     },
     "execution_count": 199,
     "metadata": {},
     "output_type": "execute_result"
    }
   ],
   "source": [
    "x = 'spam'\n",
    "y = 'eggs'\n",
    "x, y = y, x\n",
    "x, y"
   ]
  },
  {
   "cell_type": "code",
   "execution_count": 201,
   "id": "b742dddf-150a-40a3-bb7d-b6ce9c44e4c5",
   "metadata": {},
   "outputs": [
    {
     "data": {
      "text/plain": [
       "{1: 'a', 2: 'b', (1, 2, 3): 'c'}"
      ]
     },
     "execution_count": 201,
     "metadata": {},
     "output_type": "execute_result"
    }
   ],
   "source": [
    "D = {}\n",
    "D[1] = 'a'\n",
    "D[2] = 'b'\n",
    "D[(1, 2, 3)] = 'c'\n",
    "D\n"
   ]
  },
  {
   "cell_type": "code",
   "execution_count": 203,
   "id": "480fd2e0-d4bc-4830-8bb5-ee2540a578e9",
   "metadata": {},
   "outputs": [
    {
     "data": {
      "text/plain": [
       "{'a': 1, 'b': 2, 'c': 3}"
      ]
     },
     "execution_count": 203,
     "metadata": {},
     "output_type": "execute_result"
    }
   ],
   "source": [
    "D = {'a': 1, 'b': 2, 'c': 3}\n",
    "D"
   ]
  },
  {
   "cell_type": "code",
   "execution_count": 205,
   "id": "15093a40-fc05-46ac-a3e5-110eee9f1e59",
   "metadata": {},
   "outputs": [
    {
     "data": {
      "text/plain": [
       "{'a': 1, 'b': 2, 'c': 3, 'd': 15}"
      ]
     },
     "execution_count": 205,
     "metadata": {},
     "output_type": "execute_result"
    }
   ],
   "source": [
    "D['d'] = 15\n",
    "D"
   ]
  },
  {
   "cell_type": "code",
   "execution_count": 209,
   "id": "c15ff1ba-3d29-4610-a553-e060a365c34e",
   "metadata": {},
   "outputs": [
    {
     "data": {
      "text/plain": [
       "[0, 1, 2, 3, 4]"
      ]
     },
     "execution_count": 209,
     "metadata": {},
     "output_type": "execute_result"
    }
   ],
   "source": [
    "L = list(range(5))\n",
    "L"
   ]
  },
  {
   "cell_type": "code",
   "execution_count": 211,
   "id": "71eb3f01-6c23-4139-b87f-da38eee703ff",
   "metadata": {},
   "outputs": [
    {
     "ename": "TypeError",
     "evalue": "can only concatenate str (not \"list\") to str",
     "output_type": "error",
     "traceback": [
      "\u001b[1;31m---------------------------------------------------------------------------\u001b[0m",
      "\u001b[1;31mTypeError\u001b[0m                                 Traceback (most recent call last)",
      "Cell \u001b[1;32mIn[211], line 1\u001b[0m\n\u001b[1;32m----> 1\u001b[0m \u001b[38;5;124m'\u001b[39m\u001b[38;5;124mspam\u001b[39m\u001b[38;5;124m'\u001b[39m \u001b[38;5;241m+\u001b[39m L\n",
      "\u001b[1;31mTypeError\u001b[0m: can only concatenate str (not \"list\") to str"
     ]
    }
   ],
   "source": [
    "'spam' + L"
   ]
  },
  {
   "cell_type": "code",
   "execution_count": 213,
   "id": "7b6bd358-cf5b-4153-a66f-a3c153eb554e",
   "metadata": {},
   "outputs": [
    {
     "data": {
      "text/plain": [
       "(45, 56)"
      ]
     },
     "execution_count": 213,
     "metadata": {},
     "output_type": "execute_result"
    }
   ],
   "source": [
    "T = (45, 56)\n",
    "T"
   ]
  },
  {
   "cell_type": "code",
   "execution_count": 215,
   "id": "9e6f59ae-1afe-4be0-821c-a4882f05fa35",
   "metadata": {},
   "outputs": [
    {
     "data": {
      "text/plain": [
       "[0, 1, 2, 3, 4]"
      ]
     },
     "execution_count": 215,
     "metadata": {},
     "output_type": "execute_result"
    }
   ],
   "source": [
    "L"
   ]
  },
  {
   "cell_type": "code",
   "execution_count": 217,
   "id": "898f570e-90c8-4f56-b827-3ff6003e1c33",
   "metadata": {},
   "outputs": [
    {
     "ename": "TypeError",
     "evalue": "can only concatenate list (not \"tuple\") to list",
     "output_type": "error",
     "traceback": [
      "\u001b[1;31m---------------------------------------------------------------------------\u001b[0m",
      "\u001b[1;31mTypeError\u001b[0m                                 Traceback (most recent call last)",
      "Cell \u001b[1;32mIn[217], line 1\u001b[0m\n\u001b[1;32m----> 1\u001b[0m L \u001b[38;5;241m+\u001b[39m T\n",
      "\u001b[1;31mTypeError\u001b[0m: can only concatenate list (not \"tuple\") to list"
     ]
    }
   ],
   "source": [
    "L + T"
   ]
  },
  {
   "cell_type": "code",
   "execution_count": 219,
   "id": "7848c43e-7b0e-4399-9a4b-4a3305b4a25a",
   "metadata": {},
   "outputs": [
    {
     "data": {
      "text/plain": [
       "{'a': 1, 'b': 2, 'c': 3, 'd': 15}"
      ]
     },
     "execution_count": 219,
     "metadata": {},
     "output_type": "execute_result"
    }
   ],
   "source": [
    "D"
   ]
  },
  {
   "cell_type": "code",
   "execution_count": 221,
   "id": "07668b68-40c7-494f-b967-1d85a37d459a",
   "metadata": {},
   "outputs": [
    {
     "ename": "TypeError",
     "evalue": "can only concatenate list (not \"dict\") to list",
     "output_type": "error",
     "traceback": [
      "\u001b[1;31m---------------------------------------------------------------------------\u001b[0m",
      "\u001b[1;31mTypeError\u001b[0m                                 Traceback (most recent call last)",
      "Cell \u001b[1;32mIn[221], line 1\u001b[0m\n\u001b[1;32m----> 1\u001b[0m L \u001b[38;5;241m+\u001b[39m D\n",
      "\u001b[1;31mTypeError\u001b[0m: can only concatenate list (not \"dict\") to list"
     ]
    }
   ],
   "source": [
    "L + D"
   ]
  },
  {
   "cell_type": "code",
   "execution_count": 223,
   "id": "cc8e29e1-d066-4049-a71f-8605dad6315e",
   "metadata": {},
   "outputs": [
    {
     "ename": "TypeError",
     "evalue": "unsupported operand type(s) for +: 'dict' and 'str'",
     "output_type": "error",
     "traceback": [
      "\u001b[1;31m---------------------------------------------------------------------------\u001b[0m",
      "\u001b[1;31mTypeError\u001b[0m                                 Traceback (most recent call last)",
      "Cell \u001b[1;32mIn[223], line 1\u001b[0m\n\u001b[1;32m----> 1\u001b[0m D \u001b[38;5;241m+\u001b[39m \u001b[38;5;124m'\u001b[39m\u001b[38;5;124mspam\u001b[39m\u001b[38;5;124m'\u001b[39m\n",
      "\u001b[1;31mTypeError\u001b[0m: unsupported operand type(s) for +: 'dict' and 'str'"
     ]
    }
   ],
   "source": [
    "D + 'spam'"
   ]
  },
  {
   "cell_type": "code",
   "execution_count": 225,
   "id": "65116db0-c981-4e61-8151-59a9dfbcc3c9",
   "metadata": {},
   "outputs": [
    {
     "data": {
      "text/plain": [
       "'spam'"
      ]
     },
     "execution_count": 225,
     "metadata": {},
     "output_type": "execute_result"
    }
   ],
   "source": [
    "s = 'spam'\n",
    "s"
   ]
  },
  {
   "cell_type": "code",
   "execution_count": 227,
   "id": "2c6d18e9-3c9d-4580-8ef3-31c2d02dfd82",
   "metadata": {},
   "outputs": [
    {
     "ename": "AttributeError",
     "evalue": "'str' object has no attribute 'append'",
     "output_type": "error",
     "traceback": [
      "\u001b[1;31m---------------------------------------------------------------------------\u001b[0m",
      "\u001b[1;31mAttributeError\u001b[0m                            Traceback (most recent call last)",
      "Cell \u001b[1;32mIn[227], line 1\u001b[0m\n\u001b[1;32m----> 1\u001b[0m s\u001b[38;5;241m.\u001b[39mappend(\u001b[38;5;124m'\u001b[39m\u001b[38;5;124mXXX\u001b[39m\u001b[38;5;124m'\u001b[39m)\n\u001b[0;32m      2\u001b[0m s\n",
      "\u001b[1;31mAttributeError\u001b[0m: 'str' object has no attribute 'append'"
     ]
    }
   ],
   "source": [
    "s.append('XXX')\n",
    "s"
   ]
  },
  {
   "cell_type": "code",
   "execution_count": 229,
   "id": "fb50083e-d8b5-43fc-9d1e-46a9a3002272",
   "metadata": {},
   "outputs": [
    {
     "data": {
      "text/plain": [
       "[0, 1, 2, 3, 4]"
      ]
     },
     "execution_count": 229,
     "metadata": {},
     "output_type": "execute_result"
    }
   ],
   "source": [
    "L"
   ]
  },
  {
   "cell_type": "code",
   "execution_count": 231,
   "id": "78569d9a-6a20-47ca-8fcc-2cb931bf64cd",
   "metadata": {},
   "outputs": [
    {
     "ename": "AttributeError",
     "evalue": "'list' object has no attribute 'keys'",
     "output_type": "error",
     "traceback": [
      "\u001b[1;31m---------------------------------------------------------------------------\u001b[0m",
      "\u001b[1;31mAttributeError\u001b[0m                            Traceback (most recent call last)",
      "Cell \u001b[1;32mIn[231], line 1\u001b[0m\n\u001b[1;32m----> 1\u001b[0m L\u001b[38;5;241m.\u001b[39mkeys()\n",
      "\u001b[1;31mAttributeError\u001b[0m: 'list' object has no attribute 'keys'"
     ]
    }
   ],
   "source": [
    "L.keys()"
   ]
  },
  {
   "cell_type": "code",
   "execution_count": 233,
   "id": "f34ed06e-a4ac-4351-98f6-2569b0656c14",
   "metadata": {},
   "outputs": [
    {
     "data": {
      "text/plain": [
       "'spam'"
      ]
     },
     "execution_count": 233,
     "metadata": {},
     "output_type": "execute_result"
    }
   ],
   "source": [
    "s"
   ]
  },
  {
   "cell_type": "code",
   "execution_count": 235,
   "id": "a972f339-9f7d-45b7-901b-0f18b0e41604",
   "metadata": {},
   "outputs": [],
   "source": [
    "z = 'hog'"
   ]
  },
  {
   "cell_type": "code",
   "execution_count": 237,
   "id": "24ee8351-62ec-4851-aa86-6429a7f41326",
   "metadata": {},
   "outputs": [],
   "source": [
    "a = s + z"
   ]
  },
  {
   "cell_type": "code",
   "execution_count": 239,
   "id": "9b41c086-6a96-4886-8b3b-a81eebe95a30",
   "metadata": {},
   "outputs": [
    {
     "data": {
      "text/plain": [
       "'spamhog'"
      ]
     },
     "execution_count": 239,
     "metadata": {},
     "output_type": "execute_result"
    }
   ],
   "source": [
    "a"
   ]
  },
  {
   "cell_type": "code",
   "execution_count": 241,
   "id": "b2b28ef6-6ef7-409c-aac5-829ee43bd645",
   "metadata": {},
   "outputs": [],
   "source": [
    "b = s[1:3]"
   ]
  },
  {
   "cell_type": "code",
   "execution_count": 243,
   "id": "ab2b688c-8db4-4e40-9bb9-2ec0a7272627",
   "metadata": {},
   "outputs": [
    {
     "data": {
      "text/plain": [
       "'pa'"
      ]
     },
     "execution_count": 243,
     "metadata": {},
     "output_type": "execute_result"
    }
   ],
   "source": [
    "b"
   ]
  },
  {
   "cell_type": "code",
   "execution_count": 249,
   "id": "140cda90-e8c2-48d3-b4ed-7d25758ee1c2",
   "metadata": {},
   "outputs": [
    {
     "data": {
      "text/plain": [
       "'s'"
      ]
     },
     "execution_count": 249,
     "metadata": {},
     "output_type": "execute_result"
    }
   ],
   "source": [
    "S = 'spam'\n",
    "S[0][0][0][0][0]"
   ]
  },
  {
   "cell_type": "code",
   "execution_count": 253,
   "id": "4164cb53-df55-49c1-8ae9-02128e5452dc",
   "metadata": {},
   "outputs": [
    {
     "data": {
      "text/plain": [
       "'s'"
      ]
     },
     "execution_count": 253,
     "metadata": {},
     "output_type": "execute_result"
    }
   ],
   "source": [
    "S = ['s', 'p', 'a', 'm']\n",
    "S[0][0][0][0][0]"
   ]
  },
  {
   "cell_type": "code",
   "execution_count": 255,
   "id": "037e2a51-fc7d-49c2-b96c-dcdf146d2126",
   "metadata": {},
   "outputs": [
    {
     "data": {
      "text/plain": [
       "'slam'"
      ]
     },
     "execution_count": 255,
     "metadata": {},
     "output_type": "execute_result"
    }
   ],
   "source": [
    "S = \"spam\"\n",
    "S = S[:1] + 'l' + S[2:]\n",
    "S"
   ]
  },
  {
   "cell_type": "code",
   "execution_count": 257,
   "id": "3da47e29-7685-4241-beae-a0851b438143",
   "metadata": {},
   "outputs": [
    {
     "data": {
      "text/plain": [
       "{'name': {'first': 'Zvonko', 'middle': 'Anton', 'last': 'Bregar'},\n",
       " 'age': 60,\n",
       " 'job': 'researcher',\n",
       " 'address': 'Kamnik pod Krimom 151, 1352 Preserje, Slovenia',\n",
       " 'email address': 'anton.bregar@gmail.com',\n",
       " 'phone': '040/798-964'}"
      ]
     },
     "execution_count": 257,
     "metadata": {},
     "output_type": "execute_result"
    }
   ],
   "source": [
    "zvonko = {'name': {'first': 'Zvonko', 'middle': 'Anton', 'last': 'Bregar'}, \n",
    " 'age': 60, 'job': 'researcher', 'address': 'Kamnik pod Krimom 151, 1352 Preserje, Slovenia',\n",
    "'email address': 'anton.bregar@gmail.com', 'phone': '040/798-964'}\n",
    "zvonko"
   ]
  },
  {
   "cell_type": "code",
   "execution_count": 259,
   "id": "261710fa-2f3c-4123-b8c5-6871944ccb8e",
   "metadata": {},
   "outputs": [
    {
     "data": {
      "text/plain": [
       "'Anton'"
      ]
     },
     "execution_count": 259,
     "metadata": {},
     "output_type": "execute_result"
    }
   ],
   "source": [
    "zvonko['name']['middle']"
   ]
  },
  {
   "cell_type": "code",
   "execution_count": 284,
   "id": "79b658b5-db67-4b0e-ada6-dbb16ff52a82",
   "metadata": {},
   "outputs": [
    {
     "name": "stdout",
     "output_type": "stream",
     "text": [
      "Hello file world!\n",
      "\n"
     ]
    }
   ],
   "source": [
    "with open('myfile.txt', 'w') as f:\n",
    "    f.write('Hello file world!\\n')\n",
    "\n",
    "f = open('myfile.txt', 'r')\n",
    "for line in f:\n",
    "    print(line)\n",
    "f.close()    "
   ]
  },
  {
   "cell_type": "code",
   "execution_count": 286,
   "id": "341f2ea4-6f50-447b-bd07-0b5974c53fc5",
   "metadata": {},
   "outputs": [
    {
     "name": "stdout",
     "output_type": "stream",
     "text": [
      "Hello file world!\n",
      "\n",
      "\n",
      "\n"
     ]
    }
   ],
   "source": [
    "f = open('myfile.txt', 'r')\n",
    "print(f.readline())\n",
    "print(f.readline())\n",
    "print(f.readline())"
   ]
  },
  {
   "cell_type": "code",
   "execution_count": null,
   "id": "9d35748b-22c3-44e8-b397-2ba21a247da9",
   "metadata": {},
   "outputs": [],
   "source": []
  },
  {
   "cell_type": "code",
   "execution_count": null,
   "id": "5dff335e-9eb2-4fca-9384-2d5db042c480",
   "metadata": {},
   "outputs": [],
   "source": []
  }
 ],
 "metadata": {
  "kernelspec": {
   "display_name": "Python 3 (ipykernel)",
   "language": "python",
   "name": "python3"
  },
  "language_info": {
   "codemirror_mode": {
    "name": "ipython",
    "version": 3
   },
   "file_extension": ".py",
   "mimetype": "text/x-python",
   "name": "python",
   "nbconvert_exporter": "python",
   "pygments_lexer": "ipython3",
   "version": "3.12.4"
  }
 },
 "nbformat": 4,
 "nbformat_minor": 5
}
