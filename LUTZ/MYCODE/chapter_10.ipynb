{
 "cells": [
  {
   "cell_type": "code",
   "execution_count": 1,
   "id": "630ecb3f-8b60-406c-8ce0-008f40d22d92",
   "metadata": {},
   "outputs": [
    {
     "name": "stdin",
     "output_type": "stream",
     "text": [
      "Enter text: Manca\n"
     ]
    },
    {
     "name": "stdout",
     "output_type": "stream",
     "text": [
      "MANCA\n"
     ]
    },
    {
     "name": "stdin",
     "output_type": "stream",
     "text": [
      "Enter text: Zvonko\n"
     ]
    },
    {
     "name": "stdout",
     "output_type": "stream",
     "text": [
      "ZVONKO\n"
     ]
    },
    {
     "name": "stdin",
     "output_type": "stream",
     "text": [
      "Enter text: Danijel\n"
     ]
    },
    {
     "name": "stdout",
     "output_type": "stream",
     "text": [
      "DANIJEL\n"
     ]
    },
    {
     "name": "stdin",
     "output_type": "stream",
     "text": [
      "Enter text: stop\n"
     ]
    }
   ],
   "source": [
    "while True:\n",
    "    reply = input('Enter text:')\n",
    "    if reply == 'stop': break\n",
    "    print(reply.upper())"
   ]
  },
  {
   "cell_type": "code",
   "execution_count": null,
   "id": "b04e20fa-8f0d-4797-a8e9-08fa0209e058",
   "metadata": {},
   "outputs": [],
   "source": []
  }
 ],
 "metadata": {
  "kernelspec": {
   "display_name": "Python 3 (ipykernel)",
   "language": "python",
   "name": "python3"
  },
  "language_info": {
   "codemirror_mode": {
    "name": "ipython",
    "version": 3
   },
   "file_extension": ".py",
   "mimetype": "text/x-python",
   "name": "python",
   "nbconvert_exporter": "python",
   "pygments_lexer": "ipython3",
   "version": "3.12.4"
  }
 },
 "nbformat": 4,
 "nbformat_minor": 5
}
