{
 "cells": [
  {
   "cell_type": "code",
   "execution_count": 5,
   "id": "8c457a2e-8d35-4c1e-90e4-6f737921e165",
   "metadata": {},
   "outputs": [],
   "source": [
    "from math import *\n",
    "\n",
    "def func_parallel(R, L, C):\n",
    "    fr = 1 / (2 * pi) * sqrt( 1/(L * C) - (R / L) ** 2 )\n",
    "    XL = 2 * pi * fr * L\n",
    "    Q = XL / R\n",
    "    Zt = L / (R * C)\n",
    "    return {'fr': fr, 'XL': XL, 'Q': Q, 'Zt': Zt}"
   ]
  },
  {
   "cell_type": "code",
   "execution_count": 8,
   "id": "f3e1510e-0c72-4d66-b5b5-132eee70d40a",
   "metadata": {},
   "outputs": [
    {
     "name": "stdout",
     "output_type": "stream",
     "text": [
      "{'fr': 499531.75343835214, 'XL': 637.1460664557226, 'Q': 95.09642782921232, 'Zt': 60597.01492537313}\n"
     ]
    }
   ],
   "source": [
    "R = 6.7\n",
    "L = 203e-6\n",
    "C = 500e-12\n",
    "x = func_parallel(R, L, C)\n",
    "print(x)"
   ]
  },
  {
   "cell_type": "code",
   "execution_count": 9,
   "id": "9f4a8ba5-9f0d-44d9-bac2-200438a786a0",
   "metadata": {},
   "outputs": [
    {
     "data": {
      "text/plain": [
       "5.001533499552188e-10"
      ]
     },
     "execution_count": 9,
     "metadata": {},
     "output_type": "execute_result"
    }
   ],
   "source": [
    "Q = 71.6\n",
    "fr = 356e3\n",
    "Zt = 64e3\n",
    "C = Q / (2 * pi * fr * Zt)\n",
    "C"
   ]
  },
  {
   "cell_type": "code",
   "execution_count": 10,
   "id": "d137a3d4-ccfd-47fe-ad04-7975dbdd5078",
   "metadata": {},
   "outputs": [
    {
     "data": {
      "text/plain": [
       "10000.0"
      ]
     },
     "execution_count": 10,
     "metadata": {},
     "output_type": "execute_result"
    }
   ],
   "source": [
    "fr = 1000e3\n",
    "Q = 100\n",
    "df = fr / Q\n",
    "df"
   ]
  },
  {
   "cell_type": "code",
   "execution_count": 11,
   "id": "22c6b531-61af-432c-9b17-3d1b895af609",
   "metadata": {},
   "outputs": [
    {
     "data": {
      "text/plain": [
       "(995000.0, 1005000.0)"
      ]
     },
     "execution_count": 11,
     "metadata": {},
     "output_type": "execute_result"
    }
   ],
   "source": [
    "(fr - df / 2, fr + df / 2)"
   ]
  },
  {
   "cell_type": "code",
   "execution_count": 17,
   "id": "9131a38d-6ea6-4593-b928-1046543c2dc3",
   "metadata": {},
   "outputs": [
    {
     "data": {
      "text/plain": [
       "(5.0, 500.0)"
      ]
     },
     "execution_count": 17,
     "metadata": {},
     "output_type": "execute_result"
    }
   ],
   "source": [
    "R = 20      # ohm\n",
    "XL = 1000   # ohm\n",
    "XC = 1000   # ohm\n",
    "UT = 100    # volt\n",
    "I = UT / R\n",
    "P = R * I ** 2\n",
    "I, P"
   ]
  },
  {
   "cell_type": "code",
   "execution_count": 19,
   "id": "8cd7a0d7-da46-4e2e-9e03-c335baecea0b",
   "metadata": {},
   "outputs": [
    {
     "data": {
      "text/plain": [
       "(337.7372788077926, 'microH')"
      ]
     },
     "execution_count": 19,
     "metadata": {},
     "output_type": "execute_result"
    }
   ],
   "source": [
    "C = 300e-12\n",
    "fR = 500e3\n",
    "L = 1 / (C * (2 * pi * fR) ** 2)\n",
    "L * 1e6, 'microH'"
   ]
  },
  {
   "cell_type": "code",
   "execution_count": null,
   "id": "45d70849-4ff8-4d20-b1ec-d7ea78e4b2da",
   "metadata": {},
   "outputs": [],
   "source": []
  }
 ],
 "metadata": {
  "kernelspec": {
   "display_name": "Python 3 (ipykernel)",
   "language": "python",
   "name": "python3"
  },
  "language_info": {
   "codemirror_mode": {
    "name": "ipython",
    "version": 3
   },
   "file_extension": ".py",
   "mimetype": "text/x-python",
   "name": "python",
   "nbconvert_exporter": "python",
   "pygments_lexer": "ipython3",
   "version": "3.11.7"
  }
 },
 "nbformat": 4,
 "nbformat_minor": 5
}
