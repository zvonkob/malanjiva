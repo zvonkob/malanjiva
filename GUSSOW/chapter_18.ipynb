{
 "cells": [
  {
   "cell_type": "code",
   "execution_count": 1,
   "id": "8c457a2e-8d35-4c1e-90e4-6f737921e165",
   "metadata": {},
   "outputs": [],
   "source": [
    "from math import *\n",
    "\n",
    "def func_parallel(R, L, C):\n",
    "    fr = 1 / (2 * pi) * sqrt( 1/(L * C) - (R / L) ** 2 )\n",
    "    XL = 2 * pi * fr * L\n",
    "    Q = XL / R\n",
    "    Zt = L / (R * C)\n",
    "    return {'fr': fr, 'XL': XL, 'Q': Q, 'Zt': Zt}"
   ]
  },
  {
   "cell_type": "code",
   "execution_count": 2,
   "id": "f3e1510e-0c72-4d66-b5b5-132eee70d40a",
   "metadata": {},
   "outputs": [
    {
     "name": "stdout",
     "output_type": "stream",
     "text": [
      "{'fr': 499531.75343835214, 'XL': 637.1460664557226, 'Q': 95.09642782921232, 'Zt': 60597.01492537313}\n"
     ]
    }
   ],
   "source": [
    "R = 6.7\n",
    "L = 203e-6\n",
    "C = 500e-12\n",
    "x = func_parallel(R, L, C)\n",
    "print(x)"
   ]
  },
  {
   "cell_type": "code",
   "execution_count": 3,
   "id": "9f4a8ba5-9f0d-44d9-bac2-200438a786a0",
   "metadata": {},
   "outputs": [
    {
     "data": {
      "text/plain": [
       "5.001533499552188e-10"
      ]
     },
     "execution_count": 3,
     "metadata": {},
     "output_type": "execute_result"
    }
   ],
   "source": [
    "Q = 71.6\n",
    "fr = 356e3\n",
    "Zt = 64e3\n",
    "C = Q / (2 * pi * fr * Zt)\n",
    "C"
   ]
  },
  {
   "cell_type": "code",
   "execution_count": 4,
   "id": "d137a3d4-ccfd-47fe-ad04-7975dbdd5078",
   "metadata": {},
   "outputs": [
    {
     "data": {
      "text/plain": [
       "10000.0"
      ]
     },
     "execution_count": 4,
     "metadata": {},
     "output_type": "execute_result"
    }
   ],
   "source": [
    "fr = 1000e3\n",
    "Q = 100\n",
    "df = fr / Q\n",
    "df"
   ]
  },
  {
   "cell_type": "code",
   "execution_count": 5,
   "id": "22c6b531-61af-432c-9b17-3d1b895af609",
   "metadata": {},
   "outputs": [
    {
     "data": {
      "text/plain": [
       "(995000.0, 1005000.0)"
      ]
     },
     "execution_count": 5,
     "metadata": {},
     "output_type": "execute_result"
    }
   ],
   "source": [
    "(fr - df / 2, fr + df / 2)"
   ]
  },
  {
   "cell_type": "code",
   "execution_count": 6,
   "id": "9131a38d-6ea6-4593-b928-1046543c2dc3",
   "metadata": {},
   "outputs": [
    {
     "data": {
      "text/plain": [
       "(5.0, 500.0)"
      ]
     },
     "execution_count": 6,
     "metadata": {},
     "output_type": "execute_result"
    }
   ],
   "source": [
    "R = 20      # ohm\n",
    "XL = 1000   # ohm\n",
    "XC = 1000   # ohm\n",
    "UT = 100    # volt\n",
    "I = UT / R\n",
    "P = R * I ** 2\n",
    "I, P"
   ]
  },
  {
   "cell_type": "code",
   "execution_count": 7,
   "id": "8cd7a0d7-da46-4e2e-9e03-c335baecea0b",
   "metadata": {},
   "outputs": [
    {
     "data": {
      "text/plain": [
       "337.7372788077926"
      ]
     },
     "execution_count": 7,
     "metadata": {},
     "output_type": "execute_result"
    }
   ],
   "source": [
    "# ex 18.1\n",
    "C = 300e-12 # F\n",
    "fR = 500e3  # Hz\n",
    "L = 1 / (C * (2 * pi * fR) ** 2) # H\n",
    "L * 1e6 # microH"
   ]
  },
  {
   "cell_type": "code",
   "execution_count": 8,
   "id": "45d70849-4ff8-4d20-b1ec-d7ea78e4b2da",
   "metadata": {},
   "outputs": [
    {
     "name": "stdout",
     "output_type": "stream",
     "text": [
      "L = 100 micro H, C = 0.000703619330849568 micro F, L * C = 0.0703619330849568 e-12\n",
      "L = 10 micro H, C = 0.007036193308495679 micro F, L * C = 0.0703619330849568 e-12\n",
      "L = 1 micro H, C = 0.0703619330849568 micro F, L * C = 0.0703619330849568 e-12\n",
      "L = 0.1 micro H, C = 0.7036193308495678 micro F, L * C = 0.0703619330849568 e-12\n",
      "L = 0.01 micro H, C = 7.03619330849568 micro F, L * C = 0.0703619330849568 e-12\n"
     ]
    }
   ],
   "source": [
    "# ex 18.2\n",
    "fR = 600e3 #Hz\n",
    "const = 1 / (2 * pi * fR) ** 2\n",
    "for n in range(2, -3, -1):\n",
    "    L = 10 ** n\n",
    "    C = (const * 10 ** 12) / L\n",
    "    print('L =', L, 'micro H, C =', C, 'micro F, L * C =', L * C, 'e-12')"
   ]
  },
  {
   "cell_type": "code",
   "execution_count": 9,
   "id": "47441e01-80e4-4bc6-9d49-b0ff8bcb61f5",
   "metadata": {},
   "outputs": [
    {
     "data": {
      "text/plain": [
       "355.8812717085886"
      ]
     },
     "execution_count": 9,
     "metadata": {},
     "output_type": "execute_result"
    }
   ],
   "source": [
    "# solved problem 18.3\n",
    "\n",
    "L = 4e-3 # H\n",
    "C = 50e-12 # F\n",
    "\n",
    "fR = 1 / (2 * pi * sqrt(L * C))\n",
    "\n",
    "fR / 10 ** 3 # kHz"
   ]
  },
  {
   "cell_type": "code",
   "execution_count": 10,
   "id": "df64fa2b-7794-4a30-8622-47b1a15399e7",
   "metadata": {},
   "outputs": [
    {
     "data": {
      "text/plain": [
       "(40, -732.7997272127748, -86.8756005845426, 18.31999318031937)"
      ]
     },
     "execution_count": 10,
     "metadata": {},
     "output_type": "execute_result"
    }
   ],
   "source": [
    "# solved problem 18.4\n",
    "\n",
    "R = 40 # ohm\n",
    "L = 0.5 # H\n",
    "C = 0.2e-6 # F\n",
    "\n",
    "f = 400 # Hz\n",
    "\n",
    "XL = 2 * pi * f * L\n",
    "XC = 1 / (2 * pi * f * C)\n",
    "X = XL - XC\n",
    "Z = sqrt(R ** 2 + X ** 2)\n",
    "Q = abs(X) / R\n",
    "\n",
    "# fR = 1 / (2 * pi * sqrt(L * C))\n",
    "# XL = 2 * pi * fR * L\n",
    "# Q = XL / R\n",
    "\n",
    "R, X, degrees(atan(X / R)), Q"
   ]
  },
  {
   "cell_type": "code",
   "execution_count": 11,
   "id": "81bf7a83-ce51-46b3-8bdc-bcb4e3127df6",
   "metadata": {},
   "outputs": [
    {
     "data": {
      "text/plain": [
       "(400, 1256.6370614359173, 1989.436788648692)"
      ]
     },
     "execution_count": 11,
     "metadata": {},
     "output_type": "execute_result"
    }
   ],
   "source": [
    "# solved problem 18.4.c\n",
    "\n",
    "XL = 2 * pi * f * L\n",
    "XC = 1 / (2 * pi * f * C)\n",
    "\n",
    "\n",
    "\n",
    "f, XL, XC"
   ]
  },
  {
   "cell_type": "code",
   "execution_count": 12,
   "id": "9bc11b25-e9f1-4f49-9df4-d477d123d5d7",
   "metadata": {},
   "outputs": [
    {
     "data": {
      "text/plain": [
       "0.703619330849568"
      ]
     },
     "execution_count": 12,
     "metadata": {},
     "output_type": "execute_result"
    }
   ],
   "source": [
    "# s.p. 18.5\n",
    "\n",
    "R = 5 # ohm\n",
    "C = 10e-6 # F\n",
    "UT = 110 # V\n",
    "f = 60 # Hz\n",
    "\n",
    "L = 1 / ((2 * pi * f) ** 2 * C)\n",
    "\n",
    "L"
   ]
  },
  {
   "cell_type": "code",
   "execution_count": 13,
   "id": "3e2679e6-36a8-45c7-af72-c84a1b0019ff",
   "metadata": {},
   "outputs": [
    {
     "data": {
      "text/plain": [
       "265.25823848649225"
      ]
     },
     "execution_count": 13,
     "metadata": {},
     "output_type": "execute_result"
    }
   ],
   "source": [
    "XC = 1 / (2 * pi * f * C)\n",
    "XC"
   ]
  },
  {
   "cell_type": "code",
   "execution_count": 14,
   "id": "b77af78b-f9e0-43b6-bf2f-4e2afbb8e74c",
   "metadata": {},
   "outputs": [
    {
     "data": {
      "text/plain": [
       "(3.3773727880779264e-10, 3.752636431197696e-11)"
      ]
     },
     "execution_count": 14,
     "metadata": {},
     "output_type": "execute_result"
    }
   ],
   "source": [
    "L = 300e-6\n",
    "f1 = 500e3\n",
    "f2 = 1500e3\n",
    "C1 = 1 / ((2 * pi * f1) ** 2 * L)\n",
    "C2 = 1 / ((2 * pi * f2) ** 2 * L)\n",
    "C1, C2"
   ]
  },
  {
   "cell_type": "code",
   "execution_count": 20,
   "id": "6e98a614-b08f-4c76-9574-434c78a2a78d",
   "metadata": {},
   "outputs": [
    {
     "name": "stdout",
     "output_type": "stream",
     "text": [
      "500 kHz, 423 pico F\n",
      "707 kHz, 212 pico F\n",
      "1000 kHz, 105 pico F\n",
      "1410 kHz, 53 pico F\n",
      "2000 kHz, 26 pico F\n"
     ]
    }
   ],
   "source": [
    "# 18.8\n",
    "L = 239e-6\n",
    "for f in [500, 707, 1000, 1410, 2000]:\n",
    "    f1 = 1000 * f\n",
    "    C = 1 / ((2 * pi * f1) ** 2 * L)\n",
    "    print(f, 'kHz,', int(C * 1e12), 'pico F')"
   ]
  },
  {
   "cell_type": "code",
   "execution_count": 25,
   "id": "d57f3935-395f-4bec-bef5-93f4c0cbb08a",
   "metadata": {},
   "outputs": [
    {
     "data": {
      "text/plain": [
       "(628.3185307179587, 795.7747154594767, -167.4561847415181, 2985.065)"
      ]
     },
     "execution_count": 25,
     "metadata": {},
     "output_type": "execute_result"
    }
   ],
   "source": [
    "# 18.12\n",
    "f = 1000e3\n",
    "R = 4\n",
    "L = 100e-6\n",
    "C = 200e-12\n",
    "XL = 2 * pi * f * L\n",
    "XC = 1 / (2 * pi * f * C)\n",
    "X = XL - XC\n",
    "ZT = 1 / (R ** 2 + X ** 2) * sqrt((R * XL * XC - R * XC * X) ** 2 + (R ** 2 * XC + XL * XC * X) ** 2)\n",
    "ZT = round(ZT, 3)\n",
    "# print(f'ZT = {ZT} Ohm')\n",
    "XL, XC, X, ZT"
   ]
  },
  {
   "cell_type": "code",
   "execution_count": 34,
   "id": "1497c7d2-7d02-407b-9ed4-4d75ac3e441b",
   "metadata": {},
   "outputs": [
    {
     "name": "stdout",
     "output_type": "stream",
     "text": [
      "ZT = 2442.0 Ohm\n"
     ]
    }
   ],
   "source": [
    "# 18.14\n",
    "f = 1300e3\n",
    "R = 4\n",
    "L = 100e-6\n",
    "C = 200e-12\n",
    "\n",
    "XL = 2 * pi * f * L\n",
    "XC = 1 / (2 * pi * f * C)\n",
    "X = XL - XC\n",
    "ZT = 1 / (R ** 2 + X ** 2) * sqrt((R * XL * XC - R * XC * X) ** 2 + (R ** 2 * XC + XL * XC * X) ** 2)\n",
    "ZT = round(ZT / 1000, 3) * 1000\n",
    "\n",
    "print(f'ZT = {ZT} Ohm')\n"
   ]
  },
  {
   "cell_type": "code",
   "execution_count": 17,
   "id": "c3bb1b28-71dd-4724-ad04-6278070d52ef",
   "metadata": {},
   "outputs": [
    {
     "name": "stdout",
     "output_type": "stream",
     "text": [
      "159.15494309189535\n",
      "0.7979645340118074 7.045335151541102 62.65942641413202\n",
      "f = 127 Hz, ZT = 7.09 Ohm, tip inductive\n",
      "0.9990264638415542 7.070930198740174 50.04872424273438\n",
      "f = 159 Hz, ZT = 7.14 Ohm, tip inductive\n",
      "1.200088393671301 7.102127297692189 41.66359766803542\n",
      "f = 191 Hz, ZT = 7.21 Ohm, tip inductive\n"
     ]
    }
   ],
   "source": [
    "# 18.43\n",
    "from math import *\n",
    "R = 7\n",
    "L = 1e-3\n",
    "C = 20e-6\n",
    "fr = 1 / (2 * pi) * sqrt( 1/(L * C) - (R / L) ** 2 )\n",
    "print(fr)\n",
    "for f in [127, 159, 191]:\n",
    "    XL = 2 * pi * f * L\n",
    "    XC = 1 / (2 * pi * f * C)\n",
    "    X = XL - XC\n",
    "    ZT = 1 / (R ** 2 + X ** 2) * sqrt((R * XL * XC - R * XC * X) ** 2 + (R ** 2 * XC + XL * XC * X) ** 2)\n",
    "    ZT = round(ZT, 2)\n",
    "    XRL = sqrt(R ** 2 + XL ** 2)\n",
    "    print(XL, XRL, XC)\n",
    "    XXRL = XRL - XC\n",
    "    tip = 'capacitive' if XXRL > 0 else 'inductive'\n",
    "    print(f'f = {f} Hz, ZT = {ZT} Ohm, tip {tip}')\n",
    "    # print(f, XL, XC, X, ZT)\n"
   ]
  },
  {
   "cell_type": "code",
   "execution_count": 19,
   "id": "c3e31319-d324-45ab-b124-fe4b59e40584",
   "metadata": {},
   "outputs": [
    {
     "name": "stdout",
     "output_type": "stream",
     "text": [
      "499524.76409362035\n",
      "f = 400000 Hz, ZT = 1421.33 Ohm, tip inductive\n",
      "f = 500000 Hz, ZT = 53539.65 Ohm, tip capacitive\n",
      "f = 600000 Hz, ZT = 1728.51 Ohm, tip capacitive\n"
     ]
    }
   ],
   "source": [
    "# 18.45\n",
    "from math import *\n",
    "R = 7.5\n",
    "L = 203e-6\n",
    "C = 500e-12\n",
    "fr = 1 / (2 * pi) * sqrt( 1/(L * C) - (R / L) ** 2 )\n",
    "print(fr)\n",
    "for f in [400, 500, 600]:\n",
    "    f2 = f * 1000\n",
    "    XL = 2 * pi * f2 * L\n",
    "    XC = 1 / (2 * pi * f2 * C)\n",
    "    X = XL - XC\n",
    "    ZT = 1 / (R ** 2 + X ** 2) * sqrt((R * XL * XC - R * XC * X) ** 2 + (R ** 2 * XC + XL * XC * X) ** 2)\n",
    "    ZT = round(ZT, 2)\n",
    "    XRL = sqrt(R ** 2 + XL ** 2)\n",
    "    # print(XL, XRL, XC)\n",
    "    XXRL = XRL - XC\n",
    "    tip = 'capacitive' if XXRL > 0 else 'inductive'\n",
    "    print(f'f = {f2} Hz, ZT = {ZT} Ohm, tip {tip}')\n",
    "    # print(f, XL, XC, X, ZT)"
   ]
  }
 ],
 "metadata": {
  "kernelspec": {
   "display_name": "Python 3 (ipykernel)",
   "language": "python",
   "name": "python3"
  },
  "language_info": {
   "codemirror_mode": {
    "name": "ipython",
    "version": 3
   },
   "file_extension": ".py",
   "mimetype": "text/x-python",
   "name": "python",
   "nbconvert_exporter": "python",
   "pygments_lexer": "ipython3",
   "version": "3.11.7"
  }
 },
 "nbformat": 4,
 "nbformat_minor": 5
}
